{
 "cells": [
  {
   "cell_type": "code",
   "execution_count": 1,
   "metadata": {},
   "outputs": [],
   "source": [
    "from metal.layers.conv2D import Conv2D\n",
    "import numpy as np"
   ]
  },
  {
   "cell_type": "code",
   "execution_count": 3,
   "metadata": {},
   "outputs": [],
   "source": [
    "np.random.seed(1)\n",
    "x=np.random.randn(1,2,2,3)\n",
    "#x,'reshape->',x.reshape(1,3,2,2)"
   ]
  },
  {
   "cell_type": "code",
   "execution_count": 4,
   "metadata": {},
   "outputs": [],
   "source": [
    "c = Conv2D(3,3,2,1,1)"
   ]
  },
  {
   "cell_type": "code",
   "execution_count": 5,
   "metadata": {},
   "outputs": [
    {
     "name": "stdout",
     "output_type": "stream",
     "text": [
      "1 3 2 2 3 3\n"
     ]
    },
    {
     "data": {
      "text/plain": [
       "Container([[[[ 0.99837637 -0.47361374 -0.7903051 ]\n",
       "   [ 0.42708278 -2.1128356   0.67269605]\n",
       "   [-0.14609626  0.31421235  1.1290054 ]]\n",
       "\n",
       "  [[ 0.34507924  0.17049077 -0.67872375]\n",
       "   [ 0.5888491  -0.19008256 -1.4012417 ]\n",
       "   [ 0.06982369 -0.36549315  1.0429087 ]]\n",
       "\n",
       "  [[-0.39160383  0.01770571  0.6557151 ]\n",
       "   [-0.5000782   0.2737293   0.40427333]\n",
       "   [-0.20528094 -0.32297626  0.74686795]]]], requires_grad=True)"
      ]
     },
     "execution_count": 5,
     "metadata": {},
     "output_type": "execute_result"
    }
   ],
   "source": [
    "c(x.reshape(1,3,2,2))"
   ]
  },
  {
   "cell_type": "code",
   "execution_count": 6,
   "metadata": {},
   "outputs": [
    {
     "name": "stdout",
     "output_type": "stream",
     "text": [
      "[[[[ 0.          0.          0.          0.        ]\n",
      "   [ 0.          1.62434536 -0.61175641  0.        ]\n",
      "   [ 0.         -0.52817175 -1.07296862  0.        ]\n",
      "   [ 0.          0.          0.          0.        ]]\n",
      "\n",
      "  [[ 0.          0.          0.          0.        ]\n",
      "   [ 0.          0.86540763 -2.3015387   0.        ]\n",
      "   [ 0.          1.74481176 -0.7612069   0.        ]\n",
      "   [ 0.          0.          0.          0.        ]]\n",
      "\n",
      "  [[ 0.          0.          0.          0.        ]\n",
      "   [ 0.          0.3190391  -0.24937038  0.        ]\n",
      "   [ 0.          1.46210794 -2.06014071  0.        ]\n",
      "   [ 0.          0.          0.          0.        ]]]] (1, 3, 4, 4)\n"
     ]
    }
   ],
   "source": [
    "ph,pw =1,1\n",
    "sy,sx =1,1\n",
    "pval = 0\n",
    "img = np.pad(x.reshape(1,3,2,2),\n",
    "                ((0, 0), (0, 0), (1, 1), (1, 1)),\n",
    "                mode='constant', constant_values=(pval,))\n",
    "print(img,img.shape)"
   ]
  },
  {
   "cell_type": "code",
   "execution_count": 14,
   "metadata": {},
   "outputs": [],
   "source": [
    "#x.shape"
   ]
  },
  {
   "cell_type": "code",
   "execution_count": 15,
   "metadata": {},
   "outputs": [],
   "source": [
    "#ph + sy - 1"
   ]
  },
  {
   "cell_type": "code",
   "execution_count": 16,
   "metadata": {},
   "outputs": [],
   "source": [
    "#x.reshape(1,3,2,2)"
   ]
  },
  {
   "cell_type": "code",
   "execution_count": 276,
   "metadata": {},
   "outputs": [
    {
     "name": "stdout",
     "output_type": "stream",
     "text": [
      "(1, 3, 3, 3) \n",
      "\n",
      "(1, 3, 3, 3) \n",
      "\n",
      "(1, 3, 3, 3) \n",
      "\n",
      "(1, 3, 3, 3) \n",
      "\n"
     ]
    }
   ],
   "source": [
    "import six\n",
    "\n",
    "kh,kw= 2,2\n",
    "dy,dx= 1,1\n",
    "sy,sx= 1,1\n",
    "out_h,out_w=3,3\n",
    "\n",
    "col = np.ndarray((1,3,2,2,3,3), dtype='float32')\n",
    "\n",
    "for j in six.moves.range(kh):\n",
    "    jdy = j * dy\n",
    "    j_lim = jdy + sy * out_h\n",
    "    #print(\"p\")\n",
    "    for i in six.moves.range(kw):\n",
    "        idx = i * dx\n",
    "        i_lim = idx + sx * out_w\n",
    "        #print(\"TT\",j,jdy,j_lim,sy)\n",
    "        #print(i,idx,i_lim,sx)\n",
    "\n",
    "        print(img[:, :, jdy:j_lim:sy, idx:i_lim:sx].shape,'\\n')\n",
    "        col[:, :, j, i, :, :] = img[:, :, jdy:j_lim:sy, idx:i_lim:sx]\n",
    "        #print('**************')\n",
    "       # print(col[:, :, j, i, :, :],\"@@@@@@@@@@\")\n",
    "\n",
    "#col"
   ]
  },
  {
   "cell_type": "code",
   "execution_count": 275,
   "metadata": {
    "scrolled": false
   },
   "outputs": [
    {
     "data": {
      "text/plain": [
       "(1, 3, 2, 2, 3, 3)"
      ]
     },
     "execution_count": 275,
     "metadata": {},
     "output_type": "execute_result"
    }
   ],
   "source": [
    "col.shape"
   ]
  },
  {
   "cell_type": "code",
   "execution_count": 69,
   "metadata": {},
   "outputs": [
    {
     "data": {
      "text/plain": [
       "array([[[[[[ 0.        ,  0.        ,  0.        ],\n",
       "           [ 0.        ,  0.86540765, -2.3015387 ],\n",
       "           [ 0.        ,  1.7448118 , -0.7612069 ]],\n",
       "\n",
       "          [[ 0.        ,  0.        ,  0.        ],\n",
       "           [ 0.86540765, -2.3015387 ,  0.        ],\n",
       "           [ 1.7448118 , -0.7612069 ,  0.        ]]],\n",
       "\n",
       "\n",
       "         [[[ 0.        ,  0.86540765, -2.3015387 ],\n",
       "           [ 0.        ,  1.7448118 , -0.7612069 ],\n",
       "           [ 0.        ,  0.        ,  0.        ]],\n",
       "\n",
       "          [[ 0.86540765, -2.3015387 ,  0.        ],\n",
       "           [ 1.7448118 , -0.7612069 ,  0.        ],\n",
       "           [ 0.        ,  0.        ,  0.        ]]]]]], dtype=float32)"
      ]
     },
     "execution_count": 69,
     "metadata": {},
     "output_type": "execute_result"
    }
   ],
   "source": [
    "col[0:1,1:2,:,:,:,:]"
   ]
  },
  {
   "cell_type": "code",
   "execution_count": null,
   "metadata": {},
   "outputs": [],
   "source": [
    "(1, 3, 2, 2, 3, 3)"
   ]
  },
  {
   "cell_type": "code",
   "execution_count": 80,
   "metadata": {},
   "outputs": [
    {
     "data": {
      "text/plain": [
       "array([3])"
      ]
     },
     "execution_count": 80,
     "metadata": {},
     "output_type": "execute_result"
    }
   ],
   "source": [
    "np.array([[1,2,3,4,5,6,7,8,9]])[0:1,2]"
   ]
  },
  {
   "cell_type": "code",
   "execution_count": 83,
   "metadata": {},
   "outputs": [
    {
     "data": {
      "text/plain": [
       "(array([0, 1, 2, 3, 4, 5, 6, 7, 8, 9]), array([2, 4, 6]))"
      ]
     },
     "execution_count": 83,
     "metadata": {},
     "output_type": "execute_result"
    }
   ],
   "source": [
    "a = np.arange(10) \n",
    "b = a[2:7:2] # start at second index stop stop at 7 index step size of 2\n",
    "a,b"
   ]
  },
  {
   "cell_type": "code",
   "execution_count": 85,
   "metadata": {},
   "outputs": [
    {
     "data": {
      "text/plain": [
       "(1, 3, 2, 2, 3, 3)"
      ]
     },
     "execution_count": 85,
     "metadata": {},
     "output_type": "execute_result"
    }
   ],
   "source": [
    "col.shape"
   ]
  },
  {
   "cell_type": "code",
   "execution_count": 99,
   "metadata": {},
   "outputs": [
    {
     "data": {
      "text/plain": [
       "(3, 3)"
      ]
     },
     "execution_count": 99,
     "metadata": {},
     "output_type": "execute_result"
    }
   ],
   "source": [
    "x= np.array([[1,2,3],[3,4,5],[4,5,6]]) \n",
    "x.shape"
   ]
  },
  {
   "cell_type": "code",
   "execution_count": 128,
   "metadata": {},
   "outputs": [
    {
     "data": {
      "text/plain": [
       "((2, 3), array([[3, 4, 5],\n",
       "        [4, 5, 6]]))"
      ]
     },
     "execution_count": 128,
     "metadata": {},
     "output_type": "execute_result"
    }
   ],
   "source": [
    "x[1:].shape,x[1:]"
   ]
  },
  {
   "cell_type": "code",
   "execution_count": 164,
   "metadata": {},
   "outputs": [
    {
     "data": {
      "text/plain": [
       "array([[[[ 0.        ,  0.        ,  0.        ],\n",
       "         [ 0.        ,  1.62434536, -0.61175641],\n",
       "         [ 0.        , -0.52817175, -1.07296862]],\n",
       "\n",
       "        [[ 0.        ,  0.        ,  0.        ],\n",
       "         [ 0.        ,  0.86540763, -2.3015387 ],\n",
       "         [ 0.        ,  1.74481176, -0.7612069 ]],\n",
       "\n",
       "        [[ 0.        ,  0.        ,  0.        ],\n",
       "         [ 0.        ,  0.3190391 , -0.24937038],\n",
       "         [ 0.        ,  1.46210794, -2.06014071]]]])"
      ]
     },
     "execution_count": 164,
     "metadata": {},
     "output_type": "execute_result"
    }
   ],
   "source": [
    "img[:,:,0:3:1,0:3:1]"
   ]
  },
  {
   "cell_type": "code",
   "execution_count": 125,
   "metadata": {},
   "outputs": [
    {
     "data": {
      "text/plain": [
       "array([[1.09137109e-04, 1.23730432e-02],\n",
       "       [4.82462024e+00, 5.75835467e-04]])"
      ]
     },
     "execution_count": 125,
     "metadata": {},
     "output_type": "execute_result"
    }
   ],
   "source": [
    "j = np.ndarray((2, 2), dtype=img.dtype)\n",
    "j"
   ]
  },
  {
   "cell_type": "code",
   "execution_count": 158,
   "metadata": {},
   "outputs": [
    {
     "data": {
      "text/plain": [
       "array([[[[ 0.        ,  0.        ,  0.        ,  0.        ],\n",
       "         [ 0.        ,  1.62434536, -0.61175641,  0.        ],\n",
       "         [ 0.        , -0.52817175, -1.07296862,  0.        ],\n",
       "         [ 0.        ,  0.        ,  0.        ,  0.        ]],\n",
       "\n",
       "        [[ 0.        ,  0.        ,  0.        ,  0.        ],\n",
       "         [ 0.        ,  0.86540763, -2.3015387 ,  0.        ],\n",
       "         [ 0.        ,  1.74481176, -0.7612069 ,  0.        ],\n",
       "         [ 0.        ,  0.        ,  0.        ,  0.        ]],\n",
       "\n",
       "        [[ 0.        ,  0.        ,  0.        ,  0.        ],\n",
       "         [ 0.        ,  0.3190391 , -0.24937038,  0.        ],\n",
       "         [ 0.        ,  1.46210794, -2.06014071,  0.        ],\n",
       "         [ 0.        ,  0.        ,  0.        ,  0.        ]]]])"
      ]
     },
     "execution_count": 158,
     "metadata": {},
     "output_type": "execute_result"
    }
   ],
   "source": [
    "img"
   ]
  },
  {
   "cell_type": "code",
   "execution_count": 159,
   "metadata": {},
   "outputs": [
    {
     "data": {
      "text/plain": [
       "array([[-0.67124613, -0.0126646 ],\n",
       "       [-1.11731035,  0.2344157 ]])"
      ]
     },
     "execution_count": 159,
     "metadata": {},
     "output_type": "execute_result"
    }
   ],
   "source": [
    "np.random.randn(2,2)"
   ]
  },
  {
   "cell_type": "code",
   "execution_count": 166,
   "metadata": {},
   "outputs": [
    {
     "data": {
      "text/plain": [
       "array([[[[[[ 0.        ,  0.        ,  0.        ],\n",
       "           [ 0.        ,  1.6243454 , -0.6117564 ],\n",
       "           [ 0.        , -0.5281718 , -1.0729686 ]],\n",
       "\n",
       "          [[ 0.        ,  0.        ,  0.        ],\n",
       "           [ 1.6243454 , -0.6117564 ,  0.        ],\n",
       "           [-0.5281718 , -1.0729686 ,  0.        ]]],\n",
       "\n",
       "\n",
       "         [[[ 0.        ,  1.6243454 , -0.6117564 ],\n",
       "           [ 0.        , -0.5281718 , -1.0729686 ],\n",
       "           [ 0.        ,  0.        ,  0.        ]],\n",
       "\n",
       "          [[ 1.6243454 , -0.6117564 ,  0.        ],\n",
       "           [-0.5281718 , -1.0729686 ,  0.        ],\n",
       "           [ 0.        ,  0.        ,  0.        ]]]],\n",
       "\n",
       "\n",
       "\n",
       "        [[[[ 0.        ,  0.        ,  0.        ],\n",
       "           [ 0.        ,  0.86540765, -2.3015387 ],\n",
       "           [ 0.        ,  1.7448118 , -0.7612069 ]],\n",
       "\n",
       "          [[ 0.        ,  0.        ,  0.        ],\n",
       "           [ 0.86540765, -2.3015387 ,  0.        ],\n",
       "           [ 1.7448118 , -0.7612069 ,  0.        ]]],\n",
       "\n",
       "\n",
       "         [[[ 0.        ,  0.86540765, -2.3015387 ],\n",
       "           [ 0.        ,  1.7448118 , -0.7612069 ],\n",
       "           [ 0.        ,  0.        ,  0.        ]],\n",
       "\n",
       "          [[ 0.86540765, -2.3015387 ,  0.        ],\n",
       "           [ 1.7448118 , -0.7612069 ,  0.        ],\n",
       "           [ 0.        ,  0.        ,  0.        ]]]],\n",
       "\n",
       "\n",
       "\n",
       "        [[[[ 0.        ,  0.        ,  0.        ],\n",
       "           [ 0.        ,  0.3190391 , -0.24937038],\n",
       "           [ 0.        ,  1.4621079 , -2.0601406 ]],\n",
       "\n",
       "          [[ 0.        ,  0.        ,  0.        ],\n",
       "           [ 0.3190391 , -0.24937038,  0.        ],\n",
       "           [ 1.4621079 , -2.0601406 ,  0.        ]]],\n",
       "\n",
       "\n",
       "         [[[ 0.        ,  0.3190391 , -0.24937038],\n",
       "           [ 0.        ,  1.4621079 , -2.0601406 ],\n",
       "           [ 0.        ,  0.        ,  0.        ]],\n",
       "\n",
       "          [[ 0.3190391 , -0.24937038,  0.        ],\n",
       "           [ 1.4621079 , -2.0601406 ,  0.        ],\n",
       "           [ 0.        ,  0.        ,  0.        ]]]]]], dtype=float32)"
      ]
     },
     "execution_count": 166,
     "metadata": {},
     "output_type": "execute_result"
    }
   ],
   "source": [
    "col"
   ]
  },
  {
   "cell_type": "code",
   "execution_count": 182,
   "metadata": {},
   "outputs": [
    {
     "data": {
      "text/plain": [
       "((2, 3, 5), (3, 2, 4))"
      ]
     },
     "execution_count": 182,
     "metadata": {},
     "output_type": "execute_result"
    }
   ],
   "source": [
    "A = np.random.randint(2, size=(2, 3, 5))\n",
    "B = np.random.randint(2, size=(3, 2, 4))\n",
    "A.shape,B.shape"
   ]
  },
  {
   "cell_type": "code",
   "execution_count": 217,
   "metadata": {},
   "outputs": [
    {
     "data": {
      "text/plain": [
       "(5, 4)"
      ]
     },
     "execution_count": 217,
     "metadata": {},
     "output_type": "execute_result"
    }
   ],
   "source": [
    "np.tensordot(A, B, axes=((0,1),(1,0))).shape"
   ]
  },
  {
   "cell_type": "code",
   "execution_count": 229,
   "metadata": {},
   "outputs": [
    {
     "data": {
      "text/plain": [
       "((2, 3), (3, 2))"
      ]
     },
     "execution_count": 229,
     "metadata": {},
     "output_type": "execute_result"
    }
   ],
   "source": [
    "A[0:2,0:3,0].shape,B[0:3,0:2,0].shape"
   ]
  },
  {
   "cell_type": "code",
   "execution_count": 223,
   "metadata": {},
   "outputs": [
    {
     "data": {
      "text/plain": [
       "(2, 2)"
      ]
     },
     "execution_count": 223,
     "metadata": {},
     "output_type": "execute_result"
    }
   ],
   "source": [
    "B[0:2,0:3,0].shape"
   ]
  },
  {
   "cell_type": "code",
   "execution_count": 259,
   "metadata": {},
   "outputs": [
    {
     "name": "stdout",
     "output_type": "stream",
     "text": [
      "[[3 4]\n",
      " [6 8]]\n"
     ]
    }
   ],
   "source": [
    "A = np.array([1,2])\n",
    "B = np.array([3,4])\n",
    "C = np.tensordot(A, B, axes=0)\n",
    "print(C)"
   ]
  },
  {
   "cell_type": "code",
   "execution_count": 251,
   "metadata": {},
   "outputs": [
    {
     "data": {
      "text/plain": [
       "array([[3, 4],\n",
       "       [6, 8]])"
      ]
     },
     "execution_count": 251,
     "metadata": {},
     "output_type": "execute_result"
    }
   ],
   "source": [
    "A.reshape(2,1) @ B.reshape(1,2)"
   ]
  },
  {
   "cell_type": "code",
   "execution_count": 256,
   "metadata": {},
   "outputs": [
    {
     "data": {
      "text/plain": [
       "array([[1, 2]])"
      ]
     },
     "execution_count": 256,
     "metadata": {},
     "output_type": "execute_result"
    }
   ],
   "source": [
    "A.reshape(1,2)"
   ]
  },
  {
   "cell_type": "code",
   "execution_count": 260,
   "metadata": {},
   "outputs": [],
   "source": [
    "nn=np.array([[1,1],[1,1]]); mm=np.array([[2,2],[2,2]])"
   ]
  },
  {
   "cell_type": "code",
   "execution_count": 270,
   "metadata": {},
   "outputs": [
    {
     "data": {
      "text/plain": [
       "(2,)"
      ]
     },
     "execution_count": 270,
     "metadata": {},
     "output_type": "execute_result"
    }
   ],
   "source": [
    "nn[0,:].shape"
   ]
  },
  {
   "cell_type": "code",
   "execution_count": 271,
   "metadata": {},
   "outputs": [
    {
     "data": {
      "text/plain": [
       "(2,)"
      ]
     },
     "execution_count": 271,
     "metadata": {},
     "output_type": "execute_result"
    }
   ],
   "source": [
    "mm[:,1].shape"
   ]
  },
  {
   "cell_type": "code",
   "execution_count": 268,
   "metadata": {},
   "outputs": [
    {
     "ename": "IndexError",
     "evalue": "tuple index out of range",
     "output_type": "error",
     "traceback": [
      "\u001b[0;31m---------------------------------------------------------------------------\u001b[0m",
      "\u001b[0;31mIndexError\u001b[0m                                Traceback (most recent call last)",
      "\u001b[0;32m<ipython-input-268-00759903609c>\u001b[0m in \u001b[0;36m<module>\u001b[0;34m\u001b[0m\n\u001b[0;32m----> 1\u001b[0;31m \u001b[0mnp\u001b[0m\u001b[0;34m.\u001b[0m\u001b[0mtensordot\u001b[0m\u001b[0;34m(\u001b[0m\u001b[0ma\u001b[0m\u001b[0;34m=\u001b[0m\u001b[0mnn\u001b[0m\u001b[0;34m[\u001b[0m\u001b[0;36m0\u001b[0m\u001b[0;34m,\u001b[0m\u001b[0;34m:\u001b[0m\u001b[0;34m]\u001b[0m\u001b[0;34m,\u001b[0m\u001b[0mb\u001b[0m\u001b[0;34m=\u001b[0m\u001b[0mmm\u001b[0m\u001b[0;34m[\u001b[0m\u001b[0;34m:\u001b[0m\u001b[0;34m,\u001b[0m\u001b[0;36m1\u001b[0m\u001b[0;34m]\u001b[0m\u001b[0;34m)\u001b[0m\u001b[0;34m\u001b[0m\u001b[0;34m\u001b[0m\u001b[0m\n\u001b[0m",
      "\u001b[0;32m<__array_function__ internals>\u001b[0m in \u001b[0;36mtensordot\u001b[0;34m(*args, **kwargs)\u001b[0m\n",
      "\u001b[0;32m~/anaconda3/lib/python3.7/site-packages/numpy/core/numeric.py\u001b[0m in \u001b[0;36mtensordot\u001b[0;34m(a, b, axes)\u001b[0m\n\u001b[1;32m   1066\u001b[0m     \u001b[0;32melse\u001b[0m\u001b[0;34m:\u001b[0m\u001b[0;34m\u001b[0m\u001b[0;34m\u001b[0m\u001b[0m\n\u001b[1;32m   1067\u001b[0m         \u001b[0;32mfor\u001b[0m \u001b[0mk\u001b[0m \u001b[0;32min\u001b[0m \u001b[0mrange\u001b[0m\u001b[0;34m(\u001b[0m\u001b[0mna\u001b[0m\u001b[0;34m)\u001b[0m\u001b[0;34m:\u001b[0m\u001b[0;34m\u001b[0m\u001b[0;34m\u001b[0m\u001b[0m\n\u001b[0;32m-> 1068\u001b[0;31m             \u001b[0;32mif\u001b[0m \u001b[0mas_\u001b[0m\u001b[0;34m[\u001b[0m\u001b[0maxes_a\u001b[0m\u001b[0;34m[\u001b[0m\u001b[0mk\u001b[0m\u001b[0;34m]\u001b[0m\u001b[0;34m]\u001b[0m \u001b[0;34m!=\u001b[0m \u001b[0mbs\u001b[0m\u001b[0;34m[\u001b[0m\u001b[0maxes_b\u001b[0m\u001b[0;34m[\u001b[0m\u001b[0mk\u001b[0m\u001b[0;34m]\u001b[0m\u001b[0;34m]\u001b[0m\u001b[0;34m:\u001b[0m\u001b[0;34m\u001b[0m\u001b[0;34m\u001b[0m\u001b[0m\n\u001b[0m\u001b[1;32m   1069\u001b[0m                 \u001b[0mequal\u001b[0m \u001b[0;34m=\u001b[0m \u001b[0;32mFalse\u001b[0m\u001b[0;34m\u001b[0m\u001b[0;34m\u001b[0m\u001b[0m\n\u001b[1;32m   1070\u001b[0m                 \u001b[0;32mbreak\u001b[0m\u001b[0;34m\u001b[0m\u001b[0;34m\u001b[0m\u001b[0m\n",
      "\u001b[0;31mIndexError\u001b[0m: tuple index out of range"
     ]
    }
   ],
   "source": [
    "np.tensordot(a=nn[0,:],b=mm[:,1])"
   ]
  },
  {
   "cell_type": "code",
   "execution_count": 7,
   "metadata": {},
   "outputs": [],
   "source": [
    "import numpy as np\n",
    "\n",
    "col3_ = np.ndarray((1,3,2,2,3,3), dtype='float32')*0"
   ]
  },
  {
   "cell_type": "code",
   "execution_count": 14,
   "metadata": {},
   "outputs": [],
   "source": [
    "np.random.seed(3)\n",
    "col3_[:,:,1,1,:,:] = np.random.randn(1,3,3,3)"
   ]
  },
  {
   "cell_type": "code",
   "execution_count": 15,
   "metadata": {},
   "outputs": [
    {
     "data": {
      "text/plain": [
       "array([[[[[[ 1.7886285 ,  0.43650985,  0.09649747],\n",
       "           [-1.8634927 , -0.27738822, -0.35475898],\n",
       "           [-0.08274148, -0.6270007 , -0.04381817]],\n",
       "\n",
       "          [[ 0.        ,  0.        ,  0.        ],\n",
       "           [ 0.        ,  0.        ,  0.        ],\n",
       "           [ 0.        ,  0.        ,  0.        ]]],\n",
       "\n",
       "\n",
       "         [[[ 0.        ,  0.        ,  0.        ],\n",
       "           [ 0.        ,  0.        ,  0.        ],\n",
       "           [ 0.        ,  0.        ,  0.        ]],\n",
       "\n",
       "          [[ 1.7886285 ,  0.43650985,  0.09649747],\n",
       "           [-1.8634927 , -0.27738822, -0.35475898],\n",
       "           [-0.08274148, -0.6270007 , -0.04381817]]]],\n",
       "\n",
       "\n",
       "\n",
       "        [[[[-0.47721803, -1.3138647 ,  0.8846224 ],\n",
       "           [ 0.88131803,  1.709573  ,  0.05003364],\n",
       "           [-0.40467742, -0.54535997, -1.5464773 ]],\n",
       "\n",
       "          [[ 0.        ,  0.        ,  0.        ],\n",
       "           [ 0.        ,  0.        ,  0.        ],\n",
       "           [ 0.        ,  0.        ,  0.        ]]],\n",
       "\n",
       "\n",
       "         [[[ 0.        ,  0.        ,  0.        ],\n",
       "           [ 0.        ,  0.        ,  0.        ],\n",
       "           [ 0.        ,  0.        ,  0.        ]],\n",
       "\n",
       "          [[-0.47721803, -1.3138647 ,  0.8846224 ],\n",
       "           [ 0.88131803,  1.709573  ,  0.05003364],\n",
       "           [-0.40467742, -0.54535997, -1.5464773 ]]]],\n",
       "\n",
       "\n",
       "\n",
       "        [[[[ 0.98236746, -1.1010677 , -1.1850466 ],\n",
       "           [-0.2056499 ,  1.4861484 ,  0.23671627],\n",
       "           [-1.0237851 , -0.7129932 ,  0.625245  ]],\n",
       "\n",
       "          [[ 0.        ,  0.        ,  0.        ],\n",
       "           [ 0.        ,  0.        ,  0.        ],\n",
       "           [ 0.        ,  0.        ,  0.        ]]],\n",
       "\n",
       "\n",
       "         [[[ 0.        ,  0.        ,  0.        ],\n",
       "           [ 0.        ,  0.        ,  0.        ],\n",
       "           [ 0.        ,  0.        ,  0.        ]],\n",
       "\n",
       "          [[ 0.98236746, -1.1010677 , -1.1850466 ],\n",
       "           [-0.2056499 ,  1.4861484 ,  0.23671627],\n",
       "           [-1.0237851 , -0.7129932 ,  0.625245  ]]]]]], dtype=float32)"
      ]
     },
     "execution_count": 15,
     "metadata": {},
     "output_type": "execute_result"
    }
   ],
   "source": [
    "col3_"
   ]
  },
  {
   "cell_type": "code",
   "execution_count": 18,
   "metadata": {},
   "outputs": [],
   "source": [
    "if not True:\n",
    "    print(2)"
   ]
  },
  {
   "cell_type": "code",
   "execution_count": 1,
   "metadata": {},
   "outputs": [],
   "source": [
    "from metal.autograd import to_container\n",
    "import numpy as np"
   ]
  },
  {
   "cell_type": "code",
   "execution_count": 2,
   "metadata": {},
   "outputs": [
    {
     "data": {
      "text/plain": [
       "Container([1. 2.], requires_grad=False)"
      ]
     },
     "execution_count": 2,
     "metadata": {},
     "output_type": "execute_result"
    }
   ],
   "source": [
    "to_container(np.array((1,2)))"
   ]
  },
  {
   "cell_type": "code",
   "execution_count": 4,
   "metadata": {},
   "outputs": [],
   "source": [
    "def t(x=to_container):\n",
    "    return x"
   ]
  },
  {
   "cell_type": "code",
   "execution_count": 6,
   "metadata": {},
   "outputs": [
    {
     "data": {
      "text/plain": [
       "array([1, 2])"
      ]
     },
     "execution_count": 6,
     "metadata": {},
     "output_type": "execute_result"
    }
   ],
   "source": [
    "t( np.array((1,2)) )"
   ]
  },
  {
   "cell_type": "code",
   "execution_count": 1,
   "metadata": {},
   "outputs": [],
   "source": [
    "import re\n",
    "from metal.utils.utils import get_model\n",
    "from metal.layers.flatten import Flatten\n",
    "from metal.layers.dense import Dense\n",
    "from tensorflow import keras\n",
    "from metal.core._01_base import Dataset, DataBunch\n",
    "from metal.core.kernels.functions.loss import cross_entropy_loss\n",
    "from metal.utils.utils import get_model, get_dls, create_learner\n",
    "from metal.core.extend import listify\n",
    "import numpy as np\n",
    "from metal.autograd import Container\n",
    "import matplotlib.pyplot as plt\n",
    "import metal\n",
    "\n",
    "nh,bs = 50,512\n",
    "\n",
    "mnist = keras.datasets.mnist\n",
    "(x_train, y_train), (x_test, y_test) = mnist.load_data()\n",
    "x_train_, x_test_ = (x_train/255.0).reshape(-1,1,28,28).astype('float32'), (x_test/255.0).reshape(-1,1,28,28).astype('float32')\n",
    "train,test = Dataset(x_train_,y_train),Dataset(x_test_,y_test)\n",
    "c =y_train.max().item()+1\n",
    "data = DataBunch(*get_dls(train,test,bs),c)\n"
   ]
  },
  {
   "cell_type": "code",
   "execution_count": 2,
   "metadata": {},
   "outputs": [],
   "source": [
    "_camel_re1 = re.compile('(.)([A-Z][a-z]+)')\n",
    "_camel_re2 = re.compile('([a-z0-9])([A-Z])')\n",
    "def camel2snake(name):\n",
    "    s1 = re.sub(_camel_re1, r'\\1_\\2', name)\n",
    "    return re.sub(_camel_re2, r'\\1_\\2', s1).lower()\n",
    "\n",
    "\n",
    "class Callback():\n",
    "    _order=0\n",
    "    def set_runner(self, run): self.run=run\n",
    "    def __getattr__(self, k): return getattr(self.run, k)\n",
    "    \n",
    "    @property\n",
    "    def name(self):\n",
    "        name = re.sub(r'Callback$', '', self.__class__.__name__)\n",
    "        return camel2snake(name or 'callback')\n",
    "    \n",
    "    def __call__(self, cb_name):\n",
    "        f = getattr(self, cb_name, None)\n",
    "        if f and f(): return True\n",
    "        return False"
   ]
  },
  {
   "cell_type": "code",
   "execution_count": 3,
   "metadata": {},
   "outputs": [],
   "source": [
    "class TestCallback(Callback):\n",
    "    _order=1\n",
    "    def after_step(self):\n",
    "        print(self.n_iter)\n",
    "        if self.n_iter>=10: raise CancelTrainException()"
   ]
  },
  {
   "cell_type": "code",
   "execution_count": 4,
   "metadata": {},
   "outputs": [],
   "source": [
    "#get_model([Flatten(),Dense(2,3)])[1].param_groups"
   ]
  },
  {
   "cell_type": "code",
   "execution_count": 5,
   "metadata": {},
   "outputs": [],
   "source": [
    "class CancelTrainException(Exception): pass\n",
    "class CancelEpochException(Exception): pass\n",
    "class CancelBatchException(Exception): pass"
   ]
  },
  {
   "cell_type": "code",
   "execution_count": 6,
   "metadata": {},
   "outputs": [],
   "source": [
    "class TrainEvalCallback(Callback):\n",
    "    def begin_fit(self):\n",
    "        self.run.n_epochs=0.\n",
    "        self.run.n_iter=0\n",
    "    \n",
    "    def after_batch(self):\n",
    "        if not self.in_train: return\n",
    "        self.run.n_epochs += 1./self.iters\n",
    "        self.run.n_iter   += 1\n",
    "        \n",
    "    def begin_epoch(self):\n",
    "        self.run.n_epochs=self.epoch\n",
    "        self.model.train()\n",
    "        self.run.in_train=True\n",
    "\n",
    "    def begin_validate(self):\n",
    "        self.model.eval()\n",
    "        self.run.in_train=False"
   ]
  },
  {
   "cell_type": "code",
   "execution_count": 70,
   "metadata": {},
   "outputs": [],
   "source": [
    "class Runner():\n",
    "    def __init__(self, cbs=None, cb_funcs=None):\n",
    "        self.in_train = False\n",
    "        cbs = listify(cbs)\n",
    "        for cbf in listify(cb_funcs):\n",
    "            cb = cbf()\n",
    "            setattr(self, cb.name, cb)\n",
    "            cbs.append(cb)\n",
    "        self.stop,self.cbs = False,[TrainEvalCallback()]+cbs\n",
    "\n",
    "    @property\n",
    "    def opt(self):       return self.learn.opt\n",
    "    @property\n",
    "    def model(self):     return self.learn.model\n",
    "    @property\n",
    "    def loss_func(self): return self.learn.loss_func\n",
    "    @property\n",
    "    def data(self):      return self.learn.data\n",
    "\n",
    "    def one_batch(self, xb, yb):\n",
    "        try:\n",
    "            self.xb,self.yb = xb,yb\n",
    "            self('begin_batch')\n",
    "            self.pred = self.model(self.xb)\n",
    "            self('after_pred')\n",
    "            self.loss = self.loss_func(self.pred, self.yb)\n",
    "            self('after_loss')\n",
    "            if not self.in_train: return\n",
    "            self.loss.backward()\n",
    "            self('after_backward')\n",
    "            self.opt.step()\n",
    "            self('after_step')\n",
    "            self.opt.zero_grad()\n",
    "        except CancelBatchException: self('after_cancel_batch')\n",
    "        finally: self('after_batch')\n",
    "\n",
    "    def all_batches(self, dl):\n",
    "        self.iters = len(dl)\n",
    "        try:\n",
    "            for xb,yb in dl: self.one_batch(xb, yb)\n",
    "        except CancelEpochException: self('after_cancel_epoch')\n",
    "\n",
    "    def fit(self, epochs, learn):\n",
    "        self.epochs,self.learn,self.loss = epochs,learn,Container(np.ndarray([0]))\n",
    "\n",
    "        try:\n",
    "            for cb in self.cbs: cb.set_runner(self)\n",
    "            self('begin_fit')\n",
    "            for epoch in range(epochs):\n",
    "                self.epoch = epoch\n",
    "                if not self('begin_epoch'): self.all_batches(self.data.train_dl)\n",
    "\n",
    "                with metal.autograd.no_grad(): \n",
    "                    if not self('begin_validate'): self.all_batches(self.data.valid_dl)\n",
    "                self('after_epoch')\n",
    "            \n",
    "        except CancelTrainException: self('after_cancel_train')\n",
    "        finally:\n",
    "            self('after_fit')\n",
    "            self.learn = None\n",
    "\n",
    "    def __call__(self, cb_name):\n",
    "        res = False\n",
    "        for cb in sorted(self.cbs, key=lambda x: x._order): res = cb(cb_name) or res\n",
    "        return res"
   ]
  },
  {
   "cell_type": "code",
   "execution_count": 71,
   "metadata": {},
   "outputs": [],
   "source": [
    "run = Runner(cb_funcs=TestCallback)"
   ]
  },
  {
   "cell_type": "code",
   "execution_count": 72,
   "metadata": {},
   "outputs": [],
   "source": [
    "#learn = create_learner(get_model([Flatten(),Dense(784,50,act_fn='relu',init=\"he_normal\"),Dense(50,10,init=\"he_normal\")]),nll,data)\n",
    "#run.fit(3, learn)\n"
   ]
  },
  {
   "cell_type": "code",
   "execution_count": 73,
   "metadata": {},
   "outputs": [],
   "source": [
    "class AvgStatsCallback(Callback):\n",
    "    def __init__(self, metrics):\n",
    "        self.train_stats,self.valid_stats = AvgStats(metrics,True),AvgStats(metrics,False)\n",
    "        \n",
    "    def begin_epoch(self):\n",
    "        self.train_stats.reset()\n",
    "        self.valid_stats.reset()\n",
    "        \n",
    "    def after_loss(self):\n",
    "        stats = self.train_stats if self.in_train else self.valid_stats\n",
    "        with metal.autograd.no_grad(): stats.accumulate(self.run)\n",
    "    \n",
    "    def after_epoch(self):\n",
    "        print(self.train_stats)\n",
    "        print(self.valid_stats)\n",
    "        \n",
    "class Recorder(Callback):\n",
    "    def begin_fit(self):\n",
    "        self.lrs = [[] for _ in self.opt.param_groups]\n",
    "        self.losses = []\n",
    "\n",
    "    def after_batch(self):\n",
    "        if not self.in_train: return\n",
    "        for pg,lr in zip(self.opt.param_groups,self.lrs): lr.append(pg['lr'])\n",
    "        self.losses.append(self.loss._value)        \n",
    "\n",
    "    def plot_lr  (self, pgid=-1): plt.plot(self.lrs[pgid])\n",
    "    def plot_loss(self, skip_last=0): plt.plot(self.losses[:len(self.losses)-skip_last])\n",
    "        \n",
    "    def plot(self, skip_last=0, pgid=-1):\n",
    "        losses = [o.item() for o in self.losses]\n",
    "        lrs    = self.lrs[pgid]\n",
    "        n = len(losses)-skip_last\n",
    "        plt.xscale('log')\n",
    "        plt.plot(lrs[:n], losses[:n])\n",
    "\n",
    "class ParamScheduler(Callback):\n",
    "    _order=1\n",
    "    def __init__(self, pname, sched_funcs): self.pname,self.sched_funcs = pname,sched_funcs\n",
    "        \n",
    "    def begin_fit(self):\n",
    "        if not isinstance(self.sched_funcs, (list,tuple)):\n",
    "            self.sched_funcs = [self.sched_funcs] * len(self.opt.param_groups)\n",
    "\n",
    "    def set_param(self):\n",
    "        assert len(self.opt.param_groups)==len(self.sched_funcs)\n",
    "        for pg,f in zip(self.opt.param_groups,self.sched_funcs):\n",
    "            pg[self.pname] = f(self.n_epochs/self.epochs)\n",
    "            \n",
    "    def begin_batch(self): \n",
    "        if self.in_train: self.set_param()"
   ]
  },
  {
   "cell_type": "code",
   "execution_count": 74,
   "metadata": {},
   "outputs": [],
   "source": [
    "class LR_Find(Callback):\n",
    "    _order=1\n",
    "    def __init__(self, max_iter=100, min_lr=1e-6, max_lr=10):\n",
    "        self.max_iter,self.min_lr,self.max_lr = max_iter,min_lr,max_lr\n",
    "        self.best_loss = 1e9\n",
    "        \n",
    "    def begin_batch(self): \n",
    "        if not self.in_train: return\n",
    "        pos = self.n_iter/self.max_iter\n",
    "        lr = self.min_lr * (self.max_lr/self.min_lr) ** pos\n",
    "        for pg in self.opt.param_groups: pg['lr'] = lr\n",
    "            \n",
    "    def after_step(self):\n",
    "        if self.n_iter>=self.max_iter or self.loss._value>self.best_loss*10:\n",
    "            raise CancelTrainException()\n",
    "        if self.loss._value < self.best_loss: self.best_loss = self.loss._value"
   ]
  },
  {
   "cell_type": "code",
   "execution_count": 75,
   "metadata": {},
   "outputs": [],
   "source": [
    "learn = create_learner(get_model([Flatten(),\n",
    "                                  Dense(784,50,act_fn='relu'),\n",
    "                                  Dense(50,10)]), \n",
    "                                cross_entropy_loss, data)\n"
   ]
  },
  {
   "cell_type": "code",
   "execution_count": 76,
   "metadata": {},
   "outputs": [],
   "source": [
    "#learn.opt.param_groups"
   ]
  },
  {
   "cell_type": "code",
   "execution_count": 77,
   "metadata": {},
   "outputs": [],
   "source": [
    "run = Runner(cb_funcs=[LR_Find, Recorder])\n"
   ]
  },
  {
   "cell_type": "code",
   "execution_count": 78,
   "metadata": {},
   "outputs": [
    {
     "name": "stdout",
     "output_type": "stream",
     "text": [
      "[ 0.00022396 -0.01072992 -0.03475719  0.04297812  0.00700248  0.008342\n",
      "  0.02893632 -0.04798438  0.05991589 -0.05392722]\n",
      "[-0.0060662  -0.00201094 -0.0508769  -0.01187334  0.03139517  0.00701631\n",
      "  0.05097826 -0.02945947  0.05955778 -0.04866067]\n",
      "[-0.0149779  -0.00571503 -0.03668721 -0.02491795  0.03419267  0.04171345\n",
      "  0.05193869 -0.027574    0.0435463  -0.06151902]\n",
      "[ 0.02343737 -0.01143386 -0.05154303 -0.00583945  0.01764789  0.00817268\n",
      "  0.05418694 -0.02468103  0.05033404 -0.06028141]\n",
      "[ 0.00515826 -0.02732443 -0.02752214  0.03166269  0.02221241  0.00831817\n",
      "  0.05810223 -0.05150106  0.03682808 -0.05593437]\n",
      "[-0.02021831 -0.00918155 -0.04056436 -0.00074272  0.02735784  0.00890337\n",
      "  0.03964837 -0.03321231  0.05726436 -0.02925467]\n",
      "[-0.00941324 -0.02039671 -0.03031095  0.01943319  0.02724776 -0.01219067\n",
      "  0.0359287  -0.02293814  0.05109299 -0.03845279]\n",
      "[ 0.02256415 -0.03705218 -0.04779386 -0.00364567 -0.00240046  0.01344881\n",
      "  0.07187936 -0.04932142  0.07816099 -0.04583957]\n",
      "[-0.00200396 -0.04114073 -0.05331066  0.00461195  0.01367777  0.04208221\n",
      "  0.046018   -0.03579634  0.06025532 -0.03439357]\n",
      "[ 0.00068378 -0.01700281 -0.05619225 -0.01346585  0.03721512  0.00795493\n",
      "  0.06237692 -0.04148654  0.04630259 -0.02638582]\n",
      "[ 0.00962517 -0.02745888 -0.03433282  0.01005916  0.02217366  0.01912127\n",
      "  0.04836819 -0.04557155  0.03504164 -0.03702578]\n",
      "[ 0.00246788 -0.01142772 -0.05153726  0.01805812  0.03576856  0.00671271\n",
      "  0.04448847 -0.03564268  0.04046395 -0.04935197]\n",
      "[ 0.01056289 -0.0346518  -0.02756048  0.01863007 -0.00307562  0.01660355\n",
      "  0.04602909 -0.03344933  0.06982136 -0.06290951]\n",
      "[ 0.02021473 -0.03421452 -0.05085136  0.03504264  0.00756562  0.01929986\n",
      "  0.06106194 -0.05134152  0.07460045 -0.08137793]\n",
      "[ 0.02590277 -0.02479097 -0.04111667 -0.01110106  0.04642664  0.02428427\n",
      "  0.05126684 -0.03859292  0.04198035 -0.07425951]\n",
      "[ 0.0081778  -0.01421472 -0.02580648  0.0032096   0.01827244  0.010818\n",
      "  0.03923313 -0.0278028   0.05196451 -0.06385153]\n",
      "[ 0.00377237 -0.02018435 -0.03712023  0.00585899  0.01866255 -0.00427806\n",
      "  0.06227865 -0.03565517  0.05379418 -0.04712893]\n",
      "[-0.00956997 -0.02033227 -0.02820282  0.01222241  0.02112391  0.02270671\n",
      "  0.02898275 -0.02936712  0.05422093 -0.05178456]\n",
      "[ 0.01398847 -0.03838327 -0.04964574  0.01285225  0.04096723  0.00135504\n",
      "  0.06379441 -0.02560235  0.04621339 -0.06553958]\n",
      "[-0.01316853 -0.01382394 -0.03979243  0.01540437  0.03244787 -0.01264484\n",
      "  0.04075119 -0.04381362  0.07465868 -0.04001877]\n",
      "[ 0.02852321 -0.02977536 -0.0350329   0.01061395  0.03065663  0.03601144\n",
      "  0.04896161 -0.03705592  0.01079448 -0.06369717]\n",
      "[-0.00018208 -0.02142825 -0.04196761  0.00804197  0.03659774  0.00380438\n",
      "  0.05074143 -0.0491544   0.05348197 -0.03993512]\n",
      "[ 0.0150244   0.00441333 -0.03484021  0.01662912 -0.01030916 -0.00330634\n",
      "  0.07655861 -0.05978492  0.05939087 -0.06377596]\n",
      "[ 0.00865375 -0.01365219 -0.02472758 -0.00351078  0.03577864  0.01088718\n",
      "  0.04483228 -0.05701129  0.0345823  -0.0358322 ]\n",
      "[-0.01925834 -0.01962885 -0.02184012  0.00658778  0.03887837  0.01512249\n",
      "  0.05889954 -0.03606478  0.04147443 -0.06417043]\n",
      "[-0.02138643 -0.00055832 -0.02790436  0.01924223  0.03499659  0.01550161\n",
      "  0.03170897 -0.05972287  0.04859059 -0.04046795]\n",
      "[ 0.00421735 -0.03210935 -0.01863588 -0.00215947  0.02273954  0.0247211\n",
      "  0.05221929 -0.04490237  0.03265082 -0.03874109]\n",
      "[ 0.01549076 -0.02844729 -0.02710467  0.00826331  0.01205233  0.01021571\n",
      "  0.04112415 -0.03837408  0.05983965 -0.05305985]\n",
      "[ 0.02206362 -0.0313716  -0.068043    0.01646748  0.01864244  0.01920536\n",
      "  0.04371915 -0.02747284  0.03977897 -0.03298973]\n",
      "[ 0.00438332 -0.01429823 -0.03799938  0.01019893 -0.01769711  0.02651207\n",
      "  0.04537001 -0.03488477  0.04982015 -0.03140509]\n",
      "[-0.00043844 -0.01261907 -0.03594808  0.02201016  0.01652258  0.01926361\n",
      "  0.05802078 -0.05428142  0.05782285 -0.07035289]\n",
      "[ 0.00248778 -0.00411623 -0.02783285 -0.01916759  0.02767461  0.00684356\n",
      "  0.06214929 -0.04361741  0.03964582 -0.04406695]\n",
      "[ 0.00559028 -0.02605963 -0.02754932  0.01860592  0.01721547  0.01202675\n",
      "  0.03754386 -0.02632766  0.03574903 -0.04679474]\n",
      "[-0.00167372 -0.0186016  -0.05634189  0.02756113  0.03301826  0.01780158\n",
      "  0.03824812 -0.05923182  0.07611925 -0.05689916]\n",
      "[ 0.00437155 -0.02660782 -0.03605807  0.00248879  0.02495885  0.02229271\n",
      "  0.06603201 -0.05393653  0.04600754 -0.04954904]\n",
      "[-0.00124011  0.00726699 -0.03906214  0.02501875  0.03486432 -0.0054535\n",
      "  0.04621608 -0.04931399  0.04737109 -0.06566747]\n",
      "[-0.01558437 -0.01609457 -0.03874348  0.01388634  0.04227182  0.00790467\n",
      "  0.03821012 -0.03835719  0.04279722 -0.03629049]\n",
      "[ 0.0053341  -0.02334517 -0.03559978  0.02686714  0.02754031  0.00682923\n",
      "  0.04122169 -0.02072645  0.02440706 -0.05252813]\n",
      "[-0.01288687 -0.02578858 -0.01379358 -0.01167636  0.04413796  0.01246531\n",
      "  0.06049759 -0.04891909  0.04759212 -0.05162831]\n",
      "[ 0.00186513 -0.0348792  -0.02954148  0.01158411  0.00481371  0.01860281\n",
      "  0.03977222 -0.01842111  0.04910494 -0.04290142]\n",
      "[ 0.00219796 -0.03229975 -0.03381459  0.01713325  0.03437635  0.0122423\n",
      "  0.03757779 -0.0341694   0.0539972  -0.057241  ]\n",
      "[-0.02197788 -0.01942302 -0.04494603  0.01590885  0.01419353  0.00662788\n",
      "  0.03884523 -0.01450759  0.06276799 -0.03748903]\n",
      "[-0.013816   -0.01308288 -0.05042071  0.0273543   0.01682675  0.00731705\n",
      "  0.04754787 -0.02608734  0.04134065 -0.03697964]\n",
      "[ 0.00681769 -0.0281948  -0.03867356 -0.00063033  0.02039242  0.0251157\n",
      "  0.05870664 -0.02603809  0.05167063 -0.06916647]\n",
      "[ 0.03032177 -0.02006563 -0.01826459  0.00865418  0.02589506  0.00732798\n",
      "  0.0369194  -0.05462691  0.02371025 -0.03987122]\n",
      "[-0.00304424 -0.04484248 -0.05733988  0.01922623  0.01349779  0.01560572\n",
      "  0.05566706 -0.03731365  0.05440786 -0.01586434]\n",
      "[ 4.7347602e-03 -1.2111161e-02 -6.5072075e-02 -7.7801335e-05\n",
      "  2.1895703e-02  2.5735276e-02  4.6435457e-02 -3.8073905e-02\n",
      "  4.7940079e-02 -3.1406354e-02]\n",
      "[-0.01779546 -0.01196321 -0.04507227  0.02154739  0.04674733  0.03688528\n",
      "  0.03107221 -0.04729535  0.03916221 -0.05328809]\n",
      "[ 0.006031   -0.03329948 -0.03769784  0.01014074  0.02392998  0.01082306\n",
      "  0.05598896 -0.04144014  0.03707865 -0.03155479]\n",
      "[-0.00574607 -0.0286477  -0.03378407 -0.00614436  0.04251781  0.00417928\n",
      "  0.05064104 -0.04459839  0.06953897 -0.04795678]\n",
      "[-0.01003772 -0.00707393 -0.03912695  0.00902933  0.03524451  0.03279061\n",
      "  0.0406156  -0.03753547  0.0265988  -0.05050485]\n",
      "[-0.00952221 -0.01407193 -0.03276029 -0.01136387  0.03707894  0.0260135\n",
      "  0.04956389 -0.04197224  0.05221743 -0.05518304]\n",
      "[-0.01762896 -0.04054538 -0.05881837  0.02597548  0.0251264   0.0406489\n",
      "  0.05938298 -0.0326167   0.04204246 -0.04356683]\n",
      "[-0.0205596  -0.01136816 -0.05088524  0.01900123  0.0178916   0.03563773\n",
      "  0.04645861 -0.0344258   0.03976512 -0.04151549]\n",
      "[ 0.02394723 -0.03060081 -0.02914224  0.00879321  0.03833827  0.03697991\n",
      "  0.04826093 -0.02540566 -0.00286339 -0.06830744]\n",
      "[ 0.01213623 -0.0227187  -0.04387797  0.00834856  0.02319458  0.03222588\n",
      "  0.05439147 -0.06222792  0.02668649 -0.02815858]\n",
      "[ 0.01009497 -0.01584732 -0.04275546  0.00824037  0.00135618  0.00317827\n",
      "  0.05821836 -0.01976261  0.0478171  -0.05053996]\n",
      "[ 0.03109194 -0.02774459 -0.04270714  0.02269794  0.00746353  0.00357772\n",
      "  0.03740144 -0.03358779  0.03158413 -0.02977709]\n",
      "[ 0.00935344 -0.01424565 -0.05025822 -0.0087188   0.01336847  0.00834724\n",
      "  0.06402879 -0.04728926  0.05403994 -0.02862577]\n",
      "[ 0.00342082 -0.03104886 -0.0591153   0.02868634  0.03480985  0.02097535\n",
      "  0.04564095 -0.07493335  0.06622579 -0.03466154]\n",
      "[-0.00030973 -0.01688045 -0.0307551  -0.00148123  0.03042952  0.00509382\n",
      "  0.03176165 -0.0430403   0.06224406 -0.03706213]\n",
      "[-0.00868289 -0.01866176 -0.0507728   0.02300932  0.01524351  0.02041757\n",
      "  0.05846435 -0.0423717   0.06472897 -0.06137458]\n",
      "[ 0.00113357 -0.01569368 -0.04443239  0.02814375  0.03122499  0.01418609\n",
      "  0.05101464 -0.04653764  0.04316971 -0.06220898]\n",
      "[ 0.00530914 -0.04483701 -0.04243644  0.0158359   0.01905348  0.01632704\n",
      "  0.04505685 -0.036673    0.06010541 -0.03774137]\n",
      "[ 0.01830712 -0.0071619  -0.05829339 -0.00613072  0.01534892  0.02575228\n",
      "  0.05489728 -0.04858314  0.04364757 -0.03778403]\n",
      "[ 0.00961062 -0.00723802 -0.03218252  0.00768254  0.0108112   0.00933499\n",
      "  0.05912967 -0.04354658  0.04160927 -0.05521119]\n",
      "[ 0.01216444 -0.02710314 -0.04191352  0.00408719  0.0186594  -0.00087782\n",
      "  0.05302684 -0.03918101  0.06353176 -0.04239422]\n",
      "[-0.02200905 -0.01376157 -0.04127556  0.02108346  0.01276522  0.01589574\n",
      "  0.05487742 -0.03526388  0.044322   -0.03663375]\n"
     ]
    },
    {
     "name": "stdout",
     "output_type": "stream",
     "text": [
      "[ 0.04424044 -0.02522591 -0.03484583  0.00480926  0.00913861 -0.00516219\n",
      "  0.05368834 -0.04218516  0.05894672 -0.06340429]\n",
      "[-0.02215022 -0.03860887 -0.01733905  0.02175492  0.04350912  0.01214482\n",
      "  0.05437159 -0.04385172  0.01760788 -0.02743841]\n",
      "[-5.2848766e-03 -4.1698258e-02 -1.7057763e-02  1.4317823e-02\n",
      "  3.7367377e-02 -8.6969798e-05  3.3823062e-02 -3.6335297e-02\n",
      "  5.3878263e-02 -3.8923509e-02]\n",
      "[-0.01272562 -0.00430477 -0.04196727  0.02279817  0.03477148  0.02283197\n",
      "  0.04516131 -0.04126853  0.02371936 -0.04901608]\n",
      "[-0.00724966 -0.02818027 -0.04198627  0.01702246  0.01533769  0.00676714\n",
      "  0.04982996 -0.03060747  0.08137672 -0.0623103 ]\n",
      "[ 0.01875327 -0.02307431 -0.03735846  0.00881791  0.02961927  0.024428\n",
      "  0.05743618 -0.05681616  0.04129942 -0.06310508]\n",
      "[-0.00519211 -0.01137812 -0.01825898  0.01005862  0.00546086  0.0234218\n",
      "  0.06413252 -0.04973393  0.0391922  -0.05770285]\n",
      "[ 0.0165928  -0.04340735 -0.02166156  0.01233228 -0.00780132 -0.00066112\n",
      "  0.06811045 -0.0313946   0.04846782 -0.04057742]\n",
      "[ 0.00035877 -0.01259206 -0.04806919  0.00321333  0.01613767  0.01825989\n",
      "  0.06021328 -0.06078906  0.05964953 -0.03638208]\n",
      "[-0.00141682 -0.01171311 -0.05401108  0.01304206  0.0380181   0.01790347\n",
      "  0.04232553 -0.0374589   0.03117955 -0.03786888]\n",
      "[ 0.01216934 -0.0077666  -0.07554331  0.01548994  0.01246645  0.00794213\n",
      "  0.04953858 -0.01867088  0.06971871 -0.06534436]\n",
      "[ 0.0151438  -0.02402727 -0.0531235   0.00329116  0.04590369  0.00105037\n",
      "  0.05934532 -0.04752859  0.0547324  -0.05478737]\n",
      "[-0.01403283 -0.03984639 -0.02380641  0.03580418  0.04073844  0.00519004\n",
      "  0.0600961  -0.04761609  0.03510151 -0.05162856]\n",
      "[-0.03208143 -0.01292108 -0.04995593  0.03047459  0.05494371 -0.00713112\n",
      "  0.03080146 -0.03115242  0.06804805 -0.05102599]\n",
      "[-0.00149768 -0.0227905  -0.05007465 -0.01507755  0.02454302  0.03182665\n",
      "  0.05222402 -0.03262007  0.04424756 -0.03078078]\n",
      "[ 8.4885512e-05 -4.7970958e-02 -3.5677485e-02  2.0542942e-02\n",
      "  5.5833079e-02  3.4268048e-02  3.3741601e-02 -4.7981177e-02\n",
      "  2.8992303e-02 -4.1833397e-02]\n",
      "[-0.01516053  0.00065245 -0.05898845  0.01747164  0.02130003 -0.00433012\n",
      "  0.06686734 -0.04839301  0.05185077 -0.03127023]\n",
      "[-0.00553085  0.01077639 -0.04737576  0.02650504  0.0302934   0.01810495\n",
      "  0.03474613 -0.05142159  0.0419504  -0.05804814]\n",
      "[ 0.00285504 -0.01760194 -0.06636163 -0.00143096  0.04316719 -0.00202616\n",
      "  0.04710337 -0.03010992  0.0641357  -0.03973086]\n",
      "[ 0.02600382 -0.02384249 -0.0378867   0.00936583  0.01330891  0.00878358\n",
      "  0.03239524 -0.03254369  0.04777027 -0.04335476]\n",
      "[-0.01065815 -0.01345698 -0.03025244  0.02741056  0.01496619  0.01553594\n",
      "  0.02917872 -0.06264794  0.08649126 -0.05656724]\n",
      "[-0.0093562  -0.02105714 -0.04824316  0.00200443  0.03517304  0.02663713\n",
      "  0.04607899 -0.03996551  0.0719147  -0.06318641]\n",
      "[-0.00327433 -0.02147424 -0.06090299  0.00916764  0.02256401  0.03369753\n",
      "  0.04913991 -0.052419    0.04867832 -0.0251767 ]\n",
      "[ 0.00969282 -0.01662187 -0.0453496   0.01167271  0.02682952 -0.00300511\n",
      "  0.05402416 -0.05077161  0.04248285 -0.02895401]\n",
      "[ 0.00788034 -0.02747939 -0.03675786  0.00131308  0.03965721  0.00606424\n",
      "  0.0660532  -0.04669453  0.04532485 -0.05536115]\n",
      "[-8.83940957e-05 -2.88107563e-02 -4.22009230e-02  1.74452718e-02\n",
      "  2.65652686e-02  1.36992335e-02  4.68408018e-02 -3.66200171e-02\n",
      "  3.62475440e-02 -3.30781192e-02]\n",
      "[-0.01667028 -0.00648009 -0.05669004  0.00506127  0.04310369  0.02090309\n",
      "  0.0368914  -0.04051066  0.04946223 -0.03507081]\n",
      "[ 2.7834329e-05 -1.7408604e-02 -3.1452347e-02  1.8463707e-02\n",
      "  1.8492220e-02  8.7876869e-03  5.6815803e-02 -3.9191138e-02\n",
      "  4.7284611e-02 -6.1819758e-02]\n",
      "[-0.00368815 -0.02566571 -0.01753259  0.0187603  -0.00015331  0.01737554\n",
      "  0.05952506 -0.046157    0.04698787 -0.04945206]\n",
      "[-0.00166154 -0.0403351  -0.03719156  0.02510128  0.02382982 -0.01187675\n",
      "  0.06707308 -0.02994012  0.03540929 -0.03040866]\n",
      "[ 0.01263152 -0.03495705 -0.04877384 -0.00948941  0.04702001  0.01002355\n",
      "  0.04595462 -0.04100353  0.07092219 -0.05232823]\n",
      "[-0.00802716 -0.01723195 -0.02730162  0.0034394   0.02592972  0.00949103\n",
      "  0.04987144 -0.02712406  0.03544723 -0.04449388]\n",
      "[-0.00570528  0.00499108 -0.03458519  0.00143023  0.02795894  0.01129634\n",
      "  0.0596182  -0.05838868  0.03881726 -0.04543282]\n"
     ]
    }
   ],
   "source": [
    "run.fit(2, learn)\n"
   ]
  },
  {
   "cell_type": "code",
   "execution_count": 16,
   "metadata": {},
   "outputs": [
    {
     "name": "stdout",
     "output_type": "stream",
     "text": [
      "[2.450017, 2.4370117, 2.44442, 2.4847655, 2.4921417, 2.457457, 2.5005088, 2.4590285, 2.500734, 2.4424884, 2.477391, 2.4420567, 2.4391148, 2.4822779, 2.4879727, 2.4684129, 2.5018, 2.442172, 2.4401243, 2.4494777, 2.4838147, 2.4827611, 2.4417944, 2.4683943, 2.4559202, 2.4606922, 2.5012357, 2.487095, 2.4715924, 2.4560108, 2.4432573, 2.4307494, 2.4819236, 2.4839034, 2.4678974, 2.48812, 2.423071, 2.4421892, 2.4578285, 2.474189, 2.4685776, 2.4638228, 2.4476418, 2.5251234, 2.5036037, 2.456901, 2.4567366, 2.4781194, 2.4688368, 2.4534426, 2.467019, 2.4443831, 2.4823546, 2.449094, 2.5101342, 2.467206, 2.4655757, 2.4591274, 2.4638815, 2.4387617, 2.4877791, 2.47632, 2.4657812, 2.4625163, 2.4826097, 2.4578998, 2.4717607, 2.5004327, 2.4551113, 2.4727101, 2.429161, 2.4690347, 2.484007, 2.4633646, 2.4898977, 2.4472184, 2.513257, 2.4813206, 2.4573944, 2.4810998, 2.4804564, 2.508713, 2.4675136, 2.4375005, 2.4868188, 2.4531603, 2.4563828, 2.510393, 2.459467, 2.4883108, 2.4477031, 2.469112, 2.4596977, 2.5193882, 2.4211154, 2.487266, 2.4329157, 2.457407, 2.5040367, 2.4418888, 2.448709]\n"
     ]
    },
    {
     "data": {
      "image/png": "[encoded data removed]",
      "text/plain": [
       "<Figure size 432x288 with 1 Axes>"
      ]
     },
     "metadata": {
      "needs_background": "light"
     },
     "output_type": "display_data"
    }
   ],
   "source": [
    "run.recorder.plot(skip_last=5)\n"
   ]
  },
  {
   "cell_type": "code",
   "execution_count": 17,
   "metadata": {},
   "outputs": [
    {
     "data": {
      "text/plain": [
       "[[Container([[ 0.01535002  0.0543096  -0.03016542 ... -0.06592492  0.08322624\n",
       "    -0.03152846]\n",
       "   [-0.0667368  -0.07561769  0.08137425 ...  0.10339259  0.0880119\n",
       "     0.04338983]\n",
       "   [-0.1122633   0.05808531  0.04578919 ...  0.0971071  -0.06993856\n",
       "     0.06736133]\n",
       "   ...\n",
       "   [-0.11145601  0.08304101 -0.04573009 ... -0.11180842 -0.02800776\n",
       "    -0.04611212]\n",
       "   [ 0.03359753 -0.07125828  0.02352229 ...  0.01119841 -0.11225903\n",
       "    -0.05441056]\n",
       "   [ 0.02502899 -0.09152919 -0.04405376 ... -0.01801799  0.06102488\n",
       "     0.11004667]], requires_grad=True),\n",
       "  Container([[0. 0. 0. 0. 0. 0. 0. 0. 0. 0. 0. 0. 0. 0. 0. 0. 0. 0. 0. 0. 0. 0. 0. 0.\n",
       "    0. 0. 0. 0. 0. 0. 0. 0. 0. 0. 0. 0. 0. 0. 0. 0. 0. 0. 0. 0. 0. 0. 0. 0.\n",
       "    0. 0.]], requires_grad=True),\n",
       "  Container([[ 0.13678235 -0.13281496 -0.21000302 -0.3129301   0.2128703   0.03070688\n",
       "    -0.19765088  0.29729426  0.2789947   0.20529439 -0.18057589  0.22284666\n",
       "     0.05826169  0.23543675  0.31413388  0.17287235 -0.2798713  -0.1471776\n",
       "     0.28754437 -0.0558128  -0.14148182  0.2273047  -0.22508095  0.17104007\n",
       "     0.0457617   0.08834615  0.18778619 -0.07018574  0.01268102 -0.10489665\n",
       "     0.24568105  0.04952821  0.11228105 -0.31310704  0.00052861  0.20182279\n",
       "     0.121152    0.06337638 -0.15815428  0.13973893  0.00385807 -0.1124201\n",
       "     0.02778954  0.09130058  0.04842822  0.21826817  0.07341783 -0.19241993\n",
       "    -0.08994757 -0.27786964]\n",
       "   [ 0.31476942  0.17968489  0.04406498 -0.17880584  0.10093046  0.04174982\n",
       "     0.22927053  0.29344556 -0.03356185  0.02977837 -0.27392942  0.09859736\n",
       "     0.03362008 -0.14879237  0.25625756 -0.29742953 -0.2854842   0.13052472\n",
       "     0.11567175  0.06379935 -0.15005274 -0.02819157  0.11101481 -0.05846974\n",
       "     0.1788337  -0.23081227 -0.05078207 -0.26648393 -0.1765361   0.10421316\n",
       "    -0.24726608 -0.19385852 -0.16447179 -0.23082532 -0.31396112 -0.12761019\n",
       "    -0.08555477 -0.24722618  0.27008796 -0.11566571 -0.16884004 -0.04492752\n",
       "    -0.02114698  0.01320283 -0.2034228   0.15597357 -0.23740068  0.03832535\n",
       "    -0.08375294 -0.14659968]\n",
       "   [ 0.08628464 -0.2506821   0.01642058  0.03636946  0.22673973  0.23723468\n",
       "     0.07835271 -0.11317807 -0.06263979 -0.25484306 -0.27045518 -0.24148038\n",
       "    -0.04787354  0.04809143  0.13292669  0.16800068 -0.09645106 -0.12072038\n",
       "    -0.16871738 -0.15500508 -0.17100285  0.17251608  0.12729543 -0.11970548\n",
       "    -0.07025562 -0.30879304  0.03838048  0.20241596  0.13058402  0.14445634\n",
       "     0.1369329  -0.07246805 -0.04451742 -0.14709696  0.1623469  -0.21880798\n",
       "    -0.12134597 -0.22537088  0.13990912  0.30535054 -0.23178971  0.20668103\n",
       "     0.15708594 -0.08593972 -0.26909938  0.22378495 -0.3028617   0.0932423\n",
       "     0.16922568  0.30926064]\n",
       "   [ 0.2858332   0.2141049   0.14653824 -0.16974847  0.11751471 -0.05076815\n",
       "     0.2495662  -0.1381111  -0.15328741  0.31326348  0.00388775 -0.2997389\n",
       "     0.1412898   0.298869    0.04617966 -0.21807225 -0.20565242  0.13986598\n",
       "    -0.17806396 -0.08069037  0.00874535  0.29973596 -0.11877587  0.21909264\n",
       "    -0.14724429 -0.21445142  0.01506186  0.1487686  -0.22048596 -0.23901339\n",
       "    -0.13087976 -0.21384837  0.20787853  0.16231956  0.04811955 -0.25350848\n",
       "    -0.20221426  0.13796943 -0.29382104 -0.3152261  -0.12060095  0.17352486\n",
       "    -0.08320718 -0.09637004  0.1687216   0.2820208  -0.04482426 -0.2666276\n",
       "    -0.02505351 -0.30021605]\n",
       "   [ 0.12684228  0.25840116  0.07933477 -0.29282245 -0.25705883 -0.10158933\n",
       "    -0.08915111 -0.17105256 -0.20192982  0.10159308 -0.24641678 -0.1205401\n",
       "     0.20370899  0.2628049  -0.08182862  0.20973732 -0.23640051 -0.24529578\n",
       "    -0.11591448  0.11072876 -0.07650653  0.20678952 -0.15641697  0.06317801\n",
       "     0.07755579 -0.21562271 -0.02492937  0.13398468 -0.26700184 -0.28073037\n",
       "     0.19317387  0.06593139  0.16767126 -0.30766094 -0.26851326  0.23808438\n",
       "     0.10449031  0.1307725  -0.00087638 -0.2848163   0.19956222 -0.17522947\n",
       "    -0.303137    0.21785647  0.2965463  -0.13091831 -0.26086655  0.16627224\n",
       "     0.23496988  0.10585648]\n",
       "   [-0.30976018 -0.2460164  -0.06333655  0.20461267 -0.14711425  0.02174276\n",
       "    -0.0350833  -0.1883821  -0.07594053 -0.30838206  0.08312558 -0.17718044\n",
       "     0.18586653  0.03356623  0.26409295 -0.07591092  0.06474263  0.22566237\n",
       "    -0.01119349  0.25481924 -0.16913842 -0.24713743  0.27632743 -0.23029526\n",
       "    -0.20760757 -0.18271597  0.30684552  0.20894486  0.06429634  0.23901361\n",
       "    -0.0145082  -0.06189771  0.12078369 -0.13969778 -0.17663074  0.07076625\n",
       "     0.03344049  0.19976705  0.17385411  0.09277726  0.30430478  0.04499891\n",
       "    -0.07285824 -0.26578802 -0.10691299 -0.26871645  0.24023937  0.12774158\n",
       "     0.11221135 -0.25007966]\n",
       "   [-0.18173459 -0.11374728  0.17041945  0.11274366  0.08046275 -0.21381932\n",
       "    -0.18064037  0.2871393  -0.19537061 -0.0860132   0.18564548  0.26767185\n",
       "     0.12077459 -0.04355291 -0.21718019 -0.20670936  0.15939255 -0.21614276\n",
       "    -0.14204904  0.01371213  0.01902179  0.31370384  0.20089637 -0.21031187\n",
       "    -0.01664784  0.1493813   0.01844646 -0.17355676 -0.02877825  0.2403638\n",
       "    -0.30166548  0.16718408 -0.00205888  0.14602683  0.06104398 -0.23979883\n",
       "    -0.18066704 -0.17958054 -0.22516505 -0.19101451 -0.13805358 -0.05093632\n",
       "     0.04407191  0.18750703  0.20877723  0.09954558  0.15709822  0.01074498\n",
       "    -0.30907348  0.31253988]\n",
       "   [ 0.31108803 -0.0445241  -0.151894   -0.24291249 -0.01970198 -0.19836152\n",
       "     0.06504118 -0.03822608 -0.3056548  -0.06531191  0.25912726 -0.22682138\n",
       "     0.04634521 -0.01661585 -0.24054112  0.03247661 -0.03441022  0.25691208\n",
       "     0.23171826 -0.10882492  0.30865768 -0.1760915   0.11176719 -0.04308023\n",
       "     0.10581773  0.30096638 -0.08372105  0.3032268  -0.1119135  -0.03643977\n",
       "    -0.08816098  0.13929972  0.01879715 -0.11335438 -0.00428827  0.08316433\n",
       "    -0.25070152 -0.16038454 -0.05872998  0.26021248 -0.12211455 -0.19719726\n",
       "    -0.20083252  0.22168587  0.04852866  0.1928745  -0.27831265 -0.24073607\n",
       "    -0.16275461 -0.2278091 ]\n",
       "   [-0.10780287 -0.31145972 -0.10087794  0.03952795 -0.2476934   0.0449494\n",
       "     0.19635138  0.17699458 -0.08804552 -0.28910947 -0.264276    0.04460235\n",
       "    -0.06587528  0.16027692  0.2575692   0.1898587  -0.14684664  0.27015296\n",
       "     0.3035733  -0.12325059  0.21582393 -0.12336378  0.10444497 -0.20083228\n",
       "    -0.06831948 -0.2755945  -0.09679724  0.25559443  0.18229368  0.08253922\n",
       "     0.10474498  0.12956755  0.00032176 -0.04634933  0.0757016  -0.11269853\n",
       "     0.08827292 -0.16900115  0.23204173  0.15155657 -0.14050442 -0.26063144\n",
       "     0.06854815  0.23506907 -0.15026413  0.22994873  0.0078363   0.08037996\n",
       "    -0.09570216  0.09582299]\n",
       "   [-0.27406538  0.31465238  0.10759879  0.04291724 -0.00083756  0.1744555\n",
       "     0.00173362 -0.12929207 -0.04282904  0.1562139   0.19874845 -0.02899329\n",
       "    -0.15224801  0.15601839 -0.21080829 -0.30295375  0.08928517  0.0969964\n",
       "    -0.02348111  0.04775776  0.18182884  0.11878174 -0.13415366 -0.29279438\n",
       "     0.24836834 -0.05974429 -0.06454995 -0.04324488  0.0986293   0.1104619\n",
       "     0.08725051 -0.07453021 -0.272393    0.21789654 -0.31422803 -0.08823566\n",
       "     0.2158726   0.0260479   0.04616767 -0.21591793  0.08691509  0.16604131\n",
       "     0.12627234 -0.11790972  0.1578467  -0.2846292   0.12782244  0.03964702\n",
       "    -0.12988663 -0.08387416]], requires_grad=True),\n",
       "  Container([[0. 0. 0. 0. 0. 0. 0. 0. 0. 0.]], requires_grad=True)]]"
      ]
     },
     "execution_count": 17,
     "metadata": {},
     "output_type": "execute_result"
    }
   ],
   "source": [
    "learn.opt.param_groups"
   ]
  },
  {
   "cell_type": "code",
   "execution_count": 69,
   "metadata": {},
   "outputs": [
    {
     "data": {
      "text/plain": [
       "[{}]"
      ]
     },
     "execution_count": 69,
     "metadata": {},
     "output_type": "execute_result"
    }
   ],
   "source": [
    "list([{}])"
   ]
  },
  {
   "cell_type": "code",
   "execution_count": null,
   "metadata": {},
   "outputs": [],
   "source": []
  }
 ],
 "metadata": {
  "kernelspec": {
   "display_name": "Python 3",
   "language": "python",
   "name": "python3"
  },
  "language_info": {
   "codemirror_mode": {
    "name": "ipython",
    "version": 3
   },
   "file_extension": ".py",
   "mimetype": "text/x-python",
   "name": "python",
   "nbconvert_exporter": "python",
   "pygments_lexer": "ipython3",
   "version": "3.7.4"
  }
 },
 "nbformat": 4,
 "nbformat_minor": 2
}
