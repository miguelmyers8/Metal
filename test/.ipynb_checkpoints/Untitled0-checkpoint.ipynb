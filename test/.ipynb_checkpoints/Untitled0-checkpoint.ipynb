{
 "cells": [
  {
   "cell_type": "code",
   "execution_count": 1,
   "metadata": {},
   "outputs": [],
   "source": [
    "from metal.layers.conv2D import Conv2D\n",
    "import numpy as np\n",
    "from metal.autograd import Container\n",
    "from metal.models.sequential import Sequential\n",
    "from metal.layers.flatten import Flatten\n",
    "from metal.module.data_containers import ModuleList"
   ]
  },
  {
   "cell_type": "code",
   "execution_count": 2,
   "metadata": {},
   "outputs": [],
   "source": [
    "x = Container(np.random.randn(1,5,5,3))\n",
    "x_ = x.reshape(1,3,5,5)"
   ]
  },
  {
   "cell_type": "code",
   "execution_count": 3,
   "metadata": {},
   "outputs": [],
   "source": [
    "c = Conv2D(3,3,3)"
   ]
  },
  {
   "cell_type": "code",
   "execution_count": 4,
   "metadata": {},
   "outputs": [],
   "source": [
    "s = Sequential([Conv2D(3,3,3,act_fn='relu'),Flatten()])"
   ]
  },
  {
   "cell_type": "code",
   "execution_count": 5,
   "metadata": {},
   "outputs": [
    {
     "data": {
      "text/plain": [
       "ModuleList['Conv2D_1', 'Flatten_2']"
      ]
     },
     "execution_count": 5,
     "metadata": {},
     "output_type": "execute_result"
    }
   ],
   "source": [
    "s.layers\n"
   ]
  },
  {
   "cell_type": "code",
   "execution_count": 6,
   "metadata": {},
   "outputs": [
    {
     "data": {
      "text/plain": [
       "ModuleList['Conv2D_1', 'Flatten_2']"
      ]
     },
     "execution_count": 6,
     "metadata": {},
     "output_type": "execute_result"
    }
   ],
   "source": [
    "ModuleList(Conv2D(3,3,3,act_fn='relu'),Flatten())"
   ]
  },
  {
   "cell_type": "code",
   "execution_count": 10,
   "metadata": {},
   "outputs": [
    {
     "data": {
      "text/plain": [
       "{'layers'}"
      ]
     },
     "execution_count": 10,
     "metadata": {},
     "output_type": "execute_result"
    }
   ],
   "source": [
    "s._params"
   ]
  },
  {
   "cell_type": "code",
   "execution_count": 11,
   "metadata": {},
   "outputs": [
    {
     "data": {
      "text/plain": [
       "<Signature (a, b, c=5)>"
      ]
     },
     "execution_count": 11,
     "metadata": {},
     "output_type": "execute_result"
    }
   ],
   "source": [
    "import inspect\n",
    "\n",
    "def func(a,b,c=5):\n",
    "    pass\n",
    "\n",
    "inspect.signature(func)  # inspect.signature(func) in Python 3"
   ]
  },
  {
   "cell_type": "code",
   "execution_count": 7,
   "metadata": {
    "scrolled": true
   },
   "outputs": [
    {
     "ename": "TypeError",
     "evalue": "data type not understood",
     "output_type": "error",
     "traceback": [
      "\u001b[0;31m---------------------------------------------------------------------------\u001b[0m",
      "\u001b[0;31mTypeError\u001b[0m                                 Traceback (most recent call last)",
      "\u001b[0;32m<ipython-input-7-c723984dfa65>\u001b[0m in \u001b[0;36m<module>\u001b[0;34m\u001b[0m\n\u001b[0;32m----> 1\u001b[0;31m \u001b[0myp\u001b[0m \u001b[0;34m=\u001b[0m \u001b[0mnp\u001b[0m\u001b[0;34m.\u001b[0m\u001b[0mones\u001b[0m\u001b[0;34m(\u001b[0m\u001b[0;36m1\u001b[0m\u001b[0;34m,\u001b[0m\u001b[0;36m27\u001b[0m\u001b[0;34m)\u001b[0m\u001b[0;34m\u001b[0m\u001b[0;34m\u001b[0m\u001b[0m\n\u001b[0m\u001b[1;32m      2\u001b[0m \u001b[0mprint\u001b[0m\u001b[0;34m(\u001b[0m\u001b[0myp\u001b[0m\u001b[0;34m)\u001b[0m\u001b[0;34m\u001b[0m\u001b[0;34m\u001b[0m\u001b[0m\n\u001b[1;32m      3\u001b[0m \u001b[0mnll\u001b[0m\u001b[0;34m(\u001b[0m\u001b[0mlog_softmax\u001b[0m\u001b[0;34m(\u001b[0m\u001b[0ms\u001b[0m\u001b[0;34m(\u001b[0m\u001b[0mx_\u001b[0m\u001b[0;34m)\u001b[0m\u001b[0;34m)\u001b[0m\u001b[0;34m,\u001b[0m\u001b[0myp\u001b[0m\u001b[0;34m)\u001b[0m\u001b[0;34m\u001b[0m\u001b[0;34m\u001b[0m\u001b[0m\n",
      "\u001b[0;32m~/anaconda3/lib/python3.7/site-packages/numpy/core/numeric.py\u001b[0m in \u001b[0;36mones\u001b[0;34m(shape, dtype, order)\u001b[0m\n\u001b[1;32m    212\u001b[0m \u001b[0;34m\u001b[0m\u001b[0m\n\u001b[1;32m    213\u001b[0m     \"\"\"\n\u001b[0;32m--> 214\u001b[0;31m     \u001b[0ma\u001b[0m \u001b[0;34m=\u001b[0m \u001b[0mempty\u001b[0m\u001b[0;34m(\u001b[0m\u001b[0mshape\u001b[0m\u001b[0;34m,\u001b[0m \u001b[0mdtype\u001b[0m\u001b[0;34m,\u001b[0m \u001b[0morder\u001b[0m\u001b[0;34m)\u001b[0m\u001b[0;34m\u001b[0m\u001b[0;34m\u001b[0m\u001b[0m\n\u001b[0m\u001b[1;32m    215\u001b[0m     \u001b[0mmultiarray\u001b[0m\u001b[0;34m.\u001b[0m\u001b[0mcopyto\u001b[0m\u001b[0;34m(\u001b[0m\u001b[0ma\u001b[0m\u001b[0;34m,\u001b[0m \u001b[0;36m1\u001b[0m\u001b[0;34m,\u001b[0m \u001b[0mcasting\u001b[0m\u001b[0;34m=\u001b[0m\u001b[0;34m'unsafe'\u001b[0m\u001b[0;34m)\u001b[0m\u001b[0;34m\u001b[0m\u001b[0;34m\u001b[0m\u001b[0m\n\u001b[1;32m    216\u001b[0m     \u001b[0;32mreturn\u001b[0m \u001b[0ma\u001b[0m\u001b[0;34m\u001b[0m\u001b[0;34m\u001b[0m\u001b[0m\n",
      "\u001b[0;31mTypeError\u001b[0m: data type not understood"
     ]
    }
   ],
   "source": [
    "yp = np.ones(1,27)\n",
    "print(yp)\n",
    "nll(log_softmax(s(x_)),yp)"
   ]
  },
  {
   "cell_type": "code",
   "execution_count": 8,
   "metadata": {},
   "outputs": [
    {
     "data": {
      "text/plain": [
       "Container([[0.05103258 1.3165766  0.         1.4781255  0.         0.72504\n",
       "  0.28056347 0.51321167 0.         0.10099606 0.         0.40500888\n",
       "  0.         0.40026018 0.         0.         0.38801387 0.\n",
       "  0.         0.         0.         1.5481645  0.49695906 0.05979753\n",
       "  0.71334225 0.         0.2675485 ]], requires_grad=True)"
      ]
     },
     "execution_count": 8,
     "metadata": {},
     "output_type": "execute_result"
    }
   ],
   "source": [
    "s(x_)"
   ]
  },
  {
   "cell_type": "code",
   "execution_count": 9,
   "metadata": {},
   "outputs": [],
   "source": [
    "s.save_weights('w1.npz')"
   ]
  },
  {
   "cell_type": "code",
   "execution_count": null,
   "metadata": {},
   "outputs": [],
   "source": []
  },
  {
   "cell_type": "code",
   "execution_count": 35,
   "metadata": {},
   "outputs": [],
   "source": [
    "#import cupy"
   ]
  },
  {
   "cell_type": "code",
   "execution_count": 14,
   "metadata": {},
   "outputs": [
    {
     "name": "stdout",
     "output_type": "stream",
     "text": [
      "<metal.module.data_containers.ModuleList object at 0x7f63501f9550>\n"
     ]
    }
   ],
   "source": [
    "for i in s.parameters():\n",
    "    print(i)"
   ]
  },
  {
   "cell_type": "code",
   "execution_count": 15,
   "metadata": {},
   "outputs": [
    {
     "data": {
      "text/plain": [
       "Container([[[[-0.26124978 -0.32437232 -0.20756394]\n",
       "   [-0.12094034  0.17148773 -0.09758637]\n",
       "   [ 0.02718312 -0.14715354 -0.2868709 ]]\n",
       "\n",
       "  [[ 0.02555277  0.11754953 -0.22322708]\n",
       "   [ 0.08914935 -0.26574737  0.21137209]\n",
       "   [-0.10291386 -0.23058423 -0.2829176 ]]\n",
       "\n",
       "  [[-0.23018597 -0.31323943 -0.23151529]\n",
       "   [-0.12897557 -0.3085319  -0.22771446]\n",
       "   [-0.19354628  0.32052192  0.05592599]]]\n",
       "\n",
       "\n",
       " [[[ 0.22382474 -0.11523295  0.18046314]\n",
       "   [ 0.04089453  0.27913442  0.1989074 ]\n",
       "   [ 0.31225795 -0.06706592 -0.06055177]]\n",
       "\n",
       "  [[ 0.2041351  -0.09442073  0.23592237]\n",
       "   [-0.20611347  0.11247616 -0.17176616]\n",
       "   [ 0.0498786   0.14798513 -0.03387951]]\n",
       "\n",
       "  [[ 0.00955106 -0.23418507  0.2433022 ]\n",
       "   [ 0.3329977   0.17850953 -0.2604834 ]\n",
       "   [-0.08919601  0.05233441 -0.2321342 ]]]\n",
       "\n",
       "\n",
       " [[[-0.12305599  0.11654923 -0.0176473 ]\n",
       "   [ 0.21582296 -0.2927336  -0.2593013 ]\n",
       "   [ 0.01957618  0.04968493 -0.17266424]]\n",
       "\n",
       "  [[-0.11901391  0.17002726 -0.01372635]\n",
       "   [ 0.13280831  0.19415395 -0.12324354]\n",
       "   [-0.16562435  0.14922784 -0.28514028]]\n",
       "\n",
       "  [[ 0.18899992 -0.00909232 -0.10342537]\n",
       "   [ 0.2513262  -0.21460083  0.1603212 ]\n",
       "   [-0.14135848  0.3005628   0.21288553]]]], requires_grad=True)"
      ]
     },
     "execution_count": 15,
     "metadata": {},
     "output_type": "execute_result"
    }
   ],
   "source": [
    "s.layers.layers[0].W"
   ]
  },
  {
   "cell_type": "code",
   "execution_count": 35,
   "metadata": {},
   "outputs": [],
   "source": [
    "class l(list):\n",
    "    def __init__(self, layers=None):\n",
    "        super(l, self).__init__(layers)\n",
    "        self.layers = layers\n"
   ]
  },
  {
   "cell_type": "code",
   "execution_count": 38,
   "metadata": {},
   "outputs": [],
   "source": [
    "kk=l([5,5,5])"
   ]
  },
  {
   "cell_type": "code",
   "execution_count": 40,
   "metadata": {},
   "outputs": [
    {
     "data": {
      "text/plain": [
       "{'layers': [5, 5, 5]}"
      ]
     },
     "execution_count": 40,
     "metadata": {},
     "output_type": "execute_result"
    }
   ],
   "source": [
    "kk.__dict__"
   ]
  },
  {
   "cell_type": "code",
   "execution_count": 16,
   "metadata": {},
   "outputs": [],
   "source": [
    "import numpy as _np"
   ]
  },
  {
   "cell_type": "code",
   "execution_count": 17,
   "metadata": {},
   "outputs": [],
   "source": [
    "_np.savez_compressed('./t2', np.random.randn(2,3))\n"
   ]
  },
  {
   "cell_type": "code",
   "execution_count": 15,
   "metadata": {},
   "outputs": [],
   "source": [
    "c = 0 \n",
    "c+=1"
   ]
  },
  {
   "cell_type": "code",
   "execution_count": 7,
   "metadata": {},
   "outputs": [],
   "source": [
    "s.load_weights('w1.npz')"
   ]
  },
  {
   "cell_type": "code",
   "execution_count": 11,
   "metadata": {},
   "outputs": [
    {
     "data": {
      "text/plain": [
       "Container([[[[ 0.18494818  0.17510952  0.0726869 ]\n",
       "   [-0.07241282 -0.37448415  0.10977399]\n",
       "   [-0.05405713 -0.35215786 -0.03611216]]\n",
       "\n",
       "  [[ 0.29960203 -0.41593233  0.27450317]\n",
       "   [ 0.09698336 -0.44037265  0.29506123]\n",
       "   [ 0.3719462   0.45414844  0.35049608]]\n",
       "\n",
       "  [[ 0.24723583  0.4633008   0.13664028]\n",
       "   [-0.03853695 -0.38884062  0.08928557]\n",
       "   [ 0.26516062  0.00986236  0.44904318]]]\n",
       "\n",
       "\n",
       " [[[ 0.1168213  -0.39389178  0.42420778]\n",
       "   [-0.3810565  -0.02218518 -0.4505603 ]\n",
       "   [ 0.44014844  0.42583248  0.3241391 ]]\n",
       "\n",
       "  [[-0.25494656 -0.27931637  0.37679058]\n",
       "   [ 0.15243444  0.12656595 -0.45223337]\n",
       "   [ 0.36820057  0.15278748  0.08316001]]\n",
       "\n",
       "  [[ 0.27998862  0.14293997 -0.308138  ]\n",
       "   [-0.01934345  0.3027759   0.4030966 ]\n",
       "   [-0.41554707 -0.25848937  0.1835626 ]]]\n",
       "\n",
       "\n",
       " [[[ 0.43810067 -0.04468237  0.03389594]\n",
       "   [-0.32640895 -0.3332583   0.2326498 ]\n",
       "   [-0.00365166  0.38414767  0.34605786]]\n",
       "\n",
       "  [[-0.25262776  0.32509866  0.45698926]\n",
       "   [ 0.3003928  -0.09488396 -0.02259664]\n",
       "   [ 0.20334469 -0.4679287  -0.35505638]]\n",
       "\n",
       "  [[ 0.00905097  0.41227812 -0.34390622]\n",
       "   [ 0.31111178  0.40470797 -0.36150438]\n",
       "   [ 0.44012576  0.04072048  0.0766115 ]]]], requires_grad=True)"
      ]
     },
     "execution_count": 11,
     "metadata": {},
     "output_type": "execute_result"
    }
   ],
   "source": [
    "s.layers.layers[1].W\n"
   ]
  },
  {
   "cell_type": "code",
   "execution_count": 17,
   "metadata": {},
   "outputs": [
    {
     "data": {
      "text/plain": [
       "metal.models.Sequential.SequentialModel"
      ]
     },
     "execution_count": 17,
     "metadata": {},
     "output_type": "execute_result"
    }
   ],
   "source": [
    "s.__class__"
   ]
  },
  {
   "cell_type": "code",
   "execution_count": 7,
   "metadata": {},
   "outputs": [
    {
     "name": "stdout",
     "output_type": "stream",
     "text": [
      "{'b': Container([[[[0. 0. 0.]]]], requires_grad=True), 'W': Container([[[[-0.18167157  0.2147713  -0.15197934]\n",
      "   [ 0.11215431  0.3575845   0.13227774]\n",
      "   [ 0.4426698   0.39255327 -0.36148348]]\n",
      "\n",
      "  [[ 0.32074115 -0.02676025  0.01280508]\n",
      "   [ 0.36373422  0.20123287 -0.2576404 ]\n",
      "   [-0.2376484   0.26300076  0.0036102 ]]\n",
      "\n",
      "  [[ 0.09645325  0.18132403  0.10294507]\n",
      "   [ 0.4357203   0.3615631  -0.30419576]\n",
      "   [ 0.27230486 -0.20671138  0.39604005]]]\n",
      "\n",
      "\n",
      " [[[-0.2843512   0.16021961  0.11437889]\n",
      "   [ 0.16287424 -0.11429713  0.17286871]\n",
      "   [ 0.2393939  -0.451862   -0.16901119]]\n",
      "\n",
      "  [[ 0.32748923  0.03757176 -0.1404146 ]\n",
      "   [ 0.33424982 -0.29798436  0.30571684]\n",
      "   [-0.38504887  0.36800006 -0.22415304]]\n",
      "\n",
      "  [[-0.01729168  0.27639544 -0.4012892 ]\n",
      "   [ 0.06227215 -0.4608649  -0.08993432]\n",
      "   [ 0.41985524 -0.4056827   0.06881955]]]\n",
      "\n",
      "\n",
      " [[[-0.19513221  0.4593716  -0.07324328]\n",
      "   [ 0.04439084  0.40703708  0.35318017]\n",
      "   [-0.36353144 -0.36097822  0.35182917]]\n",
      "\n",
      "  [[ 0.14838721  0.32246757  0.268269  ]\n",
      "   [-0.09872603  0.27225816  0.18958531]\n",
      "   [ 0.15394594  0.27987495  0.21485052]]\n",
      "\n",
      "  [[ 0.04345388  0.2884183   0.12277143]\n",
      "   [-0.46122715 -0.44297692 -0.3658305 ]\n",
      "   [-0.24315594 -0.12027617 -0.25030732]]]], requires_grad=True)}\n"
     ]
    }
   ],
   "source": [
    "s.layers.layers[0].save_weights('cc.npz')"
   ]
  },
  {
   "cell_type": "code",
   "execution_count": 8,
   "metadata": {},
   "outputs": [
    {
     "data": {
      "text/plain": [
       "'2'"
      ]
     },
     "execution_count": 8,
     "metadata": {},
     "output_type": "execute_result"
    }
   ],
   "source": [
    "str(3-1)"
   ]
  },
  {
   "cell_type": "code",
   "execution_count": 11,
   "metadata": {},
   "outputs": [
    {
     "name": "stdout",
     "output_type": "stream",
     "text": [
      "1\n",
      "2\n",
      "3\n"
     ]
    }
   ],
   "source": [
    "j=['a','b','c']\n",
    "for c,i in enumerate(j):\n",
    "    print(c+1)"
   ]
  },
  {
   "cell_type": "code",
   "execution_count": 7,
   "metadata": {},
   "outputs": [
    {
     "data": {
      "text/plain": [
       "ModuleList[]"
      ]
     },
     "execution_count": 7,
     "metadata": {},
     "output_type": "execute_result"
    }
   ],
   "source": [
    "s.layers\n"
   ]
  },
  {
   "cell_type": "code",
   "execution_count": 17,
   "metadata": {},
   "outputs": [
    {
     "name": "stdout",
     "output_type": "stream",
     "text": [
      "4\n",
      "2\n",
      "<function Container at 0x7f52edef4440>\n",
      "<class 'metal.layers.conv2D.Conv2D'>\n",
      "<function Container at 0x7f52edef4440>\n",
      "6\n",
      "3\n",
      "<function Container at 0x7f52edef4440>\n",
      "<class 'metal.layers.conv2D.Conv2D'>\n",
      "<function Container at 0x7f52edef4440>\n"
     ]
    }
   ],
   "source": [
    "class new_class():\n",
    "    def __init__(self, number, layers):\n",
    "        self.multi = int(number) * 2\n",
    "        self.str = str(number)\n",
    "        for c,l in enumerate(layers): setattr(self,str(c)+l.__class__.__name__,l)\n",
    "\n",
    "    def t(self):\n",
    "        return 5\n",
    "\n",
    "    def __iter__(self):\n",
    "        for l in self.__dict__.values():\n",
    "            yield l\n",
    "    \n",
    "a = new_class(2,[Container,Conv2D,Container])\n",
    "\n",
    "\n",
    "\n",
    "\n",
    "for c,k in enumerate(a):\n",
    "    print(k)\n",
    "\n",
    "\n",
    "class t():\n",
    "    \n",
    "    def __init__(self,x):\n",
    "        self.x = x\n",
    "        \n",
    "        \n",
    "    def __call__(self):\n",
    "        for c, i in enumerate(self.x):\n",
    "            print(i)\n",
    "\n",
    "dd = t(new_class(3,[Container,Conv2D,Container]))\n",
    "\n",
    "dd()"
   ]
  },
  {
   "cell_type": "code",
   "execution_count": 7,
   "metadata": {},
   "outputs": [
    {
     "name": "stdout",
     "output_type": "stream",
     "text": [
      "<metal.layers.conv2D.Conv2D object at 0x7f74aff907d0>\n",
      "<metal.layers.conv2D.Conv2D object at 0x7f74aff849d0>\n"
     ]
    }
   ],
   "source": [
    "for i in s:\n",
    "    print(i)"
   ]
  },
  {
   "cell_type": "code",
   "execution_count": 7,
   "metadata": {},
   "outputs": [
    {
     "data": {
      "text/plain": [
       "{'X': [],\n",
       " 'act_fn': None,\n",
       " 'trainable': True,\n",
       " 'gradients': {},\n",
       " 'parameters_dict': {},\n",
       " 'derived_variables': {},\n",
       " '_modules': {},\n",
       " '_params': {'0Conv2D', '1Conv2D'},\n",
       " '0Conv2D': <metal.layers.conv2D.Conv2D at 0x7ffb18459a90>,\n",
       " '1Conv2D': <metal.layers.conv2D.Conv2D at 0x7ffb18453a10>}"
      ]
     },
     "execution_count": 7,
     "metadata": {},
     "output_type": "execute_result"
    }
   ],
   "source": [
    "s.layers.__dict__"
   ]
  },
  {
   "cell_type": "code",
   "execution_count": 107,
   "metadata": {},
   "outputs": [],
   "source": [
    "from metal.autograd import numpy as anp\n",
    "\n",
    "def logsumexp(x):\n",
    "    m = x.max(axis=-1, keepdims=True)[0]\n",
    "    return m + anp.log(anp.exp((x-m[:,None])).sum(axis=-1, keepdims=True))\n",
    "\n",
    "def log_softmax(x): return x - logsumexp(x)\n",
    "\n",
    "def nll(_input, target): return -_input[range(target.shape[0]), target].mean()\n"
   ]
  },
  {
   "cell_type": "code",
   "execution_count": 108,
   "metadata": {},
   "outputs": [
    {
     "name": "stdout",
     "output_type": "stream",
     "text": [
      "Container([[0.06294861]\n",
      " [2.366144  ]], requires_grad=False)\n"
     ]
    },
    {
     "data": {
      "text/plain": [
       "Container([[0.06294861]\n",
       " [2.366144  ]], requires_grad=False)"
      ]
     },
     "execution_count": 108,
     "metadata": {},
     "output_type": "execute_result"
    }
   ],
   "source": [
    "f=Container(np.random.randn(2,1))\n",
    "print(f)\n",
    "log_softmax(f)"
   ]
  },
  {
   "cell_type": "code",
   "execution_count": 109,
   "metadata": {},
   "outputs": [
    {
     "ename": "AttributeError",
     "evalue": "'numpy.ndarray' object has no attribute 'logsumexp'",
     "output_type": "error",
     "traceback": [
      "\u001b[0;31m---------------------------------------------------------------------------\u001b[0m",
      "\u001b[0;31mAttributeError\u001b[0m                            Traceback (most recent call last)",
      "\u001b[0;32m<ipython-input-109-84596d357933>\u001b[0m in \u001b[0;36m<module>\u001b[0;34m\u001b[0m\n\u001b[0;32m----> 1\u001b[0;31m \u001b[0mnp\u001b[0m\u001b[0;34m.\u001b[0m\u001b[0mrandom\u001b[0m\u001b[0;34m.\u001b[0m\u001b[0mrandn\u001b[0m\u001b[0;34m(\u001b[0m\u001b[0;36m2\u001b[0m\u001b[0;34m,\u001b[0m\u001b[0;36m3\u001b[0m\u001b[0;34m)\u001b[0m\u001b[0;34m.\u001b[0m\u001b[0mlogsumexp\u001b[0m\u001b[0;34m\u001b[0m\u001b[0;34m\u001b[0m\u001b[0m\n\u001b[0m",
      "\u001b[0;31mAttributeError\u001b[0m: 'numpy.ndarray' object has no attribute 'logsumexp'"
     ]
    }
   ],
   "source": [
    "np.random.randn(2,3).logsumexp"
   ]
  },
  {
   "cell_type": "code",
   "execution_count": 110,
   "metadata": {},
   "outputs": [],
   "source": [
    "import torch"
   ]
  },
  {
   "cell_type": "code",
   "execution_count": 111,
   "metadata": {},
   "outputs": [
    {
     "name": "stdout",
     "output_type": "stream",
     "text": [
      "tensor([[0.0629],\n",
      "        [2.3661]])\n"
     ]
    },
    {
     "data": {
      "text/plain": [
       "tensor([[0.0629],\n",
       "        [2.3661]])"
      ]
     },
     "execution_count": 111,
     "metadata": {},
     "output_type": "execute_result"
    }
   ],
   "source": [
    "k=torch.from_numpy(f._value)\n",
    "print(k)\n",
    "k.logsumexp(-1,keepdim=True)\n",
    "\n"
   ]
  },
  {
   "cell_type": "code",
   "execution_count": 123,
   "metadata": {},
   "outputs": [
    {
     "data": {
      "text/plain": [
       "(1, 3, 5, 5)"
      ]
     },
     "execution_count": 123,
     "metadata": {},
     "output_type": "execute_result"
    }
   ],
   "source": [
    "x_._value.view(x_._value.shape[0], -1)"
   ]
  },
  {
   "cell_type": "code",
   "execution_count": 8,
   "metadata": {},
   "outputs": [],
   "source": [
    "from metal.module.module import is_module"
   ]
  },
  {
   "cell_type": "code",
   "execution_count": 11,
   "metadata": {},
   "outputs": [
    {
     "name": "stdout",
     "output_type": "stream",
     "text": [
      "[True, True]\n"
     ]
    }
   ],
   "source": [
    "r=map(is_module,[Conv2D(3,3,3,act_fn='relu'),Flatten()])\n",
    "print(list(r))"
   ]
  },
  {
   "cell_type": "code",
   "execution_count": null,
   "metadata": {},
   "outputs": [],
   "source": [
    "def cross_entropy_loss(y, ypred): nll(log_softmax(y),ypred)"
   ]
  },
  {
   "cell_type": "code",
   "execution_count": 19,
   "metadata": {},
   "outputs": [
    {
     "data": {
      "text/plain": [
       "3"
      ]
     },
     "execution_count": 19,
     "metadata": {},
     "output_type": "execute_result"
    }
   ],
   "source": []
  },
  {
   "cell_type": "code",
   "execution_count": 183,
   "metadata": {},
   "outputs": [],
   "source": [
    "class Solution(object):\n",
    "    def fizzBuzz(self, n):\n",
    "        \"\"\"\n",
    "        :type n: int\n",
    "        :rtype: List[str]\n",
    "        \"\"\"\n",
    "        l = []\n",
    "        for i in range(1,n+1):\n",
    "            if (i%3 == 0) and (i%5 == 0):\n",
    "                l.append(\"FizzBuzz\")\n",
    "            elif  i % 3 == 0:\n",
    "                l.append( \"Fizz\")\n",
    "            elif i % 5 == 0:\n",
    "                l.append( \"Buzz\")\n",
    "            else:\n",
    "                 l.append(str(i))\n",
    "        return l"
   ]
  },
  {
   "cell_type": "code",
   "execution_count": 184,
   "metadata": {},
   "outputs": [
    {
     "data": {
      "text/plain": [
       "['1', '2', 'Fizz']"
      ]
     },
     "execution_count": 184,
     "metadata": {},
     "output_type": "execute_result"
    }
   ],
   "source": [
    "Solution().fizzBuzz(3)"
   ]
  },
  {
   "cell_type": "code",
   "execution_count": 24,
   "metadata": {},
   "outputs": [
    {
     "data": {
      "text/plain": [
       "0"
      ]
     },
     "execution_count": 24,
     "metadata": {},
     "output_type": "execute_result"
    }
   ],
   "source": [
    "3%3"
   ]
  },
  {
   "cell_type": "code",
   "execution_count": 32,
   "metadata": {},
   "outputs": [
    {
     "data": {
      "text/plain": [
       "5"
      ]
     },
     "execution_count": 32,
     "metadata": {},
     "output_type": "execute_result"
    }
   ],
   "source": [
    "5%15"
   ]
  },
  {
   "cell_type": "code",
   "execution_count": 33,
   "metadata": {},
   "outputs": [
    {
     "data": {
      "text/plain": [
       "0"
      ]
     },
     "execution_count": 33,
     "metadata": {},
     "output_type": "execute_result"
    }
   ],
   "source": [
    "15%5"
   ]
  },
  {
   "cell_type": "code",
   "execution_count": 205,
   "metadata": {},
   "outputs": [
    {
     "name": "stdout",
     "output_type": "stream",
     "text": [
      "2\n",
      "3\n"
     ]
    }
   ],
   "source": [
    "for i in range(2,4):\n",
    "    print(i)"
   ]
  },
  {
   "cell_type": "code",
   "execution_count": 175,
   "metadata": {},
   "outputs": [],
   "source": [
    "class Solution:\n",
    "    def fizzBuzz(self, n):\n",
    "        return (\"\")"
   ]
  },
  {
   "cell_type": "code",
   "execution_count": 176,
   "metadata": {},
   "outputs": [
    {
     "data": {
      "text/plain": [
       "['1', '2', 'Fizz']"
      ]
     },
     "execution_count": 176,
     "metadata": {},
     "output_type": "execute_result"
    }
   ],
   "source": [
    "Solution().fizzBuzz(3)"
   ]
  },
  {
   "cell_type": "code",
   "execution_count": 60,
   "metadata": {},
   "outputs": [],
   "source": [
    "z = [5,1,19,10,12,30,2,6,3]"
   ]
  },
  {
   "cell_type": "code",
   "execution_count": 43,
   "metadata": {},
   "outputs": [],
   "source": [
    "def inplace_merge_sort(a):\n",
    "    for j in range(1,len(a)):# start at 2nd index\n",
    "        key = a[j] # 2nd item \n",
    "        i = j-1 # prev index\n",
    "        while i>=0 and a[i]>key: # check prev item is greater than current\n",
    "            a[i+1]=a[i] # place prev item in current item postion\n",
    "            i=i-1 # reruns the loop rest prev index while loop check this i and breaks if i not >= 0\n",
    "        a[i+1]=key # place current in prev postion\n",
    "\n",
    "\n",
    "        \n",
    "    "
   ]
  },
  {
   "cell_type": "code",
   "execution_count": 61,
   "metadata": {},
   "outputs": [
    {
     "data": {
      "text/plain": [
       "[5, 1, 19, 10, 12, 30, 2, 6, 3]"
      ]
     },
     "execution_count": 61,
     "metadata": {},
     "output_type": "execute_result"
    }
   ],
   "source": [
    "z"
   ]
  },
  {
   "cell_type": "code",
   "execution_count": 48,
   "metadata": {},
   "outputs": [],
   "source": [
    "inplace_merge_sort(z)"
   ]
  },
  {
   "cell_type": "code",
   "execution_count": 88,
   "metadata": {},
   "outputs": [],
   "source": [
    "def inplace_find(a,u):\n",
    "    l=None\n",
    "    for j in range(1,len(a)):# start at 2nd index\n",
    "        key = a[j] # 2nd item \n",
    "        i = j-1 # prev index\n",
    "        while i>=0 and a[i]>key: # check prev item is greater than current\n",
    "            a[i+1]=a[i] # place prev item in current item postion\n",
    "            i=i-1 # reruns the loop rest prev index while loop check this i and breaks if i not >= 0\n",
    "            if a[i]==u:\n",
    "                l = u\n",
    "        a[i+1]=key # place current in prev postion\n",
    "    return l"
   ]
  },
  {
   "cell_type": "code",
   "execution_count": 20,
   "metadata": {},
   "outputs": [
    {
     "ename": "NameError",
     "evalue": "name 'a' is not defined",
     "output_type": "error",
     "traceback": [
      "\u001b[0;31m---------------------------------------------------------------------------\u001b[0m",
      "\u001b[0;31mNameError\u001b[0m                                 Traceback (most recent call last)",
      "\u001b[0;32m<ipython-input-20-603f09c1a1b7>\u001b[0m in \u001b[0;36m<module>\u001b[0;34m\u001b[0m\n\u001b[1;32m      1\u001b[0m \u001b[0mi\u001b[0m \u001b[0;34m=\u001b[0m \u001b[0;36m3\u001b[0m\u001b[0;34m\u001b[0m\u001b[0;34m\u001b[0m\u001b[0m\n\u001b[0;32m----> 2\u001b[0;31m \u001b[0;32mwhile\u001b[0m \u001b[0mi\u001b[0m\u001b[0;34m>=\u001b[0m\u001b[0;36m0\u001b[0m \u001b[0;32mand\u001b[0m \u001b[0ma\u001b[0m\u001b[0;34m[\u001b[0m\u001b[0mi\u001b[0m\u001b[0;34m]\u001b[0m\u001b[0;34m>\u001b[0m\u001b[0mkey\u001b[0m\u001b[0;34m:\u001b[0m \u001b[0;31m# check prev item is greater than current\u001b[0m\u001b[0;34m\u001b[0m\u001b[0;34m\u001b[0m\u001b[0m\n\u001b[0m\u001b[1;32m      3\u001b[0m     \u001b[0ma\u001b[0m\u001b[0;34m[\u001b[0m\u001b[0mi\u001b[0m\u001b[0;34m+\u001b[0m\u001b[0;36m1\u001b[0m\u001b[0;34m]\u001b[0m\u001b[0;34m=\u001b[0m\u001b[0ma\u001b[0m\u001b[0;34m[\u001b[0m\u001b[0mi\u001b[0m\u001b[0;34m]\u001b[0m \u001b[0;31m# place prev item in current item postion\u001b[0m\u001b[0;34m\u001b[0m\u001b[0;34m\u001b[0m\u001b[0m\n\u001b[1;32m      4\u001b[0m     \u001b[0mi\u001b[0m\u001b[0;34m=\u001b[0m\u001b[0mi\u001b[0m\u001b[0;34m-\u001b[0m\u001b[0;36m1\u001b[0m \u001b[0;31m# rest prev index while loop check this i and breaks if i not >= 0\u001b[0m\u001b[0;34m\u001b[0m\u001b[0;34m\u001b[0m\u001b[0m\n",
      "\u001b[0;31mNameError\u001b[0m: name 'a' is not defined"
     ]
    }
   ],
   "source": [
    "i = 3\n",
    "while i>=0 and a[i]>key: # check prev item is greater than current\n",
    "    a[i+1]=a[i] # place prev item in current item postion\n",
    "    i=i-1 # rest prev index while loop check this i and breaks if i not >= 0"
   ]
  },
  {
   "cell_type": "code",
   "execution_count": 93,
   "metadata": {},
   "outputs": [],
   "source": [
    "r = [5, 1, 19, 10, 12, 30, 2, 6, 3]\n",
    "\n",
    "inplace_find(r,66)"
   ]
  },
  {
   "cell_type": "code",
   "execution_count": 94,
   "metadata": {},
   "outputs": [
    {
     "data": {
      "text/plain": [
       "[1, 2, 3, 5, 6, 10, 12, 19, 30]"
      ]
     },
     "execution_count": 94,
     "metadata": {},
     "output_type": "execute_result"
    }
   ],
   "source": [
    "r"
   ]
  },
  {
   "cell_type": "code",
   "execution_count": 96,
   "metadata": {},
   "outputs": [
    {
     "ename": "SyntaxError",
     "evalue": "unexpected EOF while parsing (<ipython-input-96-be3f4a9daeac>, line 7)",
     "output_type": "error",
     "traceback": [
      "\u001b[0;36m  File \u001b[0;32m\"<ipython-input-96-be3f4a9daeac>\"\u001b[0;36m, line \u001b[0;32m7\u001b[0m\n\u001b[0;31m    \u001b[0m\n\u001b[0m    ^\u001b[0m\n\u001b[0;31mSyntaxError\u001b[0m\u001b[0;31m:\u001b[0m unexpected EOF while parsing\n"
     ]
    }
   ],
   "source": [
    "def add(a,b):\n",
    "    c = [a.length + 1]\n",
    "    for i in range(2):\n",
    "        \n",
    "        \n",
    "        \n",
    "    "
   ]
  },
  {
   "cell_type": "code",
   "execution_count": 107,
   "metadata": {},
   "outputs": [
    {
     "name": "stdout",
     "output_type": "stream",
     "text": [
      "0\n",
      "0\n",
      "0\n",
      "0\n",
      "0\n",
      "0\n",
      "0\n",
      "0\n",
      "0\n",
      "0\n"
     ]
    }
   ],
   "source": [
    "c = [0 for _ in range(len(r)+ 1)]\n",
    "for i in range(len(c)):\n",
    "    print(c[i])"
   ]
  },
  {
   "cell_type": "code",
   "execution_count": 101,
   "metadata": {},
   "outputs": [
    {
     "data": {
      "text/plain": [
       "[1, 2, 3, 5, 6, 10, 12, 19, 30]"
      ]
     },
     "execution_count": 101,
     "metadata": {},
     "output_type": "execute_result"
    }
   ],
   "source": [
    "r"
   ]
  },
  {
   "cell_type": "code",
   "execution_count": 103,
   "metadata": {},
   "outputs": [
    {
     "data": {
      "text/plain": [
       "[10]"
      ]
     },
     "execution_count": 103,
     "metadata": {},
     "output_type": "execute_result"
    }
   ],
   "source": [
    "c"
   ]
  },
  {
   "cell_type": "code",
   "execution_count": null,
   "metadata": {},
   "outputs": [],
   "source": [
    "def inplace_merge_sort_dec(a):\n",
    "    for j in range(1,len(a)):# start at 2nd index\n",
    "        key = a[j] # 2nd item \n",
    "        i = j-1 # prev index\n",
    "        while i>=0 and a[i]<key: # check prev item is greater than current\n",
    "            a[i+1]=a[i] # place prev item in current item postion\n",
    "            i=i-1 # reruns the loop rest prev index while loop check this i and breaks if i not >= 0\n",
    "        a[i+1]=key # place current in prev postion\n",
    "\n",
    "\n",
    "\n",
    "def inplace_merge_sort_in(a):\n",
    "    for j in range(1,len(a)):# start at 2nd index\n",
    "        key = a[j] # 2nd item \n",
    "        i = j-1 # prev index\n",
    "        while i>=0 and a[i]>key: # check prev item is greater than current\n",
    "            a[i+1]=a[i] # place prev item in current item postion\n",
    "            i=i-1 # reruns the loop rest prev index while loop check this i and breaks if i not >= 0\n",
    "        a[i+1]=key # place current in prev postion\n",
    "\n",
    "def inplace_find(a,u):\n",
    "    l=None\n",
    "    for j in range(1,len(a)):# start at 2nd index\n",
    "        key = a[j] # 2nd item \n",
    "        i = j-1 # prev index\n",
    "        while i>=0 and a[i]>key: # check prev item is greater than current\n",
    "            a[i+1]=a[i] # place prev item in current item postion\n",
    "            i=i-1 # reruns the loop rest prev index while loop check this i and breaks if i not >= 0\n",
    "            if a[i]==u:\n",
    "                l = u\n",
    "        a[i+1]=key # place current in prev postion\n",
    "    return l\n",
    "\n"
   ]
  },
  {
   "cell_type": "code",
   "execution_count": 108,
   "metadata": {},
   "outputs": [],
   "source": [
    "def add_binary(a, b):\n",
    "    n = len(a)\n",
    "    c = [0 for _ in range(n + 1)]\n",
    "    carry = 0\n",
    "    for i in range(n):\n",
    "        c[i] = a[i] + b[i] + carry\n",
    "        if c[i] > 1:\n",
    "            c[i] -= 2\n",
    "            carry = 1\n",
    "        else:\n",
    "            carry = 0\n",
    "    c[n] = carry\n",
    "    return c"
   ]
  },
  {
   "cell_type": "code",
   "execution_count": 112,
   "metadata": {},
   "outputs": [
    {
     "data": {
      "text/plain": [
       "[0, 0, 1, 1]"
      ]
     },
     "execution_count": 112,
     "metadata": {},
     "output_type": "execute_result"
    }
   ],
   "source": [
    "a = [1, 0, 1]\n",
    "b = [1, 1, 1]\n",
    "add_binary(a,b)"
   ]
  },
  {
   "cell_type": "code",
   "execution_count": 113,
   "metadata": {},
   "outputs": [
    {
     "data": {
      "text/plain": [
       "[0]"
      ]
     },
     "execution_count": 113,
     "metadata": {},
     "output_type": "execute_result"
    }
   ],
   "source": [
    "a[1:2]"
   ]
  },
  {
   "cell_type": "code",
   "execution_count": 116,
   "metadata": {},
   "outputs": [
    {
     "name": "stdout",
     "output_type": "stream",
     "text": [
      "0 5\n",
      "5 10\n",
      "10 15\n",
      "15 20\n",
      "20 25\n"
     ]
    }
   ],
   "source": [
    "for i in range(0, 25, 5):\n",
    "    print(i,i+5)"
   ]
  },
  {
   "cell_type": "code",
   "execution_count": 145,
   "metadata": {},
   "outputs": [
    {
     "data": {
      "text/plain": [
       "(array([[4.17022005e-01],\n",
       "        [7.20324493e-01],\n",
       "        [1.14374817e-04]]), array([[0.30233257, 0.14675589]]))"
      ]
     },
     "execution_count": 145,
     "metadata": {},
     "output_type": "execute_result"
    }
   ],
   "source": [
    "import numpy as np\n",
    "np.random.seed(1)\n",
    "v=np.random.rand(1,3).T\n",
    "c=np.random.rand(1,2)\n",
    "v,c"
   ]
  },
  {
   "cell_type": "code",
   "execution_count": 147,
   "metadata": {},
   "outputs": [
    {
     "ename": "ValueError",
     "evalue": "matmul: Input operand 1 has a mismatch in its core dimension 0, with gufunc signature (n?,k),(k,m?)->(n?,m?) (size 3 is different from 2)",
     "output_type": "error",
     "traceback": [
      "\u001b[0;31m---------------------------------------------------------------------------\u001b[0m",
      "\u001b[0;31mValueError\u001b[0m                                Traceback (most recent call last)",
      "\u001b[0;32m<ipython-input-147-b7414412dc12>\u001b[0m in \u001b[0;36m<module>\u001b[0;34m\u001b[0m\n\u001b[0;32m----> 1\u001b[0;31m \u001b[0mc\u001b[0m\u001b[0;34m@\u001b[0m\u001b[0mv\u001b[0m\u001b[0;34m\u001b[0m\u001b[0;34m\u001b[0m\u001b[0m\n\u001b[0m",
      "\u001b[0;31mValueError\u001b[0m: matmul: Input operand 1 has a mismatch in its core dimension 0, with gufunc signature (n?,k),(k,m?)->(n?,m?) (size 3 is different from 2)"
     ]
    }
   ],
   "source": [
    "c@v"
   ]
  },
  {
   "cell_type": "code",
   "execution_count": 144,
   "metadata": {},
   "outputs": [
    {
     "data": {
      "text/plain": [
       "0.12607933451820286"
      ]
     },
     "execution_count": 144,
     "metadata": {},
     "output_type": "execute_result"
    }
   ],
   "source": [
    "4.17022005e-01*0.30233257"
   ]
  },
  {
   "cell_type": "code",
   "execution_count": 155,
   "metadata": {},
   "outputs": [
    {
     "data": {
      "text/plain": [
       "0.9525741268224334"
      ]
     },
     "execution_count": 155,
     "metadata": {},
     "output_type": "execute_result"
    }
   ],
   "source": [
    "\n",
    "1/(1+np.exp(-3))"
   ]
  },
  {
   "cell_type": "code",
   "execution_count": 4,
   "metadata": {},
   "outputs": [],
   "source": [
    "from fastai import datasets\n",
    "import gzip\n",
    "import pickle"
   ]
  },
  {
   "cell_type": "code",
   "execution_count": 5,
   "metadata": {},
   "outputs": [],
   "source": [
    "MNIST_URL='http://deeplearning.net/data/mnist/mnist.pkl'\n",
    "\n",
    "def get_data():\n",
    "    path = datasets.download_data(MNIST_URL, ext='.gz')\n",
    "    with gzip.open(path, 'rb') as f:\n",
    "        ((x_train, y_train), (x_valid, y_valid), _) = pickle.load(f, encoding='latin-1')\n",
    "    return  (x_train,y_train,x_valid,y_valid)"
   ]
  },
  {
   "cell_type": "code",
   "execution_count": null,
   "metadata": {},
   "outputs": [],
   "source": []
  },
  {
   "cell_type": "code",
   "execution_count": 40,
   "metadata": {},
   "outputs": [],
   "source": [
    "from metal.autograd import Container\n",
    "from metal.autograd import numpy as anp\n",
    "from metal.layers.dense import Dense\n",
    "from metal.layers.conv2D import Conv2D\n",
    "from metal.layers.flatten import Flatten\n",
    "import numpy as np\n",
    "from metal.core.kernels.functions.loss import nll as cross_entropy_loss\n",
    "from metal.core.utils import accuracy\n",
    "from metal.autograd import no_grad"
   ]
  },
  {
   "cell_type": "code",
   "execution_count": 41,
   "metadata": {},
   "outputs": [],
   "source": [
    "from metal.models.sequential import Sequential\n",
    "from metal.module.data_containers import ModuleList\n",
    "from metal.core.steppers import sgd_step"
   ]
  },
  {
   "cell_type": "code",
   "execution_count": 42,
   "metadata": {},
   "outputs": [],
   "source": [
    "from metal.core._01_base import *\n",
    "from metal.core import Optimizer\n",
    "import matplotlib.pyplot as plt"
   ]
  },
  {
   "cell_type": "code",
   "execution_count": 43,
   "metadata": {},
   "outputs": [],
   "source": [
    "from tensorflow import keras\n",
    "#fashion_mnist = keras.datasets.fashion_mnist"
   ]
  },
  {
   "cell_type": "code",
   "execution_count": 44,
   "metadata": {},
   "outputs": [],
   "source": [
    "#fashion_mnist = keras.datasets.mnist\n",
    "x_train_, y_train_, x_test_, y_test_ = get_data()"
   ]
  },
  {
   "cell_type": "code",
   "execution_count": 45,
   "metadata": {},
   "outputs": [
    {
     "data": {
      "text/plain": [
       "array([[0., 0., 0., 0., ..., 0., 0., 0., 0.],\n",
       "       [0., 0., 0., 0., ..., 0., 0., 0., 0.],\n",
       "       [0., 0., 0., 0., ..., 0., 0., 0., 0.],\n",
       "       [0., 0., 0., 0., ..., 0., 0., 0., 0.],\n",
       "       ...,\n",
       "       [0., 0., 0., 0., ..., 0., 0., 0., 0.],\n",
       "       [0., 0., 0., 0., ..., 0., 0., 0., 0.],\n",
       "       [0., 0., 0., 0., ..., 0., 0., 0., 0.],\n",
       "       [0., 0., 0., 0., ..., 0., 0., 0., 0.]], dtype=float32)"
      ]
     },
     "execution_count": 45,
     "metadata": {},
     "output_type": "execute_result"
    }
   ],
   "source": [
    "#def normalize(x, m, s): return (x-m)/s\n",
    "x_train_"
   ]
  },
  {
   "cell_type": "code",
   "execution_count": 46,
   "metadata": {},
   "outputs": [],
   "source": [
    "#train_mean,train_std = x_train_.mean(),x_train_.std()\n",
    "#x_train_ = normalize(x_train_, train_mean, train_std)\n",
    "#x_test_ = normalize(x_test_,  train_mean, train_std)"
   ]
  },
  {
   "cell_type": "code",
   "execution_count": 47,
   "metadata": {},
   "outputs": [
    {
     "data": {
      "text/plain": [
       "((50000, 784), (50000,), (10000, 784), (10000,))"
      ]
     },
     "execution_count": 47,
     "metadata": {},
     "output_type": "execute_result"
    }
   ],
   "source": [
    "x_train = x_train_\n",
    "y_train = y_train_\n",
    "\n",
    "\n",
    "x_test = x_test_\n",
    "y_test = y_test_\n",
    "\n",
    "x_train.shape, y_train.shape, x_test.shape, y_test.shape"
   ]
  },
  {
   "cell_type": "code",
   "execution_count": 48,
   "metadata": {},
   "outputs": [],
   "source": [
    "#train_mean,train_std = x_train.mean(),x_train.std()\n",
    "#x_train = normalize(x_train, train_mean, train_std)\n",
    "#x_test = normalize(x_test,  train_mean, train_std)"
   ]
  },
  {
   "cell_type": "code",
   "execution_count": 49,
   "metadata": {},
   "outputs": [],
   "source": [
    "train,test = Dataset(x_train,y_train),Dataset(x_test,y_test)\n",
    "#s_train = Sampler(train, 64, True)\n",
    "#s_test = Sampler(test, 64, False)\n"
   ]
  },
  {
   "cell_type": "code",
   "execution_count": 50,
   "metadata": {},
   "outputs": [],
   "source": [
    "#assert len(train) == len(x_train)\n",
    "#assert len( test) == len( x_test)"
   ]
  },
  {
   "cell_type": "code",
   "execution_count": 51,
   "metadata": {},
   "outputs": [],
   "source": [
    "def get_model():\n",
    "    model = Sequential([Dense(784,50,act_fn='relu',init=\"he_normal\"),Dense(50,10,init=\"he_normal\")])\n",
    "    model._init_params()\n",
    "    return model, Optimizer(model.parameters(),sgd_step,lr=0.5)"
   ]
  },
  {
   "cell_type": "code",
   "execution_count": 52,
   "metadata": {},
   "outputs": [],
   "source": [
    "#train_dl= DataLoader(train, sampler=s_train, collate_fn=collate)\n",
    "#test_dl = DataLoader(test,   sampler=s_test, collate_fn=collate)"
   ]
  },
  {
   "cell_type": "code",
   "execution_count": 53,
   "metadata": {},
   "outputs": [],
   "source": [
    "#xb,yb = next(iter(train_dl))\n",
    "#xbt,ybt = next(iter(test_dl))\n",
    "\n",
    "#plt.imshow(xb[3].reshape(28,28))\n",
    "#yb[3]"
   ]
  },
  {
   "cell_type": "code",
   "execution_count": null,
   "metadata": {},
   "outputs": [],
   "source": []
  },
  {
   "cell_type": "code",
   "execution_count": 54,
   "metadata": {},
   "outputs": [],
   "source": [
    "\n",
    "def fit(epochs, model, loss_func, opt, train_dl, valid_dl):\n",
    "    for epoch in range(epochs):\n",
    "        # Handle batchnorm / dropout\n",
    "        model.train()\n",
    "#         print(model.training)\n",
    "        for xb,yb in train_dl:\n",
    "            loss = loss_func(model(xb), yb)\n",
    "            loss.backward()\n",
    "            opt.step()\n",
    "            opt.zero_grad()\n",
    "\n",
    "        model.eval()\n",
    "#         print(model.training)\n",
    "        with no_grad():\n",
    "            tot_loss,tot_acc = 0.,0.\n",
    "            for xb,yb in valid_dl:\n",
    "                pred = model(xb)\n",
    "                tot_loss += loss_func(pred._value, yb)\n",
    "                tot_acc  += accuracy (pred._value, yb)\n",
    "        nv = len(valid_dl)\n",
    "        print(epoch, tot_loss/nv, tot_acc/nv)\n",
    "    return tot_loss/nv, tot_acc/nv"
   ]
  },
  {
   "cell_type": "code",
   "execution_count": 55,
   "metadata": {},
   "outputs": [],
   "source": [
    "def get_dls(train_ds, valid_ds, bs, **kwargs):\n",
    "    return (DataLoader(train_ds,sampler=Sampler(train_ds,bs,shuffle=True),**kwargs),\n",
    "            DataLoader(valid_ds,sampler=Sampler(valid_ds,bs*2),**kwargs))"
   ]
  },
  {
   "cell_type": "code",
   "execution_count": 56,
   "metadata": {},
   "outputs": [],
   "source": [
    "train_dll, test_dll = get_dls(train,test,64)\n",
    "mod, opt = get_model()"
   ]
  },
  {
   "cell_type": "code",
   "execution_count": 57,
   "metadata": {},
   "outputs": [
    {
     "name": "stderr",
     "output_type": "stream",
     "text": [
      "/home/miguelmyers/anaconda3/lib/python3.7/site-packages/numpy/core/_methods.py:151: RuntimeWarning: overflow encountered in reduce\n",
      "  ret = umr_sum(arr, axis, dtype, out, keepdims)\n",
      "/mnt/c/Users/migue/Documents/dev/Metal/metal/core/layers/dense.py:8: RuntimeWarning: overflow encountered in matmul\n",
      "  z = x @ w.T + b\n",
      "/mnt/c/Users/migue/Documents/dev/Metal/metal/core/layers/dense.py:8: RuntimeWarning: overflow encountered in add\n",
      "  z = x @ w.T + b\n",
      "/mnt/c/Users/migue/Documents/dev/Metal/metal/core/layers/dense.py:8: RuntimeWarning: invalid value encountered in matmul\n",
      "  z = x @ w.T + b\n",
      "/mnt/c/Users/migue/Documents/dev/Metal/metal/core/layers/activations.py:77: RuntimeWarning: invalid value encountered in greater\n",
      "  return (x > 0).astype(dtype=gy.dtype) * gy\n"
     ]
    },
    {
     "name": "stdout",
     "output_type": "stream",
     "text": [
      "0 nan 0.0007796875\n",
      "1 nan 0.0007796875\n",
      "2 nan 0.0007796875\n",
      "3 nan 0.0007796875\n",
      "4 nan 0.0007796875\n"
     ]
    }
   ],
   "source": [
    "l,a = fit(5,mod,cross_entropy_loss,opt,train_dll,test_dll)"
   ]
  },
  {
   "cell_type": "code",
   "execution_count": 79,
   "metadata": {},
   "outputs": [
    {
     "data": {
      "text/plain": [
       "(0.0007569080889225006, 0.0076765625)"
      ]
     },
     "execution_count": 79,
     "metadata": {},
     "output_type": "execute_result"
    }
   ],
   "source": [
    "l,a"
   ]
  },
  {
   "cell_type": "code",
   "execution_count": 23,
   "metadata": {},
   "outputs": [
    {
     "data": {
      "text/plain": [
       "<generator object Module.parameters at 0x7f0680e30450>"
      ]
     },
     "execution_count": 23,
     "metadata": {},
     "output_type": "execute_result"
    }
   ],
   "source": [
    "mod.parameters()"
   ]
  },
  {
   "cell_type": "code",
   "execution_count": 47,
   "metadata": {},
   "outputs": [
    {
     "data": {
      "text/plain": [
       "<metal.models.sequential.Sequential at 0x7f06844e15d0>"
      ]
     },
     "execution_count": 47,
     "metadata": {},
     "output_type": "execute_result"
    }
   ],
   "source": [
    "mod.eval()"
   ]
  },
  {
   "cell_type": "code",
   "execution_count": 49,
   "metadata": {},
   "outputs": [
    {
     "name": "stdout",
     "output_type": "stream",
     "text": [
      "False\n",
      "False\n",
      "False\n"
     ]
    }
   ],
   "source": [
    "for i in mod.layers:\n",
    "    print(i.training)"
   ]
  },
  {
   "cell_type": "code",
   "execution_count": 1,
   "metadata": {},
   "outputs": [],
   "source": [
    "from metal.autograd import Container\n",
    "from metal.autograd import numpy as anp\n",
    "from metal.autograd import no_grad\n",
    "from metal.layers.dense import Dense\n",
    "from metal.layers.conv2D import Conv2D\n",
    "from metal.layers.flatten import Flatten\n",
    "from metal.core.kernels.functions.loss import cross_entropy_loss\n",
    "from metal.core.utils import accuracy\n",
    "from metal.models.sequential import Sequential\n",
    "from metal.module.data_containers import ModuleList\n",
    "from metal.core.steppers import sgd_step\n",
    "from metal.core.samplers import *\n",
    "from metal.core._01_base import *\n",
    "from metal.core import Optimizer\n",
    "import matplotlib.pyplot as plt\n",
    "from tensorflow import keras\n",
    "import numpy as np\n",
    "import multiprocessing\n",
    "\n"
   ]
  },
  {
   "cell_type": "code",
   "execution_count": 2,
   "metadata": {},
   "outputs": [],
   "source": [
    "def get_model(data,lr,nh):\n",
    "    m = data.train_dataset.x.shape[1]\n",
    "    model = Sequential([Flatten(), Dense(784,nh,act_fn='relu'),Dense(nh,data.c)])\n",
    "    model._init_params()\n",
    "    return model, Optimizer(model.parameters(),sgd_step,lr=lr)\n",
    "\n",
    "\n",
    "def get_dls(train_ds, valid_ds, bs, **kwargs):\n",
    "    return (DataLoader(train_ds,sampler=RandomSampler(train_ds),batch_size=64,collate_fn=collate),\n",
    "            DataLoader(valid_ds,sampler=SequentialSampler(valid_ds),batch_size=64*2,collate_fn=collate))    \n",
    "\n",
    "def fit(epochs, learn):\n",
    "    for epoch in range(epochs):\n",
    "        learn.model.train()\n",
    "        for xb,yb in learn.data.train_dl:\n",
    "            loss = learn.loss_function(learn.model(xb), yb)\n",
    "            loss.backward()\n",
    "            learn.opt.step()\n",
    "            learn.opt.zero_grad()\n",
    "\n",
    "        learn.model.eval()\n",
    "        with no_grad():\n",
    "            tot_loss,tot_acc = 0.,0.\n",
    "            for xb,yb in learn.data.valid_dl:\n",
    "                pred = learn.model(xb)\n",
    "                tot_loss += learn.loss_function(pred._value, yb)\n",
    "                tot_acc  += accuracy (pred._value,yb)\n",
    "        nv = len(learn.data.valid_dl)\n",
    "        print(epoch, tot_loss/nv, tot_acc/nv)\n",
    "    return tot_loss/nv, tot_acc/nv\n",
    "\n"
   ]
  },
  {
   "cell_type": "code",
   "execution_count": 3,
   "metadata": {},
   "outputs": [],
   "source": [
    "mnist = keras.datasets.mnist\n",
    "(x_train, y_train), (x_test, y_test) = mnist.load_data()\n",
    "x_train_, x_test_ = (x_train/255.0).reshape(-1,1,28,28).astype('float32'), (x_test/255.0).reshape(-1,1,28,28).astype('float32')\n",
    "train,test = Dataset(x_train_,y_train),Dataset(x_test_,y_test)\n",
    "#train_dll, test_dll = get_dls(train,test,64)\n",
    "c =y_train.max().item()+1\n",
    "data = DataBunch(*get_dls(train,test,64),c)\n",
    "L=Learner(*get_model(data,.5,50),cross_entropy_loss,data)\n"
   ]
  },
  {
   "cell_type": "code",
   "execution_count": 4,
   "metadata": {},
   "outputs": [
    {
     "name": "stdout",
     "output_type": "stream",
     "text": [
      "0 0.14093924247765843 0.956190664556962\n",
      "1 0.144068691313644 0.955498417721519\n",
      "2 0.11375895484433143 0.9649920886075949\n",
      "3 0.12182369191623942 0.9620253164556962\n",
      "4 0.13766526546376415 0.9611352848101266\n"
     ]
    }
   ],
   "source": [
    "l,a = fit(5,L)"
   ]
  },
  {
   "cell_type": "code",
   "execution_count": 45,
   "metadata": {},
   "outputs": [],
   "source": [
    "from metal.core.utils import listify"
   ]
  },
  {
   "cell_type": "code",
   "execution_count": 46,
   "metadata": {},
   "outputs": [],
   "source": [
    "def one_batch(xb, yb, cb):\n",
    "    if not cb.begin_batch(xb,yb): return\n",
    "    loss = cb.learn.loss_function(cb.learn.model(xb),yb)\n",
    "    if not cb.after_loss(loss):return \n",
    "    loss.backward()\n",
    "    if cb.after_backward(): cb.learn.opt.step()\n",
    "    if cb.after_step(): cb.learn.opt.zero_grad()\n",
    "\n",
    "def all_batches(dl, cb):\n",
    "    for xb, yb in dl:\n",
    "        one_batch(xb,yb, cb)\n",
    "        if cb.do_stop(): return \n",
    "        \n",
    "        \n",
    "def fit(epochs, learn, cb):\n",
    "    if not cb.begin_fit(learn):return \n",
    "    for epoch in range(epochs):\n",
    "        if not cb.begin_epoch(epoch): continue\n",
    "        all_batches(learn.data.train_dl,cb)\n",
    "        \n",
    "        if cb.begin_validate():\n",
    "            with no_grad(): all_batches(learn.data.valid_dl, cb)\n",
    "        if cb.do_stop() or not cb.after_epoch: break\n",
    "    cb.after_fit()"
   ]
  },
  {
   "cell_type": "code",
   "execution_count": 47,
   "metadata": {},
   "outputs": [],
   "source": [
    "class Callback():\n",
    "    def begin_fit(self,learn):\n",
    "        self.learn = learn \n",
    "        return True\n",
    "    def after_fit(self):\n",
    "        return True \n",
    "    def begin_epoch(self, epoch):\n",
    "        self.epoch=epoch\n",
    "        return True\n",
    "    def begin_validate(self): return True\n",
    "    def after_epoch(self): return True\n",
    "    def begin_batch(self, xb, yb):\n",
    "        self.xb,self.yb=xb,yb\n",
    "        return True\n",
    "    def after_loss(self, loss):\n",
    "        self.loss = loss\n",
    "        return True\n",
    "    def after_backward(self): return True\n",
    "    def after_step(self): return True\n",
    "    \n",
    "    \n",
    "        "
   ]
  },
  {
   "cell_type": "code",
   "execution_count": 48,
   "metadata": {},
   "outputs": [],
   "source": [
    "class CallbackHandler():\n",
    "    def __init__(self, cbs=None):\n",
    "        self.cbs = cbs if cbs else []\n",
    "        \n",
    "    def begin_fit(self, learn):\n",
    "        self.learn, self.in_train = learn,True\n",
    "        learn.stop = False\n",
    "        res = True\n",
    "        for cb in self.cbs: res = res and cb.begin_fit(learn)\n",
    "        return res \n",
    "    \n",
    "    def after_fit(self):\n",
    "        res = not self.in_train\n",
    "        for cb in self.cbs: res = res and cb.after_fit()\n",
    "        return res\n",
    "    \n",
    "    def begin_epoch(self, epoch):\n",
    "        self.learn.model.train()\n",
    "        self.in_train=True\n",
    "        res=True\n",
    "        for cb in self.cbs: res = res and cb.begin_epoch(epoch)\n",
    "        return res \n",
    "    \n",
    "    def begin_validate(self):\n",
    "        self.learn.model.eval()\n",
    "        self.in_train=False\n",
    "        res=True\n",
    "        for cb in self.cbs: res = res and cb.begin_validate()\n",
    "        return res\n",
    "    \n",
    "    def after_epoch(self, xb, yb):\n",
    "        res =True\n",
    "        for cb in self.cbs: res = res and cb.after_epoch(xb, yb)\n",
    "        return res \n",
    "    \n",
    "    def begin_batch(self, xb, yb):\n",
    "        res = True\n",
    "        for cb in self.cbs: res = res and cb.begin_batch(xb, yb)\n",
    "        return res\n",
    "    \n",
    "    def after_loss(self, loss):\n",
    "        res = self.in_train \n",
    "        for cb in self.cbs: res = res and cb.after_loss(loss)\n",
    "        return res\n",
    "    \n",
    "    def after_backward(self):\n",
    "        res = True\n",
    "        for cb in self.cbs: res = res and cb.after_backward()\n",
    "        return res \n",
    "    \n",
    "    def after_step(self):\n",
    "        res = True\n",
    "        for cb in self.cbs: res = res and cb.after_step()\n",
    "        return res\n",
    "    \n",
    "    def do_stop(self):\n",
    "        try:     return self.learn.stop\n",
    "        finally: self.learn.stop = False\n",
    "        \n",
    "    \n",
    "        "
   ]
  },
  {
   "cell_type": "code",
   "execution_count": 49,
   "metadata": {},
   "outputs": [],
   "source": [
    "class TestCallback(Callback):\n",
    "    def begin_fit(self, learn):\n",
    "        super().begin_fit(learn)\n",
    "        self.n_iters = 0\n",
    "        return True\n",
    "    \n",
    "    def after_step(self):\n",
    "        self.n_iters += 1\n",
    "        print(self.n_iters)\n",
    "        if self.n_iters>=10: self.learn.stop = True\n",
    "        return True"
   ]
  },
  {
   "cell_type": "code",
   "execution_count": 50,
   "metadata": {},
   "outputs": [
    {
     "name": "stdout",
     "output_type": "stream",
     "text": [
      "1\n",
      "2\n",
      "3\n",
      "4\n",
      "5\n",
      "6\n",
      "7\n",
      "8\n",
      "9\n",
      "10\n"
     ]
    }
   ],
   "source": [
    "fit(1,L, CallbackHandler([TestCallback()]))\n"
   ]
  },
  {
   "cell_type": "code",
   "execution_count": 51,
   "metadata": {},
   "outputs": [],
   "source": [
    "import re \n",
    "\n",
    "_camel_re1 = re.compile('(.)([A-Z][a-z]+)')\n",
    "_camel_re2 = re.compile('(.)([A-Z][a-z]+)')\n",
    "\n",
    "def camel2snake(name):\n",
    "    s1 = re.sub(_camel_re1, r'\\1_\\2', name)\n",
    "    return re.sub(_camel_re2, r'\\1_\\2', s1).lower()\n",
    "\n",
    "class Callback():\n",
    "    _order=0\n",
    "    \n",
    "    def set_runner(self, run): self.run=run\n",
    "    def __getattr__(self, k): return getattr(self.run, k)\n",
    "    \n",
    "    @property\n",
    "    def name(self):\n",
    "        name = re.sub(r'Callback$', '', self.__class__.__name__)\n",
    "        return camel2snake(name or 'callback')\n",
    "    \n",
    "    def __call__(self, cb_name):\n",
    "        f = getattr(self, cb_name, None)\n",
    "        if f and f(): return True\n",
    "        return False"
   ]
  },
  {
   "cell_type": "code",
   "execution_count": 4,
   "metadata": {},
   "outputs": [],
   "source": [
    "def s(x=2):\n",
    "    return x\n",
    "z=s"
   ]
  },
  {
   "cell_type": "code",
   "execution_count": 5,
   "metadata": {},
   "outputs": [],
   "source": [
    "z.x=5"
   ]
  },
  {
   "cell_type": "code",
   "execution_count": 6,
   "metadata": {},
   "outputs": [
    {
     "data": {
      "text/plain": [
       "2"
      ]
     },
     "execution_count": 6,
     "metadata": {},
     "output_type": "execute_result"
    }
   ],
   "source": [
    "z()"
   ]
  },
  {
   "cell_type": "code",
   "execution_count": null,
   "metadata": {},
   "outputs": [],
   "source": []
  }
 ],
 "metadata": {
  "kernelspec": {
   "display_name": "Python 3",
   "language": "python",
   "name": "python3"
  },
  "language_info": {
   "codemirror_mode": {
    "name": "ipython",
    "version": 3
   },
   "file_extension": ".py",
   "mimetype": "text/x-python",
   "name": "python",
   "nbconvert_exporter": "python",
   "pygments_lexer": "ipython3",
   "version": "3.7.4"
  }
 },
 "nbformat": 4,
 "nbformat_minor": 2
}
