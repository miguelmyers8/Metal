{
 "cells": [
  {
   "cell_type": "code",
   "execution_count": 12,
   "metadata": {},
   "outputs": [],
   "source": [
    "from autograd.tensor import Tensor as tn\n",
    "from autograd.dropout import *\n",
    "from autograd.parameter import Parameter as pr\n",
    "from autograd.flatten import Flatten as fl\n",
    "from autograd.module import Module\n",
    "from autograd.nn import Sequential\n",
    "from autograd.linear import Linear\n",
    "from autograd.act import Relu, Sigmoid \n",
    "from autograd.loss import CEL\n",
    "from autograd.optim import SGD\n",
    "from autograd.mini_batch import mini_batch\n",
    "from autograd.grad_check import Grad_Check as gc\n",
    "from functools import reduce\n",
    "\n",
    "import sys \n",
    "import matplotlib.pyplot as plt\n",
    "import numpy as np"
   ]
  },
  {
   "cell_type": "code",
   "execution_count": 13,
   "metadata": {},
   "outputs": [],
   "source": [
    "from Dataset1 import catnoncat"
   ]
  },
  {
   "cell_type": "code",
   "execution_count": 14,
   "metadata": {},
   "outputs": [],
   "source": [
    "train_x = catnoncat.train_x() \n",
    "test_x = catnoncat.test_img() "
   ]
  },
  {
   "cell_type": "code",
   "execution_count": 15,
   "metadata": {},
   "outputs": [
    {
     "name": "stdout",
     "output_type": "stream",
     "text": [
      "data shape: (12288, 209)\n",
      "data shape: (12288, 50)\n",
      "Tensor([[0.06666667 0.76862745 0.32156863 ... 0.56078431 0.08627451 0.03137255]\n",
      " [0.12156863 0.75294118 0.27843137 ... 0.60784314 0.09411765 0.10980392]\n",
      " [0.21960784 0.74509804 0.26666667 ... 0.64705882 0.09019608 0.20784314]\n",
      " ...\n",
      " [0.         0.32156863 0.54117647 ... 0.33333333 0.01568627 0.        ]\n",
      " [0.         0.31372549 0.55294118 ... 0.41960784 0.01960784 0.        ]\n",
      " [0.         0.31764706 0.55686275 ... 0.58431373 0.         0.        ]], requires_grad=False)\n"
     ]
    }
   ],
   "source": [
    "train_x = fl().forward(train_x)\n",
    "test_x = fl().forward(test_x)"
   ]
  },
  {
   "cell_type": "code",
   "execution_count": 5,
   "metadata": {},
   "outputs": [],
   "source": [
    "train_y = tn(catnoncat.train_y())\n",
    "test_y = tn(catnoncat.test_y())"
   ]
  },
  {
   "cell_type": "code",
   "execution_count": 6,
   "metadata": {},
   "outputs": [
    {
     "name": "stdout",
     "output_type": "stream",
     "text": [
      "(12288, 209)   (12288, 50)\n"
     ]
    }
   ],
   "source": [
    "print(train_x.shape,' ',test_x.shape)"
   ]
  },
  {
   "cell_type": "code",
   "execution_count": 7,
   "metadata": {},
   "outputs": [],
   "source": [
    "mod2 = Sequential([\n",
    "         Linear(50,12288),\n",
    "            Relu(),\n",
    "        #Dropout(.9),\n",
    "         Linear(20,50),\n",
    "            Relu(),\n",
    "        #Dropout(.9),\n",
    "         Linear(10,20),\n",
    "            Relu(),\n",
    "        #Dropout(.9),\n",
    "         Linear(1,10),\n",
    "            Sigmoid()])"
   ]
  },
  {
   "cell_type": "code",
   "execution_count": 8,
   "metadata": {},
   "outputs": [
    {
     "name": "stdout",
     "output_type": "stream",
     "text": [
      "Cost after epoch 0: 0.692376\n",
      "Cost after epoch 32: 0.545819\n",
      "Cost after epoch 64: 0.434876\n",
      "Cost after epoch 96: 0.340873\n",
      "Cost after epoch 128: 0.266052\n",
      "Cost after epoch 160: 0.215199\n",
      "Cost after epoch 192: 0.177837\n",
      "Cost after epoch 224: 0.149066\n",
      "Cost after epoch 256: 0.126457\n",
      "Cost after epoch 288: 0.108194\n",
      "Cost after epoch 320: 0.093249\n",
      "Cost after epoch 352: 0.080445\n",
      "Cost after epoch 384: 0.070310\n",
      "Cost after epoch 416: 0.061953\n",
      "Cost after epoch 448: 0.055021\n",
      "Cost after epoch 480: 0.049168\n",
      "Cost after epoch 512: 0.044118\n",
      "Cost after epoch 544: 0.039731\n",
      "Cost after epoch 576: 0.035928\n",
      "Cost after epoch 608: 0.032861\n",
      "Cost after epoch 640: 0.030128\n",
      "Cost after epoch 672: 0.027884\n",
      "Cost after epoch 704: 0.025659\n",
      "Cost after epoch 736: 0.023925\n",
      "Cost after epoch 768: 0.022218\n",
      "Cost after epoch 800: 0.020767\n",
      "Cost after epoch 832: 0.019547\n",
      "Cost after epoch 864: 0.018362\n",
      "Cost after epoch 896: 0.017298\n",
      "Cost after epoch 928: 0.016304\n",
      "Cost after epoch 960: 0.015394\n",
      "Cost after epoch 992: 0.014603\n",
      "Cost after epoch 1024: 0.013852\n",
      "Cost after epoch 1056: 0.013163\n",
      "Cost after epoch 1088: 0.012559\n",
      "Cost after epoch 1120: 0.011978\n",
      "Cost after epoch 1152: 0.011443\n",
      "Cost after epoch 1184: 0.010949\n",
      "Cost after epoch 1216: 0.010481\n",
      "Cost after epoch 1248: 0.010070\n",
      "Cost after epoch 1280: 0.009678\n",
      "Cost after epoch 1312: 0.009291\n",
      "Cost after epoch 1344: 0.008939\n",
      "Cost after epoch 1376: 0.008620\n",
      "Cost after epoch 1408: 0.008308\n",
      "Cost after epoch 1440: 0.008025\n",
      "Cost after epoch 1472: 0.007747\n",
      "Cost after epoch 1504: 0.007497\n",
      "Cost after epoch 1536: 0.007252\n",
      "Cost after epoch 1568: 0.007027\n",
      "Cost after epoch 1600: 0.006815\n",
      "Cost after epoch 1632: 0.006606\n",
      "Cost after epoch 1664: 0.006407\n",
      "Cost after epoch 1696: 0.006222\n",
      "Cost after epoch 1728: 0.006045\n",
      "Cost after epoch 1760: 0.005877\n",
      "Cost after epoch 1792: 0.005717\n",
      "Cost after epoch 1824: 0.005572\n",
      "Cost after epoch 1856: 0.005423\n",
      "Cost after epoch 1888: 0.005288\n",
      "Cost after epoch 1920: 0.005148\n",
      "Cost after epoch 1952: 0.005019\n",
      "Cost after epoch 1984: 0.004898\n",
      "Cost after epoch 2016: 0.004778\n",
      "Cost after epoch 2048: 0.004670\n",
      "Cost after epoch 2080: 0.004562\n",
      "Cost after epoch 2112: 0.004459\n",
      "Cost after epoch 2144: 0.004355\n",
      "Cost after epoch 2176: 0.004260\n",
      "Cost after epoch 2208: 0.004167\n",
      "Cost after epoch 2240: 0.004082\n",
      "Cost after epoch 2272: 0.003992\n",
      "Cost after epoch 2304: 0.003910\n",
      "Cost after epoch 2336: 0.003831\n",
      "Cost after epoch 2368: 0.003756\n",
      "Cost after epoch 2400: 0.003682\n",
      "Cost after epoch 2432: 0.003609\n",
      "Cost after epoch 2464: 0.003539\n",
      "Cost after epoch 2496: 0.003472\n",
      "Cost after epoch 2528: 0.003410\n",
      "Cost after epoch 2560: 0.003347\n",
      "Cost after epoch 2592: 0.003285\n",
      "Cost after epoch 2624: 0.003226\n",
      "Cost after epoch 2656: 0.003169\n",
      "Cost after epoch 2688: 0.003115\n",
      "Cost after epoch 2720: 0.003063\n",
      "Cost after epoch 2752: 0.003010\n",
      "Cost after epoch 2784: 0.002958\n",
      "Cost after epoch 2816: 0.002908\n",
      "Cost after epoch 2848: 0.002860\n",
      "Cost after epoch 2880: 0.002813\n",
      "Cost after epoch 2912: 0.002769\n",
      "Cost after epoch 2944: 0.002726\n",
      "Cost after epoch 2976: 0.002683\n",
      "Cost after epoch 3008: 0.002642\n",
      "Cost after epoch 3040: 0.002603\n",
      "Cost after epoch 3072: 0.002563\n",
      "Cost after epoch 3104: 0.002524\n",
      "Cost after epoch 3136: 0.002486\n",
      "Cost after epoch 3168: 0.002450\n",
      "Cost after epoch 3200: 0.002415\n",
      "Cost after epoch 3232: 0.002380\n",
      "Cost after epoch 3264: 0.002348\n",
      "Cost after epoch 3296: 0.002315\n",
      "Cost after epoch 3328: 0.002283\n",
      "Cost after epoch 3360: 0.002252\n",
      "Cost after epoch 3392: 0.002222\n",
      "Cost after epoch 3424: 0.002194\n",
      "Cost after epoch 3456: 0.002165\n",
      "Cost after epoch 3488: 0.002136\n",
      "Cost after epoch 3520: 0.002109\n",
      "Cost after epoch 3552: 0.002082\n",
      "Cost after epoch 3584: 0.002056\n",
      "Cost after epoch 3616: 0.002031\n"
     ]
    },
    {
     "data": {
      "image/png": "[encoded data removed]",
      "text/plain": [
       "<Figure size 432x288 with 1 Axes>"
      ]
     },
     "metadata": {
      "needs_background": "light"
     },
     "output_type": "display_data"
    }
   ],
   "source": [
    "optimizer = SGD(lr=.00075, beta=0.9)\n",
    "costs = []\n",
    "iteration = 3625\n",
    "\n",
    "for i in range(iteration):\n",
    "\n",
    "    minibatches = mini_batch(train_x, train_y, 32, 1)\n",
    "\n",
    "    for minibatch in minibatches.apply():\n",
    "\n",
    "        (minibatch_X, minibatch_Y) = minibatch\n",
    "\n",
    "        out = mod2.forward(minibatch_X)\n",
    "        cout = CEL(out,minibatch_Y)\n",
    "        loss = cout.sum()\n",
    "        epoch_loss = loss.data\n",
    "\n",
    "        loss.backward()\n",
    "        \n",
    "        #optimizer.save_params(mod2)\n",
    "        optimizer.step(mod2)\n",
    "\n",
    "\n",
    "    # Print the cost every 1000 epoch\n",
    "    if  i % 32 == 0:\n",
    "        print(\"Cost after epoch %i: %f\" % (i, epoch_loss))\n",
    "    if i % 100 == 0:\n",
    "        costs.append(epoch_loss)\n",
    "\n",
    "\n",
    "# plot the cost\n",
    "plt.plot(costs)\n",
    "plt.ylabel('cost')\n",
    "plt.xlabel('epochs (per 32)')\n",
    "plt.title(\"Learning rate = \" + str(.075))\n",
    "plt.show()"
   ]
  },
  {
   "cell_type": "markdown",
   "metadata": {},
   "source": [
    "mod2.predict(test_x,test_y)"
   ]
  },
  {
   "cell_type": "code",
   "execution_count": 9,
   "metadata": {},
   "outputs": [
    {
     "name": "stdout",
     "output_type": "stream",
     "text": [
      "Accuracy: 0.72\n"
     ]
    }
   ],
   "source": [
    "mod2.predict(test_x,test_y)"
   ]
  },
  {
   "cell_type": "code",
   "execution_count": 19,
   "metadata": {},
   "outputs": [],
   "source": [
    "lrs=[]"
   ]
  },
  {
   "cell_type": "code",
   "execution_count": 21,
   "metadata": {},
   "outputs": [],
   "source": [
    "lrs.append((it,optimizer.lr))"
   ]
  },
  {
   "cell_type": "code",
   "execution_count": 22,
   "metadata": {},
   "outputs": [
    {
     "data": {
      "text/plain": [
       "[(3625, 0.00075)]"
      ]
     },
     "execution_count": 22,
     "metadata": {},
     "output_type": "execute_result"
    }
   ],
   "source": [
    "lrs"
   ]
  }
 ],
 "metadata": {
  "kernelspec": {
   "display_name": "Python 3",
   "language": "python",
   "name": "python3"
  },
  "language_info": {
   "codemirror_mode": {
    "name": "ipython",
    "version": 3
   },
   "file_extension": ".py",
   "mimetype": "text/x-python",
   "name": "python",
   "nbconvert_exporter": "python",
   "pygments_lexer": "ipython3",
   "version": "3.6.8"
  }
 },
 "nbformat": 4,
 "nbformat_minor": 2
}
