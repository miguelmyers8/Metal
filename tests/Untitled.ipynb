{
 "cells": [
  {
   "cell_type": "code",
   "execution_count": 1,
   "metadata": {},
   "outputs": [],
   "source": [
    "from autograd.tensor import Tensor as tn\n",
    "from autograd.dropout import *\n",
    "from autograd.parameter import Parameter as pr\n",
    "from autograd.flatten import Flatten as fl\n",
    "from autograd.module import Module\n",
    "from autograd.nn import Sequential\n",
    "from autograd.linear import Linear\n",
    "from autograd.act import Relu, Sigmoid \n",
    "from autograd.loss import CEL\n",
    "from autograd.optim import GD\n",
    "import matplotlib.pyplot as plt\n",
    "import numpy as np"
   ]
  },
  {
   "cell_type": "code",
   "execution_count": 2,
   "metadata": {},
   "outputs": [],
   "source": [
    "from Dataset1 import catnoncat\n",
    "#from Dataset1.reg import load_2D_dataset"
   ]
  },
  {
   "cell_type": "code",
   "execution_count": 3,
   "metadata": {},
   "outputs": [],
   "source": [
    "train_x = catnoncat.train_x() \n",
    "test_x = catnoncat.test_img() "
   ]
  },
  {
   "cell_type": "code",
   "execution_count": 4,
   "metadata": {},
   "outputs": [],
   "source": [
    "#mean_image = np.mean(train_x, axis=0)\n",
    "#train_x -= mean_image\n",
    "#X_val -= mean_image\n",
    "#test_x -= mean_image\n"
   ]
  },
  {
   "cell_type": "code",
   "execution_count": 5,
   "metadata": {},
   "outputs": [
    {
     "name": "stdout",
     "output_type": "stream",
     "text": [
      "data shape: (12288, 209)\n",
      "data shape: (12288, 50)\n"
     ]
    }
   ],
   "source": [
    "train_x = fl().forward(train_x)\n",
    "test_x = fl().forward(test_x)"
   ]
  },
  {
   "cell_type": "code",
   "execution_count": 6,
   "metadata": {},
   "outputs": [],
   "source": [
    "train_y = tn(catnoncat.train_y())\n",
    "test_y = tn(catnoncat.test_y())"
   ]
  },
  {
   "cell_type": "code",
   "execution_count": 7,
   "metadata": {},
   "outputs": [],
   "source": [
    "mod2 = Sequential([\n",
    "         Linear(50,12288),\n",
    "            Relu(),\n",
    "        #Dropout(.9),\n",
    "         Linear(20,50),\n",
    "            Relu(),\n",
    "        #Dropout(.9),\n",
    "         Linear(10,20),\n",
    "            Relu(),\n",
    "        #Dropout(.9),\n",
    "         Linear(1,10),\n",
    "            Sigmoid()])"
   ]
  },
  {
   "cell_type": "code",
   "execution_count": 8,
   "metadata": {},
   "outputs": [],
   "source": [
    "#Linear.lambda_ = .001"
   ]
  },
  {
   "cell_type": "code",
   "execution_count": 9,
   "metadata": {},
   "outputs": [
    {
     "name": "stdout",
     "output_type": "stream",
     "text": [
      "0 0.7544704264136884\n",
      "100 0.6201308949595775\n",
      "200 0.5949954850155488\n",
      "300 0.571921427574754\n",
      "400 0.5416761863423287\n",
      "500 0.5072111683210221\n",
      "600 0.4784757915631249\n",
      "700 0.45249207736388475\n",
      "800 0.42831046750327045\n",
      "900 0.4040883885058103\n",
      "1000 0.3826398264051083\n",
      "1100 0.3625610167704546\n",
      "1200 0.34299678361808905\n",
      "1300 0.32445177949406706\n",
      "1400 0.3074343777358066\n",
      "1500 0.29223093929905614\n",
      "1600 0.2780511075571607\n",
      "1700 0.2641093243029056\n",
      "1800 0.2512164180360523\n",
      "1900 0.2393650559671307\n",
      "2000 0.22840824889835898\n",
      "2100 0.2182229741499287\n",
      "2200 0.2085135471655123\n",
      "2300 0.19935781909925773\n",
      "2400 0.1907856921696656\n",
      "2500 0.18265773911340513\n",
      "2600 0.17493933292001865\n",
      "2700 0.16776778805739545\n",
      "2800 0.1610637784333223\n",
      "2900 0.15467920929814544\n",
      "3000 0.14849912507616542\n",
      "3100 0.14278260079625396\n",
      "3200 0.1374125358197277\n",
      "3300 0.132179056593488\n",
      "3400 0.1272702226119123\n",
      "3500 0.12245793149334033\n",
      "3600 0.11774594201357694\n",
      "3700 0.1133132580070888\n",
      "3800 0.10912834689956546\n",
      "3900 0.10516317142209564\n",
      "4000 0.10141267840750524\n",
      "4100 0.09787914655201564\n",
      "4200 0.09444432597723115\n",
      "4300 0.09122587450338968\n",
      "4400 0.0881560294179363\n",
      "4500 0.08520565690310472\n",
      "4600 0.08240486932679789\n",
      "4700 0.07978751011121786\n",
      "4800 0.07720402938771814\n",
      "4900 0.07475457963920785\n",
      "5000 0.07243801001506342\n",
      "5100 0.07020552459906948\n",
      "5200 0.06808397838467564\n",
      "5300 0.06606967135006245\n",
      "5400 0.06414565803631364\n",
      "5500 0.06230805366101097\n",
      "5600 0.06054593377061655\n",
      "5700 0.05887321580439664\n",
      "5800 0.057254197753843536\n",
      "5900 0.05574499962261538\n",
      "6000 0.05422256959215954\n",
      "6100 0.05281180356708916\n",
      "6200 0.05143722952956006\n",
      "6300 0.050092287365282595\n",
      "6400 0.04881289828650763\n",
      "6500 0.047563342893324145\n",
      "6600 0.04637592806415515\n",
      "6700 0.04523227880612857\n",
      "6800 0.044120086031294276\n",
      "6900 0.0430545736373958\n"
     ]
    },
    {
     "data": {
      "image/png": "[encoded data removed]",
      "text/plain": [
       "<Figure size 432x288 with 1 Axes>"
      ]
     },
     "metadata": {
      "needs_background": "light"
     },
     "output_type": "display_data"
    }
   ],
   "source": [
    "optimizer = GD(lr=.075)\n",
    "\n",
    "\n",
    "costs = []\n",
    "\n",
    "for epoch in range(7000):\n",
    "\n",
    "    epoch_loss = 0.0\n",
    "\n",
    "    for l in mod2.layers:\n",
    "        l.zero_grad()\n",
    "\n",
    "    out = mod2.forward(train_x)\n",
    "    cout = CEL(out,train_y)\n",
    "    loss = cout.sum()\n",
    "\n",
    "    loss.backward()\n",
    "    epoch_loss += loss.data\n",
    "\n",
    "    for l in mod2.layers:\n",
    "        optimizer.step(l)\n",
    "\n",
    "\n",
    "    if epoch % 100 == 0:\n",
    "        print(epoch, epoch_loss)\n",
    "    if epoch % 100 == 0:\n",
    "        costs.append(epoch_loss)\n",
    "\n",
    "\n",
    "# plot the cost\n",
    "plt.plot(np.squeeze(costs))\n",
    "plt.ylabel('cost')\n",
    "plt.xlabel('iterations (per tens)')\n",
    "plt.show()"
   ]
  },
  {
   "cell_type": "code",
   "execution_count": 10,
   "metadata": {},
   "outputs": [
    {
     "name": "stdout",
     "output_type": "stream",
     "text": [
      "Accuracy: 0.76\n"
     ]
    }
   ],
   "source": [
    "mod2.predict(test_x,test_y)"
   ]
  },
  {
   "cell_type": "code",
   "execution_count": 11,
   "metadata": {},
   "outputs": [
    {
     "data": {
      "text/plain": [
       "[<autograd.linear.Linear at 0x1152282e8>,\n",
       " <autograd.act.Relu at 0x1152283c8>,\n",
       " <autograd.linear.Linear at 0x115228400>,\n",
       " <autograd.act.Relu at 0x115228518>,\n",
       " <autograd.linear.Linear at 0x115228550>,\n",
       " <autograd.act.Relu at 0x115228668>,\n",
       " <autograd.linear.Linear at 0x1152286a0>,\n",
       " <autograd.act.Sigmoid at 0x1152287b8>]"
      ]
     },
     "execution_count": 11,
     "metadata": {},
     "output_type": "execute_result"
    }
   ],
   "source": [
    "l1 = mod2.layers[0]\n",
    "mod2.layers"
   ]
  },
  {
   "cell_type": "code",
   "execution_count": 12,
   "metadata": {},
   "outputs": [
    {
     "name": "stdout",
     "output_type": "stream",
     "text": [
      "data shape: (12288, 50)\n"
     ]
    }
   ],
   "source": [
    "re_l = fl().forward(l1.w.data)\n",
    "#rel = re_l[:-1,:]"
   ]
  },
  {
   "cell_type": "code",
   "execution_count": 13,
   "metadata": {},
   "outputs": [
    {
     "data": {
      "text/plain": [
       "(50, 64, 64, 3)"
      ]
     },
     "execution_count": 13,
     "metadata": {},
     "output_type": "execute_result"
    }
   ],
   "source": [
    "full = re_l.data.reshape(50,64,64,3)\n",
    "full.shape"
   ]
  },
  {
   "cell_type": "code",
   "execution_count": 14,
   "metadata": {},
   "outputs": [
    {
     "data": {
      "text/plain": [
       "(1, 64, 64, 3)"
      ]
     },
     "execution_count": 14,
     "metadata": {},
     "output_type": "execute_result"
    }
   ],
   "source": [
    "train_x = catnoncat.train_x() \n",
    "train_x[1:2].shape"
   ]
  },
  {
   "cell_type": "code",
   "execution_count": 15,
   "metadata": {},
   "outputs": [
    {
     "data": {
      "image/png": "[encoded data removed]",
      "text/plain": [
       "<Figure size 432x288 with 1 Axes>"
      ]
     },
     "metadata": {
      "needs_background": "light"
     },
     "output_type": "display_data"
    }
   ],
   "source": [
    "plt.figure()\n",
    "plt.imshow(np.squeeze(train_x[3:4])) \n",
    "plt.show()"
   ]
  },
  {
   "cell_type": "code",
   "execution_count": 26,
   "metadata": {},
   "outputs": [
    {
     "name": "stdout",
     "output_type": "stream",
     "text": [
      "(1, 64, 64, 3)\n"
     ]
    },
    {
     "data": {
      "text/plain": [
       "(-0.5, 63.5, 63.5, -0.5)"
      ]
     },
     "execution_count": 26,
     "metadata": {},
     "output_type": "execute_result"
    },
    {
     "data": {
      "image/png": "[encoded data removed]",
      "text/plain": [
       "<Figure size 432x288 with 1 Axes>"
      ]
     },
     "metadata": {
      "needs_background": "light"
     },
     "output_type": "display_data"
    }
   ],
   "source": [
    "w = full[:1]\n",
    "print(w.shape)\n",
    "w_min, w_max = np.min(w), np.max(w)\n",
    "#for i in range(10):\n",
    "#plt.subplot(2, 5, i + 1)\n",
    "wimg = 255.0 * (w.squeeze() - w_min) / (w_max - w_min)\n",
    "plt.imshow(wimg.astype('uint8'))\n",
    "plt.axis('off')"
   ]
  },
  {
   "cell_type": "code",
   "execution_count": 89,
   "metadata": {},
   "outputs": [
    {
     "name": "stderr",
     "output_type": "stream",
     "text": [
      "Clipping input data to the valid range for imshow with RGB data ([0..1] for floats or [0..255] for integers).\n"
     ]
    },
    {
     "data": {
      "image/png": "[encoded data removed]",
      "text/plain": [
       "<Figure size 432x288 with 1 Axes>"
      ]
     },
     "metadata": {
      "needs_background": "light"
     },
     "output_type": "display_data"
    }
   ],
   "source": [
    "plt.figure()\n",
    "plt.imshow(np.squeeze(full)*255.0)\n",
    "plt.show()"
   ]
  },
  {
   "cell_type": "code",
   "execution_count": 84,
   "metadata": {},
   "outputs": [
    {
     "ename": "ModuleNotFoundError",
     "evalue": "No module named 'cs231n'",
     "output_type": "error",
     "traceback": [
      "\u001b[0;31m---------------------------------------------------------------------------\u001b[0m",
      "\u001b[0;31mModuleNotFoundError\u001b[0m                       Traceback (most recent call last)",
      "\u001b[0;32m<ipython-input-84-947099cba012>\u001b[0m in \u001b[0;36m<module>\u001b[0;34m\u001b[0m\n\u001b[0;32m----> 1\u001b[0;31m \u001b[0;32mfrom\u001b[0m \u001b[0mcs231n\u001b[0m\u001b[0;34m.\u001b[0m\u001b[0mdata_utils\u001b[0m \u001b[0;32mimport\u001b[0m \u001b[0mload_CIFAR10\u001b[0m\u001b[0;34m\u001b[0m\u001b[0;34m\u001b[0m\u001b[0m\n\u001b[0m",
      "\u001b[0;31mModuleNotFoundError\u001b[0m: No module named 'cs231n'"
     ]
    }
   ],
   "source": [
    "from cs231n.data_utils import load_CIFAR10\n"
   ]
  },
  {
   "cell_type": "code",
   "execution_count": 31,
   "metadata": {},
   "outputs": [
    {
     "data": {
      "text/plain": [
       "2.302585092994046"
      ]
     },
     "execution_count": 31,
     "metadata": {},
     "output_type": "execute_result"
    }
   ],
   "source": [
    "np.log(10)"
   ]
  },
  {
   "cell_type": "code",
   "execution_count": 26,
   "metadata": {},
   "outputs": [
    {
     "data": {
      "text/plain": [
       "0.7544704264136884"
      ]
     },
     "execution_count": 26,
     "metadata": {},
     "output_type": "execute_result"
    }
   ],
   "source": [
    "np.sum(loss.data)"
   ]
  },
  {
   "cell_type": "code",
   "execution_count": 2,
   "metadata": {},
   "outputs": [],
   "source": [
    "import torch\n",
    "from torch import nn\n",
    "m = nn.Sigmoid()\n",
    "loss = nn.BCELoss()\n",
    "input1 = torch.randn(3, requires_grad=True)\n",
    "input = input1.reshape(1,3)\n",
    "\n",
    "target = torch.empty(3).random_(2)\n",
    "target = target.reshape(1,3)\n",
    "\n",
    "output = loss(m(input), target)\n",
    "output.backward()"
   ]
  },
  {
   "cell_type": "code",
   "execution_count": 3,
   "metadata": {},
   "outputs": [
    {
     "data": {
      "text/plain": [
       "tensor(0.9779, grad_fn=<BinaryCrossEntropyBackward>)"
      ]
     },
     "execution_count": 3,
     "metadata": {},
     "output_type": "execute_result"
    }
   ],
   "source": [
    "output"
   ]
  },
  {
   "cell_type": "code",
   "execution_count": 6,
   "metadata": {},
   "outputs": [
    {
     "data": {
      "text/plain": [
       "tensor([[-1.6288, -0.0725, -0.5161]], grad_fn=<AsStridedBackward>)"
      ]
     },
     "execution_count": 6,
     "metadata": {},
     "output_type": "execute_result"
    }
   ],
   "source": [
    "input"
   ]
  },
  {
   "cell_type": "code",
   "execution_count": 7,
   "metadata": {},
   "outputs": [
    {
     "data": {
      "text/plain": [
       "tensor([[1., 0., 0.]])"
      ]
     },
     "execution_count": 7,
     "metadata": {},
     "output_type": "execute_result"
    }
   ],
   "source": [
    "target"
   ]
  },
  {
   "cell_type": "code",
   "execution_count": 8,
   "metadata": {},
   "outputs": [
    {
     "data": {
      "text/plain": [
       "tensor([-0.2787,  0.1606,  0.1246])"
      ]
     },
     "execution_count": 8,
     "metadata": {},
     "output_type": "execute_result"
    }
   ],
   "source": [
    "input1.grad"
   ]
  },
  {
   "cell_type": "code",
   "execution_count": null,
   "metadata": {},
   "outputs": [],
   "source": []
  },
  {
   "cell_type": "code",
   "execution_count": 9,
   "metadata": {},
   "outputs": [
    {
     "data": {
      "text/plain": [
       "Tensor([[-1.6288 -0.0725 -0.5161]], requires_grad=True)"
      ]
     },
     "execution_count": 9,
     "metadata": {},
     "output_type": "execute_result"
    }
   ],
   "source": [
    "inp = tn(np.array([-1.6288, -0.0725, -0.5161]).reshape(1,3),True)\n",
    "inp"
   ]
  },
  {
   "cell_type": "code",
   "execution_count": 10,
   "metadata": {},
   "outputs": [
    {
     "data": {
      "text/plain": [
       "Tensor([[1. 0. 0.]], requires_grad=False)"
      ]
     },
     "execution_count": 10,
     "metadata": {},
     "output_type": "execute_result"
    }
   ],
   "source": [
    "tg = tn(np.array([1., 0., 0.]).reshape(1,3))\n",
    "tg"
   ]
  },
  {
   "cell_type": "code",
   "execution_count": 11,
   "metadata": {},
   "outputs": [
    {
     "data": {
      "text/plain": [
       "Tensor(1.0196423858768962, requires_grad=True)"
      ]
     },
     "execution_count": 11,
     "metadata": {},
     "output_type": "execute_result"
    }
   ],
   "source": [
    "inp1 = Sigmoid().forward(inp)\n",
    "inp1.sum()"
   ]
  },
  {
   "cell_type": "code",
   "execution_count": 12,
   "metadata": {},
   "outputs": [
    {
     "data": {
      "text/plain": [
       "Tensor([0.60264015 0.21918469 0.15600967], requires_grad=True)"
      ]
     },
     "execution_count": 12,
     "metadata": {},
     "output_type": "execute_result"
    }
   ],
   "source": [
    "ou = CEL(inp1,tg)\n",
    "ou"
   ]
  },
  {
   "cell_type": "code",
   "execution_count": 13,
   "metadata": {},
   "outputs": [
    {
     "data": {
      "text/plain": [
       "Tensor(0.9778345097027215, requires_grad=True)"
      ]
     },
     "execution_count": 13,
     "metadata": {},
     "output_type": "execute_result"
    }
   ],
   "source": [
    "o = ou.sum()\n",
    "o.backward()\n",
    "o"
   ]
  },
  {
   "cell_type": "code",
   "execution_count": 15,
   "metadata": {},
   "outputs": [
    {
     "data": {
      "text/plain": [
       "Tensor([[-0.27866839  0.16062764  0.12458821]], requires_grad=False)"
      ]
     },
     "execution_count": 15,
     "metadata": {},
     "output_type": "execute_result"
    }
   ],
   "source": [
    "\n",
    "inp.grad "
   ]
  },
  {
   "cell_type": "code",
   "execution_count": null,
   "metadata": {},
   "outputs": [],
   "source": []
  },
  {
   "cell_type": "code",
   "execution_count": 23,
   "metadata": {},
   "outputs": [
    {
     "data": {
      "text/plain": [
       "2.302585092994046"
      ]
     },
     "execution_count": 23,
     "metadata": {},
     "output_type": "execute_result"
    }
   ],
   "source": [
    "np.log(10)"
   ]
  },
  {
   "cell_type": "code",
   "execution_count": 25,
   "metadata": {},
   "outputs": [
    {
     "name": "stdout",
     "output_type": "stream",
     "text": [
      "Help on BinaryCrossEntropyBackward object:\n",
      "\n",
      "class BinaryCrossEntropyBackward(object)\n",
      " |  Methods defined here:\n",
      " |  \n",
      " |  __call__(self, /, *args, **kwargs)\n",
      " |      Call self as a function.\n",
      " |  \n",
      " |  name(...)\n",
      " |  \n",
      " |  register_hook(...)\n",
      " |  \n",
      " |  ----------------------------------------------------------------------\n",
      " |  Data descriptors defined here:\n",
      " |  \n",
      " |  metadata\n",
      " |  \n",
      " |  next_functions\n",
      " |  \n",
      " |  requires_grad\n",
      "\n"
     ]
    }
   ],
   "source": [
    "help(output.grad_fn)"
   ]
  },
  {
   "cell_type": "code",
   "execution_count": null,
   "metadata": {},
   "outputs": [],
   "source": []
  }
 ],
 "metadata": {
  "kernelspec": {
   "display_name": "Python 3",
   "language": "python",
   "name": "python3"
  },
  "language_info": {
   "codemirror_mode": {
    "name": "ipython",
    "version": 3
   },
   "file_extension": ".py",
   "mimetype": "text/x-python",
   "name": "python",
   "nbconvert_exporter": "python",
   "pygments_lexer": "ipython3",
   "version": "3.6.8"
  }
 },
 "nbformat": 4,
 "nbformat_minor": 2
}
