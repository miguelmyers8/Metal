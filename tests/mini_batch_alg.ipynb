{
 "cells": [
  {
   "cell_type": "code",
   "execution_count": 47,
   "metadata": {},
   "outputs": [],
   "source": [
    "from autograd.tensor import Tensor as tn\n",
    "from autograd.dropout import *\n",
    "from autograd.parameter import Parameter as pr\n",
    "from autograd.flatten import Flatten as fl\n",
    "from autograd.module import Module\n",
    "from autograd.nn import Sequential\n",
    "from autograd.linear import Linear\n",
    "from autograd.act import Relu, Sigmoid \n",
    "from autograd.loss import CEL\n",
    "from autograd.optim import GD\n",
    "from autograd.mini_batch import mini_batch\n",
    "from autograd.grad_check import Grad_Check as gc\n",
    "from functools import reduce\n",
    "\n",
    "import sys \n",
    "import matplotlib.pyplot as plt\n",
    "import numpy as np"
   ]
  },
  {
   "cell_type": "code",
   "execution_count": 48,
   "metadata": {},
   "outputs": [],
   "source": [
    "from Dataset1 import catnoncat\n"
   ]
  },
  {
   "cell_type": "code",
   "execution_count": null,
   "metadata": {},
   "outputs": [],
   "source": []
  },
  {
   "cell_type": "code",
   "execution_count": 49,
   "metadata": {},
   "outputs": [],
   "source": [
    "train_x = catnoncat.train_x() \n",
    "test_x = catnoncat.test_img() "
   ]
  },
  {
   "cell_type": "code",
   "execution_count": 50,
   "metadata": {},
   "outputs": [
    {
     "name": "stdout",
     "output_type": "stream",
     "text": [
      "data shape: (12288, 209)\n",
      "data shape: (12288, 50)\n"
     ]
    }
   ],
   "source": [
    "train_x = fl().forward(train_x)\n",
    "test_x = fl().forward(test_x)"
   ]
  },
  {
   "cell_type": "code",
   "execution_count": 51,
   "metadata": {},
   "outputs": [],
   "source": [
    "train_y = tn(catnoncat.train_y())\n",
    "test_y = tn(catnoncat.test_y())"
   ]
  },
  {
   "cell_type": "code",
   "execution_count": 52,
   "metadata": {},
   "outputs": [
    {
     "name": "stdout",
     "output_type": "stream",
     "text": [
      "(12288, 209)   (12288, 50)\n"
     ]
    }
   ],
   "source": [
    "print(train_x.shape,' ',test_x.shape)"
   ]
  },
  {
   "cell_type": "code",
   "execution_count": 74,
   "metadata": {},
   "outputs": [],
   "source": [
    "mod2 = Sequential([\n",
    "         Linear(50,12288),\n",
    "            Relu(),\n",
    "        #Dropout(.9),\n",
    "         Linear(20,50),\n",
    "            Relu(),\n",
    "        #Dropout(.9),\n",
    "         Linear(10,20),\n",
    "            Relu(),\n",
    "        #Dropout(.9),\n",
    "         Linear(1,10),\n",
    "            Sigmoid()])"
   ]
  },
  {
   "cell_type": "code",
   "execution_count": 75,
   "metadata": {},
   "outputs": [
    {
     "name": "stdout",
     "output_type": "stream",
     "text": [
      "Cost after epoch 0: 0.732458\n",
      "Cost after epoch 32: 0.665144\n",
      "Cost after epoch 64: 0.649432\n",
      "Cost after epoch 96: 0.637208\n",
      "Cost after epoch 128: 0.628610\n",
      "Cost after epoch 160: 0.621255\n",
      "Cost after epoch 192: 0.614486\n",
      "Cost after epoch 224: 0.607888\n",
      "Cost after epoch 256: 0.601350\n",
      "Cost after epoch 288: 0.593052\n",
      "Cost after epoch 320: 0.583957\n",
      "Cost after epoch 352: 0.573413\n",
      "Cost after epoch 384: 0.564114\n",
      "Cost after epoch 416: 0.555305\n",
      "Cost after epoch 448: 0.547148\n",
      "Cost after epoch 480: 0.538592\n",
      "Cost after epoch 512: 0.530243\n",
      "Cost after epoch 544: 0.522452\n",
      "Cost after epoch 576: 0.514759\n",
      "Cost after epoch 608: 0.506174\n",
      "Cost after epoch 640: 0.498001\n",
      "Cost after epoch 672: 0.489160\n",
      "Cost after epoch 704: 0.480951\n",
      "Cost after epoch 736: 0.473179\n",
      "Cost after epoch 768: 0.465397\n",
      "Cost after epoch 800: 0.458256\n",
      "Cost after epoch 832: 0.451050\n",
      "Cost after epoch 864: 0.444269\n",
      "Cost after epoch 896: 0.437740\n",
      "Cost after epoch 928: 0.431336\n",
      "Cost after epoch 960: 0.425116\n",
      "Cost after epoch 992: 0.419050\n",
      "Cost after epoch 1024: 0.413079\n",
      "Cost after epoch 1056: 0.407154\n",
      "Cost after epoch 1088: 0.401434\n",
      "Cost after epoch 1120: 0.395834\n",
      "Cost after epoch 1152: 0.390238\n",
      "Cost after epoch 1184: 0.384687\n",
      "Cost after epoch 1216: 0.379273\n",
      "Cost after epoch 1248: 0.374071\n",
      "Cost after epoch 1280: 0.369067\n",
      "Cost after epoch 1312: 0.364182\n",
      "Cost after epoch 1344: 0.359305\n",
      "Cost after epoch 1376: 0.354273\n",
      "Cost after epoch 1408: 0.349595\n",
      "Cost after epoch 1440: 0.344688\n",
      "Cost after epoch 1472: 0.340049\n",
      "Cost after epoch 1504: 0.335578\n",
      "Cost after epoch 1536: 0.331068\n",
      "Cost after epoch 1568: 0.326616\n",
      "Cost after epoch 1600: 0.322382\n",
      "Cost after epoch 1632: 0.318154\n",
      "Cost after epoch 1664: 0.314062\n",
      "Cost after epoch 1696: 0.310090\n",
      "Cost after epoch 1728: 0.306171\n",
      "Cost after epoch 1760: 0.302173\n",
      "Cost after epoch 1792: 0.298346\n",
      "Cost after epoch 1824: 0.294488\n",
      "Cost after epoch 1856: 0.290748\n",
      "Cost after epoch 1888: 0.287198\n",
      "Cost after epoch 1920: 0.283615\n",
      "Cost after epoch 1952: 0.279998\n",
      "Cost after epoch 1984: 0.276583\n",
      "Cost after epoch 2016: 0.273113\n",
      "Cost after epoch 2048: 0.269738\n",
      "Cost after epoch 2080: 0.266473\n",
      "Cost after epoch 2112: 0.263225\n",
      "Cost after epoch 2144: 0.260072\n",
      "Cost after epoch 2176: 0.256968\n",
      "Cost after epoch 2208: 0.253871\n",
      "Cost after epoch 2240: 0.250923\n",
      "Cost after epoch 2272: 0.247755\n",
      "Cost after epoch 2304: 0.244760\n",
      "Cost after epoch 2336: 0.241776\n",
      "Cost after epoch 2368: 0.238770\n",
      "Cost after epoch 2400: 0.235828\n",
      "Cost after epoch 2432: 0.232596\n",
      "Cost after epoch 2464: 0.228961\n",
      "Cost after epoch 2496: 0.225671\n",
      "Cost after epoch 2528: 0.222574\n",
      "Cost after epoch 2560: 0.219560\n",
      "Cost after epoch 2592: 0.216509\n",
      "Cost after epoch 2624: 0.213564\n",
      "Cost after epoch 2656: 0.210771\n",
      "Cost after epoch 2688: 0.208035\n",
      "Cost after epoch 2720: 0.205236\n",
      "Cost after epoch 2752: 0.202669\n",
      "Cost after epoch 2784: 0.200193\n",
      "Cost after epoch 2816: 0.197625\n",
      "Cost after epoch 2848: 0.195133\n",
      "Cost after epoch 2880: 0.192695\n",
      "Cost after epoch 2912: 0.190258\n",
      "Cost after epoch 2944: 0.187924\n",
      "Cost after epoch 2976: 0.185663\n",
      "Cost after epoch 3008: 0.183399\n",
      "Cost after epoch 3040: 0.181190\n",
      "Cost after epoch 3072: 0.179100\n",
      "Cost after epoch 3104: 0.176984\n",
      "Cost after epoch 3136: 0.175009\n",
      "Cost after epoch 3168: 0.172930\n",
      "Cost after epoch 3200: 0.170963\n",
      "Cost after epoch 3232: 0.169048\n",
      "Cost after epoch 3264: 0.167152\n",
      "Cost after epoch 3296: 0.165287\n",
      "Cost after epoch 3328: 0.163392\n",
      "Cost after epoch 3360: 0.161544\n",
      "Cost after epoch 3392: 0.159728\n",
      "Cost after epoch 3424: 0.157959\n",
      "Cost after epoch 3456: 0.156185\n",
      "Cost after epoch 3488: 0.154487\n",
      "Cost after epoch 3520: 0.152803\n",
      "Cost after epoch 3552: 0.151125\n",
      "Cost after epoch 3584: 0.149484\n",
      "Cost after epoch 3616: 0.147852\n",
      "Cost after epoch 3648: 0.146233\n",
      "Cost after epoch 3680: 0.144651\n",
      "Cost after epoch 3712: 0.143073\n",
      "Cost after epoch 3744: 0.141535\n",
      "Cost after epoch 3776: 0.140040\n",
      "Cost after epoch 3808: 0.138555\n",
      "Cost after epoch 3840: 0.137075\n",
      "Cost after epoch 3872: 0.135649\n",
      "Cost after epoch 3904: 0.134240\n",
      "Cost after epoch 3936: 0.132842\n",
      "Cost after epoch 3968: 0.131481\n",
      "Cost after epoch 4000: 0.130148\n",
      "Cost after epoch 4032: 0.128812\n",
      "Cost after epoch 4064: 0.127496\n",
      "Cost after epoch 4096: 0.126167\n",
      "Cost after epoch 4128: 0.124869\n",
      "Cost after epoch 4160: 0.123580\n",
      "Cost after epoch 4192: 0.122297\n",
      "Cost after epoch 4224: 0.121060\n",
      "Cost after epoch 4256: 0.119822\n",
      "Cost after epoch 4288: 0.118611\n",
      "Cost after epoch 4320: 0.117415\n",
      "Cost after epoch 4352: 0.116208\n",
      "Cost after epoch 4384: 0.115075\n",
      "Cost after epoch 4416: 0.113905\n",
      "Cost after epoch 4448: 0.112781\n",
      "Cost after epoch 4480: 0.111665\n",
      "Cost after epoch 4512: 0.110570\n",
      "Cost after epoch 4544: 0.109496\n",
      "Cost after epoch 4576: 0.108441\n",
      "Cost after epoch 4608: 0.107373\n",
      "Cost after epoch 4640: 0.106345\n",
      "Cost after epoch 4672: 0.105324\n",
      "Cost after epoch 4704: 0.104322\n",
      "Cost after epoch 4736: 0.103330\n",
      "Cost after epoch 4768: 0.102352\n",
      "Cost after epoch 4800: 0.101395\n",
      "Cost after epoch 4832: 0.100420\n",
      "Cost after epoch 4864: 0.099472\n",
      "Cost after epoch 4896: 0.098543\n",
      "Cost after epoch 4928: 0.097632\n",
      "Cost after epoch 4960: 0.096719\n",
      "Cost after epoch 4992: 0.095830\n",
      "Cost after epoch 5024: 0.094946\n",
      "Cost after epoch 5056: 0.094076\n",
      "Cost after epoch 5088: 0.093213\n",
      "Cost after epoch 5120: 0.092362\n",
      "Cost after epoch 5152: 0.091525\n",
      "Cost after epoch 5184: 0.090702\n",
      "Cost after epoch 5216: 0.089873\n",
      "Cost after epoch 5248: 0.089083\n",
      "Cost after epoch 5280: 0.088279\n",
      "Cost after epoch 5312: 0.087488\n",
      "Cost after epoch 5344: 0.086704\n",
      "Cost after epoch 5376: 0.085935\n",
      "Cost after epoch 5408: 0.085181\n",
      "Cost after epoch 5440: 0.084427\n",
      "Cost after epoch 5472: 0.083689\n",
      "Cost after epoch 5504: 0.082961\n",
      "Cost after epoch 5536: 0.082241\n",
      "Cost after epoch 5568: 0.081525\n",
      "Cost after epoch 5600: 0.080825\n"
     ]
    },
    {
     "data": {
      "image/png": "[encoded data removed]",
      "text/plain": [
       "<Figure size 432x288 with 1 Axes>"
      ]
     },
     "metadata": {
      "needs_background": "light"
     },
     "output_type": "display_data"
    }
   ],
   "source": [
    "optimizer = GD(lr=.00075)\n",
    "\n",
    "\n",
    "costs = []\n",
    "it = 3625\n",
    "for i in range(it):\n",
    "\n",
    "    minibatches = mini_batch(train_x, train_y, 32, 1)\n",
    "\n",
    "    for minibatch in minibatches.apply():\n",
    "\n",
    "        (minibatch_X, minibatch_Y) = minibatch\n",
    "\n",
    "        out = mod2.forward(minibatch_X)\n",
    "        cout = CEL(out,minibatch_Y)\n",
    "        loss = cout.sum()\n",
    "        epoch_loss = loss.data\n",
    "\n",
    "        loss.backward()\n",
    "        \n",
    "        #optimizer.save_params(mod2)\n",
    "        optimizer.step(mod2)\n",
    "\n",
    "\n",
    "    # Print the cost every 1000 epoch\n",
    "    if  i % 32 == 0:\n",
    "        print(\"Cost after epoch %i: %f\" % (i, epoch_loss))\n",
    "    if i % 100 == 0:\n",
    "        costs.append(epoch_loss)\n",
    "\n",
    "\n",
    "# plot the cost\n",
    "plt.plot(costs)\n",
    "plt.ylabel('cost')\n",
    "plt.xlabel('epochs (per 32)')\n",
    "plt.title(\"Learning rate = \" + str(.075))\n",
    "plt.show()"
   ]
  },
  {
   "cell_type": "markdown",
   "metadata": {},
   "source": [
    "mod2.predict(test_x,test_y)"
   ]
  },
  {
   "cell_type": "code",
   "execution_count": 77,
   "metadata": {},
   "outputs": [
    {
     "name": "stdout",
     "output_type": "stream",
     "text": [
      "Accuracy: 0.74\n"
     ]
    }
   ],
   "source": [
    "mod2.predict(test_x,test_y)"
   ]
  },
  {
   "cell_type": "code",
   "execution_count": 71,
   "metadata": {},
   "outputs": [],
   "source": [
    "\n",
    "lrs=[]\n",
    "\n"
   ]
  },
  {
   "cell_type": "code",
   "execution_count": 72,
   "metadata": {},
   "outputs": [],
   "source": [
    "lrs.append((it,optimizer.lr))"
   ]
  },
  {
   "cell_type": "code",
   "execution_count": 73,
   "metadata": {},
   "outputs": [
    {
     "data": {
      "text/plain": [
       "[(3625, 0.00075)]"
      ]
     },
     "execution_count": 73,
     "metadata": {},
     "output_type": "execute_result"
    }
   ],
   "source": [
    "lrs"
   ]
  },
  {
   "cell_type": "code",
   "execution_count": null,
   "metadata": {},
   "outputs": [],
   "source": []
  }
 ],
 "metadata": {
  "kernelspec": {
   "display_name": "Python 3",
   "language": "python",
   "name": "python3"
  },
  "language_info": {
   "codemirror_mode": {
    "name": "ipython",
    "version": 3
   },
   "file_extension": ".py",
   "mimetype": "text/x-python",
   "name": "python",
   "nbconvert_exporter": "python",
   "pygments_lexer": "ipython3",
   "version": "3.6.8"
  }
 },
 "nbformat": 4,
 "nbformat_minor": 2
}
