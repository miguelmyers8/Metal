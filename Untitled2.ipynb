{
 "cells": [
  {
   "cell_type": "code",
   "execution_count": 1,
   "metadata": {},
   "outputs": [],
   "source": [
    "from metal.tensor import Tensor as tn\n",
    "import numpy as np\n",
    "import time"
   ]
  },
  {
   "cell_type": "code",
   "execution_count": 59,
   "metadata": {},
   "outputs": [
    {
     "data": {
      "text/plain": [
       "dtype('float64')"
      ]
     },
     "execution_count": 59,
     "metadata": {},
     "output_type": "execute_result"
    }
   ],
   "source": [
    "x = np.random.randn(20000,200)\n",
    "z = np.random.randn(300,20000)\n",
    "#r = tn(x)\n",
    "#t = tn(z)\n",
    "x.dtype"
   ]
  },
  {
   "cell_type": "code",
   "execution_count": 105,
   "metadata": {},
   "outputs": [
    {
     "data": {
      "text/plain": [
       "0.000102996826171875"
      ]
     },
     "execution_count": 105,
     "metadata": {},
     "output_type": "execute_result"
    }
   ],
   "source": [
    "t1 =time.time()\n",
    "z@x\n",
    "t2 =time.time()\n",
    "cc = t2 - t1\n",
    "cc"
   ]
  },
  {
   "cell_type": "code",
   "execution_count": 19,
   "metadata": {},
   "outputs": [
    {
     "data": {
      "text/plain": [
       "3.695487976074219e-05"
      ]
     },
     "execution_count": 19,
     "metadata": {},
     "output_type": "execute_result"
    }
   ],
   "source": [
    "t1 =time.time()\n",
    "#np.linalg.multi_dot(z)\n",
    "t2 =time.time()\n",
    "t2 - t1"
   ]
  },
  {
   "cell_type": "code",
   "execution_count": 12,
   "metadata": {},
   "outputs": [],
   "source": [
    "import scipy.linalg.blas"
   ]
  },
  {
   "cell_type": "code",
   "execution_count": 4,
   "metadata": {},
   "outputs": [],
   "source": [
    "import numba\n",
    "from numba import jitclass, int32, float64\n",
    "from collections import OrderedDict \n",
    "# import the types\n"
   ]
  },
  {
   "cell_type": "code",
   "execution_count": 54,
   "metadata": {},
   "outputs": [],
   "source": [
    "#@numba.jitclass(spec)\n",
    "class t:\n",
    "    def __init__(self, xx,zz):\n",
    "        self.x = xx\n",
    "        self.z = zz\n",
    "        pass\n",
    "\n",
    "\n",
    "\n",
    "    #@numba.jit(nopython=True,parallel=True)\n",
    "    def jittest(self,n):\n",
    "        for i in range(n):\n",
    "            self.z = inloop(self.x,self.z)\n",
    "        return self.z\n",
    "            \n",
    "            \n",
    "@numba.jit(nopython=True,parallel=True)\n",
    "def inloop(x,z):\n",
    "    z = np.random.randn(x.shape[1],x.shape[0])\n",
    "    z, x = z@x, z\n",
    "    return z\n",
    "    "
   ]
  },
  {
   "cell_type": "code",
   "execution_count": 53,
   "metadata": {},
   "outputs": [],
   "source": [
    "def inloopp(x,z):\n",
    "    z = np.random.randn(x.shape[1],x.shape[0])\n",
    "    z, x = z@x, z\n",
    "    return z\n",
    "\n",
    "def nptest(x,z,n):\n",
    "    for i in range(n):\n",
    "        z = inloopp(x,z)"
   ]
  },
  {
   "cell_type": "code",
   "execution_count": 54,
   "metadata": {},
   "outputs": [
    {
     "data": {
      "text/plain": [
       "22.111189126968384"
      ]
     },
     "execution_count": 54,
     "metadata": {},
     "output_type": "execute_result"
    }
   ],
   "source": [
    "t1 =time.time()\n",
    "nptest(x,z,1000)\n",
    "t2 =time.time()\n",
    "npt = t2 - t1\n",
    "npt"
   ]
  },
  {
   "cell_type": "code",
   "execution_count": 55,
   "metadata": {},
   "outputs": [
    {
     "data": {
      "text/plain": [
       "12.546533107757568"
      ]
     },
     "execution_count": 55,
     "metadata": {},
     "output_type": "execute_result"
    }
   ],
   "source": [
    "t1 =time.time()\n",
    "jittest(x,z,1000)\n",
    "t2 =time.time()\n",
    "jj = t2 - t1\n",
    "jj"
   ]
  },
  {
   "cell_type": "code",
   "execution_count": 52,
   "metadata": {},
   "outputs": [
    {
     "data": {
      "text/plain": [
       "True"
      ]
     },
     "execution_count": 52,
     "metadata": {},
     "output_type": "execute_result"
    }
   ],
   "source": [
    "jj<npt"
   ]
  },
  {
   "cell_type": "code",
   "execution_count": 53,
   "metadata": {},
   "outputs": [
    {
     "data": {
      "text/plain": [
       "9.656875133514404"
      ]
     },
     "execution_count": 53,
     "metadata": {},
     "output_type": "execute_result"
    }
   ],
   "source": [
    "npt-jj"
   ]
  },
  {
   "cell_type": "code",
   "execution_count": 60,
   "metadata": {},
   "outputs": [],
   "source": [
    "mx = t(x,z)"
   ]
  },
  {
   "cell_type": "code",
   "execution_count": 61,
   "metadata": {},
   "outputs": [
    {
     "name": "stdout",
     "output_type": "stream",
     "text": [
      "108.18793177604675 [[ -66.7909941    91.18762682   -5.94919608 ...  -76.07924968\n",
      "   -31.4439035   375.73470906]\n",
      " [  23.69412281 -305.43104309  164.66146344 ... -183.11726147\n",
      "    -7.92480985   52.30660355]\n",
      " [ -86.82470389   19.83048519 -244.71890578 ...   74.06208051\n",
      "   252.83537896  133.84957491]\n",
      " ...\n",
      " [ 202.22316588  141.28449194  161.25708849 ... -112.60832043\n",
      "  -151.42110028  -19.30118579]\n",
      " [ 153.38305142  119.12065021   68.32456735 ...  128.74234094\n",
      "     7.0405669   -89.5775995 ]\n",
      " [-193.09577741 -122.46067629 -369.25913874 ...  285.31730388\n",
      "    96.04488084  124.27929198]]\n"
     ]
    }
   ],
   "source": [
    "t0 =time.time()\n",
    "\n",
    "out = mx.jittest(1000)\n",
    "\n",
    "t1 =time.time()\n",
    "\n",
    "print(t1-t0, out)"
   ]
  },
  {
   "cell_type": "code",
   "execution_count": 79,
   "metadata": {},
   "outputs": [],
   "source": [
    "class ty:\n",
    "    def __init__(self, xx,zz):\n",
    "        self.x = xx\n",
    "        self.z = zz\n",
    "        pass\n",
    "\n",
    "\n",
    "\n",
    "    #@numba.jit(nopython=True,parallel=True)\n",
    "    def jittest(self,n):\n",
    "        for i in range(n):\n",
    "            self.z = inloop(self.x,self.z)\n",
    "        return self.z\n",
    "            \n",
    "    def jittest1(self,n):\n",
    "        for i in range(n):\n",
    "            self.z = inloop1(self.x,self.z)\n",
    "        return self.z\n",
    "            \n",
    "    def jittest2(self,n):\n",
    "        for i in range(n):\n",
    "            self.z = inloop2(self.x,self.z)\n",
    "        return self.z\n",
    "    \n",
    "def inloop(x,z):\n",
    "    z = np.random.randn(x.shape[1],x.shape[0])\n",
    "    z, x = z@x, z\n",
    "    return z\n",
    "\n",
    "def inloop1(x,z):\n",
    "    z = np.random.randn(x.shape[1],x.shape[0])\n",
    "    z, x = z.dot(x), z\n",
    "    return z\n",
    "\n",
    "def inloop2(x,z):\n",
    "    z = np.random.randn(x.shape[1],x.shape[0])\n",
    "    z, x = np.einsum('ji,i->j',z,x), z\n",
    "    return z"
   ]
  },
  {
   "cell_type": "code",
   "execution_count": 80,
   "metadata": {},
   "outputs": [],
   "source": [
    "mxy = ty(x,z)"
   ]
  },
  {
   "cell_type": "code",
   "execution_count": 81,
   "metadata": {},
   "outputs": [
    {
     "name": "stdout",
     "output_type": "stream",
     "text": [
      "22.65251874923706\n"
     ]
    }
   ],
   "source": [
    "t0 =time.time()\n",
    "\n",
    "outy = mxy.jittest(100)\n",
    "\n",
    "t1 =time.time()\n",
    "\n",
    "print(t1-t0)"
   ]
  },
  {
   "cell_type": "code",
   "execution_count": 82,
   "metadata": {},
   "outputs": [
    {
     "name": "stdout",
     "output_type": "stream",
     "text": [
      "21.879401922225952\n"
     ]
    }
   ],
   "source": [
    "t0 =time.time()\n",
    "\n",
    "outy = mxy.jittest1(100)\n",
    "\n",
    "t1 =time.time()\n",
    "\n",
    "print(t1-t0)"
   ]
  },
  {
   "cell_type": "code",
   "execution_count": 83,
   "metadata": {},
   "outputs": [
    {
     "ename": "ValueError",
     "evalue": "operand has more dimensions than subscripts given in einstein sum, but no '...' ellipsis provided to broadcast the extra dimensions.",
     "output_type": "error",
     "traceback": [
      "\u001b[0;31m---------------------------------------------------------------------------\u001b[0m",
      "\u001b[0;31mValueError\u001b[0m                                Traceback (most recent call last)",
      "\u001b[0;32m<ipython-input-83-fd8123ab2072>\u001b[0m in \u001b[0;36m<module>\u001b[0;34m()\u001b[0m\n\u001b[1;32m      1\u001b[0m \u001b[0mt0\u001b[0m \u001b[0;34m=\u001b[0m\u001b[0mtime\u001b[0m\u001b[0;34m.\u001b[0m\u001b[0mtime\u001b[0m\u001b[0;34m(\u001b[0m\u001b[0;34m)\u001b[0m\u001b[0;34m\u001b[0m\u001b[0;34m\u001b[0m\u001b[0m\n\u001b[1;32m      2\u001b[0m \u001b[0;34m\u001b[0m\u001b[0m\n\u001b[0;32m----> 3\u001b[0;31m \u001b[0mouty\u001b[0m \u001b[0;34m=\u001b[0m \u001b[0mmxy\u001b[0m\u001b[0;34m.\u001b[0m\u001b[0mjittest2\u001b[0m\u001b[0;34m(\u001b[0m\u001b[0;36m100\u001b[0m\u001b[0;34m)\u001b[0m\u001b[0;34m\u001b[0m\u001b[0;34m\u001b[0m\u001b[0m\n\u001b[0m\u001b[1;32m      4\u001b[0m \u001b[0;34m\u001b[0m\u001b[0m\n\u001b[1;32m      5\u001b[0m \u001b[0mt1\u001b[0m \u001b[0;34m=\u001b[0m\u001b[0mtime\u001b[0m\u001b[0;34m.\u001b[0m\u001b[0mtime\u001b[0m\u001b[0;34m(\u001b[0m\u001b[0;34m)\u001b[0m\u001b[0;34m\u001b[0m\u001b[0;34m\u001b[0m\u001b[0m\n",
      "\u001b[0;32m<ipython-input-79-481ba1cc5b29>\u001b[0m in \u001b[0;36mjittest2\u001b[0;34m(self, n)\u001b[0m\n\u001b[1;32m     20\u001b[0m     \u001b[0;32mdef\u001b[0m \u001b[0mjittest2\u001b[0m\u001b[0;34m(\u001b[0m\u001b[0mself\u001b[0m\u001b[0;34m,\u001b[0m\u001b[0mn\u001b[0m\u001b[0;34m)\u001b[0m\u001b[0;34m:\u001b[0m\u001b[0;34m\u001b[0m\u001b[0;34m\u001b[0m\u001b[0m\n\u001b[1;32m     21\u001b[0m         \u001b[0;32mfor\u001b[0m \u001b[0mi\u001b[0m \u001b[0;32min\u001b[0m \u001b[0mrange\u001b[0m\u001b[0;34m(\u001b[0m\u001b[0mn\u001b[0m\u001b[0;34m)\u001b[0m\u001b[0;34m:\u001b[0m\u001b[0;34m\u001b[0m\u001b[0;34m\u001b[0m\u001b[0m\n\u001b[0;32m---> 22\u001b[0;31m             \u001b[0mself\u001b[0m\u001b[0;34m.\u001b[0m\u001b[0mz\u001b[0m \u001b[0;34m=\u001b[0m \u001b[0minloop2\u001b[0m\u001b[0;34m(\u001b[0m\u001b[0mself\u001b[0m\u001b[0;34m.\u001b[0m\u001b[0mx\u001b[0m\u001b[0;34m,\u001b[0m\u001b[0mself\u001b[0m\u001b[0;34m.\u001b[0m\u001b[0mz\u001b[0m\u001b[0;34m)\u001b[0m\u001b[0;34m\u001b[0m\u001b[0;34m\u001b[0m\u001b[0m\n\u001b[0m\u001b[1;32m     23\u001b[0m         \u001b[0;32mreturn\u001b[0m \u001b[0mself\u001b[0m\u001b[0;34m.\u001b[0m\u001b[0mz\u001b[0m\u001b[0;34m\u001b[0m\u001b[0;34m\u001b[0m\u001b[0m\n\u001b[1;32m     24\u001b[0m \u001b[0;34m\u001b[0m\u001b[0m\n",
      "\u001b[0;32m<ipython-input-79-481ba1cc5b29>\u001b[0m in \u001b[0;36minloop2\u001b[0;34m(x, z)\u001b[0m\n\u001b[1;32m     35\u001b[0m \u001b[0;32mdef\u001b[0m \u001b[0minloop2\u001b[0m\u001b[0;34m(\u001b[0m\u001b[0mx\u001b[0m\u001b[0;34m,\u001b[0m\u001b[0mz\u001b[0m\u001b[0;34m)\u001b[0m\u001b[0;34m:\u001b[0m\u001b[0;34m\u001b[0m\u001b[0;34m\u001b[0m\u001b[0m\n\u001b[1;32m     36\u001b[0m     \u001b[0mz\u001b[0m \u001b[0;34m=\u001b[0m \u001b[0mnp\u001b[0m\u001b[0;34m.\u001b[0m\u001b[0mrandom\u001b[0m\u001b[0;34m.\u001b[0m\u001b[0mrandn\u001b[0m\u001b[0;34m(\u001b[0m\u001b[0mx\u001b[0m\u001b[0;34m.\u001b[0m\u001b[0mshape\u001b[0m\u001b[0;34m[\u001b[0m\u001b[0;36m1\u001b[0m\u001b[0;34m]\u001b[0m\u001b[0;34m,\u001b[0m\u001b[0mx\u001b[0m\u001b[0;34m.\u001b[0m\u001b[0mshape\u001b[0m\u001b[0;34m[\u001b[0m\u001b[0;36m0\u001b[0m\u001b[0;34m]\u001b[0m\u001b[0;34m)\u001b[0m\u001b[0;34m\u001b[0m\u001b[0;34m\u001b[0m\u001b[0m\n\u001b[0;32m---> 37\u001b[0;31m     \u001b[0mz\u001b[0m\u001b[0;34m,\u001b[0m \u001b[0mx\u001b[0m \u001b[0;34m=\u001b[0m \u001b[0mnp\u001b[0m\u001b[0;34m.\u001b[0m\u001b[0meinsum\u001b[0m\u001b[0;34m(\u001b[0m\u001b[0;34m'ji,i->j'\u001b[0m\u001b[0;34m,\u001b[0m\u001b[0mz\u001b[0m\u001b[0;34m,\u001b[0m\u001b[0mx\u001b[0m\u001b[0;34m)\u001b[0m\u001b[0;34m,\u001b[0m \u001b[0mz\u001b[0m\u001b[0;34m\u001b[0m\u001b[0;34m\u001b[0m\u001b[0m\n\u001b[0m\u001b[1;32m     38\u001b[0m     \u001b[0;32mreturn\u001b[0m \u001b[0mz\u001b[0m\u001b[0;34m\u001b[0m\u001b[0;34m\u001b[0m\u001b[0m\n",
      "\u001b[0;32m~/anaconda/envs/py36/lib/python3.6/site-packages/numpy/core/einsumfunc.py\u001b[0m in \u001b[0;36meinsum\u001b[0;34m(*operands, **kwargs)\u001b[0m\n\u001b[1;32m   1344\u001b[0m     \u001b[0;31m# If no optimization, run pure einsum\u001b[0m\u001b[0;34m\u001b[0m\u001b[0;34m\u001b[0m\u001b[0;34m\u001b[0m\u001b[0m\n\u001b[1;32m   1345\u001b[0m     \u001b[0;32mif\u001b[0m \u001b[0moptimize_arg\u001b[0m \u001b[0;32mis\u001b[0m \u001b[0;32mFalse\u001b[0m\u001b[0;34m:\u001b[0m\u001b[0;34m\u001b[0m\u001b[0;34m\u001b[0m\u001b[0m\n\u001b[0;32m-> 1346\u001b[0;31m         \u001b[0;32mreturn\u001b[0m \u001b[0mc_einsum\u001b[0m\u001b[0;34m(\u001b[0m\u001b[0;34m*\u001b[0m\u001b[0moperands\u001b[0m\u001b[0;34m,\u001b[0m \u001b[0;34m**\u001b[0m\u001b[0mkwargs\u001b[0m\u001b[0;34m)\u001b[0m\u001b[0;34m\u001b[0m\u001b[0;34m\u001b[0m\u001b[0m\n\u001b[0m\u001b[1;32m   1347\u001b[0m \u001b[0;34m\u001b[0m\u001b[0m\n\u001b[1;32m   1348\u001b[0m     \u001b[0mvalid_einsum_kwargs\u001b[0m \u001b[0;34m=\u001b[0m \u001b[0;34m[\u001b[0m\u001b[0;34m'out'\u001b[0m\u001b[0;34m,\u001b[0m \u001b[0;34m'dtype'\u001b[0m\u001b[0;34m,\u001b[0m \u001b[0;34m'order'\u001b[0m\u001b[0;34m,\u001b[0m \u001b[0;34m'casting'\u001b[0m\u001b[0;34m]\u001b[0m\u001b[0;34m\u001b[0m\u001b[0;34m\u001b[0m\u001b[0m\n",
      "\u001b[0;31mValueError\u001b[0m: operand has more dimensions than subscripts given in einstein sum, but no '...' ellipsis provided to broadcast the extra dimensions."
     ]
    }
   ],
   "source": [
    "t0 =time.time()\n",
    "\n",
    "outy = mxy.jittest2(100)\n",
    "\n",
    "t1 =time.time()\n",
    "\n",
    "print(t1-t0)"
   ]
  },
  {
   "cell_type": "code",
   "execution_count": 26,
   "metadata": {},
   "outputs": [
    {
     "name": "stdout",
     "output_type": "stream",
     "text": [
      "0.05109095573425293\n",
      "0.04328298568725586\n",
      "0.042120933532714844\n",
      "0.04040980339050293\n",
      "0.04235100746154785\n",
      "0.04445505142211914\n",
      "0.043863773345947266\n",
      "0.04312324523925781\n",
      "0.043650150299072266\n",
      "0.04093122482299805\n",
      "0.045754194259643555\n",
      "0.04492998123168945\n",
      "0.043203115463256836\n",
      "0.04030203819274902\n",
      "0.04611706733703613\n",
      "0.04262495040893555\n",
      "0.04143404960632324\n",
      "0.040560007095336914\n",
      "0.040328264236450195\n",
      "0.04031491279602051\n",
      "0.041056156158447266\n",
      "0.04512190818786621\n",
      "0.04205799102783203\n",
      "0.04631185531616211\n",
      "0.04641008377075195\n",
      "0.04692697525024414\n",
      "0.04720497131347656\n",
      "0.04782605171203613\n",
      "0.04682278633117676\n",
      "0.04844212532043457\n",
      "0.04744219779968262\n",
      "0.046968936920166016\n",
      "0.04518914222717285\n",
      "0.04308509826660156\n",
      "0.04914283752441406\n",
      "0.05248212814331055\n",
      "0.05039095878601074\n",
      "0.052030086517333984\n",
      "0.04881119728088379\n",
      "0.04856610298156738\n",
      "0.04905200004577637\n",
      "0.04488706588745117\n",
      "0.046534061431884766\n",
      "0.04569435119628906\n",
      "0.05031228065490723\n",
      "0.05137372016906738\n",
      "0.05232524871826172\n",
      "0.04935312271118164\n",
      "0.05060696601867676\n",
      "0.05058097839355469\n"
     ]
    }
   ],
   "source": [
    "import numpy as np\n",
    "import time\n",
    "for i in range(50):\n",
    "    t1 =time.time()\n",
    "    np.random.randn(1000,1000)\n",
    "    t2 =time.time()\n",
    "    jj = t2 - t1\n",
    "    print(jj)"
   ]
  },
  {
   "cell_type": "code",
   "execution_count": 17,
   "metadata": {},
   "outputs": [
    {
     "data": {
      "text/plain": [
       "Decimal('0.000052')"
      ]
     },
     "execution_count": 17,
     "metadata": {},
     "output_type": "execute_result"
    }
   ],
   "source": [
    "from decimal import Decimal\n",
    "\n",
    "Decimal('5.2e-05')\n"
   ]
  },
  {
   "cell_type": "code",
   "execution_count": 25,
   "metadata": {},
   "outputs": [
    {
     "data": {
      "text/plain": [
       "False"
      ]
     },
     "execution_count": 25,
     "metadata": {},
     "output_type": "execute_result"
    }
   ],
   "source": [
    "2.8848648071289062e-05>6.6e-05\n",
    "\n"
   ]
  },
  {
   "cell_type": "code",
   "execution_count": 16,
   "metadata": {},
   "outputs": [
    {
     "data": {
      "text/plain": [
       "array([[[-3.42759752e-01, -7.38030394e-01,  1.80463823e+00],\n",
       "        [-1.47039889e+00, -4.89827288e-01,  5.94568995e-01],\n",
       "        [ 8.91239657e-01, -1.23460111e+00,  1.35605312e-01],\n",
       "        [ 1.90836017e+00,  1.53235527e+00,  1.04131849e+00],\n",
       "        [-1.44153932e+00,  5.50962065e-01,  5.51847868e-01],\n",
       "        [-1.08022657e-01, -3.77031344e-01, -5.40978261e-01],\n",
       "        [-1.06365856e-01,  2.84290662e-01,  6.66154527e-02],\n",
       "        [ 2.44271366e+00,  9.70861923e-01, -4.77810583e-01],\n",
       "        [ 1.62181986e+00,  1.25325763e+00,  1.53256306e-03]],\n",
       "\n",
       "       [[ 5.38043186e-01,  9.51362919e-01,  7.97619457e-01],\n",
       "        [-1.34136767e+00, -7.81384620e-01,  2.64284444e-01],\n",
       "        [-1.80249833e-01,  1.67432646e+00, -6.48342241e-01],\n",
       "        [-2.11555528e-01, -6.87491991e-01, -3.60269378e-01],\n",
       "        [-6.02477156e-01,  4.90483298e-01,  1.17833455e+00],\n",
       "        [-1.24611749e-01, -1.62381733e-01, -4.28210335e-01],\n",
       "        [ 1.48302432e-01,  2.09390779e+00,  1.28603798e-01],\n",
       "        [-4.30263655e-01, -1.37907910e-01,  6.85527992e-02],\n",
       "        [ 6.73017753e-01, -3.33192625e-01, -8.18754929e-01]]])"
      ]
     },
     "execution_count": 16,
     "metadata": {},
     "output_type": "execute_result"
    }
   ],
   "source": [
    "sects=list()\n",
    "x = np.random.randn(3,2,3,3)\n",
    "sects.append(x)\n",
    "expanded_input = np.concatenate(x,axis=1)\n",
    "expanded_input"
   ]
  },
  {
   "cell_type": "code",
   "execution_count": 17,
   "metadata": {},
   "outputs": [
    {
     "data": {
      "text/plain": [
       "array([[[[-3.42759752e-01, -7.38030394e-01,  1.80463823e+00],\n",
       "         [-1.47039889e+00, -4.89827288e-01,  5.94568995e-01],\n",
       "         [ 8.91239657e-01, -1.23460111e+00,  1.35605312e-01]],\n",
       "\n",
       "        [[ 5.38043186e-01,  9.51362919e-01,  7.97619457e-01],\n",
       "         [-1.34136767e+00, -7.81384620e-01,  2.64284444e-01],\n",
       "         [-1.80249833e-01,  1.67432646e+00, -6.48342241e-01]]],\n",
       "\n",
       "\n",
       "       [[[ 1.90836017e+00,  1.53235527e+00,  1.04131849e+00],\n",
       "         [-1.44153932e+00,  5.50962065e-01,  5.51847868e-01],\n",
       "         [-1.08022657e-01, -3.77031344e-01, -5.40978261e-01]],\n",
       "\n",
       "        [[-2.11555528e-01, -6.87491991e-01, -3.60269378e-01],\n",
       "         [-6.02477156e-01,  4.90483298e-01,  1.17833455e+00],\n",
       "         [-1.24611749e-01, -1.62381733e-01, -4.28210335e-01]]],\n",
       "\n",
       "\n",
       "       [[[-1.06365856e-01,  2.84290662e-01,  6.66154527e-02],\n",
       "         [ 2.44271366e+00,  9.70861923e-01, -4.77810583e-01],\n",
       "         [ 1.62181986e+00,  1.25325763e+00,  1.53256306e-03]],\n",
       "\n",
       "        [[ 1.48302432e-01,  2.09390779e+00,  1.28603798e-01],\n",
       "         [-4.30263655e-01, -1.37907910e-01,  6.85527992e-02],\n",
       "         [ 6.73017753e-01, -3.33192625e-01, -8.18754929e-01]]]])"
      ]
     },
     "execution_count": 17,
     "metadata": {},
     "output_type": "execute_result"
    }
   ],
   "source": [
    "x"
   ]
  },
  {
   "cell_type": "code",
   "execution_count": null,
   "metadata": {},
   "outputs": [],
   "source": []
  },
  {
   "cell_type": "code",
   "execution_count": null,
   "metadata": {},
   "outputs": [],
   "source": []
  }
 ],
 "metadata": {
  "kernelspec": {
   "display_name": "Python 3",
   "language": "python",
   "name": "python3"
  },
  "language_info": {
   "codemirror_mode": {
    "name": "ipython",
    "version": 3
   },
   "file_extension": ".py",
   "mimetype": "text/x-python",
   "name": "python",
   "nbconvert_exporter": "python",
   "pygments_lexer": "ipython3",
   "version": "3.6.8"
  }
 },
 "nbformat": 4,
 "nbformat_minor": 2
}
