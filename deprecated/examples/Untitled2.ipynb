{
 "cells": [
  {
   "cell_type": "code",
   "execution_count": 1,
   "metadata": {
    "scrolled": false
   },
   "outputs": [],
   "source": [
    "from metal.layers.dense import Dense\n",
    "from metal.layers.softmax import Softmax\n",
    "\n",
    "from metal.layers.conv2D import Conv2D\n",
    "from metal.layers.flatten import Flatten\n",
    "from metal.losses.loss import CrossEntropy\n",
    "from metal.losses.loss_functions import CrossEntropy as cp\n",
    "from metal.learners.neuralnetwork import NeuralNetwork\n",
    "from metal.learners.solver import Solver\n",
    "from metal.initializers.optimizer_init import OptimizerInitializer, Adam\n",
    "from metal.initializers.scheduler_init import SchedulerInitializer\n",
    "from metal.layers.pooling import Pool2D\n",
    "import numpy as np\n",
    "from metal.utils.functions import to_categorical\n",
    "from sklearn import datasets\n",
    "import tensorflow as tf\n",
    "from tensorflow import keras\n",
    "fashion_mnist = keras.datasets.fashion_mnist\n",
    "import scipy.ndimage as ndi\n",
    "import matplotlib.pyplot as plt\n"
   ]
  },
  {
   "cell_type": "code",
   "execution_count": 2,
   "metadata": {},
   "outputs": [],
   "source": [
    "def imgs_trans(imgs_in,size):\n",
    "    factor = size/imgs_in.shape[1]\n",
    "    imgs_out = ndi.zoom(imgs_in, (1, factor, factor, 1), order=2)\n",
    "    print(imgs_out.shape)\n",
    "    return imgs_out\n",
    "\n",
    "def train_test_split(X, y, test_size=0.5, shuffle=True, seed=None):\n",
    "    \"\"\" Split the data into train and test sets \"\"\"\n",
    "    if shuffle:\n",
    "        X, y = shuffle_data(X, y, seed)\n",
    "    # Split the training data from test data in the ratio specified in\n",
    "    # test_size\n",
    "    split_i = len(y) - int(len(y) // (1 / test_size))\n",
    "    X_train, X_test = X[:split_i], X[split_i:]\n",
    "    y_train, y_test = y[:split_i], y[split_i:]\n",
    "\n",
    "    return X_train, X_test, y_train, y_test\n",
    "\n",
    "def shuffle_data(X, y, seed=None):\n",
    "    \"\"\" Random shuffle of the samples in X and y \"\"\"\n",
    "    if seed:\n",
    "        np.random.seed(seed)\n",
    "    idx = np.arange(X.shape[0])\n",
    "    np.random.shuffle(idx)\n",
    "    return X[idx], y[idx]\n"
   ]
  },
  {
   "cell_type": "code",
   "execution_count": 3,
   "metadata": {},
   "outputs": [],
   "source": [
    "#imgs = np.load('../../../downloads/catdog.npy',allow_pickle=True)\n",
    "#labels = np.load('../../../downloads/catdoglabels.npy',allow_pickle=True)"
   ]
  },
  {
   "cell_type": "code",
   "execution_count": 4,
   "metadata": {},
   "outputs": [],
   "source": [
    "#fashion_mnist = keras.datasets.fashion_mnist\n",
    "#(train_images, train_labels), (test_images, test_labels) = fashion_mnist.load_data()"
   ]
  },
  {
   "cell_type": "code",
   "execution_count": 5,
   "metadata": {},
   "outputs": [],
   "source": [
    "#optimizer = Adam()\n",
    "#data = datasets.load_digits()\n",
    "#X = (data.data.reshape(-1, 8, 8, 1)/255.0).astype('float32')\n",
    "#y = data.target\n",
    "#loss = CrossEntropy\n",
    "# Covnet to  one-hot encoding \n",
    "#y = to_categorical(y.astype(\"int\"))\n",
    "#X = imgs_trans(X,28)\n"
   ]
  },
  {
   "cell_type": "code",
   "execution_count": null,
   "metadata": {},
   "outputs": [],
   "source": []
  },
  {
   "cell_type": "code",
   "execution_count": 6,
   "metadata": {},
   "outputs": [],
   "source": [
    "fashion_mnist = keras.datasets.fashion_mnist\n",
    "\n",
    "(X_trainp, y_trainp), (xt, yt) = fashion_mnist.load_data()\n",
    "\n",
    "#X_trainp=(X_trainp - np.mean(X_trainp))/np.std(X_trainp)\n",
    "#X_trainp /= X_trainp.sum(axis=1, keepdims=True)\n",
    "\n",
    "#xt_ = (xt.reshape(-1, 28, 28, 1)/255.0).astype('float32')\n",
    "X_trainm = (X_trainp.reshape(-1, 28, 28, 1)/255.0).astype('float32')\n",
    "y_trainm = y_trainp\n",
    "#X_train = imgs_trans(X_train,28)\n",
    "y_trainm = to_categorical(y_trainm.astype(\"int\"))\n"
   ]
  },
  {
   "cell_type": "code",
   "execution_count": 7,
   "metadata": {},
   "outputs": [
    {
     "data": {
      "text/plain": [
       "((60000, 28, 28, 1), (60000, 10))"
      ]
     },
     "execution_count": 7,
     "metadata": {},
     "output_type": "execute_result"
    }
   ],
   "source": [
    "X_trainm.shape,y_trainm.shape\n",
    "#X.shape,y.shape"
   ]
  },
  {
   "cell_type": "code",
   "execution_count": 8,
   "metadata": {},
   "outputs": [],
   "source": [
    "#X = imgs\n",
    "#y = labels\n",
    "\n",
    "#X = ((imgs[:100])/255.0).astype('float32')\n",
    "#y = labels[:100]\n",
    "#X_ = np.fliplr(X)\n",
    "#X = np.concatenate([X,X_])\n",
    "#y = np.concatenate([y,y])\n",
    "#X , y = shuffle_data(X,y,15)\n",
    "#loss = CrossEntropy\n",
    "# Covnet to  one-hot encoding\n",
    "#y = to_categorical(y.astype(\"int\"))\n",
    "#X = imgs_trans(X,32)\n",
    "#y = y.reshape(-1,1)\n",
    "#y.shape, X.shape"
   ]
  },
  {
   "cell_type": "code",
   "execution_count": 9,
   "metadata": {},
   "outputs": [
    {
     "ename": "NameError",
     "evalue": "name 'X' is not defined",
     "output_type": "error",
     "traceback": [
      "\u001b[0;31m---------------------------------------------------------------------------\u001b[0m",
      "\u001b[0;31mNameError\u001b[0m                                 Traceback (most recent call last)",
      "\u001b[0;32m<ipython-input-9-ad9cedadc05e>\u001b[0m in \u001b[0;36m<module>\u001b[0;34m\u001b[0m\n\u001b[0;32m----> 1\u001b[0;31m \u001b[0mX\u001b[0m\u001b[0;34m.\u001b[0m\u001b[0mshape\u001b[0m\u001b[0;34m,\u001b[0m\u001b[0my\u001b[0m\u001b[0;34m.\u001b[0m\u001b[0mshape\u001b[0m\u001b[0;34m\u001b[0m\u001b[0;34m\u001b[0m\u001b[0m\n\u001b[0m",
      "\u001b[0;31mNameError\u001b[0m: name 'X' is not defined"
     ]
    }
   ],
   "source": [
    "X.shape,y.shape"
   ]
  },
  {
   "cell_type": "code",
   "execution_count": null,
   "metadata": {},
   "outputs": [],
   "source": [
    "#optimizer = Adam()\n",
    "#data = datasets.load_digits()\n",
    "#X = data.data\n",
    "#y = data.target\n",
    "#loss = CrossEntropy\n",
    "# Covnet to  one-hot encoding \n",
    "#y = to_categorical(y.astype(\"int\"))"
   ]
  },
  {
   "cell_type": "code",
   "execution_count": 10,
   "metadata": {},
   "outputs": [],
   "source": [
    "layer = [#Conv2D(16,(3,3),'same',stride=1,optimizer=Adam(),act_fn='relu'),\n",
    "#Pool2D((2,2),pad='same',optimizer=Adam()),\n",
    "#Conv2D(16,(3,3),'same',stride=1,optimizer=Adam(),act_fn='relu'),\n",
    "Flatten(),\n",
    "Dense(256,act_fn='relu'),\n",
    "Dense(10),\n",
    "Softmax()         \n",
    "]\n",
    "\n"
   ]
  },
  {
   "cell_type": "code",
   "execution_count": 11,
   "metadata": {},
   "outputs": [],
   "source": [
    "#layer[0].hyperparameters"
   ]
  },
  {
   "cell_type": "code",
   "execution_count": 12,
   "metadata": {},
   "outputs": [],
   "source": [
    "#layer[0].change_optimizer('Adam')"
   ]
  },
  {
   "cell_type": "code",
   "execution_count": 13,
   "metadata": {},
   "outputs": [],
   "source": [
    "#layer[0].hyperparameters"
   ]
  },
  {
   "cell_type": "code",
   "execution_count": 14,
   "metadata": {},
   "outputs": [
    {
     "data": {
      "text/plain": [
       "{'layer': 'Flatten',\n",
       " 'keep_dim': 'first',\n",
       " 'optimizer': {'cache': {},\n",
       "  'hyperparameters': {'id': 'SGD',\n",
       "   'lr': 0.01,\n",
       "   'momentum': 0.0,\n",
       "   'clip_norm': None,\n",
       "   'lr_scheduler': 'ConstantScheduler(lr=0.01)'}}}"
      ]
     },
     "execution_count": 14,
     "metadata": {},
     "output_type": "execute_result"
    }
   ],
   "source": [
    "layer[0].hyperparameters"
   ]
  },
  {
   "cell_type": "code",
   "execution_count": 15,
   "metadata": {},
   "outputs": [],
   "source": [
    "#X_train, X_test, y_train, y_test = train_test_split(X, y, test_size = 0.4, seed = 1)\n",
    "X_train, X_test, y_train, y_test = train_test_split(X_trainm, y_trainm, test_size = 0.4, seed = 9)\n"
   ]
  },
  {
   "cell_type": "code",
   "execution_count": 16,
   "metadata": {},
   "outputs": [
    {
     "data": {
      "text/plain": [
       "((36000, 28, 28, 1), (24000, 28, 28, 1))"
      ]
     },
     "execution_count": 16,
     "metadata": {},
     "output_type": "execute_result"
    }
   ],
   "source": [
    "X_train.shape,X_test.shape\n"
   ]
  },
  {
   "cell_type": "code",
   "execution_count": 17,
   "metadata": {},
   "outputs": [],
   "source": [
    "#X_train = train_images.reshape((-1,28,28,1)).astype('float32')/255.0\n",
    "#X_test = test_images.reshape((-1,28,28,1)).astype('float32')/255.0\n",
    "#y_train = to_categorical(train_labels.astype(\"int\"))\n",
    "#y_test = to_categorical(test_labels.astype(\"int\"))\n"
   ]
  },
  {
   "cell_type": "code",
   "execution_count": 18,
   "metadata": {},
   "outputs": [],
   "source": [
    "nn = NeuralNetwork(Adam(),cp(),layers=layer,validation_data=(X_test,y_test))"
   ]
  },
  {
   "cell_type": "code",
   "execution_count": 19,
   "metadata": {
    "scrolled": true
   },
   "outputs": [
    {
     "name": "stdout",
     "output_type": "stream",
     "text": [
      "(Iteration 1 / 10800) loss: 0.389893\n",
      "Saving checkpoint to \"check_point_1_epoch_0.pkl\"\n",
      "(Epoch 0 / 15) train acc: 0.129000; val_acc: 0.126875\n",
      "(Iteration 11 / 10800) loss: 0.194061\n",
      "(Iteration 21 / 10800) loss: 0.144271\n",
      "(Iteration 31 / 10800) loss: 0.127079\n",
      "(Iteration 41 / 10800) loss: 0.140524\n",
      "(Iteration 51 / 10800) loss: 0.125705\n",
      "(Iteration 61 / 10800) loss: 0.099016\n",
      "(Iteration 71 / 10800) loss: 0.091208\n",
      "(Iteration 81 / 10800) loss: 0.085037\n",
      "(Iteration 91 / 10800) loss: 0.104020\n",
      "(Iteration 101 / 10800) loss: 0.128647\n",
      "(Iteration 111 / 10800) loss: 0.133807\n",
      "(Iteration 121 / 10800) loss: 0.093338\n",
      "(Iteration 131 / 10800) loss: 0.123872\n",
      "(Iteration 141 / 10800) loss: 0.108878\n",
      "(Iteration 151 / 10800) loss: 0.121972\n",
      "(Iteration 161 / 10800) loss: 0.091146\n",
      "(Iteration 171 / 10800) loss: 0.095083\n",
      "(Iteration 181 / 10800) loss: 0.124342\n",
      "(Iteration 191 / 10800) loss: 0.092717\n",
      "(Iteration 201 / 10800) loss: 0.072887\n",
      "(Iteration 211 / 10800) loss: 0.094336\n",
      "(Iteration 221 / 10800) loss: 0.070207\n",
      "(Iteration 231 / 10800) loss: 0.099426\n",
      "(Iteration 241 / 10800) loss: 0.096739\n",
      "(Iteration 251 / 10800) loss: 0.077969\n",
      "(Iteration 261 / 10800) loss: 0.114237\n",
      "(Iteration 271 / 10800) loss: 0.077704\n",
      "(Iteration 281 / 10800) loss: 0.126634\n",
      "(Iteration 291 / 10800) loss: 0.075887\n",
      "(Iteration 301 / 10800) loss: 0.100056\n",
      "(Iteration 311 / 10800) loss: 0.077486\n",
      "(Iteration 321 / 10800) loss: 0.032506\n",
      "(Iteration 331 / 10800) loss: 0.070631\n",
      "(Iteration 341 / 10800) loss: 0.087079\n",
      "(Iteration 351 / 10800) loss: 0.083558\n",
      "(Iteration 361 / 10800) loss: 0.051888\n",
      "(Iteration 371 / 10800) loss: 0.073798\n",
      "(Iteration 381 / 10800) loss: 0.073666\n",
      "(Iteration 391 / 10800) loss: 0.044560\n",
      "(Iteration 401 / 10800) loss: 0.091118\n",
      "(Iteration 411 / 10800) loss: 0.063060\n",
      "(Iteration 421 / 10800) loss: 0.104560\n",
      "(Iteration 431 / 10800) loss: 0.056288\n",
      "(Iteration 441 / 10800) loss: 0.095032\n",
      "(Iteration 451 / 10800) loss: 0.066160\n",
      "(Iteration 461 / 10800) loss: 0.072516\n",
      "(Iteration 471 / 10800) loss: 0.092702\n",
      "(Iteration 481 / 10800) loss: 0.105542\n",
      "(Iteration 491 / 10800) loss: 0.077200\n",
      "(Iteration 501 / 10800) loss: 0.067053\n",
      "(Iteration 511 / 10800) loss: 0.084343\n",
      "(Iteration 521 / 10800) loss: 0.065986\n",
      "(Iteration 531 / 10800) loss: 0.064620\n",
      "(Iteration 541 / 10800) loss: 0.067425\n",
      "(Iteration 551 / 10800) loss: 0.084533\n",
      "(Iteration 561 / 10800) loss: 0.091115\n",
      "(Iteration 571 / 10800) loss: 0.047507\n",
      "(Iteration 581 / 10800) loss: 0.102060\n",
      "(Iteration 591 / 10800) loss: 0.062838\n",
      "(Iteration 601 / 10800) loss: 0.077447\n",
      "(Iteration 611 / 10800) loss: 0.060223\n",
      "(Iteration 621 / 10800) loss: 0.074977\n",
      "(Iteration 631 / 10800) loss: 0.055385\n",
      "(Iteration 641 / 10800) loss: 0.063433\n",
      "(Iteration 651 / 10800) loss: 0.103046\n",
      "(Iteration 661 / 10800) loss: 0.077085\n",
      "(Iteration 671 / 10800) loss: 0.082512\n",
      "(Iteration 681 / 10800) loss: 0.068136\n",
      "(Iteration 691 / 10800) loss: 0.066930\n",
      "(Iteration 701 / 10800) loss: 0.072210\n",
      "(Iteration 711 / 10800) loss: 0.057654\n",
      "Saving checkpoint to \"check_point_1_epoch_1.pkl\"\n",
      "(Epoch 1 / 15) train acc: 0.839000; val_acc: 0.839333\n",
      "(Iteration 721 / 10800) loss: 0.087616\n",
      "(Iteration 731 / 10800) loss: 0.054981\n",
      "(Iteration 741 / 10800) loss: 0.071761\n",
      "(Iteration 751 / 10800) loss: 0.055165\n",
      "(Iteration 761 / 10800) loss: 0.083543\n",
      "(Iteration 771 / 10800) loss: 0.051081\n",
      "(Iteration 781 / 10800) loss: 0.083669\n",
      "(Iteration 791 / 10800) loss: 0.079595\n",
      "(Iteration 801 / 10800) loss: 0.062973\n",
      "(Iteration 811 / 10800) loss: 0.076785\n",
      "(Iteration 821 / 10800) loss: 0.054214\n",
      "(Iteration 831 / 10800) loss: 0.097433\n",
      "(Iteration 841 / 10800) loss: 0.080771\n",
      "(Iteration 851 / 10800) loss: 0.088471\n",
      "(Iteration 861 / 10800) loss: 0.065666\n",
      "(Iteration 871 / 10800) loss: 0.087755\n",
      "(Iteration 881 / 10800) loss: 0.072219\n",
      "(Iteration 891 / 10800) loss: 0.063096\n",
      "(Iteration 901 / 10800) loss: 0.083960\n",
      "(Iteration 911 / 10800) loss: 0.088164\n",
      "(Iteration 921 / 10800) loss: 0.058313\n",
      "(Iteration 931 / 10800) loss: 0.094332\n",
      "(Iteration 941 / 10800) loss: 0.095101\n",
      "(Iteration 951 / 10800) loss: 0.077160\n",
      "(Iteration 961 / 10800) loss: 0.052427\n",
      "(Iteration 971 / 10800) loss: 0.073557\n",
      "(Iteration 981 / 10800) loss: 0.067044\n",
      "(Iteration 991 / 10800) loss: 0.074411\n",
      "(Iteration 1001 / 10800) loss: 0.068312\n",
      "(Iteration 1011 / 10800) loss: 0.053709\n",
      "(Iteration 1021 / 10800) loss: 0.060803\n",
      "(Iteration 1031 / 10800) loss: 0.046279\n",
      "(Iteration 1041 / 10800) loss: 0.105182\n",
      "(Iteration 1051 / 10800) loss: 0.089010\n",
      "(Iteration 1061 / 10800) loss: 0.077590\n",
      "(Iteration 1071 / 10800) loss: 0.073452\n",
      "(Iteration 1081 / 10800) loss: 0.068893\n",
      "(Iteration 1091 / 10800) loss: 0.070446\n",
      "(Iteration 1101 / 10800) loss: 0.066675\n",
      "(Iteration 1111 / 10800) loss: 0.057238\n",
      "(Iteration 1121 / 10800) loss: 0.071738\n",
      "(Iteration 1131 / 10800) loss: 0.061477\n",
      "(Iteration 1141 / 10800) loss: 0.091101\n",
      "(Iteration 1151 / 10800) loss: 0.080434\n",
      "(Iteration 1161 / 10800) loss: 0.065510\n",
      "(Iteration 1171 / 10800) loss: 0.059991\n",
      "(Iteration 1181 / 10800) loss: 0.049521\n",
      "(Iteration 1191 / 10800) loss: 0.057372\n",
      "(Iteration 1201 / 10800) loss: 0.088001\n",
      "(Iteration 1211 / 10800) loss: 0.086627\n",
      "(Iteration 1221 / 10800) loss: 0.094399\n",
      "(Iteration 1231 / 10800) loss: 0.058487\n",
      "(Iteration 1241 / 10800) loss: 0.067181\n",
      "(Iteration 1251 / 10800) loss: 0.043049\n",
      "(Iteration 1261 / 10800) loss: 0.075438\n",
      "(Iteration 1271 / 10800) loss: 0.077580\n",
      "(Iteration 1281 / 10800) loss: 0.052414\n",
      "(Iteration 1291 / 10800) loss: 0.047538\n",
      "(Iteration 1301 / 10800) loss: 0.079074\n",
      "(Iteration 1311 / 10800) loss: 0.080407\n",
      "(Iteration 1321 / 10800) loss: 0.088441\n",
      "(Iteration 1331 / 10800) loss: 0.088365\n",
      "(Iteration 1341 / 10800) loss: 0.058418\n",
      "(Iteration 1351 / 10800) loss: 0.067932\n",
      "(Iteration 1361 / 10800) loss: 0.061226\n",
      "(Iteration 1371 / 10800) loss: 0.041156\n",
      "(Iteration 1381 / 10800) loss: 0.067984\n",
      "(Iteration 1391 / 10800) loss: 0.046908\n",
      "(Iteration 1401 / 10800) loss: 0.093562\n",
      "(Iteration 1411 / 10800) loss: 0.085332\n",
      "(Iteration 1421 / 10800) loss: 0.058311\n",
      "(Iteration 1431 / 10800) loss: 0.072525\n",
      "Saving checkpoint to \"check_point_1_epoch_2.pkl\"\n",
      "(Epoch 2 / 15) train acc: 0.869000; val_acc: 0.861667\n",
      "(Iteration 1441 / 10800) loss: 0.039635\n",
      "(Iteration 1451 / 10800) loss: 0.052630\n",
      "(Iteration 1461 / 10800) loss: 0.047497\n",
      "(Iteration 1471 / 10800) loss: 0.097187\n",
      "(Iteration 1481 / 10800) loss: 0.062417\n",
      "(Iteration 1491 / 10800) loss: 0.035852\n",
      "(Iteration 1501 / 10800) loss: 0.065936\n",
      "(Iteration 1511 / 10800) loss: 0.091089\n",
      "(Iteration 1521 / 10800) loss: 0.042717\n",
      "(Iteration 1531 / 10800) loss: 0.121597\n",
      "(Iteration 1541 / 10800) loss: 0.045048\n",
      "(Iteration 1551 / 10800) loss: 0.052242\n",
      "(Iteration 1561 / 10800) loss: 0.040642\n",
      "(Iteration 1571 / 10800) loss: 0.058527\n",
      "(Iteration 1581 / 10800) loss: 0.042431\n",
      "(Iteration 1591 / 10800) loss: 0.042375\n",
      "(Iteration 1601 / 10800) loss: 0.069242\n",
      "(Iteration 1611 / 10800) loss: 0.076304\n",
      "(Iteration 1621 / 10800) loss: 0.054006\n",
      "(Iteration 1631 / 10800) loss: 0.053588\n",
      "(Iteration 1641 / 10800) loss: 0.051806\n",
      "(Iteration 1651 / 10800) loss: 0.039743\n",
      "(Iteration 1661 / 10800) loss: 0.067456\n",
      "(Iteration 1671 / 10800) loss: 0.047030\n",
      "(Iteration 1681 / 10800) loss: 0.084823\n",
      "(Iteration 1691 / 10800) loss: 0.066614\n",
      "(Iteration 1701 / 10800) loss: 0.066585\n",
      "(Iteration 1711 / 10800) loss: 0.056603\n",
      "(Iteration 1721 / 10800) loss: 0.062921\n",
      "(Iteration 1731 / 10800) loss: 0.053277\n",
      "(Iteration 1741 / 10800) loss: 0.081432\n",
      "(Iteration 1751 / 10800) loss: 0.044200\n",
      "(Iteration 1761 / 10800) loss: 0.051786\n",
      "(Iteration 1771 / 10800) loss: 0.047249\n",
      "(Iteration 1781 / 10800) loss: 0.035604\n",
      "(Iteration 1791 / 10800) loss: 0.024783\n",
      "(Iteration 1801 / 10800) loss: 0.052930\n",
      "(Iteration 1811 / 10800) loss: 0.056068\n",
      "(Iteration 1821 / 10800) loss: 0.053190\n",
      "(Iteration 1831 / 10800) loss: 0.054710\n",
      "(Iteration 1841 / 10800) loss: 0.044990\n",
      "(Iteration 1851 / 10800) loss: 0.102330\n",
      "(Iteration 1861 / 10800) loss: 0.050814\n",
      "(Iteration 1871 / 10800) loss: 0.078064\n",
      "(Iteration 1881 / 10800) loss: 0.042335\n",
      "(Iteration 1891 / 10800) loss: 0.029350\n",
      "(Iteration 1901 / 10800) loss: 0.040131\n",
      "(Iteration 1911 / 10800) loss: 0.084974\n",
      "(Iteration 1921 / 10800) loss: 0.075351\n",
      "(Iteration 1931 / 10800) loss: 0.060815\n",
      "(Iteration 1941 / 10800) loss: 0.050823\n",
      "(Iteration 1951 / 10800) loss: 0.045818\n",
      "(Iteration 1961 / 10800) loss: 0.051983\n",
      "(Iteration 1971 / 10800) loss: 0.046240\n",
      "(Iteration 1981 / 10800) loss: 0.092291\n",
      "(Iteration 1991 / 10800) loss: 0.038034\n",
      "(Iteration 2001 / 10800) loss: 0.057756\n",
      "(Iteration 2011 / 10800) loss: 0.066840\n",
      "(Iteration 2021 / 10800) loss: 0.078637\n"
     ]
    },
    {
     "name": "stdout",
     "output_type": "stream",
     "text": [
      "(Iteration 2031 / 10800) loss: 0.051090\n",
      "(Iteration 2041 / 10800) loss: 0.073170\n",
      "(Iteration 2051 / 10800) loss: 0.037879\n",
      "(Iteration 2061 / 10800) loss: 0.057549\n",
      "(Iteration 2071 / 10800) loss: 0.059679\n",
      "(Iteration 2081 / 10800) loss: 0.043914\n",
      "(Iteration 2091 / 10800) loss: 0.069357\n",
      "(Iteration 2101 / 10800) loss: 0.037201\n",
      "(Iteration 2111 / 10800) loss: 0.074219\n",
      "(Iteration 2121 / 10800) loss: 0.053683\n",
      "(Iteration 2131 / 10800) loss: 0.060356\n",
      "(Iteration 2141 / 10800) loss: 0.054968\n",
      "(Iteration 2151 / 10800) loss: 0.047969\n",
      "Saving checkpoint to \"check_point_1_epoch_3.pkl\"\n",
      "(Epoch 3 / 15) train acc: 0.896000; val_acc: 0.868292\n",
      "(Iteration 2161 / 10800) loss: 0.061249\n",
      "(Iteration 2171 / 10800) loss: 0.071172\n",
      "(Iteration 2181 / 10800) loss: 0.051988\n",
      "(Iteration 2191 / 10800) loss: 0.042234\n",
      "(Iteration 2201 / 10800) loss: 0.054095\n",
      "(Iteration 2211 / 10800) loss: 0.055714\n",
      "(Iteration 2221 / 10800) loss: 0.073216\n",
      "(Iteration 2231 / 10800) loss: 0.090261\n",
      "(Iteration 2241 / 10800) loss: 0.074266\n",
      "(Iteration 2251 / 10800) loss: 0.065523\n",
      "(Iteration 2261 / 10800) loss: 0.063996\n",
      "(Iteration 2271 / 10800) loss: 0.035086\n",
      "(Iteration 2281 / 10800) loss: 0.097806\n",
      "(Iteration 2291 / 10800) loss: 0.048282\n",
      "(Iteration 2301 / 10800) loss: 0.067231\n",
      "(Iteration 2311 / 10800) loss: 0.051571\n",
      "(Iteration 2321 / 10800) loss: 0.065363\n",
      "(Iteration 2331 / 10800) loss: 0.048514\n",
      "(Iteration 2341 / 10800) loss: 0.065535\n",
      "(Iteration 2351 / 10800) loss: 0.031858\n",
      "(Iteration 2361 / 10800) loss: 0.081745\n",
      "(Iteration 2371 / 10800) loss: 0.048662\n",
      "(Iteration 2381 / 10800) loss: 0.071386\n",
      "(Iteration 2391 / 10800) loss: 0.042700\n",
      "(Iteration 2401 / 10800) loss: 0.067616\n",
      "(Iteration 2411 / 10800) loss: 0.058363\n",
      "(Iteration 2421 / 10800) loss: 0.045776\n",
      "(Iteration 2431 / 10800) loss: 0.024603\n",
      "(Iteration 2441 / 10800) loss: 0.073499\n",
      "(Iteration 2451 / 10800) loss: 0.047515\n",
      "(Iteration 2461 / 10800) loss: 0.087321\n",
      "(Iteration 2471 / 10800) loss: 0.063269\n",
      "(Iteration 2481 / 10800) loss: 0.040016\n",
      "(Iteration 2491 / 10800) loss: 0.052457\n",
      "(Iteration 2501 / 10800) loss: 0.072459\n",
      "(Iteration 2511 / 10800) loss: 0.046795\n",
      "(Iteration 2521 / 10800) loss: 0.072112\n",
      "(Iteration 2531 / 10800) loss: 0.052450\n",
      "(Iteration 2541 / 10800) loss: 0.049504\n",
      "(Iteration 2551 / 10800) loss: 0.068681\n",
      "(Iteration 2561 / 10800) loss: 0.058663\n",
      "(Iteration 2571 / 10800) loss: 0.066116\n",
      "(Iteration 2581 / 10800) loss: 0.050773\n",
      "(Iteration 2591 / 10800) loss: 0.038089\n",
      "(Iteration 2601 / 10800) loss: 0.036545\n",
      "(Iteration 2611 / 10800) loss: 0.047846\n",
      "(Iteration 2621 / 10800) loss: 0.067543\n",
      "(Iteration 2631 / 10800) loss: 0.068997\n",
      "(Iteration 2641 / 10800) loss: 0.031657\n",
      "(Iteration 2651 / 10800) loss: 0.071916\n",
      "(Iteration 2661 / 10800) loss: 0.044884\n",
      "(Iteration 2671 / 10800) loss: 0.103818\n",
      "(Iteration 2681 / 10800) loss: 0.035998\n",
      "(Iteration 2691 / 10800) loss: 0.038916\n",
      "(Iteration 2701 / 10800) loss: 0.073735\n",
      "(Iteration 2711 / 10800) loss: 0.035458\n",
      "(Iteration 2721 / 10800) loss: 0.041043\n",
      "(Iteration 2731 / 10800) loss: 0.074968\n",
      "(Iteration 2741 / 10800) loss: 0.076457\n",
      "(Iteration 2751 / 10800) loss: 0.050489\n",
      "(Iteration 2761 / 10800) loss: 0.042576\n",
      "(Iteration 2771 / 10800) loss: 0.050165\n",
      "(Iteration 2781 / 10800) loss: 0.056800\n",
      "(Iteration 2791 / 10800) loss: 0.043507\n",
      "(Iteration 2801 / 10800) loss: 0.051002\n",
      "(Iteration 2811 / 10800) loss: 0.080037\n",
      "(Iteration 2821 / 10800) loss: 0.058851\n",
      "(Iteration 2831 / 10800) loss: 0.051893\n",
      "(Iteration 2841 / 10800) loss: 0.065585\n",
      "(Iteration 2851 / 10800) loss: 0.096352\n",
      "(Iteration 2861 / 10800) loss: 0.028449\n",
      "(Iteration 2871 / 10800) loss: 0.081683\n",
      "Saving checkpoint to \"check_point_1_epoch_4.pkl\"\n",
      "(Epoch 4 / 15) train acc: 0.892000; val_acc: 0.866000\n",
      "(Iteration 2881 / 10800) loss: 0.096543\n",
      "(Iteration 2891 / 10800) loss: 0.039381\n",
      "(Iteration 2901 / 10800) loss: 0.042353\n",
      "(Iteration 2911 / 10800) loss: 0.057380\n",
      "(Iteration 2921 / 10800) loss: 0.070317\n",
      "(Iteration 2931 / 10800) loss: 0.045274\n",
      "(Iteration 2941 / 10800) loss: 0.063998\n",
      "(Iteration 2951 / 10800) loss: 0.072585\n",
      "(Iteration 2961 / 10800) loss: 0.058629\n",
      "(Iteration 2971 / 10800) loss: 0.051545\n",
      "(Iteration 2981 / 10800) loss: 0.044482\n",
      "(Iteration 2991 / 10800) loss: 0.055637\n",
      "(Iteration 3001 / 10800) loss: 0.087445\n",
      "(Iteration 3011 / 10800) loss: 0.048322\n",
      "(Iteration 3021 / 10800) loss: 0.043545\n",
      "(Iteration 3031 / 10800) loss: 0.042731\n",
      "(Iteration 3041 / 10800) loss: 0.030886\n",
      "(Iteration 3051 / 10800) loss: 0.031340\n",
      "(Iteration 3061 / 10800) loss: 0.093351\n",
      "(Iteration 3071 / 10800) loss: 0.050327\n",
      "(Iteration 3081 / 10800) loss: 0.071151\n",
      "(Iteration 3091 / 10800) loss: 0.082855\n",
      "(Iteration 3101 / 10800) loss: 0.051825\n",
      "(Iteration 3111 / 10800) loss: 0.059265\n",
      "(Iteration 3121 / 10800) loss: 0.050757\n",
      "(Iteration 3131 / 10800) loss: 0.053353\n",
      "(Iteration 3141 / 10800) loss: 0.064861\n",
      "(Iteration 3151 / 10800) loss: 0.057137\n",
      "(Iteration 3161 / 10800) loss: 0.047989\n",
      "(Iteration 3171 / 10800) loss: 0.053809\n",
      "(Iteration 3181 / 10800) loss: 0.049587\n",
      "(Iteration 3191 / 10800) loss: 0.036295\n",
      "(Iteration 3201 / 10800) loss: 0.036665\n",
      "(Iteration 3211 / 10800) loss: 0.048951\n",
      "(Iteration 3221 / 10800) loss: 0.078230\n",
      "(Iteration 3231 / 10800) loss: 0.022769\n",
      "(Iteration 3241 / 10800) loss: 0.080149\n",
      "(Iteration 3251 / 10800) loss: 0.092959\n",
      "(Iteration 3261 / 10800) loss: 0.024969\n",
      "(Iteration 3271 / 10800) loss: 0.051580\n",
      "(Iteration 3281 / 10800) loss: 0.057282\n",
      "(Iteration 3291 / 10800) loss: 0.073107\n",
      "(Iteration 3301 / 10800) loss: 0.044132\n",
      "(Iteration 3311 / 10800) loss: 0.047154\n",
      "(Iteration 3321 / 10800) loss: 0.030730\n",
      "(Iteration 3331 / 10800) loss: 0.032268\n",
      "(Iteration 3341 / 10800) loss: 0.031429\n",
      "(Iteration 3351 / 10800) loss: 0.033235\n",
      "(Iteration 3361 / 10800) loss: 0.062915\n",
      "(Iteration 3371 / 10800) loss: 0.039293\n",
      "(Iteration 3381 / 10800) loss: 0.074948\n",
      "(Iteration 3391 / 10800) loss: 0.022907\n",
      "(Iteration 3401 / 10800) loss: 0.077193\n",
      "(Iteration 3411 / 10800) loss: 0.028874\n",
      "(Iteration 3421 / 10800) loss: 0.052217\n",
      "(Iteration 3431 / 10800) loss: 0.091747\n",
      "(Iteration 3441 / 10800) loss: 0.055298\n",
      "(Iteration 3451 / 10800) loss: 0.048607\n",
      "(Iteration 3461 / 10800) loss: 0.054921\n",
      "(Iteration 3471 / 10800) loss: 0.107765\n",
      "(Iteration 3481 / 10800) loss: 0.060941\n",
      "(Iteration 3491 / 10800) loss: 0.039420\n",
      "(Iteration 3501 / 10800) loss: 0.025834\n",
      "(Iteration 3511 / 10800) loss: 0.056832\n",
      "(Iteration 3521 / 10800) loss: 0.037313\n",
      "(Iteration 3531 / 10800) loss: 0.040163\n",
      "(Iteration 3541 / 10800) loss: 0.056830\n",
      "(Iteration 3551 / 10800) loss: 0.080809\n",
      "(Iteration 3561 / 10800) loss: 0.069951\n",
      "(Iteration 3571 / 10800) loss: 0.057839\n",
      "(Iteration 3581 / 10800) loss: 0.071730\n",
      "(Iteration 3591 / 10800) loss: 0.067980\n",
      "Saving checkpoint to \"check_point_1_epoch_5.pkl\"\n",
      "(Epoch 5 / 15) train acc: 0.867000; val_acc: 0.866458\n",
      "(Iteration 3601 / 10800) loss: 0.048764\n",
      "(Iteration 3611 / 10800) loss: 0.042749\n",
      "(Iteration 3621 / 10800) loss: 0.035920\n",
      "(Iteration 3631 / 10800) loss: 0.036131\n",
      "(Iteration 3641 / 10800) loss: 0.043579\n",
      "(Iteration 3651 / 10800) loss: 0.029517\n",
      "(Iteration 3661 / 10800) loss: 0.051936\n",
      "(Iteration 3671 / 10800) loss: 0.038249\n",
      "(Iteration 3681 / 10800) loss: 0.035391\n",
      "(Iteration 3691 / 10800) loss: 0.040542\n",
      "(Iteration 3701 / 10800) loss: 0.079370\n",
      "(Iteration 3711 / 10800) loss: 0.031385\n",
      "(Iteration 3721 / 10800) loss: 0.072189\n",
      "(Iteration 3731 / 10800) loss: 0.077829\n",
      "(Iteration 3741 / 10800) loss: 0.078088\n",
      "(Iteration 3751 / 10800) loss: 0.055812\n",
      "(Iteration 3761 / 10800) loss: 0.035310\n",
      "(Iteration 3771 / 10800) loss: 0.093729\n",
      "(Iteration 3781 / 10800) loss: 0.041371\n",
      "(Iteration 3791 / 10800) loss: 0.059090\n",
      "(Iteration 3801 / 10800) loss: 0.051609\n",
      "(Iteration 3811 / 10800) loss: 0.040322\n",
      "(Iteration 3821 / 10800) loss: 0.061975\n",
      "(Iteration 3831 / 10800) loss: 0.050657\n",
      "(Iteration 3841 / 10800) loss: 0.034977\n",
      "(Iteration 3851 / 10800) loss: 0.068464\n",
      "(Iteration 3861 / 10800) loss: 0.077126\n",
      "(Iteration 3871 / 10800) loss: 0.052271\n",
      "(Iteration 3881 / 10800) loss: 0.071402\n",
      "(Iteration 3891 / 10800) loss: 0.039296\n",
      "(Iteration 3901 / 10800) loss: 0.071799\n",
      "(Iteration 3911 / 10800) loss: 0.064906\n",
      "(Iteration 3921 / 10800) loss: 0.032949\n",
      "(Iteration 3931 / 10800) loss: 0.055571\n",
      "(Iteration 3941 / 10800) loss: 0.078393\n",
      "(Iteration 3951 / 10800) loss: 0.034766\n",
      "(Iteration 3961 / 10800) loss: 0.056471\n",
      "(Iteration 3971 / 10800) loss: 0.055898\n",
      "(Iteration 3981 / 10800) loss: 0.045092\n",
      "(Iteration 3991 / 10800) loss: 0.057746\n",
      "(Iteration 4001 / 10800) loss: 0.038242\n",
      "(Iteration 4011 / 10800) loss: 0.024577\n",
      "(Iteration 4021 / 10800) loss: 0.033155\n"
     ]
    },
    {
     "name": "stdout",
     "output_type": "stream",
     "text": [
      "(Iteration 4031 / 10800) loss: 0.037394\n",
      "(Iteration 4041 / 10800) loss: 0.070092\n",
      "(Iteration 4051 / 10800) loss: 0.054586\n",
      "(Iteration 4061 / 10800) loss: 0.036110\n",
      "(Iteration 4071 / 10800) loss: 0.037943\n",
      "(Iteration 4081 / 10800) loss: 0.059854\n",
      "(Iteration 4091 / 10800) loss: 0.051401\n",
      "(Iteration 4101 / 10800) loss: 0.044990\n",
      "(Iteration 4111 / 10800) loss: 0.042985\n",
      "(Iteration 4121 / 10800) loss: 0.056821\n",
      "(Iteration 4131 / 10800) loss: 0.059795\n",
      "(Iteration 4141 / 10800) loss: 0.037240\n",
      "(Iteration 4151 / 10800) loss: 0.074454\n",
      "(Iteration 4161 / 10800) loss: 0.045851\n",
      "(Iteration 4171 / 10800) loss: 0.064390\n",
      "(Iteration 4181 / 10800) loss: 0.031382\n",
      "(Iteration 4191 / 10800) loss: 0.050092\n",
      "(Iteration 4201 / 10800) loss: 0.034539\n",
      "(Iteration 4211 / 10800) loss: 0.071059\n",
      "(Iteration 4221 / 10800) loss: 0.051245\n",
      "(Iteration 4231 / 10800) loss: 0.064125\n",
      "(Iteration 4241 / 10800) loss: 0.040568\n",
      "(Iteration 4251 / 10800) loss: 0.022505\n",
      "(Iteration 4261 / 10800) loss: 0.041533\n",
      "(Iteration 4271 / 10800) loss: 0.070707\n",
      "(Iteration 4281 / 10800) loss: 0.035336\n",
      "(Iteration 4291 / 10800) loss: 0.030859\n",
      "(Iteration 4301 / 10800) loss: 0.033579\n",
      "(Iteration 4311 / 10800) loss: 0.041742\n",
      "Saving checkpoint to \"check_point_1_epoch_6.pkl\"\n",
      "(Epoch 6 / 15) train acc: 0.909000; val_acc: 0.874333\n",
      "(Iteration 4321 / 10800) loss: 0.042035\n",
      "(Iteration 4331 / 10800) loss: 0.029915\n",
      "(Iteration 4341 / 10800) loss: 0.043479\n",
      "(Iteration 4351 / 10800) loss: 0.045045\n",
      "(Iteration 4361 / 10800) loss: 0.023347\n",
      "(Iteration 4371 / 10800) loss: 0.056466\n",
      "(Iteration 4381 / 10800) loss: 0.062904\n",
      "(Iteration 4391 / 10800) loss: 0.050948\n",
      "(Iteration 4401 / 10800) loss: 0.082724\n",
      "(Iteration 4411 / 10800) loss: 0.032571\n",
      "(Iteration 4421 / 10800) loss: 0.063218\n",
      "(Iteration 4431 / 10800) loss: 0.035239\n",
      "(Iteration 4441 / 10800) loss: 0.062366\n",
      "(Iteration 4451 / 10800) loss: 0.047323\n",
      "(Iteration 4461 / 10800) loss: 0.055200\n",
      "(Iteration 4471 / 10800) loss: 0.058648\n",
      "(Iteration 4481 / 10800) loss: 0.048379\n",
      "(Iteration 4491 / 10800) loss: 0.033896\n",
      "(Iteration 4501 / 10800) loss: 0.075672\n",
      "(Iteration 4511 / 10800) loss: 0.063922\n",
      "(Iteration 4521 / 10800) loss: 0.043856\n",
      "(Iteration 4531 / 10800) loss: 0.056615\n",
      "(Iteration 4541 / 10800) loss: 0.044347\n",
      "(Iteration 4551 / 10800) loss: 0.063867\n",
      "(Iteration 4561 / 10800) loss: 0.039917\n",
      "(Iteration 4571 / 10800) loss: 0.066904\n",
      "(Iteration 4581 / 10800) loss: 0.032168\n",
      "(Iteration 4591 / 10800) loss: 0.045267\n",
      "(Iteration 4601 / 10800) loss: 0.065611\n",
      "(Iteration 4611 / 10800) loss: 0.034303\n",
      "(Iteration 4621 / 10800) loss: 0.046421\n",
      "(Iteration 4631 / 10800) loss: 0.024797\n",
      "(Iteration 4641 / 10800) loss: 0.040626\n",
      "(Iteration 4651 / 10800) loss: 0.063070\n",
      "(Iteration 4661 / 10800) loss: 0.046779\n",
      "(Iteration 4671 / 10800) loss: 0.036359\n",
      "(Iteration 4681 / 10800) loss: 0.038863\n",
      "(Iteration 4691 / 10800) loss: 0.039407\n",
      "(Iteration 4701 / 10800) loss: 0.019719\n",
      "(Iteration 4711 / 10800) loss: 0.062717\n",
      "(Iteration 4721 / 10800) loss: 0.041211\n",
      "(Iteration 4731 / 10800) loss: 0.055375\n",
      "(Iteration 4741 / 10800) loss: 0.034589\n",
      "(Iteration 4751 / 10800) loss: 0.056932\n",
      "(Iteration 4761 / 10800) loss: 0.046618\n",
      "(Iteration 4771 / 10800) loss: 0.058275\n",
      "(Iteration 4781 / 10800) loss: 0.046018\n",
      "(Iteration 4791 / 10800) loss: 0.054248\n",
      "(Iteration 4801 / 10800) loss: 0.088012\n",
      "(Iteration 4811 / 10800) loss: 0.073941\n",
      "(Iteration 4821 / 10800) loss: 0.043746\n",
      "(Iteration 4831 / 10800) loss: 0.030807\n",
      "(Iteration 4841 / 10800) loss: 0.020102\n",
      "(Iteration 4851 / 10800) loss: 0.064573\n",
      "(Iteration 4861 / 10800) loss: 0.047043\n",
      "(Iteration 4871 / 10800) loss: 0.037435\n",
      "(Iteration 4881 / 10800) loss: 0.033780\n",
      "(Iteration 4891 / 10800) loss: 0.028600\n",
      "(Iteration 4901 / 10800) loss: 0.022356\n",
      "(Iteration 4911 / 10800) loss: 0.022528\n",
      "(Iteration 4921 / 10800) loss: 0.088809\n",
      "(Iteration 4931 / 10800) loss: 0.046890\n",
      "(Iteration 4941 / 10800) loss: 0.027772\n",
      "(Iteration 4951 / 10800) loss: 0.055219\n",
      "(Iteration 4961 / 10800) loss: 0.092512\n",
      "(Iteration 4971 / 10800) loss: 0.047730\n",
      "(Iteration 4981 / 10800) loss: 0.048059\n",
      "(Iteration 4991 / 10800) loss: 0.057056\n",
      "(Iteration 5001 / 10800) loss: 0.067668\n",
      "(Iteration 5011 / 10800) loss: 0.042289\n",
      "(Iteration 5021 / 10800) loss: 0.027585\n",
      "(Iteration 5031 / 10800) loss: 0.031183\n",
      "Saving checkpoint to \"check_point_1_epoch_7.pkl\"\n",
      "(Epoch 7 / 15) train acc: 0.881000; val_acc: 0.869667\n",
      "(Iteration 5041 / 10800) loss: 0.081344\n",
      "(Iteration 5051 / 10800) loss: 0.071710\n",
      "(Iteration 5061 / 10800) loss: 0.047272\n",
      "(Iteration 5071 / 10800) loss: 0.022527\n",
      "(Iteration 5081 / 10800) loss: 0.025532\n",
      "(Iteration 5091 / 10800) loss: 0.050340\n",
      "(Iteration 5101 / 10800) loss: 0.032948\n",
      "(Iteration 5111 / 10800) loss: 0.080270\n",
      "(Iteration 5121 / 10800) loss: 0.029727\n",
      "(Iteration 5131 / 10800) loss: 0.035127\n",
      "(Iteration 5141 / 10800) loss: 0.028101\n",
      "(Iteration 5151 / 10800) loss: 0.055258\n",
      "(Iteration 5161 / 10800) loss: 0.053489\n",
      "(Iteration 5171 / 10800) loss: 0.039622\n",
      "(Iteration 5181 / 10800) loss: 0.045759\n",
      "(Iteration 5191 / 10800) loss: 0.024725\n",
      "(Iteration 5201 / 10800) loss: 0.032618\n",
      "(Iteration 5211 / 10800) loss: 0.070624\n",
      "(Iteration 5221 / 10800) loss: 0.049515\n",
      "(Iteration 5231 / 10800) loss: 0.045498\n",
      "(Iteration 5241 / 10800) loss: 0.038542\n",
      "(Iteration 5251 / 10800) loss: 0.065696\n",
      "(Iteration 5261 / 10800) loss: 0.053072\n",
      "(Iteration 5271 / 10800) loss: 0.070206\n",
      "(Iteration 5281 / 10800) loss: 0.066347\n",
      "(Iteration 5291 / 10800) loss: 0.042423\n",
      "(Iteration 5301 / 10800) loss: 0.064613\n",
      "(Iteration 5311 / 10800) loss: 0.044172\n",
      "(Iteration 5321 / 10800) loss: 0.028365\n",
      "(Iteration 5331 / 10800) loss: 0.037832\n",
      "(Iteration 5341 / 10800) loss: 0.029289\n",
      "(Iteration 5351 / 10800) loss: 0.055756\n",
      "(Iteration 5361 / 10800) loss: 0.036669\n",
      "(Iteration 5371 / 10800) loss: 0.064963\n",
      "(Iteration 5381 / 10800) loss: 0.040410\n",
      "(Iteration 5391 / 10800) loss: 0.046255\n",
      "(Iteration 5401 / 10800) loss: 0.031355\n",
      "(Iteration 5411 / 10800) loss: 0.039515\n",
      "(Iteration 5421 / 10800) loss: 0.054208\n",
      "(Iteration 5431 / 10800) loss: 0.063133\n",
      "(Iteration 5441 / 10800) loss: 0.037799\n",
      "(Iteration 5451 / 10800) loss: 0.029025\n",
      "(Iteration 5461 / 10800) loss: 0.057698\n",
      "(Iteration 5471 / 10800) loss: 0.036358\n",
      "(Iteration 5481 / 10800) loss: 0.049077\n",
      "(Iteration 5491 / 10800) loss: 0.055570\n",
      "(Iteration 5501 / 10800) loss: 0.052858\n",
      "(Iteration 5511 / 10800) loss: 0.042327\n",
      "(Iteration 5521 / 10800) loss: 0.035284\n",
      "(Iteration 5531 / 10800) loss: 0.051776\n",
      "(Iteration 5541 / 10800) loss: 0.052081\n",
      "(Iteration 5551 / 10800) loss: 0.070222\n",
      "(Iteration 5561 / 10800) loss: 0.033463\n",
      "(Iteration 5571 / 10800) loss: 0.027168\n",
      "(Iteration 5581 / 10800) loss: 0.046062\n",
      "(Iteration 5591 / 10800) loss: 0.031249\n",
      "(Iteration 5601 / 10800) loss: 0.033348\n",
      "(Iteration 5611 / 10800) loss: 0.079501\n",
      "(Iteration 5621 / 10800) loss: 0.055353\n",
      "(Iteration 5631 / 10800) loss: 0.045031\n",
      "(Iteration 5641 / 10800) loss: 0.083241\n",
      "(Iteration 5651 / 10800) loss: 0.100138\n",
      "(Iteration 5661 / 10800) loss: 0.072556\n",
      "(Iteration 5671 / 10800) loss: 0.066434\n",
      "(Iteration 5681 / 10800) loss: 0.051889\n",
      "(Iteration 5691 / 10800) loss: 0.041082\n",
      "(Iteration 5701 / 10800) loss: 0.046347\n",
      "(Iteration 5711 / 10800) loss: 0.067860\n",
      "(Iteration 5721 / 10800) loss: 0.068126\n",
      "(Iteration 5731 / 10800) loss: 0.065571\n",
      "(Iteration 5741 / 10800) loss: 0.055859\n",
      "(Iteration 5751 / 10800) loss: 0.027290\n",
      "Saving checkpoint to \"check_point_1_epoch_8.pkl\"\n",
      "(Epoch 8 / 15) train acc: 0.914000; val_acc: 0.881417\n",
      "(Iteration 5761 / 10800) loss: 0.020856\n",
      "(Iteration 5771 / 10800) loss: 0.025174\n",
      "(Iteration 5781 / 10800) loss: 0.052193\n",
      "(Iteration 5791 / 10800) loss: 0.053165\n",
      "(Iteration 5801 / 10800) loss: 0.057160\n",
      "(Iteration 5811 / 10800) loss: 0.040813\n",
      "(Iteration 5821 / 10800) loss: 0.020170\n",
      "(Iteration 5831 / 10800) loss: 0.032321\n",
      "(Iteration 5841 / 10800) loss: 0.029234\n",
      "(Iteration 5851 / 10800) loss: 0.024918\n",
      "(Iteration 5861 / 10800) loss: 0.036081\n",
      "(Iteration 5871 / 10800) loss: 0.029066\n",
      "(Iteration 5881 / 10800) loss: 0.056474\n",
      "(Iteration 5891 / 10800) loss: 0.048023\n",
      "(Iteration 5901 / 10800) loss: 0.051867\n",
      "(Iteration 5911 / 10800) loss: 0.057600\n",
      "(Iteration 5921 / 10800) loss: 0.056537\n",
      "(Iteration 5931 / 10800) loss: 0.031722\n",
      "(Iteration 5941 / 10800) loss: 0.045721\n",
      "(Iteration 5951 / 10800) loss: 0.036901\n",
      "(Iteration 5961 / 10800) loss: 0.041308\n",
      "(Iteration 5971 / 10800) loss: 0.058278\n",
      "(Iteration 5981 / 10800) loss: 0.019594\n",
      "(Iteration 5991 / 10800) loss: 0.048006\n",
      "(Iteration 6001 / 10800) loss: 0.029867\n",
      "(Iteration 6011 / 10800) loss: 0.025009\n",
      "(Iteration 6021 / 10800) loss: 0.037146\n",
      "(Iteration 6031 / 10800) loss: 0.025714\n"
     ]
    },
    {
     "name": "stdout",
     "output_type": "stream",
     "text": [
      "(Iteration 6041 / 10800) loss: 0.043099\n",
      "(Iteration 6051 / 10800) loss: 0.063573\n",
      "(Iteration 6061 / 10800) loss: 0.033490\n",
      "(Iteration 6071 / 10800) loss: 0.031642\n",
      "(Iteration 6081 / 10800) loss: 0.057615\n",
      "(Iteration 6091 / 10800) loss: 0.035147\n",
      "(Iteration 6101 / 10800) loss: 0.043947\n",
      "(Iteration 6111 / 10800) loss: 0.036481\n",
      "(Iteration 6121 / 10800) loss: 0.028990\n",
      "(Iteration 6131 / 10800) loss: 0.042883\n",
      "(Iteration 6141 / 10800) loss: 0.036938\n",
      "(Iteration 6151 / 10800) loss: 0.050502\n",
      "(Iteration 6161 / 10800) loss: 0.026424\n",
      "(Iteration 6171 / 10800) loss: 0.060410\n",
      "(Iteration 6181 / 10800) loss: 0.043477\n",
      "(Iteration 6191 / 10800) loss: 0.029002\n",
      "(Iteration 6201 / 10800) loss: 0.045435\n",
      "(Iteration 6211 / 10800) loss: 0.047030\n",
      "(Iteration 6221 / 10800) loss: 0.043620\n",
      "(Iteration 6231 / 10800) loss: 0.011771\n",
      "(Iteration 6241 / 10800) loss: 0.034976\n",
      "(Iteration 6251 / 10800) loss: 0.078019\n",
      "(Iteration 6261 / 10800) loss: 0.044911\n",
      "(Iteration 6271 / 10800) loss: 0.029354\n",
      "(Iteration 6281 / 10800) loss: 0.054843\n",
      "(Iteration 6291 / 10800) loss: 0.067168\n",
      "(Iteration 6301 / 10800) loss: 0.041848\n",
      "(Iteration 6311 / 10800) loss: 0.056404\n",
      "(Iteration 6321 / 10800) loss: 0.078350\n",
      "(Iteration 6331 / 10800) loss: 0.014856\n",
      "(Iteration 6341 / 10800) loss: 0.036435\n",
      "(Iteration 6351 / 10800) loss: 0.050188\n",
      "(Iteration 6361 / 10800) loss: 0.043589\n",
      "(Iteration 6371 / 10800) loss: 0.045345\n",
      "(Iteration 6381 / 10800) loss: 0.045753\n",
      "(Iteration 6391 / 10800) loss: 0.039061\n",
      "(Iteration 6401 / 10800) loss: 0.046158\n",
      "(Iteration 6411 / 10800) loss: 0.037598\n",
      "(Iteration 6421 / 10800) loss: 0.038564\n",
      "(Iteration 6431 / 10800) loss: 0.041632\n",
      "(Iteration 6441 / 10800) loss: 0.061912\n",
      "(Iteration 6451 / 10800) loss: 0.025456\n",
      "(Iteration 6461 / 10800) loss: 0.071613\n",
      "(Iteration 6471 / 10800) loss: 0.029751\n",
      "Saving checkpoint to \"check_point_1_epoch_9.pkl\"\n",
      "(Epoch 9 / 15) train acc: 0.903000; val_acc: 0.877292\n",
      "(Iteration 6481 / 10800) loss: 0.040022\n",
      "(Iteration 6491 / 10800) loss: 0.041236\n",
      "(Iteration 6501 / 10800) loss: 0.110700\n",
      "(Iteration 6511 / 10800) loss: 0.048445\n",
      "(Iteration 6521 / 10800) loss: 0.035520\n",
      "(Iteration 6531 / 10800) loss: 0.077063\n",
      "(Iteration 6541 / 10800) loss: 0.043034\n",
      "(Iteration 6551 / 10800) loss: 0.034243\n",
      "(Iteration 6561 / 10800) loss: 0.072164\n",
      "(Iteration 6571 / 10800) loss: 0.052622\n",
      "(Iteration 6581 / 10800) loss: 0.034037\n",
      "(Iteration 6591 / 10800) loss: 0.048967\n",
      "(Iteration 6601 / 10800) loss: 0.058526\n",
      "(Iteration 6611 / 10800) loss: 0.043946\n",
      "(Iteration 6621 / 10800) loss: 0.027120\n",
      "(Iteration 6631 / 10800) loss: 0.036796\n",
      "(Iteration 6641 / 10800) loss: 0.069120\n",
      "(Iteration 6651 / 10800) loss: 0.041337\n",
      "(Iteration 6661 / 10800) loss: 0.028458\n",
      "(Iteration 6671 / 10800) loss: 0.036851\n",
      "(Iteration 6681 / 10800) loss: 0.047917\n",
      "(Iteration 6691 / 10800) loss: 0.029156\n",
      "(Iteration 6701 / 10800) loss: 0.029128\n",
      "(Iteration 6711 / 10800) loss: 0.047095\n",
      "(Iteration 6721 / 10800) loss: 0.054095\n",
      "(Iteration 6731 / 10800) loss: 0.073954\n",
      "(Iteration 6741 / 10800) loss: 0.040304\n",
      "(Iteration 6751 / 10800) loss: 0.049944\n",
      "(Iteration 6761 / 10800) loss: 0.035572\n",
      "(Iteration 6771 / 10800) loss: 0.031662\n",
      "(Iteration 6781 / 10800) loss: 0.027416\n",
      "(Iteration 6791 / 10800) loss: 0.033539\n",
      "(Iteration 6801 / 10800) loss: 0.019226\n",
      "(Iteration 6811 / 10800) loss: 0.066676\n",
      "(Iteration 6821 / 10800) loss: 0.024732\n",
      "(Iteration 6831 / 10800) loss: 0.024235\n",
      "(Iteration 6841 / 10800) loss: 0.058344\n",
      "(Iteration 6851 / 10800) loss: 0.074164\n",
      "(Iteration 6861 / 10800) loss: 0.021889\n",
      "(Iteration 6871 / 10800) loss: 0.047559\n",
      "(Iteration 6881 / 10800) loss: 0.072737\n",
      "(Iteration 6891 / 10800) loss: 0.050914\n",
      "(Iteration 6901 / 10800) loss: 0.049733\n",
      "(Iteration 6911 / 10800) loss: 0.051965\n",
      "(Iteration 6921 / 10800) loss: 0.041603\n",
      "(Iteration 6931 / 10800) loss: 0.033217\n",
      "(Iteration 6941 / 10800) loss: 0.052612\n",
      "(Iteration 6951 / 10800) loss: 0.038996\n",
      "(Iteration 6961 / 10800) loss: 0.054061\n",
      "(Iteration 6971 / 10800) loss: 0.045214\n",
      "(Iteration 6981 / 10800) loss: 0.035525\n",
      "(Iteration 6991 / 10800) loss: 0.036831\n",
      "(Iteration 7001 / 10800) loss: 0.049424\n",
      "(Iteration 7011 / 10800) loss: 0.027948\n",
      "(Iteration 7021 / 10800) loss: 0.037414\n",
      "(Iteration 7031 / 10800) loss: 0.022152\n",
      "(Iteration 7041 / 10800) loss: 0.022754\n",
      "(Iteration 7051 / 10800) loss: 0.042695\n",
      "(Iteration 7061 / 10800) loss: 0.027498\n",
      "(Iteration 7071 / 10800) loss: 0.058052\n",
      "(Iteration 7081 / 10800) loss: 0.022193\n",
      "(Iteration 7091 / 10800) loss: 0.052185\n",
      "(Iteration 7101 / 10800) loss: 0.057252\n",
      "(Iteration 7111 / 10800) loss: 0.041933\n",
      "(Iteration 7121 / 10800) loss: 0.036818\n",
      "(Iteration 7131 / 10800) loss: 0.038525\n",
      "(Iteration 7141 / 10800) loss: 0.024694\n",
      "(Iteration 7151 / 10800) loss: 0.067521\n",
      "(Iteration 7161 / 10800) loss: 0.059768\n",
      "(Iteration 7171 / 10800) loss: 0.026447\n",
      "(Iteration 7181 / 10800) loss: 0.032154\n",
      "(Iteration 7191 / 10800) loss: 0.048341\n",
      "Saving checkpoint to \"check_point_1_epoch_10.pkl\"\n",
      "(Epoch 10 / 15) train acc: 0.925000; val_acc: 0.885917\n",
      "(Iteration 7201 / 10800) loss: 0.037682\n",
      "(Iteration 7211 / 10800) loss: 0.027131\n",
      "(Iteration 7221 / 10800) loss: 0.054065\n",
      "(Iteration 7231 / 10800) loss: 0.056786\n",
      "(Iteration 7241 / 10800) loss: 0.030790\n",
      "(Iteration 7251 / 10800) loss: 0.051207\n",
      "(Iteration 7261 / 10800) loss: 0.037359\n",
      "(Iteration 7271 / 10800) loss: 0.045707\n",
      "(Iteration 7281 / 10800) loss: 0.058070\n",
      "(Iteration 7291 / 10800) loss: 0.031349\n",
      "(Iteration 7301 / 10800) loss: 0.043575\n",
      "(Iteration 7311 / 10800) loss: 0.035418\n",
      "(Iteration 7321 / 10800) loss: 0.032694\n",
      "(Iteration 7331 / 10800) loss: 0.046566\n",
      "(Iteration 7341 / 10800) loss: 0.063556\n",
      "(Iteration 7351 / 10800) loss: 0.018436\n",
      "(Iteration 7361 / 10800) loss: 0.026004\n",
      "(Iteration 7371 / 10800) loss: 0.049155\n",
      "(Iteration 7381 / 10800) loss: 0.033558\n",
      "(Iteration 7391 / 10800) loss: 0.037729\n",
      "(Iteration 7401 / 10800) loss: 0.019869\n",
      "(Iteration 7411 / 10800) loss: 0.045142\n",
      "(Iteration 7421 / 10800) loss: 0.044627\n",
      "(Iteration 7431 / 10800) loss: 0.033336\n",
      "(Iteration 7441 / 10800) loss: 0.018488\n",
      "(Iteration 7451 / 10800) loss: 0.018568\n",
      "(Iteration 7461 / 10800) loss: 0.059378\n",
      "(Iteration 7471 / 10800) loss: 0.025197\n",
      "(Iteration 7481 / 10800) loss: 0.054448\n",
      "(Iteration 7491 / 10800) loss: 0.058291\n",
      "(Iteration 7501 / 10800) loss: 0.050337\n",
      "(Iteration 7511 / 10800) loss: 0.021414\n",
      "(Iteration 7521 / 10800) loss: 0.045197\n",
      "(Iteration 7531 / 10800) loss: 0.033704\n",
      "(Iteration 7541 / 10800) loss: 0.030783\n",
      "(Iteration 7551 / 10800) loss: 0.044311\n",
      "(Iteration 7561 / 10800) loss: 0.014765\n",
      "(Iteration 7571 / 10800) loss: 0.033576\n",
      "(Iteration 7581 / 10800) loss: 0.022366\n",
      "(Iteration 7591 / 10800) loss: 0.035082\n",
      "(Iteration 7601 / 10800) loss: 0.031891\n",
      "(Iteration 7611 / 10800) loss: 0.041995\n",
      "(Iteration 7621 / 10800) loss: 0.046024\n",
      "(Iteration 7631 / 10800) loss: 0.059517\n",
      "(Iteration 7641 / 10800) loss: 0.044619\n",
      "(Iteration 7651 / 10800) loss: 0.038321\n",
      "(Iteration 7661 / 10800) loss: 0.052560\n",
      "(Iteration 7671 / 10800) loss: 0.033176\n",
      "(Iteration 7681 / 10800) loss: 0.017230\n",
      "(Iteration 7691 / 10800) loss: 0.045825\n",
      "(Iteration 7701 / 10800) loss: 0.058811\n",
      "(Iteration 7711 / 10800) loss: 0.059296\n",
      "(Iteration 7721 / 10800) loss: 0.038435\n",
      "(Iteration 7731 / 10800) loss: 0.034148\n",
      "(Iteration 7741 / 10800) loss: 0.033525\n",
      "(Iteration 7751 / 10800) loss: 0.033847\n",
      "(Iteration 7761 / 10800) loss: 0.047306\n",
      "(Iteration 7771 / 10800) loss: 0.051071\n",
      "(Iteration 7781 / 10800) loss: 0.047816\n",
      "(Iteration 7791 / 10800) loss: 0.026579\n",
      "(Iteration 7801 / 10800) loss: 0.048357\n",
      "(Iteration 7811 / 10800) loss: 0.026684\n",
      "(Iteration 7821 / 10800) loss: 0.053923\n",
      "(Iteration 7831 / 10800) loss: 0.035194\n",
      "(Iteration 7841 / 10800) loss: 0.017643\n",
      "(Iteration 7851 / 10800) loss: 0.019965\n",
      "(Iteration 7861 / 10800) loss: 0.022180\n",
      "(Iteration 7871 / 10800) loss: 0.078114\n",
      "(Iteration 7881 / 10800) loss: 0.032865\n",
      "(Iteration 7891 / 10800) loss: 0.051293\n",
      "(Iteration 7901 / 10800) loss: 0.031536\n",
      "(Iteration 7911 / 10800) loss: 0.034632\n",
      "Saving checkpoint to \"check_point_1_epoch_11.pkl\"\n",
      "(Epoch 11 / 15) train acc: 0.919000; val_acc: 0.881583\n",
      "(Iteration 7921 / 10800) loss: 0.040646\n",
      "(Iteration 7931 / 10800) loss: 0.058059\n",
      "(Iteration 7941 / 10800) loss: 0.017963\n",
      "(Iteration 7951 / 10800) loss: 0.050842\n",
      "(Iteration 7961 / 10800) loss: 0.023819\n",
      "(Iteration 7971 / 10800) loss: 0.023489\n",
      "(Iteration 7981 / 10800) loss: 0.063231\n",
      "(Iteration 7991 / 10800) loss: 0.040584\n",
      "(Iteration 8001 / 10800) loss: 0.023099\n"
     ]
    },
    {
     "name": "stdout",
     "output_type": "stream",
     "text": [
      "(Iteration 8011 / 10800) loss: 0.034895\n",
      "(Iteration 8021 / 10800) loss: 0.053768\n",
      "(Iteration 8031 / 10800) loss: 0.038750\n",
      "(Iteration 8041 / 10800) loss: 0.029228\n",
      "(Iteration 8051 / 10800) loss: 0.034865\n",
      "(Iteration 8061 / 10800) loss: 0.025705\n",
      "(Iteration 8071 / 10800) loss: 0.030437\n",
      "(Iteration 8081 / 10800) loss: 0.027690\n",
      "(Iteration 8091 / 10800) loss: 0.030943\n",
      "(Iteration 8101 / 10800) loss: 0.024968\n",
      "(Iteration 8111 / 10800) loss: 0.030986\n",
      "(Iteration 8121 / 10800) loss: 0.051072\n",
      "(Iteration 8131 / 10800) loss: 0.028323\n",
      "(Iteration 8141 / 10800) loss: 0.036959\n",
      "(Iteration 8151 / 10800) loss: 0.043711\n",
      "(Iteration 8161 / 10800) loss: 0.065276\n",
      "(Iteration 8171 / 10800) loss: 0.031360\n",
      "(Iteration 8181 / 10800) loss: 0.017360\n",
      "(Iteration 8191 / 10800) loss: 0.050136\n",
      "(Iteration 8201 / 10800) loss: 0.015622\n",
      "(Iteration 8211 / 10800) loss: 0.039183\n",
      "(Iteration 8221 / 10800) loss: 0.029630\n",
      "(Iteration 8231 / 10800) loss: 0.044226\n",
      "(Iteration 8241 / 10800) loss: 0.049453\n",
      "(Iteration 8251 / 10800) loss: 0.034357\n",
      "(Iteration 8261 / 10800) loss: 0.044781\n",
      "(Iteration 8271 / 10800) loss: 0.057512\n",
      "(Iteration 8281 / 10800) loss: 0.037278\n",
      "(Iteration 8291 / 10800) loss: 0.080082\n",
      "(Iteration 8301 / 10800) loss: 0.014152\n",
      "(Iteration 8311 / 10800) loss: 0.035091\n",
      "(Iteration 8321 / 10800) loss: 0.043572\n",
      "(Iteration 8331 / 10800) loss: 0.037820\n",
      "(Iteration 8341 / 10800) loss: 0.030269\n",
      "(Iteration 8351 / 10800) loss: 0.016584\n",
      "(Iteration 8361 / 10800) loss: 0.044377\n",
      "(Iteration 8371 / 10800) loss: 0.042551\n",
      "(Iteration 8381 / 10800) loss: 0.044043\n",
      "(Iteration 8391 / 10800) loss: 0.020029\n",
      "(Iteration 8401 / 10800) loss: 0.052398\n",
      "(Iteration 8411 / 10800) loss: 0.021236\n",
      "(Iteration 8421 / 10800) loss: 0.025490\n",
      "(Iteration 8431 / 10800) loss: 0.052601\n",
      "(Iteration 8441 / 10800) loss: 0.040100\n",
      "(Iteration 8451 / 10800) loss: 0.034956\n",
      "(Iteration 8461 / 10800) loss: 0.041054\n",
      "(Iteration 8471 / 10800) loss: 0.063696\n",
      "(Iteration 8481 / 10800) loss: 0.027893\n",
      "(Iteration 8491 / 10800) loss: 0.045940\n",
      "(Iteration 8501 / 10800) loss: 0.033306\n",
      "(Iteration 8511 / 10800) loss: 0.048443\n",
      "(Iteration 8521 / 10800) loss: 0.018351\n",
      "(Iteration 8531 / 10800) loss: 0.025760\n",
      "(Iteration 8541 / 10800) loss: 0.056633\n",
      "(Iteration 8551 / 10800) loss: 0.065836\n",
      "(Iteration 8561 / 10800) loss: 0.042160\n",
      "(Iteration 8571 / 10800) loss: 0.034817\n",
      "(Iteration 8581 / 10800) loss: 0.043235\n",
      "(Iteration 8591 / 10800) loss: 0.037928\n",
      "(Iteration 8601 / 10800) loss: 0.034831\n",
      "(Iteration 8611 / 10800) loss: 0.050102\n",
      "(Iteration 8621 / 10800) loss: 0.041953\n",
      "(Iteration 8631 / 10800) loss: 0.038718\n",
      "Saving checkpoint to \"check_point_1_epoch_12.pkl\"\n",
      "(Epoch 12 / 15) train acc: 0.942000; val_acc: 0.883250\n",
      "(Iteration 8641 / 10800) loss: 0.031993\n",
      "(Iteration 8651 / 10800) loss: 0.037383\n",
      "(Iteration 8661 / 10800) loss: 0.034303\n",
      "(Iteration 8671 / 10800) loss: 0.022104\n",
      "(Iteration 8681 / 10800) loss: 0.043906\n",
      "(Iteration 8691 / 10800) loss: 0.020741\n",
      "(Iteration 8701 / 10800) loss: 0.006460\n",
      "(Iteration 8711 / 10800) loss: 0.045029\n",
      "(Iteration 8721 / 10800) loss: 0.040019\n",
      "(Iteration 8731 / 10800) loss: 0.045966\n",
      "(Iteration 8741 / 10800) loss: 0.018657\n",
      "(Iteration 8751 / 10800) loss: 0.055666\n",
      "(Iteration 8761 / 10800) loss: 0.086560\n",
      "(Iteration 8771 / 10800) loss: 0.038358\n",
      "(Iteration 8781 / 10800) loss: 0.032521\n",
      "(Iteration 8791 / 10800) loss: 0.012497\n",
      "(Iteration 8801 / 10800) loss: 0.026564\n",
      "(Iteration 8811 / 10800) loss: 0.015714\n",
      "(Iteration 8821 / 10800) loss: 0.029288\n",
      "(Iteration 8831 / 10800) loss: 0.033082\n",
      "(Iteration 8841 / 10800) loss: 0.046734\n",
      "(Iteration 8851 / 10800) loss: 0.037756\n",
      "(Iteration 8861 / 10800) loss: 0.052234\n",
      "(Iteration 8871 / 10800) loss: 0.020813\n",
      "(Iteration 8881 / 10800) loss: 0.048049\n",
      "(Iteration 8891 / 10800) loss: 0.041300\n",
      "(Iteration 8901 / 10800) loss: 0.035331\n",
      "(Iteration 8911 / 10800) loss: 0.033186\n",
      "(Iteration 8921 / 10800) loss: 0.039034\n",
      "(Iteration 8931 / 10800) loss: 0.034761\n",
      "(Iteration 8941 / 10800) loss: 0.032009\n",
      "(Iteration 8951 / 10800) loss: 0.043556\n",
      "(Iteration 8961 / 10800) loss: 0.026612\n",
      "(Iteration 8971 / 10800) loss: 0.035956\n",
      "(Iteration 8981 / 10800) loss: 0.025842\n",
      "(Iteration 8991 / 10800) loss: 0.023599\n",
      "(Iteration 9001 / 10800) loss: 0.025249\n",
      "(Iteration 9011 / 10800) loss: 0.045969\n",
      "(Iteration 9021 / 10800) loss: 0.037609\n",
      "(Iteration 9031 / 10800) loss: 0.028401\n",
      "(Iteration 9041 / 10800) loss: 0.035918\n",
      "(Iteration 9051 / 10800) loss: 0.038394\n",
      "(Iteration 9061 / 10800) loss: 0.034987\n",
      "(Iteration 9071 / 10800) loss: 0.024327\n",
      "(Iteration 9081 / 10800) loss: 0.035770\n",
      "(Iteration 9091 / 10800) loss: 0.015057\n",
      "(Iteration 9101 / 10800) loss: 0.044395\n",
      "(Iteration 9111 / 10800) loss: 0.024458\n",
      "(Iteration 9121 / 10800) loss: 0.036644\n",
      "(Iteration 9131 / 10800) loss: 0.046797\n",
      "(Iteration 9141 / 10800) loss: 0.034648\n",
      "(Iteration 9151 / 10800) loss: 0.047825\n",
      "(Iteration 9161 / 10800) loss: 0.024895\n",
      "(Iteration 9171 / 10800) loss: 0.040822\n",
      "(Iteration 9181 / 10800) loss: 0.060172\n",
      "(Iteration 9191 / 10800) loss: 0.015063\n",
      "(Iteration 9201 / 10800) loss: 0.032892\n",
      "(Iteration 9211 / 10800) loss: 0.037703\n",
      "(Iteration 9221 / 10800) loss: 0.057440\n",
      "(Iteration 9231 / 10800) loss: 0.027648\n",
      "(Iteration 9241 / 10800) loss: 0.059821\n",
      "(Iteration 9251 / 10800) loss: 0.027873\n",
      "(Iteration 9261 / 10800) loss: 0.049385\n",
      "(Iteration 9271 / 10800) loss: 0.048037\n",
      "(Iteration 9281 / 10800) loss: 0.020601\n",
      "(Iteration 9291 / 10800) loss: 0.047471\n",
      "(Iteration 9301 / 10800) loss: 0.075100\n",
      "(Iteration 9311 / 10800) loss: 0.028195\n",
      "(Iteration 9321 / 10800) loss: 0.045732\n",
      "(Iteration 9331 / 10800) loss: 0.047939\n",
      "(Iteration 9341 / 10800) loss: 0.012045\n",
      "(Iteration 9351 / 10800) loss: 0.031331\n",
      "Saving checkpoint to \"check_point_1_epoch_13.pkl\"\n",
      "(Epoch 13 / 15) train acc: 0.918000; val_acc: 0.873667\n",
      "(Iteration 9361 / 10800) loss: 0.036936\n",
      "(Iteration 9371 / 10800) loss: 0.053384\n",
      "(Iteration 9381 / 10800) loss: 0.012013\n",
      "(Iteration 9391 / 10800) loss: 0.055427\n",
      "(Iteration 9401 / 10800) loss: 0.035078\n",
      "(Iteration 9411 / 10800) loss: 0.055474\n",
      "(Iteration 9421 / 10800) loss: 0.019132\n",
      "(Iteration 9431 / 10800) loss: 0.022964\n",
      "(Iteration 9441 / 10800) loss: 0.028212\n",
      "(Iteration 9451 / 10800) loss: 0.015602\n",
      "(Iteration 9461 / 10800) loss: 0.034110\n",
      "(Iteration 9471 / 10800) loss: 0.031362\n",
      "(Iteration 9481 / 10800) loss: 0.060701\n",
      "(Iteration 9491 / 10800) loss: 0.041246\n",
      "(Iteration 9501 / 10800) loss: 0.027172\n",
      "(Iteration 9511 / 10800) loss: 0.061744\n",
      "(Iteration 9521 / 10800) loss: 0.026677\n",
      "(Iteration 9531 / 10800) loss: 0.046762\n",
      "(Iteration 9541 / 10800) loss: 0.063227\n",
      "(Iteration 9551 / 10800) loss: 0.038956\n",
      "(Iteration 9561 / 10800) loss: 0.031903\n",
      "(Iteration 9571 / 10800) loss: 0.072776\n",
      "(Iteration 9581 / 10800) loss: 0.026981\n",
      "(Iteration 9591 / 10800) loss: 0.028721\n",
      "(Iteration 9601 / 10800) loss: 0.056639\n",
      "(Iteration 9611 / 10800) loss: 0.027605\n",
      "(Iteration 9621 / 10800) loss: 0.055579\n",
      "(Iteration 9631 / 10800) loss: 0.030327\n",
      "(Iteration 9641 / 10800) loss: 0.048314\n",
      "(Iteration 9651 / 10800) loss: 0.040830\n",
      "(Iteration 9661 / 10800) loss: 0.056161\n",
      "(Iteration 9671 / 10800) loss: 0.038003\n",
      "(Iteration 9681 / 10800) loss: 0.052634\n",
      "(Iteration 9691 / 10800) loss: 0.045140\n",
      "(Iteration 9701 / 10800) loss: 0.040480\n",
      "(Iteration 9711 / 10800) loss: 0.023968\n",
      "(Iteration 9721 / 10800) loss: 0.061088\n",
      "(Iteration 9731 / 10800) loss: 0.072205\n",
      "(Iteration 9741 / 10800) loss: 0.029254\n",
      "(Iteration 9751 / 10800) loss: 0.034614\n",
      "(Iteration 9761 / 10800) loss: 0.013510\n",
      "(Iteration 9771 / 10800) loss: 0.018527\n",
      "(Iteration 9781 / 10800) loss: 0.031849\n",
      "(Iteration 9791 / 10800) loss: 0.044608\n",
      "(Iteration 9801 / 10800) loss: 0.036918\n",
      "(Iteration 9811 / 10800) loss: 0.052507\n",
      "(Iteration 9821 / 10800) loss: 0.016951\n",
      "(Iteration 9831 / 10800) loss: 0.059753\n",
      "(Iteration 9841 / 10800) loss: 0.037740\n",
      "(Iteration 9851 / 10800) loss: 0.052008\n",
      "(Iteration 9861 / 10800) loss: 0.045267\n",
      "(Iteration 9871 / 10800) loss: 0.035487\n",
      "(Iteration 9881 / 10800) loss: 0.049545\n",
      "(Iteration 9891 / 10800) loss: 0.029579\n",
      "(Iteration 9901 / 10800) loss: 0.053403\n",
      "(Iteration 9911 / 10800) loss: 0.055792\n",
      "(Iteration 9921 / 10800) loss: 0.049835\n",
      "(Iteration 9931 / 10800) loss: 0.049971\n",
      "(Iteration 9941 / 10800) loss: 0.037112\n",
      "(Iteration 9951 / 10800) loss: 0.013996\n",
      "(Iteration 9961 / 10800) loss: 0.028570\n",
      "(Iteration 9971 / 10800) loss: 0.035856\n",
      "(Iteration 9981 / 10800) loss: 0.050719\n",
      "(Iteration 9991 / 10800) loss: 0.044368\n",
      "(Iteration 10001 / 10800) loss: 0.025636\n",
      "(Iteration 10011 / 10800) loss: 0.067104\n"
     ]
    },
    {
     "name": "stdout",
     "output_type": "stream",
     "text": [
      "(Iteration 10021 / 10800) loss: 0.018236\n",
      "(Iteration 10031 / 10800) loss: 0.032962\n",
      "(Iteration 10041 / 10800) loss: 0.036005\n",
      "(Iteration 10051 / 10800) loss: 0.029862\n",
      "(Iteration 10061 / 10800) loss: 0.033250\n",
      "(Iteration 10071 / 10800) loss: 0.062439\n",
      "Saving checkpoint to \"check_point_1_epoch_14.pkl\"\n",
      "(Epoch 14 / 15) train acc: 0.927000; val_acc: 0.883833\n",
      "(Iteration 10081 / 10800) loss: 0.043396\n",
      "(Iteration 10091 / 10800) loss: 0.037294\n",
      "(Iteration 10101 / 10800) loss: 0.026273\n",
      "(Iteration 10111 / 10800) loss: 0.041936\n",
      "(Iteration 10121 / 10800) loss: 0.072125\n",
      "(Iteration 10131 / 10800) loss: 0.024729\n",
      "(Iteration 10141 / 10800) loss: 0.033676\n",
      "(Iteration 10151 / 10800) loss: 0.056331\n",
      "(Iteration 10161 / 10800) loss: 0.021974\n",
      "(Iteration 10171 / 10800) loss: 0.015366\n",
      "(Iteration 10181 / 10800) loss: 0.056111\n",
      "(Iteration 10191 / 10800) loss: 0.027634\n",
      "(Iteration 10201 / 10800) loss: 0.028995\n",
      "(Iteration 10211 / 10800) loss: 0.049768\n",
      "(Iteration 10221 / 10800) loss: 0.012189\n",
      "(Iteration 10231 / 10800) loss: 0.027835\n",
      "(Iteration 10241 / 10800) loss: 0.063475\n",
      "(Iteration 10251 / 10800) loss: 0.017951\n",
      "(Iteration 10261 / 10800) loss: 0.036278\n",
      "(Iteration 10271 / 10800) loss: 0.039276\n",
      "(Iteration 10281 / 10800) loss: 0.040641\n",
      "(Iteration 10291 / 10800) loss: 0.008316\n",
      "(Iteration 10301 / 10800) loss: 0.016584\n",
      "(Iteration 10311 / 10800) loss: 0.073633\n",
      "(Iteration 10321 / 10800) loss: 0.027933\n",
      "(Iteration 10331 / 10800) loss: 0.024375\n",
      "(Iteration 10341 / 10800) loss: 0.038620\n",
      "(Iteration 10351 / 10800) loss: 0.035897\n",
      "(Iteration 10361 / 10800) loss: 0.027865\n",
      "(Iteration 10371 / 10800) loss: 0.030536\n",
      "(Iteration 10381 / 10800) loss: 0.035707\n",
      "(Iteration 10391 / 10800) loss: 0.026747\n",
      "(Iteration 10401 / 10800) loss: 0.018344\n",
      "(Iteration 10411 / 10800) loss: 0.038571\n",
      "(Iteration 10421 / 10800) loss: 0.027489\n",
      "(Iteration 10431 / 10800) loss: 0.046881\n",
      "(Iteration 10441 / 10800) loss: 0.021570\n",
      "(Iteration 10451 / 10800) loss: 0.023519\n",
      "(Iteration 10461 / 10800) loss: 0.046793\n",
      "(Iteration 10471 / 10800) loss: 0.055393\n",
      "(Iteration 10481 / 10800) loss: 0.034131\n",
      "(Iteration 10491 / 10800) loss: 0.027756\n",
      "(Iteration 10501 / 10800) loss: 0.052488\n",
      "(Iteration 10511 / 10800) loss: 0.015040\n",
      "(Iteration 10521 / 10800) loss: 0.027235\n",
      "(Iteration 10531 / 10800) loss: 0.029923\n",
      "(Iteration 10541 / 10800) loss: 0.026187\n",
      "(Iteration 10551 / 10800) loss: 0.030735\n",
      "(Iteration 10561 / 10800) loss: 0.028930\n",
      "(Iteration 10571 / 10800) loss: 0.053691\n",
      "(Iteration 10581 / 10800) loss: 0.026985\n",
      "(Iteration 10591 / 10800) loss: 0.041931\n",
      "(Iteration 10601 / 10800) loss: 0.049433\n",
      "(Iteration 10611 / 10800) loss: 0.031513\n",
      "(Iteration 10621 / 10800) loss: 0.038655\n",
      "(Iteration 10631 / 10800) loss: 0.023915\n",
      "(Iteration 10641 / 10800) loss: 0.077821\n",
      "(Iteration 10651 / 10800) loss: 0.035530\n",
      "(Iteration 10661 / 10800) loss: 0.030766\n",
      "(Iteration 10671 / 10800) loss: 0.052362\n",
      "(Iteration 10681 / 10800) loss: 0.027608\n",
      "(Iteration 10691 / 10800) loss: 0.033105\n",
      "(Iteration 10701 / 10800) loss: 0.023069\n",
      "(Iteration 10711 / 10800) loss: 0.051687\n",
      "(Iteration 10721 / 10800) loss: 0.038914\n",
      "(Iteration 10731 / 10800) loss: 0.031179\n",
      "(Iteration 10741 / 10800) loss: 0.026267\n",
      "(Iteration 10751 / 10800) loss: 0.024336\n",
      "(Iteration 10761 / 10800) loss: 0.035606\n",
      "(Iteration 10771 / 10800) loss: 0.029852\n",
      "(Iteration 10781 / 10800) loss: 0.016344\n",
      "(Iteration 10791 / 10800) loss: 0.040511\n",
      "Saving checkpoint to \"check_point_1_epoch_15.pkl\"\n",
      "(Epoch 15 / 15) train acc: 0.933000; val_acc: 0.886125\n"
     ]
    }
   ],
   "source": [
    "small_data = {\n",
    "  'X_train': X_train,\n",
    "  'y_train':y_train,\n",
    "  'X_val': X_test,\n",
    "  'y_val': y_test,\n",
    "} \n",
    "ss =Solver(nn,small_data,num_epochs=15, batch_size=50,\n",
    "                update_rule='Adam',\n",
    "                optim_config={\n",
    "                  'learning_rate': 1e-3,\n",
    "                },\n",
    "           checkpoint_name='check_point_1',\n",
    "                verbose=True, print_every=10)\n",
    "ss.train()"
   ]
  },
  {
   "cell_type": "code",
   "execution_count": 21,
   "metadata": {},
   "outputs": [
    {
     "data": {
      "text/plain": [
       "0.886125"
      ]
     },
     "execution_count": 21,
     "metadata": {},
     "output_type": "execute_result"
    }
   ],
   "source": [
    "ss.best_val_acc"
   ]
  },
  {
   "cell_type": "code",
   "execution_count": 25,
   "metadata": {},
   "outputs": [
    {
     "data": {
      "image/png": "[encoded data removed]",
      "text/plain": [
       "<Figure size 432x288 with 2 Axes>"
      ]
     },
     "metadata": {
      "needs_background": "light"
     },
     "output_type": "display_data"
    }
   ],
   "source": [
    "plt.subplot(2, 1, 1)\n",
    "plt.plot(ss.loss_history, 'o')\n",
    "plt.xlabel('iteration')\n",
    "plt.ylabel('loss')\n",
    "\n",
    "plt.subplot(2, 1, 2)\n",
    "plt.plot(ss.train_acc_history, '-o')\n",
    "plt.plot(ss.val_acc_history, '-o')\n",
    "plt.legend(['train', 'val'], loc='upper left')\n",
    "plt.xlabel('epoch')\n",
    "plt.ylabel('accuracy')\n",
    "plt.show()"
   ]
  },
  {
   "cell_type": "code",
   "execution_count": 141,
   "metadata": {},
   "outputs": [
    {
     "data": {
      "image/png": "[encoded data removed]",
      "text/plain": [
       "<Figure size 432x288 with 1 Axes>"
      ]
     },
     "metadata": {
      "needs_background": "light"
     },
     "output_type": "display_data"
    },
    {
     "name": "stdout",
     "output_type": "stream",
     "text": [
      "Accuracy: 0.7\n"
     ]
    },
    {
     "data": {
      "text/plain": [
       "0.7"
      ]
     },
     "execution_count": 141,
     "metadata": {},
     "output_type": "execute_result"
    }
   ],
   "source": [
    "nn.eval(X_test, y_test)\n"
   ]
  },
  {
   "cell_type": "code",
   "execution_count": 16,
   "metadata": {},
   "outputs": [],
   "source": [
    "from metal.utils.utils import pad2D"
   ]
  },
  {
   "cell_type": "code",
   "execution_count": 29,
   "metadata": {},
   "outputs": [
    {
     "data": {
      "text/plain": [
       "8.0"
      ]
     },
     "execution_count": 29,
     "metadata": {},
     "output_type": "execute_result"
    }
   ],
   "source": [
    "a,a_=pad2D(X_train, 'same', (3,3), 1, 0)\n",
    "output_height = (X_train.shape[1] + np.sum((1,1)) - 3 )/ 1 + 1\n",
    "output_height"
   ]
  },
  {
   "cell_type": "code",
   "execution_count": 34,
   "metadata": {},
   "outputs": [
    {
     "data": {
      "text/plain": [
       "(3, 3, 1, 3)"
      ]
     },
     "execution_count": 34,
     "metadata": {},
     "output_type": "execute_result"
    }
   ],
   "source": [
    "vv=layer[0].forward(X_train,False)\n",
    "ff=layer[1].forward(vv,False)\n",
    "layer[0].parameters['W'].shape"
   ]
  },
  {
   "cell_type": "code",
   "execution_count": 19,
   "metadata": {},
   "outputs": [
    {
     "name": "stderr",
     "output_type": "stream",
     "text": [
      "Training: 100% [------------------------------------------------] Time: 0:00:07\n"
     ]
    }
   ],
   "source": [
    "train_err, val_err = nn.fit(X_train, y_train, n_epochs=10, batch_size=64)\n"
   ]
  },
  {
   "cell_type": "code",
   "execution_count": 20,
   "metadata": {},
   "outputs": [
    {
     "data": {
      "image/png": "[encoded data removed]",
      "text/plain": [
       "<Figure size 432x288 with 1 Axes>"
      ]
     },
     "metadata": {
      "needs_background": "light"
     },
     "output_type": "display_data"
    },
    {
     "name": "stdout",
     "output_type": "stream",
     "text": [
      "Accuracy: 0.9456824512534819\n"
     ]
    },
    {
     "data": {
      "text/plain": [
       "0.9456824512534819"
      ]
     },
     "execution_count": 20,
     "metadata": {},
     "output_type": "execute_result"
    }
   ],
   "source": [
    "nn.eval(X_test, y_test)\n"
   ]
  },
  {
   "cell_type": "code",
   "execution_count": 96,
   "metadata": {},
   "outputs": [],
   "source": [
    "from builtins import range\n",
    "from past.builtins import xrange\n",
    "\n",
    "from math import sqrt, ceil\n",
    "import numpy as np\n",
    "\n",
    "def visualize_grid(Xs, ubound=255.0, padding=1):\n",
    "    \"\"\"\n",
    "    Reshape a 4D tensor of image data to a grid for easy visualization.\n",
    "    Inputs:\n",
    "    - Xs: Data of shape (N, H, W, C)\n",
    "    - ubound: Output grid will have values scaled to the range [0, ubound]\n",
    "    - padding: The number of blank pixels between elements of the grid\n",
    "    \"\"\"\n",
    "    (N, H, W, C) = Xs.shape\n",
    "    grid_size = int(ceil(sqrt(N)))\n",
    "    grid_height = H * grid_size + padding * (grid_size - 1)\n",
    "    grid_width = W * grid_size + padding * (grid_size - 1)\n",
    "    grid = np.zeros((grid_height, grid_width, C))\n",
    "    next_idx = 0\n",
    "    y0, y1 = 0, H\n",
    "    for y in range(grid_size):\n",
    "        x0, x1 = 0, W\n",
    "        for x in range(grid_size):\n",
    "            if next_idx < N:\n",
    "                img = Xs[next_idx]\n",
    "                low, high = np.min(img), np.max(img)\n",
    "                grid[y0:y1, x0:x1] = ubound * (img - low) / (high - low)\n",
    "                # grid[y0:y1, x0:x1] = Xs[next_idx]\n",
    "                next_idx += 1\n",
    "            x0 += W + padding\n",
    "            x1 += W + padding\n",
    "        y0 += H + padding\n",
    "        y1 += H + padding\n",
    "    # grid_max = np.max(grid)\n",
    "    # grid_min = np.min(grid)\n",
    "    # grid = ubound * (grid - grid_min) / (grid_max - grid_min)\n",
    "    return grid\n",
    "\n",
    "def vis_grid(Xs):\n",
    "    \"\"\" visualize a grid of images \"\"\"\n",
    "    (N, H, W, C) = Xs.shape\n",
    "    A = int(ceil(sqrt(N)))\n",
    "    G = np.ones((A*H+A, A*W+A, C), Xs.dtype)\n",
    "    G *= np.min(Xs)\n",
    "    n = 0\n",
    "    for y in range(A):\n",
    "        for x in range(A):\n",
    "            if n < N:\n",
    "                G[y*H+y:(y+1)*H+y, x*W+x:(x+1)*W+x, :] = Xs[n,:,:,:]\n",
    "                n += 1\n",
    "    # normalize to [0,1]\n",
    "    maxg = G.max()\n",
    "    ming = G.min()\n",
    "    G = (G - ming)/(maxg-ming)\n",
    "    return G\n",
    "\n",
    "def vis_nn(rows):\n",
    "    \"\"\" visualize array of arrays of images \"\"\"\n",
    "    N = len(rows)\n",
    "    D = len(rows[0])\n",
    "    H,W,C = rows[0][0].shape\n",
    "    Xs = rows[0][0]\n",
    "    G = np.ones((N*H+N, D*W+D, C), Xs.dtype)\n",
    "    for y in range(N):\n",
    "        for x in range(D):\n",
    "            G[y*H+y:(y+1)*H+y, x*W+x:(x+1)*W+x, :] = rows[y][x]\n",
    "    # normalize to [0,1]\n",
    "    maxg = G.max()\n",
    "    ming = G.min()\n",
    "    G = (G - ming)/(maxg-ming)\n",
    "    return G\n"
   ]
  },
  {
   "cell_type": "code",
   "execution_count": 97,
   "metadata": {},
   "outputs": [
    {
     "data": {
      "text/plain": [
       "(32, 7, 7, 1)"
      ]
     },
     "execution_count": 97,
     "metadata": {},
     "output_type": "execute_result"
    }
   ],
   "source": [
    "nn.layers[2].parameters['W'].transpose(2, 0, 1,3).shape"
   ]
  },
  {
   "cell_type": "code",
   "execution_count": 98,
   "metadata": {},
   "outputs": [],
   "source": [
    "kk=nn.layers[0].forward(X_test,False)"
   ]
  },
  {
   "cell_type": "code",
   "execution_count": 99,
   "metadata": {},
   "outputs": [],
   "source": [
    "bb=nn.layers[1].forward(kk,False)"
   ]
  },
  {
   "cell_type": "code",
   "execution_count": 100,
   "metadata": {},
   "outputs": [
    {
     "data": {
      "text/plain": [
       "(40, 28, 28, 32)"
      ]
     },
     "execution_count": 100,
     "metadata": {},
     "output_type": "execute_result"
    }
   ],
   "source": [
    "bb.shape"
   ]
  },
  {
   "cell_type": "code",
   "execution_count": 103,
   "metadata": {},
   "outputs": [
    {
     "ename": "ValueError",
     "evalue": "cannot reshape array of size 70688 into shape (47,47)",
     "output_type": "error",
     "traceback": [
      "\u001b[0;31m---------------------------------------------------------------------------\u001b[0m",
      "\u001b[0;31mValueError\u001b[0m                                Traceback (most recent call last)",
      "\u001b[0;32m<ipython-input-103-edfc96e3ed88>\u001b[0m in \u001b[0;36m<module>\u001b[0;34m\u001b[0m\n\u001b[0;32m----> 1\u001b[0;31m \u001b[0mgrid\u001b[0m \u001b[0;34m=\u001b[0m \u001b[0mvisualize_grid\u001b[0m\u001b[0;34m(\u001b[0m\u001b[0mnn\u001b[0m\u001b[0;34m.\u001b[0m\u001b[0mlayers\u001b[0m\u001b[0;34m[\u001b[0m\u001b[0;36m1\u001b[0m\u001b[0;34m]\u001b[0m\u001b[0;34m.\u001b[0m\u001b[0mparameters\u001b[0m\u001b[0;34m[\u001b[0m\u001b[0;34m'W'\u001b[0m\u001b[0;34m]\u001b[0m\u001b[0;34m.\u001b[0m\u001b[0mtranspose\u001b[0m\u001b[0;34m(\u001b[0m\u001b[0;36m2\u001b[0m\u001b[0;34m,\u001b[0m \u001b[0;36m0\u001b[0m\u001b[0;34m,\u001b[0m \u001b[0;36m1\u001b[0m\u001b[0;34m,\u001b[0m\u001b[0;36m3\u001b[0m\u001b[0;34m)\u001b[0m\u001b[0;34m)\u001b[0m\u001b[0;34m.\u001b[0m\u001b[0mreshape\u001b[0m\u001b[0;34m(\u001b[0m\u001b[0;36m47\u001b[0m\u001b[0;34m,\u001b[0m\u001b[0;36m47\u001b[0m\u001b[0;34m)\u001b[0m\u001b[0;34m\u001b[0m\u001b[0;34m\u001b[0m\u001b[0m\n\u001b[0m\u001b[1;32m      2\u001b[0m \u001b[0mplt\u001b[0m\u001b[0;34m.\u001b[0m\u001b[0mimshow\u001b[0m\u001b[0;34m(\u001b[0m\u001b[0mgrid\u001b[0m\u001b[0;34m.\u001b[0m\u001b[0mastype\u001b[0m\u001b[0;34m(\u001b[0m\u001b[0;34m'uint8'\u001b[0m\u001b[0;34m)\u001b[0m\u001b[0;34m)\u001b[0m\u001b[0;34m\u001b[0m\u001b[0;34m\u001b[0m\u001b[0m\n\u001b[1;32m      3\u001b[0m \u001b[0mplt\u001b[0m\u001b[0;34m.\u001b[0m\u001b[0maxis\u001b[0m\u001b[0;34m(\u001b[0m\u001b[0;34m'off'\u001b[0m\u001b[0;34m)\u001b[0m\u001b[0;34m\u001b[0m\u001b[0;34m\u001b[0m\u001b[0m\n\u001b[1;32m      4\u001b[0m \u001b[0mplt\u001b[0m\u001b[0;34m.\u001b[0m\u001b[0mgcf\u001b[0m\u001b[0;34m(\u001b[0m\u001b[0;34m)\u001b[0m\u001b[0;34m.\u001b[0m\u001b[0mset_size_inches\u001b[0m\u001b[0;34m(\u001b[0m\u001b[0;36m5\u001b[0m\u001b[0;34m,\u001b[0m \u001b[0;36m5\u001b[0m\u001b[0;34m)\u001b[0m\u001b[0;34m\u001b[0m\u001b[0;34m\u001b[0m\u001b[0m\n\u001b[1;32m      5\u001b[0m \u001b[0mplt\u001b[0m\u001b[0;34m.\u001b[0m\u001b[0mshow\u001b[0m\u001b[0;34m(\u001b[0m\u001b[0;34m)\u001b[0m\u001b[0;34m\u001b[0m\u001b[0;34m\u001b[0m\u001b[0m\n",
      "\u001b[0;31mValueError\u001b[0m: cannot reshape array of size 70688 into shape (47,47)"
     ]
    }
   ],
   "source": [
    "grid = visualize_grid(nn.layers[1].parameters['W'].transpose(2, 0, 1,3)).reshape(47,47)\n",
    "plt.imshow(grid.astype('uint8'))\n",
    "plt.axis('off')\n",
    "plt.gcf().set_size_inches(5, 5)\n",
    "plt.show()"
   ]
  },
  {
   "cell_type": "code",
   "execution_count": 61,
   "metadata": {},
   "outputs": [
    {
     "data": {
      "text/plain": [
       "2.6457513110645907"
      ]
     },
     "execution_count": 61,
     "metadata": {},
     "output_type": "execute_result"
    }
   ],
   "source": [
    "np.sqrt(7)"
   ]
  },
  {
   "cell_type": "code",
   "execution_count": 20,
   "metadata": {},
   "outputs": [
    {
     "ename": "NameError",
     "evalue": "name 'plt' is not defined",
     "output_type": "error",
     "traceback": [
      "\u001b[0;31m---------------------------------------------------------------------------\u001b[0m",
      "\u001b[0;31mNameError\u001b[0m                                 Traceback (most recent call last)",
      "\u001b[0;32m<ipython-input-20-489d5a080811>\u001b[0m in \u001b[0;36m<module>\u001b[0;34m\u001b[0m\n\u001b[0;32m----> 1\u001b[0;31m \u001b[0mplt\u001b[0m\u001b[0;34m.\u001b[0m\u001b[0mimshow\u001b[0m\u001b[0;34m(\u001b[0m\u001b[0;34m(\u001b[0m\u001b[0mX_test\u001b[0m\u001b[0;34m[\u001b[0m\u001b[0;36m50\u001b[0m\u001b[0;34m:\u001b[0m\u001b[0;36m51\u001b[0m\u001b[0;34m]\u001b[0m\u001b[0;34m.\u001b[0m\u001b[0mreshape\u001b[0m\u001b[0;34m(\u001b[0m\u001b[0;36m8\u001b[0m\u001b[0;34m,\u001b[0m\u001b[0;36m8\u001b[0m\u001b[0;34m)\u001b[0m\u001b[0;34m)\u001b[0m\u001b[0;34m)\u001b[0m\u001b[0;34m\u001b[0m\u001b[0;34m\u001b[0m\u001b[0m\n\u001b[0m",
      "\u001b[0;31mNameError\u001b[0m: name 'plt' is not defined"
     ]
    }
   ],
   "source": [
    "plt.imshow((X_test[50:51].reshape(8,8)))\n"
   ]
  },
  {
   "cell_type": "code",
   "execution_count": 57,
   "metadata": {},
   "outputs": [
    {
     "name": "stdout",
     "output_type": "stream",
     "text": [
      "(28, 28)\n"
     ]
    },
    {
     "data": {
      "text/plain": [
       "6"
      ]
     },
     "execution_count": 57,
     "metadata": {},
     "output_type": "execute_result"
    }
   ],
   "source": [
    "print(xt[-100:][55].shape)\n",
    "vv=xt[-100:][55].reshape(1, 28, 28, 1)\n",
    "#vvv = imgs_trans(vv,12)\n",
    "#predictions = nn.predict(vvv)\n",
    "ooo = nn._forward_pass(vv, retain_derived=False)\n",
    "list_pred = ooo.flatten().tolist()\n",
    "list_pred.index(max(list_pred))"
   ]
  },
  {
   "cell_type": "code",
   "execution_count": 58,
   "metadata": {},
   "outputs": [],
   "source": [
    "import matplotlib.pyplot as plt\n"
   ]
  },
  {
   "cell_type": "code",
   "execution_count": 59,
   "metadata": {},
   "outputs": [
    {
     "data": {
      "text/plain": [
       "<matplotlib.image.AxesImage at 0x7f7b356a34d0>"
      ]
     },
     "execution_count": 59,
     "metadata": {},
     "output_type": "execute_result"
    },
    {
     "data": {
      "image/png": "[encoded data removed]",
      "text/plain": [
       "<Figure size 432x288 with 1 Axes>"
      ]
     },
     "metadata": {
      "needs_background": "light"
     },
     "output_type": "display_data"
    }
   ],
   "source": [
    "plt.imshow(xt[-100:][55].reshape(28, 28))\n"
   ]
  },
  {
   "cell_type": "code",
   "execution_count": 27,
   "metadata": {},
   "outputs": [
    {
     "data": {
      "text/plain": [
       "array([9, 0, 0, ..., 3, 0, 5], dtype=uint8)"
      ]
     },
     "execution_count": 27,
     "metadata": {},
     "output_type": "execute_result"
    }
   ],
   "source": [
    "y_trainp"
   ]
  },
  {
   "cell_type": "code",
   "execution_count": 48,
   "metadata": {},
   "outputs": [],
   "source": [
    "def plot_image(i, predictions_array, true_label, img):\n",
    "  predictions_array, true_label, img = predictions_array, true_label[i], img[i]\n",
    "  plt.grid(False)\n",
    "  plt.xticks([])\n",
    "  plt.yticks([])\n",
    "\n",
    "  plt.imshow(img, cmap=plt.cm.binary)\n",
    "\n",
    "  predicted_label = np.argmax(predictions_array)\n",
    "  if predicted_label == true_label:\n",
    "    color = 'blue'\n",
    "  else:\n",
    "    color = 'red'\n",
    "\n",
    "  plt.xlabel(\"{} {:2.0f}% ({})\".format(class_names[predicted_label],\n",
    "                                100*np.max(predictions_array),\n",
    "                                class_names[true_label]),\n",
    "                                color=color)\n",
    "\n",
    "def plot_value_array(i, predictions_array, true_label):\n",
    "  predictions_array, true_label = predictions_array, true_label[i]\n",
    "  plt.grid(False)\n",
    "  plt.xticks(range(10))\n",
    "  plt.yticks([])\n",
    "  thisplot = plt.bar(range(10), predictions_array, color=\"#777777\")\n",
    "  plt.ylim([0, 1])\n",
    "  predicted_label = np.argmax(predictions_array)\n",
    "\n",
    "  thisplot[predicted_label].set_color('red')\n",
    "  thisplot[true_label].set_color('blue')"
   ]
  },
  {
   "cell_type": "code",
   "execution_count": null,
   "metadata": {},
   "outputs": [],
   "source": [
    "i = 0\n",
    "plt.figure(figsize=(6,3))\n",
    "plt.subplot(1,2,1)\n",
    "plot_image(i, ooo[i], test_labels, test_images)\n",
    "plt.subplot(1,2,2)\n",
    "plot_value_array(i, predictions[i],  test_labels)\n",
    "plt.show()"
   ]
  },
  {
   "cell_type": "code",
   "execution_count": null,
   "metadata": {},
   "outputs": [],
   "source": []
  },
  {
   "cell_type": "code",
   "execution_count": null,
   "metadata": {},
   "outputs": [],
   "source": []
  },
  {
   "cell_type": "code",
   "execution_count": null,
   "metadata": {},
   "outputs": [],
   "source": []
  },
  {
   "cell_type": "code",
   "execution_count": null,
   "metadata": {},
   "outputs": [],
   "source": []
  },
  {
   "cell_type": "code",
   "execution_count": null,
   "metadata": {},
   "outputs": [],
   "source": []
  },
  {
   "cell_type": "code",
   "execution_count": null,
   "metadata": {},
   "outputs": [],
   "source": []
  },
  {
   "cell_type": "code",
   "execution_count": null,
   "metadata": {},
   "outputs": [],
   "source": []
  },
  {
   "cell_type": "code",
   "execution_count": null,
   "metadata": {},
   "outputs": [],
   "source": []
  },
  {
   "cell_type": "code",
   "execution_count": null,
   "metadata": {},
   "outputs": [],
   "source": []
  },
  {
   "cell_type": "code",
   "execution_count": null,
   "metadata": {},
   "outputs": [],
   "source": []
  },
  {
   "cell_type": "code",
   "execution_count": null,
   "metadata": {},
   "outputs": [],
   "source": []
  },
  {
   "cell_type": "code",
   "execution_count": 16,
   "metadata": {},
   "outputs": [],
   "source": [
    "from deprecated.metal.nn import NeuralNetwork\n",
    "from deprecated.metal.utils import train_test_split, to_categorical, normalize,standardize\n",
    "from deprecated.metal.utils import get_random_subsets, shuffle_data, Plot\n",
    "from deprecated.metal.utils.data_operation import accuracy_score\n",
    "from deprecated.metal.optimizers import StochasticGradientDescent,Adam\n",
    "from deprecated.metal.loss_functions import CrossEntropy\n",
    "from deprecated.metal.utils.misc import bar_widgets\n",
    "from deprecated.metal.layers.dropout import Dropout\n",
    "\n",
    "from deprecated.metal.layers.batchnormalization_ import BatchNormalization\n",
    "from deprecated.metal.layers.dense import Dense\n",
    "from deprecated.metal.layers.conv2D import Conv2D\n",
    "from deprecated.metal.layers.flatten import Flatten\n",
    "from deprecated.metal.layers.layer import Activation\n",
    "from autograd.tensor import Tensor\n",
    "from autograd.parameter import Parameter\n",
    "from deprecated.metal.models.convnet import ConvNet\n",
    "import h5py"
   ]
  },
  {
   "cell_type": "code",
   "execution_count": 17,
   "metadata": {},
   "outputs": [],
   "source": [
    "from __future__ import print_function\n",
    "from sklearn import datasets\n",
    "import matplotlib.pyplot as plt\n",
    "import math \n",
    "import numpy as np\n",
    "import PIL\n",
    "from PIL import Image\n",
    "import urllib\n",
    "from skimage.transform import resize"
   ]
  },
  {
   "cell_type": "code",
   "execution_count": 18,
   "metadata": {},
   "outputs": [],
   "source": [
    "\n",
    "import numpy as np\n",
    "import scipy.ndimage as ndi\n",
    "\n",
    "def img_tran(imgs_in,size):\n",
    "    factor = size/imgs_in.shape[1]\n",
    "    imgs_out = ndi.zoom(imgs_in, (1, factor, factor, 1), order=2)\n",
    "    print(imgs_out.shape)\n",
    "    return imgs_out"
   ]
  },
  {
   "cell_type": "code",
   "execution_count": 19,
   "metadata": {},
   "outputs": [],
   "source": [
    "# TensorFlow and tf.keras\n",
    "import tensorflow as tf\n",
    "from tensorflow import keras"
   ]
  },
  {
   "cell_type": "code",
   "execution_count": 20,
   "metadata": {},
   "outputs": [
    {
     "name": "stdout",
     "output_type": "stream",
     "text": [
      "(10000, 12, 12, 1)\n"
     ]
    }
   ],
   "source": [
    "fashion_mnist = keras.datasets.fashion_mnist\n",
    "\n",
    "(X_train, y_train), (_, _) = fashion_mnist.load_data()\n",
    "\n",
    "X_train = X_train[:10000].reshape(10000, 28, 28, 1)\n",
    "y_train = y_train[:10000]\n",
    "X_train = img_tran(X_train,12)"
   ]
  },
  {
   "cell_type": "code",
   "execution_count": 21,
   "metadata": {},
   "outputs": [],
   "source": [
    "y_train = to_categorical(y_train.astype(\"int\"))\n"
   ]
  },
  {
   "cell_type": "code",
   "execution_count": 22,
   "metadata": {},
   "outputs": [],
   "source": [
    "X_train, X_test, y_train, y_test = train_test_split(X_train, y_train, test_size = 0.4, seed = 9)\n"
   ]
  },
  {
   "cell_type": "code",
   "execution_count": 23,
   "metadata": {},
   "outputs": [
    {
     "data": {
      "text/plain": [
       "((6000, 12, 12, 1), (4000, 12, 12, 1))"
      ]
     },
     "execution_count": 23,
     "metadata": {},
     "output_type": "execute_result"
    }
   ],
   "source": [
    "X_train.shape,X_test.shape\n"
   ]
  },
  {
   "cell_type": "code",
   "execution_count": 24,
   "metadata": {},
   "outputs": [],
   "source": [
    "\n",
    "optimizer = Adam()\n",
    "loss = CrossEntropy"
   ]
  },
  {
   "cell_type": "code",
   "execution_count": 25,
   "metadata": {},
   "outputs": [],
   "source": [
    "X_train = X_train.reshape((-1,1,12,12))/255.0\n",
    "X_test = X_test.reshape((-1,1,12,12))/255.0\n"
   ]
  },
  {
   "cell_type": "code",
   "execution_count": 26,
   "metadata": {},
   "outputs": [],
   "source": [
    "X_train = Parameter(X_train, requires_grad=True)\n",
    "X_test = Parameter(X_test, requires_grad=True)\n",
    "y_train = Parameter(y_train, requires_grad=True)\n",
    "y_test = Parameter(y_test, requires_grad=True)"
   ]
  },
  {
   "cell_type": "code",
   "execution_count": 27,
   "metadata": {},
   "outputs": [],
   "source": [
    "covnet = ConvNet(optimizer=optimizer, loss=loss,  validation_data=(X_test,y_test))\n"
   ]
  },
  {
   "cell_type": "code",
   "execution_count": 28,
   "metadata": {},
   "outputs": [],
   "source": [
    "covnet.add(Conv2D(n_filters=16, filter_shape=(3,3), stride=1, input_shape=(1,12,12), padding='same', seed=1))\n",
    "covnet.add(Activation('relu'))\n",
    "#covnet.add(Dropout(.25))\n",
    "#covnet.add(BatchNormalization())\n",
    "\n",
    "covnet.add(Conv2D(n_filters=16, filter_shape=(3,3), stride=1, padding='same', seed=2))\n",
    "covnet.add(Flatten(input_shape=(1,12,12)))\n",
    "#covnet.add(BatchNormalization())\n",
    "covnet.add(Dense(256, seed=4))\n",
    "covnet.add(Activation('relu'))\n",
    "#covnet.add(Dropout(.25))\n",
    "covnet.add(Dense(10,seed=3))\n",
    "covnet.add(Activation('softmax'))"
   ]
  },
  {
   "cell_type": "code",
   "execution_count": 29,
   "metadata": {},
   "outputs": [
    {
     "name": "stderr",
     "output_type": "stream",
     "text": [
      "Training:  10% [----                                            ] ETA:  0:01:36\r"
     ]
    },
    {
     "ename": "KeyboardInterrupt",
     "evalue": "",
     "output_type": "error",
     "traceback": [
      "\u001b[0;31m---------------------------------------------------------------------------\u001b[0m",
      "\u001b[0;31mKeyboardInterrupt\u001b[0m                         Traceback (most recent call last)",
      "\u001b[0;32m<ipython-input-29-8c141e921859>\u001b[0m in \u001b[0;36m<module>\u001b[0;34m\u001b[0m\n\u001b[0;32m----> 1\u001b[0;31m \u001b[0mtrain_err\u001b[0m\u001b[0;34m,\u001b[0m \u001b[0mval_err\u001b[0m \u001b[0;34m=\u001b[0m \u001b[0mcovnet\u001b[0m\u001b[0;34m.\u001b[0m\u001b[0mfit\u001b[0m\u001b[0;34m(\u001b[0m\u001b[0mX_train\u001b[0m\u001b[0;34m,\u001b[0m \u001b[0my_train\u001b[0m\u001b[0;34m,\u001b[0m \u001b[0mn_epochs\u001b[0m\u001b[0;34m=\u001b[0m\u001b[0;36m10\u001b[0m\u001b[0;34m,\u001b[0m \u001b[0mbatch_size\u001b[0m\u001b[0;34m=\u001b[0m\u001b[0;36m82\u001b[0m\u001b[0;34m)\u001b[0m\u001b[0;34m\u001b[0m\u001b[0;34m\u001b[0m\u001b[0m\n\u001b[0m",
      "\u001b[0;32m/mnt/c/Users/migue/Documents/dev/Metal/deprecated/metal/nn.py\u001b[0m in \u001b[0;36mfit\u001b[0;34m(self, X, y, n_epochs, batch_size)\u001b[0m\n\u001b[1;32m     76\u001b[0m             \u001b[0mbatch_error\u001b[0m \u001b[0;34m=\u001b[0m \u001b[0;34m[\u001b[0m\u001b[0;34m]\u001b[0m\u001b[0;34m\u001b[0m\u001b[0;34m\u001b[0m\u001b[0m\n\u001b[1;32m     77\u001b[0m             \u001b[0;32mfor\u001b[0m \u001b[0mX_batch\u001b[0m\u001b[0;34m,\u001b[0m \u001b[0my_batch\u001b[0m \u001b[0;32min\u001b[0m \u001b[0mbatch_iterator\u001b[0m\u001b[0;34m(\u001b[0m\u001b[0mX\u001b[0m\u001b[0;34m,\u001b[0m \u001b[0my\u001b[0m\u001b[0;34m,\u001b[0m \u001b[0mbatch_size\u001b[0m\u001b[0;34m=\u001b[0m\u001b[0mbatch_size\u001b[0m\u001b[0;34m)\u001b[0m\u001b[0;34m:\u001b[0m\u001b[0;34m\u001b[0m\u001b[0;34m\u001b[0m\u001b[0m\n\u001b[0;32m---> 78\u001b[0;31m                 \u001b[0mloss\u001b[0m\u001b[0;34m,\u001b[0m \u001b[0m_\u001b[0m \u001b[0;34m=\u001b[0m \u001b[0mself\u001b[0m\u001b[0;34m.\u001b[0m\u001b[0mtrain_on_batch\u001b[0m\u001b[0;34m(\u001b[0m\u001b[0mX_batch\u001b[0m\u001b[0;34m,\u001b[0m \u001b[0my_batch\u001b[0m\u001b[0;34m)\u001b[0m\u001b[0;34m\u001b[0m\u001b[0;34m\u001b[0m\u001b[0m\n\u001b[0m\u001b[1;32m     79\u001b[0m                 \u001b[0mbatch_error\u001b[0m\u001b[0;34m.\u001b[0m\u001b[0mappend\u001b[0m\u001b[0;34m(\u001b[0m\u001b[0mloss\u001b[0m\u001b[0;34m)\u001b[0m\u001b[0;34m\u001b[0m\u001b[0;34m\u001b[0m\u001b[0m\n\u001b[1;32m     80\u001b[0m \u001b[0;34m\u001b[0m\u001b[0m\n",
      "\u001b[0;32m/mnt/c/Users/migue/Documents/dev/Metal/deprecated/metal/nn.py\u001b[0m in \u001b[0;36mtrain_on_batch\u001b[0;34m(self, X, y)\u001b[0m\n\u001b[1;32m     64\u001b[0m         \u001b[0macc\u001b[0m \u001b[0;34m=\u001b[0m \u001b[0mself\u001b[0m\u001b[0;34m.\u001b[0m\u001b[0mloss_function\u001b[0m\u001b[0;34m(\u001b[0m\u001b[0my\u001b[0m\u001b[0;34m,\u001b[0m \u001b[0my_pred\u001b[0m\u001b[0;34m)\u001b[0m\u001b[0;34m.\u001b[0m\u001b[0macc\u001b[0m\u001b[0;34m(\u001b[0m\u001b[0;34m)\u001b[0m\u001b[0;34m\u001b[0m\u001b[0;34m\u001b[0m\u001b[0m\n\u001b[1;32m     65\u001b[0m         \u001b[0;31m#Calculate the gradient of the loss function wrt y_pred\u001b[0m\u001b[0;34m\u001b[0m\u001b[0;34m\u001b[0m\u001b[0;34m\u001b[0m\u001b[0m\n\u001b[0;32m---> 66\u001b[0;31m         \u001b[0mloss\u001b[0m\u001b[0;34m.\u001b[0m\u001b[0msum\u001b[0m\u001b[0;34m(\u001b[0m\u001b[0;34m)\u001b[0m\u001b[0;34m.\u001b[0m\u001b[0mbackward\u001b[0m\u001b[0;34m(\u001b[0m\u001b[0;34m)\u001b[0m\u001b[0;34m\u001b[0m\u001b[0;34m\u001b[0m\u001b[0m\n\u001b[0m\u001b[1;32m     67\u001b[0m         \u001b[0;31m#Update weights\u001b[0m\u001b[0;34m\u001b[0m\u001b[0;34m\u001b[0m\u001b[0;34m\u001b[0m\u001b[0m\n\u001b[1;32m     68\u001b[0m         \u001b[0mself\u001b[0m\u001b[0;34m.\u001b[0m\u001b[0m_update_pass\u001b[0m\u001b[0;34m(\u001b[0m\u001b[0;34m)\u001b[0m\u001b[0;34m\u001b[0m\u001b[0;34m\u001b[0m\u001b[0m\n",
      "\u001b[0;32m/mnt/c/Users/migue/Documents/dev/Metal/autograd/node.py\u001b[0m in \u001b[0;36mbackward\u001b[0;34m(self, grad)\u001b[0m\n\u001b[1;32m    134\u001b[0m \u001b[0;34m\u001b[0m\u001b[0m\n\u001b[1;32m    135\u001b[0m     \u001b[0;32mdef\u001b[0m \u001b[0mbackward\u001b[0m\u001b[0;34m(\u001b[0m\u001b[0mself\u001b[0m\u001b[0;34m,\u001b[0m \u001b[0mgrad\u001b[0m\u001b[0;34m:\u001b[0m \u001b[0;34m\"Node\"\u001b[0m \u001b[0;34m=\u001b[0m \u001b[0;32mNone\u001b[0m\u001b[0;34m)\u001b[0m \u001b[0;34m->\u001b[0m \u001b[0;32mNone\u001b[0m\u001b[0;34m:\u001b[0m\u001b[0;34m\u001b[0m\u001b[0;34m\u001b[0m\u001b[0m\n\u001b[0;32m--> 136\u001b[0;31m         \u001b[0mautograd\u001b[0m\u001b[0;34m(\u001b[0m\u001b[0mself\u001b[0m\u001b[0;34m)\u001b[0m\u001b[0;34m.\u001b[0m\u001b[0mbackward\u001b[0m\u001b[0;34m(\u001b[0m\u001b[0mgrad\u001b[0m\u001b[0;34m)\u001b[0m \u001b[0;31m# apply backward function wrapping the output gardent\u001b[0m\u001b[0;34m\u001b[0m\u001b[0;34m\u001b[0m\u001b[0m\n\u001b[0m",
      "\u001b[0;32m/mnt/c/Users/migue/Documents/dev/Metal/autograd/engin.py\u001b[0m in \u001b[0;36mbackward\u001b[0;34m(self, grad)\u001b[0m\n\u001b[1;32m     19\u001b[0m         \u001b[0;32mfor\u001b[0m \u001b[0mdependency\u001b[0m \u001b[0;32min\u001b[0m \u001b[0mself\u001b[0m\u001b[0;34m.\u001b[0m\u001b[0mt\u001b[0m\u001b[0;34m.\u001b[0m\u001b[0mdepends_on\u001b[0m\u001b[0;34m:\u001b[0m \u001b[0;31m#loop over the list\u001b[0m\u001b[0;34m\u001b[0m\u001b[0;34m\u001b[0m\u001b[0m\n\u001b[1;32m     20\u001b[0m             \u001b[0mbackward_grad\u001b[0m \u001b[0;34m=\u001b[0m \u001b[0mdependency\u001b[0m\u001b[0;34m.\u001b[0m\u001b[0mgrad_fn\u001b[0m\u001b[0;34m(\u001b[0m\u001b[0mgrad\u001b[0m\u001b[0;34m.\u001b[0m\u001b[0mdata\u001b[0m\u001b[0;34m)\u001b[0m \u001b[0;31m# apply gard fuction\u001b[0m\u001b[0;34m\u001b[0m\u001b[0;34m\u001b[0m\u001b[0m\n\u001b[0;32m---> 21\u001b[0;31m             \u001b[0mdependency\u001b[0m\u001b[0;34m.\u001b[0m\u001b[0mNode\u001b[0m\u001b[0;34m.\u001b[0m\u001b[0mbackward\u001b[0m\u001b[0;34m(\u001b[0m\u001b[0mself\u001b[0m\u001b[0;34m.\u001b[0m\u001b[0mtype\u001b[0m\u001b[0;34m(\u001b[0m\u001b[0mbackward_grad\u001b[0m\u001b[0;34m)\u001b[0m\u001b[0;34m)\u001b[0m \u001b[0;31m# get current Node\u001b[0m\u001b[0;34m\u001b[0m\u001b[0;34m\u001b[0m\u001b[0m\n\u001b[0m\u001b[1;32m     22\u001b[0m                                                                       \u001b[0;31m# apply backward function\u001b[0m\u001b[0;34m\u001b[0m\u001b[0;34m\u001b[0m\u001b[0;34m\u001b[0m\u001b[0m\n\u001b[1;32m     23\u001b[0m                                                                       \u001b[0;31m# wrapping the output gardent\u001b[0m\u001b[0;34m\u001b[0m\u001b[0;34m\u001b[0m\u001b[0;34m\u001b[0m\u001b[0m\n",
      "\u001b[0;32m/mnt/c/Users/migue/Documents/dev/Metal/autograd/node.py\u001b[0m in \u001b[0;36mbackward\u001b[0;34m(self, grad)\u001b[0m\n\u001b[1;32m    134\u001b[0m \u001b[0;34m\u001b[0m\u001b[0m\n\u001b[1;32m    135\u001b[0m     \u001b[0;32mdef\u001b[0m \u001b[0mbackward\u001b[0m\u001b[0;34m(\u001b[0m\u001b[0mself\u001b[0m\u001b[0;34m,\u001b[0m \u001b[0mgrad\u001b[0m\u001b[0;34m:\u001b[0m \u001b[0;34m\"Node\"\u001b[0m \u001b[0;34m=\u001b[0m \u001b[0;32mNone\u001b[0m\u001b[0;34m)\u001b[0m \u001b[0;34m->\u001b[0m \u001b[0;32mNone\u001b[0m\u001b[0;34m:\u001b[0m\u001b[0;34m\u001b[0m\u001b[0;34m\u001b[0m\u001b[0m\n\u001b[0;32m--> 136\u001b[0;31m         \u001b[0mautograd\u001b[0m\u001b[0;34m(\u001b[0m\u001b[0mself\u001b[0m\u001b[0;34m)\u001b[0m\u001b[0;34m.\u001b[0m\u001b[0mbackward\u001b[0m\u001b[0;34m(\u001b[0m\u001b[0mgrad\u001b[0m\u001b[0;34m)\u001b[0m \u001b[0;31m# apply backward function wrapping the output gardent\u001b[0m\u001b[0;34m\u001b[0m\u001b[0;34m\u001b[0m\u001b[0m\n\u001b[0m",
      "\u001b[0;32m/mnt/c/Users/migue/Documents/dev/Metal/autograd/engin.py\u001b[0m in \u001b[0;36mbackward\u001b[0;34m(self, grad)\u001b[0m\n\u001b[1;32m     19\u001b[0m         \u001b[0;32mfor\u001b[0m \u001b[0mdependency\u001b[0m \u001b[0;32min\u001b[0m \u001b[0mself\u001b[0m\u001b[0;34m.\u001b[0m\u001b[0mt\u001b[0m\u001b[0;34m.\u001b[0m\u001b[0mdepends_on\u001b[0m\u001b[0;34m:\u001b[0m \u001b[0;31m#loop over the list\u001b[0m\u001b[0;34m\u001b[0m\u001b[0;34m\u001b[0m\u001b[0m\n\u001b[1;32m     20\u001b[0m             \u001b[0mbackward_grad\u001b[0m \u001b[0;34m=\u001b[0m \u001b[0mdependency\u001b[0m\u001b[0;34m.\u001b[0m\u001b[0mgrad_fn\u001b[0m\u001b[0;34m(\u001b[0m\u001b[0mgrad\u001b[0m\u001b[0;34m.\u001b[0m\u001b[0mdata\u001b[0m\u001b[0;34m)\u001b[0m \u001b[0;31m# apply gard fuction\u001b[0m\u001b[0;34m\u001b[0m\u001b[0;34m\u001b[0m\u001b[0m\n\u001b[0;32m---> 21\u001b[0;31m             \u001b[0mdependency\u001b[0m\u001b[0;34m.\u001b[0m\u001b[0mNode\u001b[0m\u001b[0;34m.\u001b[0m\u001b[0mbackward\u001b[0m\u001b[0;34m(\u001b[0m\u001b[0mself\u001b[0m\u001b[0;34m.\u001b[0m\u001b[0mtype\u001b[0m\u001b[0;34m(\u001b[0m\u001b[0mbackward_grad\u001b[0m\u001b[0;34m)\u001b[0m\u001b[0;34m)\u001b[0m \u001b[0;31m# get current Node\u001b[0m\u001b[0;34m\u001b[0m\u001b[0;34m\u001b[0m\u001b[0m\n\u001b[0m\u001b[1;32m     22\u001b[0m                                                                       \u001b[0;31m# apply backward function\u001b[0m\u001b[0;34m\u001b[0m\u001b[0;34m\u001b[0m\u001b[0;34m\u001b[0m\u001b[0m\n\u001b[1;32m     23\u001b[0m                                                                       \u001b[0;31m# wrapping the output gardent\u001b[0m\u001b[0;34m\u001b[0m\u001b[0;34m\u001b[0m\u001b[0;34m\u001b[0m\u001b[0m\n",
      "\u001b[0;32m/mnt/c/Users/migue/Documents/dev/Metal/autograd/node.py\u001b[0m in \u001b[0;36mbackward\u001b[0;34m(self, grad)\u001b[0m\n\u001b[1;32m    134\u001b[0m \u001b[0;34m\u001b[0m\u001b[0m\n\u001b[1;32m    135\u001b[0m     \u001b[0;32mdef\u001b[0m \u001b[0mbackward\u001b[0m\u001b[0;34m(\u001b[0m\u001b[0mself\u001b[0m\u001b[0;34m,\u001b[0m \u001b[0mgrad\u001b[0m\u001b[0;34m:\u001b[0m \u001b[0;34m\"Node\"\u001b[0m \u001b[0;34m=\u001b[0m \u001b[0;32mNone\u001b[0m\u001b[0;34m)\u001b[0m \u001b[0;34m->\u001b[0m \u001b[0;32mNone\u001b[0m\u001b[0;34m:\u001b[0m\u001b[0;34m\u001b[0m\u001b[0;34m\u001b[0m\u001b[0m\n\u001b[0;32m--> 136\u001b[0;31m         \u001b[0mautograd\u001b[0m\u001b[0;34m(\u001b[0m\u001b[0mself\u001b[0m\u001b[0;34m)\u001b[0m\u001b[0;34m.\u001b[0m\u001b[0mbackward\u001b[0m\u001b[0;34m(\u001b[0m\u001b[0mgrad\u001b[0m\u001b[0;34m)\u001b[0m \u001b[0;31m# apply backward function wrapping the output gardent\u001b[0m\u001b[0;34m\u001b[0m\u001b[0;34m\u001b[0m\u001b[0m\n\u001b[0m",
      "\u001b[0;32m/mnt/c/Users/migue/Documents/dev/Metal/autograd/engin.py\u001b[0m in \u001b[0;36mbackward\u001b[0;34m(self, grad)\u001b[0m\n\u001b[1;32m     19\u001b[0m         \u001b[0;32mfor\u001b[0m \u001b[0mdependency\u001b[0m \u001b[0;32min\u001b[0m \u001b[0mself\u001b[0m\u001b[0;34m.\u001b[0m\u001b[0mt\u001b[0m\u001b[0;34m.\u001b[0m\u001b[0mdepends_on\u001b[0m\u001b[0;34m:\u001b[0m \u001b[0;31m#loop over the list\u001b[0m\u001b[0;34m\u001b[0m\u001b[0;34m\u001b[0m\u001b[0m\n\u001b[1;32m     20\u001b[0m             \u001b[0mbackward_grad\u001b[0m \u001b[0;34m=\u001b[0m \u001b[0mdependency\u001b[0m\u001b[0;34m.\u001b[0m\u001b[0mgrad_fn\u001b[0m\u001b[0;34m(\u001b[0m\u001b[0mgrad\u001b[0m\u001b[0;34m.\u001b[0m\u001b[0mdata\u001b[0m\u001b[0;34m)\u001b[0m \u001b[0;31m# apply gard fuction\u001b[0m\u001b[0;34m\u001b[0m\u001b[0;34m\u001b[0m\u001b[0m\n\u001b[0;32m---> 21\u001b[0;31m             \u001b[0mdependency\u001b[0m\u001b[0;34m.\u001b[0m\u001b[0mNode\u001b[0m\u001b[0;34m.\u001b[0m\u001b[0mbackward\u001b[0m\u001b[0;34m(\u001b[0m\u001b[0mself\u001b[0m\u001b[0;34m.\u001b[0m\u001b[0mtype\u001b[0m\u001b[0;34m(\u001b[0m\u001b[0mbackward_grad\u001b[0m\u001b[0;34m)\u001b[0m\u001b[0;34m)\u001b[0m \u001b[0;31m# get current Node\u001b[0m\u001b[0;34m\u001b[0m\u001b[0;34m\u001b[0m\u001b[0m\n\u001b[0m\u001b[1;32m     22\u001b[0m                                                                       \u001b[0;31m# apply backward function\u001b[0m\u001b[0;34m\u001b[0m\u001b[0;34m\u001b[0m\u001b[0;34m\u001b[0m\u001b[0m\n\u001b[1;32m     23\u001b[0m                                                                       \u001b[0;31m# wrapping the output gardent\u001b[0m\u001b[0;34m\u001b[0m\u001b[0;34m\u001b[0m\u001b[0;34m\u001b[0m\u001b[0m\n",
      "\u001b[0;32m/mnt/c/Users/migue/Documents/dev/Metal/autograd/node.py\u001b[0m in \u001b[0;36mbackward\u001b[0;34m(self, grad)\u001b[0m\n\u001b[1;32m    134\u001b[0m \u001b[0;34m\u001b[0m\u001b[0m\n\u001b[1;32m    135\u001b[0m     \u001b[0;32mdef\u001b[0m \u001b[0mbackward\u001b[0m\u001b[0;34m(\u001b[0m\u001b[0mself\u001b[0m\u001b[0;34m,\u001b[0m \u001b[0mgrad\u001b[0m\u001b[0;34m:\u001b[0m \u001b[0;34m\"Node\"\u001b[0m \u001b[0;34m=\u001b[0m \u001b[0;32mNone\u001b[0m\u001b[0;34m)\u001b[0m \u001b[0;34m->\u001b[0m \u001b[0;32mNone\u001b[0m\u001b[0;34m:\u001b[0m\u001b[0;34m\u001b[0m\u001b[0;34m\u001b[0m\u001b[0m\n\u001b[0;32m--> 136\u001b[0;31m         \u001b[0mautograd\u001b[0m\u001b[0;34m(\u001b[0m\u001b[0mself\u001b[0m\u001b[0;34m)\u001b[0m\u001b[0;34m.\u001b[0m\u001b[0mbackward\u001b[0m\u001b[0;34m(\u001b[0m\u001b[0mgrad\u001b[0m\u001b[0;34m)\u001b[0m \u001b[0;31m# apply backward function wrapping the output gardent\u001b[0m\u001b[0;34m\u001b[0m\u001b[0;34m\u001b[0m\u001b[0m\n\u001b[0m",
      "\u001b[0;32m/mnt/c/Users/migue/Documents/dev/Metal/autograd/engin.py\u001b[0m in \u001b[0;36mbackward\u001b[0;34m(self, grad)\u001b[0m\n\u001b[1;32m     19\u001b[0m         \u001b[0;32mfor\u001b[0m \u001b[0mdependency\u001b[0m \u001b[0;32min\u001b[0m \u001b[0mself\u001b[0m\u001b[0;34m.\u001b[0m\u001b[0mt\u001b[0m\u001b[0;34m.\u001b[0m\u001b[0mdepends_on\u001b[0m\u001b[0;34m:\u001b[0m \u001b[0;31m#loop over the list\u001b[0m\u001b[0;34m\u001b[0m\u001b[0;34m\u001b[0m\u001b[0m\n\u001b[1;32m     20\u001b[0m             \u001b[0mbackward_grad\u001b[0m \u001b[0;34m=\u001b[0m \u001b[0mdependency\u001b[0m\u001b[0;34m.\u001b[0m\u001b[0mgrad_fn\u001b[0m\u001b[0;34m(\u001b[0m\u001b[0mgrad\u001b[0m\u001b[0;34m.\u001b[0m\u001b[0mdata\u001b[0m\u001b[0;34m)\u001b[0m \u001b[0;31m# apply gard fuction\u001b[0m\u001b[0;34m\u001b[0m\u001b[0;34m\u001b[0m\u001b[0m\n\u001b[0;32m---> 21\u001b[0;31m             \u001b[0mdependency\u001b[0m\u001b[0;34m.\u001b[0m\u001b[0mNode\u001b[0m\u001b[0;34m.\u001b[0m\u001b[0mbackward\u001b[0m\u001b[0;34m(\u001b[0m\u001b[0mself\u001b[0m\u001b[0;34m.\u001b[0m\u001b[0mtype\u001b[0m\u001b[0;34m(\u001b[0m\u001b[0mbackward_grad\u001b[0m\u001b[0;34m)\u001b[0m\u001b[0;34m)\u001b[0m \u001b[0;31m# get current Node\u001b[0m\u001b[0;34m\u001b[0m\u001b[0;34m\u001b[0m\u001b[0m\n\u001b[0m\u001b[1;32m     22\u001b[0m                                                                       \u001b[0;31m# apply backward function\u001b[0m\u001b[0;34m\u001b[0m\u001b[0;34m\u001b[0m\u001b[0;34m\u001b[0m\u001b[0m\n\u001b[1;32m     23\u001b[0m                                                                       \u001b[0;31m# wrapping the output gardent\u001b[0m\u001b[0;34m\u001b[0m\u001b[0;34m\u001b[0m\u001b[0;34m\u001b[0m\u001b[0m\n",
      "\u001b[0;32m/mnt/c/Users/migue/Documents/dev/Metal/autograd/node.py\u001b[0m in \u001b[0;36mbackward\u001b[0;34m(self, grad)\u001b[0m\n\u001b[1;32m    134\u001b[0m \u001b[0;34m\u001b[0m\u001b[0m\n\u001b[1;32m    135\u001b[0m     \u001b[0;32mdef\u001b[0m \u001b[0mbackward\u001b[0m\u001b[0;34m(\u001b[0m\u001b[0mself\u001b[0m\u001b[0;34m,\u001b[0m \u001b[0mgrad\u001b[0m\u001b[0;34m:\u001b[0m \u001b[0;34m\"Node\"\u001b[0m \u001b[0;34m=\u001b[0m \u001b[0;32mNone\u001b[0m\u001b[0;34m)\u001b[0m \u001b[0;34m->\u001b[0m \u001b[0;32mNone\u001b[0m\u001b[0;34m:\u001b[0m\u001b[0;34m\u001b[0m\u001b[0;34m\u001b[0m\u001b[0m\n\u001b[0;32m--> 136\u001b[0;31m         \u001b[0mautograd\u001b[0m\u001b[0;34m(\u001b[0m\u001b[0mself\u001b[0m\u001b[0;34m)\u001b[0m\u001b[0;34m.\u001b[0m\u001b[0mbackward\u001b[0m\u001b[0;34m(\u001b[0m\u001b[0mgrad\u001b[0m\u001b[0;34m)\u001b[0m \u001b[0;31m# apply backward function wrapping the output gardent\u001b[0m\u001b[0;34m\u001b[0m\u001b[0;34m\u001b[0m\u001b[0m\n\u001b[0m",
      "\u001b[0;32m/mnt/c/Users/migue/Documents/dev/Metal/autograd/engin.py\u001b[0m in \u001b[0;36mbackward\u001b[0;34m(self, grad)\u001b[0m\n\u001b[1;32m     19\u001b[0m         \u001b[0;32mfor\u001b[0m \u001b[0mdependency\u001b[0m \u001b[0;32min\u001b[0m \u001b[0mself\u001b[0m\u001b[0;34m.\u001b[0m\u001b[0mt\u001b[0m\u001b[0;34m.\u001b[0m\u001b[0mdepends_on\u001b[0m\u001b[0;34m:\u001b[0m \u001b[0;31m#loop over the list\u001b[0m\u001b[0;34m\u001b[0m\u001b[0;34m\u001b[0m\u001b[0m\n\u001b[1;32m     20\u001b[0m             \u001b[0mbackward_grad\u001b[0m \u001b[0;34m=\u001b[0m \u001b[0mdependency\u001b[0m\u001b[0;34m.\u001b[0m\u001b[0mgrad_fn\u001b[0m\u001b[0;34m(\u001b[0m\u001b[0mgrad\u001b[0m\u001b[0;34m.\u001b[0m\u001b[0mdata\u001b[0m\u001b[0;34m)\u001b[0m \u001b[0;31m# apply gard fuction\u001b[0m\u001b[0;34m\u001b[0m\u001b[0;34m\u001b[0m\u001b[0m\n\u001b[0;32m---> 21\u001b[0;31m             \u001b[0mdependency\u001b[0m\u001b[0;34m.\u001b[0m\u001b[0mNode\u001b[0m\u001b[0;34m.\u001b[0m\u001b[0mbackward\u001b[0m\u001b[0;34m(\u001b[0m\u001b[0mself\u001b[0m\u001b[0;34m.\u001b[0m\u001b[0mtype\u001b[0m\u001b[0;34m(\u001b[0m\u001b[0mbackward_grad\u001b[0m\u001b[0;34m)\u001b[0m\u001b[0;34m)\u001b[0m \u001b[0;31m# get current Node\u001b[0m\u001b[0;34m\u001b[0m\u001b[0;34m\u001b[0m\u001b[0m\n\u001b[0m\u001b[1;32m     22\u001b[0m                                                                       \u001b[0;31m# apply backward function\u001b[0m\u001b[0;34m\u001b[0m\u001b[0;34m\u001b[0m\u001b[0;34m\u001b[0m\u001b[0m\n\u001b[1;32m     23\u001b[0m                                                                       \u001b[0;31m# wrapping the output gardent\u001b[0m\u001b[0;34m\u001b[0m\u001b[0;34m\u001b[0m\u001b[0;34m\u001b[0m\u001b[0m\n",
      "\u001b[0;32m/mnt/c/Users/migue/Documents/dev/Metal/autograd/node.py\u001b[0m in \u001b[0;36mbackward\u001b[0;34m(self, grad)\u001b[0m\n\u001b[1;32m    134\u001b[0m \u001b[0;34m\u001b[0m\u001b[0m\n\u001b[1;32m    135\u001b[0m     \u001b[0;32mdef\u001b[0m \u001b[0mbackward\u001b[0m\u001b[0;34m(\u001b[0m\u001b[0mself\u001b[0m\u001b[0;34m,\u001b[0m \u001b[0mgrad\u001b[0m\u001b[0;34m:\u001b[0m \u001b[0;34m\"Node\"\u001b[0m \u001b[0;34m=\u001b[0m \u001b[0;32mNone\u001b[0m\u001b[0;34m)\u001b[0m \u001b[0;34m->\u001b[0m \u001b[0;32mNone\u001b[0m\u001b[0;34m:\u001b[0m\u001b[0;34m\u001b[0m\u001b[0;34m\u001b[0m\u001b[0m\n\u001b[0;32m--> 136\u001b[0;31m         \u001b[0mautograd\u001b[0m\u001b[0;34m(\u001b[0m\u001b[0mself\u001b[0m\u001b[0;34m)\u001b[0m\u001b[0;34m.\u001b[0m\u001b[0mbackward\u001b[0m\u001b[0;34m(\u001b[0m\u001b[0mgrad\u001b[0m\u001b[0;34m)\u001b[0m \u001b[0;31m# apply backward function wrapping the output gardent\u001b[0m\u001b[0;34m\u001b[0m\u001b[0;34m\u001b[0m\u001b[0m\n\u001b[0m",
      "\u001b[0;32m/mnt/c/Users/migue/Documents/dev/Metal/autograd/engin.py\u001b[0m in \u001b[0;36mbackward\u001b[0;34m(self, grad)\u001b[0m\n\u001b[1;32m     19\u001b[0m         \u001b[0;32mfor\u001b[0m \u001b[0mdependency\u001b[0m \u001b[0;32min\u001b[0m \u001b[0mself\u001b[0m\u001b[0;34m.\u001b[0m\u001b[0mt\u001b[0m\u001b[0;34m.\u001b[0m\u001b[0mdepends_on\u001b[0m\u001b[0;34m:\u001b[0m \u001b[0;31m#loop over the list\u001b[0m\u001b[0;34m\u001b[0m\u001b[0;34m\u001b[0m\u001b[0m\n\u001b[1;32m     20\u001b[0m             \u001b[0mbackward_grad\u001b[0m \u001b[0;34m=\u001b[0m \u001b[0mdependency\u001b[0m\u001b[0;34m.\u001b[0m\u001b[0mgrad_fn\u001b[0m\u001b[0;34m(\u001b[0m\u001b[0mgrad\u001b[0m\u001b[0;34m.\u001b[0m\u001b[0mdata\u001b[0m\u001b[0;34m)\u001b[0m \u001b[0;31m# apply gard fuction\u001b[0m\u001b[0;34m\u001b[0m\u001b[0;34m\u001b[0m\u001b[0m\n\u001b[0;32m---> 21\u001b[0;31m             \u001b[0mdependency\u001b[0m\u001b[0;34m.\u001b[0m\u001b[0mNode\u001b[0m\u001b[0;34m.\u001b[0m\u001b[0mbackward\u001b[0m\u001b[0;34m(\u001b[0m\u001b[0mself\u001b[0m\u001b[0;34m.\u001b[0m\u001b[0mtype\u001b[0m\u001b[0;34m(\u001b[0m\u001b[0mbackward_grad\u001b[0m\u001b[0;34m)\u001b[0m\u001b[0;34m)\u001b[0m \u001b[0;31m# get current Node\u001b[0m\u001b[0;34m\u001b[0m\u001b[0;34m\u001b[0m\u001b[0m\n\u001b[0m\u001b[1;32m     22\u001b[0m                                                                       \u001b[0;31m# apply backward function\u001b[0m\u001b[0;34m\u001b[0m\u001b[0;34m\u001b[0m\u001b[0;34m\u001b[0m\u001b[0m\n\u001b[1;32m     23\u001b[0m                                                                       \u001b[0;31m# wrapping the output gardent\u001b[0m\u001b[0;34m\u001b[0m\u001b[0;34m\u001b[0m\u001b[0;34m\u001b[0m\u001b[0m\n",
      "\u001b[0;32m/mnt/c/Users/migue/Documents/dev/Metal/autograd/node.py\u001b[0m in \u001b[0;36mbackward\u001b[0;34m(self, grad)\u001b[0m\n\u001b[1;32m    134\u001b[0m \u001b[0;34m\u001b[0m\u001b[0m\n\u001b[1;32m    135\u001b[0m     \u001b[0;32mdef\u001b[0m \u001b[0mbackward\u001b[0m\u001b[0;34m(\u001b[0m\u001b[0mself\u001b[0m\u001b[0;34m,\u001b[0m \u001b[0mgrad\u001b[0m\u001b[0;34m:\u001b[0m \u001b[0;34m\"Node\"\u001b[0m \u001b[0;34m=\u001b[0m \u001b[0;32mNone\u001b[0m\u001b[0;34m)\u001b[0m \u001b[0;34m->\u001b[0m \u001b[0;32mNone\u001b[0m\u001b[0;34m:\u001b[0m\u001b[0;34m\u001b[0m\u001b[0;34m\u001b[0m\u001b[0m\n\u001b[0;32m--> 136\u001b[0;31m         \u001b[0mautograd\u001b[0m\u001b[0;34m(\u001b[0m\u001b[0mself\u001b[0m\u001b[0;34m)\u001b[0m\u001b[0;34m.\u001b[0m\u001b[0mbackward\u001b[0m\u001b[0;34m(\u001b[0m\u001b[0mgrad\u001b[0m\u001b[0;34m)\u001b[0m \u001b[0;31m# apply backward function wrapping the output gardent\u001b[0m\u001b[0;34m\u001b[0m\u001b[0;34m\u001b[0m\u001b[0m\n\u001b[0m",
      "\u001b[0;32m/mnt/c/Users/migue/Documents/dev/Metal/autograd/engin.py\u001b[0m in \u001b[0;36mbackward\u001b[0;34m(self, grad)\u001b[0m\n\u001b[1;32m     19\u001b[0m         \u001b[0;32mfor\u001b[0m \u001b[0mdependency\u001b[0m \u001b[0;32min\u001b[0m \u001b[0mself\u001b[0m\u001b[0;34m.\u001b[0m\u001b[0mt\u001b[0m\u001b[0;34m.\u001b[0m\u001b[0mdepends_on\u001b[0m\u001b[0;34m:\u001b[0m \u001b[0;31m#loop over the list\u001b[0m\u001b[0;34m\u001b[0m\u001b[0;34m\u001b[0m\u001b[0m\n\u001b[1;32m     20\u001b[0m             \u001b[0mbackward_grad\u001b[0m \u001b[0;34m=\u001b[0m \u001b[0mdependency\u001b[0m\u001b[0;34m.\u001b[0m\u001b[0mgrad_fn\u001b[0m\u001b[0;34m(\u001b[0m\u001b[0mgrad\u001b[0m\u001b[0;34m.\u001b[0m\u001b[0mdata\u001b[0m\u001b[0;34m)\u001b[0m \u001b[0;31m# apply gard fuction\u001b[0m\u001b[0;34m\u001b[0m\u001b[0;34m\u001b[0m\u001b[0m\n\u001b[0;32m---> 21\u001b[0;31m             \u001b[0mdependency\u001b[0m\u001b[0;34m.\u001b[0m\u001b[0mNode\u001b[0m\u001b[0;34m.\u001b[0m\u001b[0mbackward\u001b[0m\u001b[0;34m(\u001b[0m\u001b[0mself\u001b[0m\u001b[0;34m.\u001b[0m\u001b[0mtype\u001b[0m\u001b[0;34m(\u001b[0m\u001b[0mbackward_grad\u001b[0m\u001b[0;34m)\u001b[0m\u001b[0;34m)\u001b[0m \u001b[0;31m# get current Node\u001b[0m\u001b[0;34m\u001b[0m\u001b[0;34m\u001b[0m\u001b[0m\n\u001b[0m\u001b[1;32m     22\u001b[0m                                                                       \u001b[0;31m# apply backward function\u001b[0m\u001b[0;34m\u001b[0m\u001b[0;34m\u001b[0m\u001b[0;34m\u001b[0m\u001b[0m\n\u001b[1;32m     23\u001b[0m                                                                       \u001b[0;31m# wrapping the output gardent\u001b[0m\u001b[0;34m\u001b[0m\u001b[0;34m\u001b[0m\u001b[0;34m\u001b[0m\u001b[0m\n",
      "\u001b[0;32m/mnt/c/Users/migue/Documents/dev/Metal/autograd/node.py\u001b[0m in \u001b[0;36mbackward\u001b[0;34m(self, grad)\u001b[0m\n\u001b[1;32m    134\u001b[0m \u001b[0;34m\u001b[0m\u001b[0m\n\u001b[1;32m    135\u001b[0m     \u001b[0;32mdef\u001b[0m \u001b[0mbackward\u001b[0m\u001b[0;34m(\u001b[0m\u001b[0mself\u001b[0m\u001b[0;34m,\u001b[0m \u001b[0mgrad\u001b[0m\u001b[0;34m:\u001b[0m \u001b[0;34m\"Node\"\u001b[0m \u001b[0;34m=\u001b[0m \u001b[0;32mNone\u001b[0m\u001b[0;34m)\u001b[0m \u001b[0;34m->\u001b[0m \u001b[0;32mNone\u001b[0m\u001b[0;34m:\u001b[0m\u001b[0;34m\u001b[0m\u001b[0;34m\u001b[0m\u001b[0m\n\u001b[0;32m--> 136\u001b[0;31m         \u001b[0mautograd\u001b[0m\u001b[0;34m(\u001b[0m\u001b[0mself\u001b[0m\u001b[0;34m)\u001b[0m\u001b[0;34m.\u001b[0m\u001b[0mbackward\u001b[0m\u001b[0;34m(\u001b[0m\u001b[0mgrad\u001b[0m\u001b[0;34m)\u001b[0m \u001b[0;31m# apply backward function wrapping the output gardent\u001b[0m\u001b[0;34m\u001b[0m\u001b[0;34m\u001b[0m\u001b[0m\n\u001b[0m",
      "\u001b[0;32m/mnt/c/Users/migue/Documents/dev/Metal/autograd/engin.py\u001b[0m in \u001b[0;36mbackward\u001b[0;34m(self, grad)\u001b[0m\n\u001b[1;32m     18\u001b[0m         \u001b[0mself\u001b[0m\u001b[0;34m.\u001b[0m\u001b[0mt\u001b[0m\u001b[0;34m.\u001b[0m\u001b[0mgrad\u001b[0m\u001b[0;34m.\u001b[0m\u001b[0mdata\u001b[0m \u001b[0;34m=\u001b[0m \u001b[0mself\u001b[0m\u001b[0;34m.\u001b[0m\u001b[0mt\u001b[0m\u001b[0;34m.\u001b[0m\u001b[0mgrad\u001b[0m\u001b[0;34m.\u001b[0m\u001b[0mdata\u001b[0m \u001b[0;34m+\u001b[0m \u001b[0mgrad\u001b[0m\u001b[0;34m.\u001b[0m\u001b[0mdata\u001b[0m  \u001b[0;31m# type: ignore\u001b[0m\u001b[0;34m\u001b[0m\u001b[0;34m\u001b[0m\u001b[0m\n\u001b[1;32m     19\u001b[0m         \u001b[0;32mfor\u001b[0m \u001b[0mdependency\u001b[0m \u001b[0;32min\u001b[0m \u001b[0mself\u001b[0m\u001b[0;34m.\u001b[0m\u001b[0mt\u001b[0m\u001b[0;34m.\u001b[0m\u001b[0mdepends_on\u001b[0m\u001b[0;34m:\u001b[0m \u001b[0;31m#loop over the list\u001b[0m\u001b[0;34m\u001b[0m\u001b[0;34m\u001b[0m\u001b[0m\n\u001b[0;32m---> 20\u001b[0;31m             \u001b[0mbackward_grad\u001b[0m \u001b[0;34m=\u001b[0m \u001b[0mdependency\u001b[0m\u001b[0;34m.\u001b[0m\u001b[0mgrad_fn\u001b[0m\u001b[0;34m(\u001b[0m\u001b[0mgrad\u001b[0m\u001b[0;34m.\u001b[0m\u001b[0mdata\u001b[0m\u001b[0;34m)\u001b[0m \u001b[0;31m# apply gard fuction\u001b[0m\u001b[0;34m\u001b[0m\u001b[0;34m\u001b[0m\u001b[0m\n\u001b[0m\u001b[1;32m     21\u001b[0m             \u001b[0mdependency\u001b[0m\u001b[0;34m.\u001b[0m\u001b[0mNode\u001b[0m\u001b[0;34m.\u001b[0m\u001b[0mbackward\u001b[0m\u001b[0;34m(\u001b[0m\u001b[0mself\u001b[0m\u001b[0;34m.\u001b[0m\u001b[0mtype\u001b[0m\u001b[0;34m(\u001b[0m\u001b[0mbackward_grad\u001b[0m\u001b[0;34m)\u001b[0m\u001b[0;34m)\u001b[0m \u001b[0;31m# get current Node\u001b[0m\u001b[0;34m\u001b[0m\u001b[0;34m\u001b[0m\u001b[0m\n\u001b[1;32m     22\u001b[0m                                                                       \u001b[0;31m# apply backward function\u001b[0m\u001b[0;34m\u001b[0m\u001b[0;34m\u001b[0m\u001b[0;34m\u001b[0m\u001b[0m\n",
      "\u001b[0;32m/mnt/c/Users/migue/Documents/dev/Metal/deprecated/metal/layers/conv2D.py\u001b[0m in \u001b[0;36mgrad_a_conv2D\u001b[0;34m(self, accum_grad)\u001b[0m\n\u001b[1;32m    118\u001b[0m                                 \u001b[0mself\u001b[0m\u001b[0;34m.\u001b[0m\u001b[0mfilter_shape\u001b[0m\u001b[0;34m,\u001b[0m\u001b[0;34m\u001b[0m\u001b[0;34m\u001b[0m\u001b[0m\n\u001b[1;32m    119\u001b[0m                                 \u001b[0mstride\u001b[0m\u001b[0;34m=\u001b[0m\u001b[0mself\u001b[0m\u001b[0;34m.\u001b[0m\u001b[0mstride\u001b[0m\u001b[0;34m,\u001b[0m\u001b[0;34m\u001b[0m\u001b[0;34m\u001b[0m\u001b[0m\n\u001b[0;32m--> 120\u001b[0;31m                                 output_shape=self.padding)\n\u001b[0m\u001b[1;32m    121\u001b[0m \u001b[0;34m\u001b[0m\u001b[0m\n\u001b[1;32m    122\u001b[0m         \u001b[0;32mreturn\u001b[0m \u001b[0maccum_grad\u001b[0m\u001b[0;34m\u001b[0m\u001b[0;34m\u001b[0m\u001b[0m\n",
      "\u001b[0;32m/mnt/c/Users/migue/Documents/dev/Metal/deprecated/metal/utils/layer_data_manipulations.py\u001b[0m in \u001b[0;36mcolumn_to_image\u001b[0;34m(cols, images_shape, filter_shape, stride, output_shape)\u001b[0m\n\u001b[1;32m     90\u001b[0m \u001b[0;34m\u001b[0m\u001b[0m\n\u001b[1;32m     91\u001b[0m     \u001b[0;31m# Add column content to the images at the indices\u001b[0m\u001b[0;34m\u001b[0m\u001b[0;34m\u001b[0m\u001b[0;34m\u001b[0m\u001b[0m\n\u001b[0;32m---> 92\u001b[0;31m     \u001b[0mnp\u001b[0m\u001b[0;34m.\u001b[0m\u001b[0madd\u001b[0m\u001b[0;34m.\u001b[0m\u001b[0mat\u001b[0m\u001b[0;34m(\u001b[0m\u001b[0mimages_padded\u001b[0m\u001b[0;34m,\u001b[0m \u001b[0;34m(\u001b[0m\u001b[0mslice\u001b[0m\u001b[0;34m(\u001b[0m\u001b[0;32mNone\u001b[0m\u001b[0;34m)\u001b[0m\u001b[0;34m,\u001b[0m \u001b[0mk\u001b[0m\u001b[0;34m,\u001b[0m \u001b[0mi\u001b[0m\u001b[0;34m,\u001b[0m \u001b[0mj\u001b[0m\u001b[0;34m)\u001b[0m\u001b[0;34m,\u001b[0m \u001b[0mcols\u001b[0m\u001b[0;34m)\u001b[0m\u001b[0;34m\u001b[0m\u001b[0;34m\u001b[0m\u001b[0m\n\u001b[0m\u001b[1;32m     93\u001b[0m     \u001b[0;31m# Return image without padding\u001b[0m\u001b[0;34m\u001b[0m\u001b[0;34m\u001b[0m\u001b[0;34m\u001b[0m\u001b[0m\n\u001b[1;32m     94\u001b[0m     \u001b[0;32mreturn\u001b[0m \u001b[0mimages_padded\u001b[0m\u001b[0;34m[\u001b[0m\u001b[0;34m:\u001b[0m\u001b[0;34m,\u001b[0m \u001b[0;34m:\u001b[0m\u001b[0;34m,\u001b[0m \u001b[0mpad_h\u001b[0m\u001b[0;34m[\u001b[0m\u001b[0;36m0\u001b[0m\u001b[0;34m]\u001b[0m\u001b[0;34m:\u001b[0m\u001b[0mheight\u001b[0m\u001b[0;34m+\u001b[0m\u001b[0mpad_h\u001b[0m\u001b[0;34m[\u001b[0m\u001b[0;36m0\u001b[0m\u001b[0;34m]\u001b[0m\u001b[0;34m,\u001b[0m \u001b[0mpad_w\u001b[0m\u001b[0;34m[\u001b[0m\u001b[0;36m0\u001b[0m\u001b[0;34m]\u001b[0m\u001b[0;34m:\u001b[0m\u001b[0mwidth\u001b[0m\u001b[0;34m+\u001b[0m\u001b[0mpad_w\u001b[0m\u001b[0;34m[\u001b[0m\u001b[0;36m0\u001b[0m\u001b[0;34m]\u001b[0m\u001b[0;34m]\u001b[0m\u001b[0;34m\u001b[0m\u001b[0;34m\u001b[0m\u001b[0m\n",
      "\u001b[0;31mKeyboardInterrupt\u001b[0m: "
     ]
    }
   ],
   "source": [
    "train_err, val_err = covnet.fit(X_train, y_train, n_epochs=10, batch_size=82)\n"
   ]
  },
  {
   "cell_type": "code",
   "execution_count": 15,
   "metadata": {},
   "outputs": [],
   "source": [
    "#covnet.eval(X_test, y_test)\n"
   ]
  },
  {
   "cell_type": "code",
   "execution_count": 16,
   "metadata": {},
   "outputs": [],
   "source": [
    "imgs = np.load('../../../downloads/catdog.npy',allow_pickle=True)\n",
    "labels = np.load('../../../downloads/catdoglabels.npy',allow_pickle=True)"
   ]
  },
  {
   "cell_type": "code",
   "execution_count": 17,
   "metadata": {},
   "outputs": [],
   "source": [
    "X = imgs\n",
    "y = labels"
   ]
  },
  {
   "cell_type": "code",
   "execution_count": 18,
   "metadata": {},
   "outputs": [
    {
     "data": {
      "text/plain": [
       "(1, 224, 224, 3)"
      ]
     },
     "execution_count": 18,
     "metadata": {},
     "output_type": "execute_result"
    }
   ],
   "source": [
    "X[:1].shape"
   ]
  },
  {
   "cell_type": "code",
   "execution_count": 19,
   "metadata": {},
   "outputs": [],
   "source": [
    "X_train = Parameter(X[:400].reshape(400,3, 224, 224), requires_grad=True)\n"
   ]
  },
  {
   "cell_type": "code",
   "execution_count": 20,
   "metadata": {},
   "outputs": [],
   "source": [
    "def conv_forward_strides(x, w, b, conv_param):\n",
    "    N, C, H, W = x.shape\n",
    "    F, _, HH, WW = w.shape\n",
    "    stride, pad = conv_param['stride'], conv_param['pad']\n",
    "\n",
    "    # Check dimensions\n",
    "    #assert (W + 2 * pad - WW) % stride == 0, 'width does not work'\n",
    "    #assert (H + 2 * pad - HH) % stride == 0, 'height does not work'\n",
    "\n",
    "    # Pad the input\n",
    "    p = pad\n",
    "    x_padded = np.pad(x, ((0, 0), (0, 0), (p, p), (p, p)), mode='constant')\n",
    "\n",
    "    # Figure out output dimensions\n",
    "    H += 2 * pad\n",
    "    W += 2 * pad\n",
    "    out_h = (H - HH) // stride + 1\n",
    "    out_w = (W - WW) // stride + 1\n",
    "\n",
    "    # Perform an im2col operation by picking clever strides\n",
    "    shape = (C, HH, WW, N, out_h, out_w)\n",
    "    strides = (H * W, W, 1, C * H * W, stride * W, stride)\n",
    "    strides = x.itemsize * np.array(strides)\n",
    "    x_stride = np.lib.stride_tricks.as_strided(x_padded,\n",
    "                  shape=shape, strides=strides)\n",
    "    x_cols = np.ascontiguousarray(x_stride)\n",
    "    x_cols.shape = (C * HH * WW, N * out_h * out_w)\n",
    "\n",
    "    # Now all our convolutions are a big matrix multiply\n",
    "    res = w.reshape(F, -1).dot(x_cols) + b.reshape(-1, 1)\n",
    "\n",
    "    # Reshape the output\n",
    "    res.shape = (F, N, out_h, out_w)\n",
    "    out = res.transpose(1, 0, 2, 3)\n",
    "\n",
    "    # Be nice and return a contiguous array\n",
    "    # The old version of conv_forward_fast doesn't do this, so for a fair\n",
    "    # comparison we won't either\n",
    "    out = np.ascontiguousarray(out)\n",
    "\n",
    "    cache = (x, w, b, conv_param, x_cols)\n",
    "    return out, cache\n",
    "\n",
    "def relu_forward(x):\n",
    "    \"\"\"\n",
    "    Computes the forward pass for a layer of rectified linear units (ReLUs).\n",
    "\n",
    "    Input:\n",
    "    - x: Inputs, of any shape\n",
    "\n",
    "    Returns a tuple of:\n",
    "    - out: Output, of the same shape as x\n",
    "    - cache: x\n",
    "    \"\"\"\n",
    "    outt = None\n",
    "    ###########################################################################\n",
    "    # TODO: Implement the ReLU forward pass.                                  #\n",
    "    ###########################################################################\n",
    "    # *****START OF YOUR CODE (DO NOT DELETE/MODIFY THIS LINE)*****\n",
    "    out = x\n",
    "    out[out<0] = 0\n",
    "    pass\n",
    "\n",
    "    # *****END OF YOUR CODE (DO NOT DELETE/MODIFY THIS LINE)*****\n",
    "    ###########################################################################\n",
    "    #                             END OF YOUR CODE                            #\n",
    "    ###########################################################################\n",
    "    cache = x\n",
    "    return out, cache\n"
   ]
  },
  {
   "cell_type": "code",
   "execution_count": 21,
   "metadata": {},
   "outputs": [],
   "source": [
    "input_dim=(3, 224, 224)\n",
    "num_filters=32\n",
    "filter_size=7\n",
    "hidden_dim=100 \n",
    "num_classes=10\n",
    "weight_scale=1e-3\n",
    "C, H, W = input_dim\n",
    "\n",
    "w_ =  weight_scale *np.random.randn(num_filters, C, filter_size, filter_size)\n",
    "b =np.zeros(num_filters)\n",
    "conv_param = {'stride': 1, 'pad': (filter_size - 1) // 2}\n"
   ]
  },
  {
   "cell_type": "code",
   "execution_count": 22,
   "metadata": {},
   "outputs": [
    {
     "ename": "ValueError",
     "evalue": "cannot reshape array of size 60211200 into shape (1,3,224,224)",
     "output_type": "error",
     "traceback": [
      "\u001b[0;31m---------------------------------------------------------------------------\u001b[0m",
      "\u001b[0;31mValueError\u001b[0m                                Traceback (most recent call last)",
      "\u001b[0;32m<ipython-input-22-42c6a09efd95>\u001b[0m in \u001b[0;36m<module>\u001b[0;34m\u001b[0m\n\u001b[0;32m----> 1\u001b[0;31m \u001b[0mx\u001b[0m \u001b[0;34m=\u001b[0m \u001b[0mX_train\u001b[0m\u001b[0;34m.\u001b[0m\u001b[0mdata\u001b[0m\u001b[0;34m.\u001b[0m\u001b[0mreshape\u001b[0m\u001b[0;34m(\u001b[0m\u001b[0;36m1\u001b[0m\u001b[0;34m,\u001b[0m\u001b[0;36m3\u001b[0m\u001b[0;34m,\u001b[0m\u001b[0;36m224\u001b[0m\u001b[0;34m,\u001b[0m\u001b[0;36m224\u001b[0m\u001b[0;34m)\u001b[0m\u001b[0;34m\u001b[0m\u001b[0;34m\u001b[0m\u001b[0m\n\u001b[0m",
      "\u001b[0;31mValueError\u001b[0m: cannot reshape array of size 60211200 into shape (1,3,224,224)"
     ]
    }
   ],
   "source": [
    "x = X_train.data.reshape(1,3,224,224)"
   ]
  },
  {
   "cell_type": "code",
   "execution_count": 23,
   "metadata": {},
   "outputs": [
    {
     "ename": "NameError",
     "evalue": "name 'x' is not defined",
     "output_type": "error",
     "traceback": [
      "\u001b[0;31m---------------------------------------------------------------------------\u001b[0m",
      "\u001b[0;31mNameError\u001b[0m                                 Traceback (most recent call last)",
      "\u001b[0;32m<ipython-input-23-16ef6c9f21f2>\u001b[0m in \u001b[0;36m<module>\u001b[0;34m\u001b[0m\n\u001b[0;32m----> 1\u001b[0;31m \u001b[0mout_\u001b[0m\u001b[0;34m,\u001b[0m\u001b[0m_\u001b[0m \u001b[0;34m=\u001b[0m \u001b[0mconv_forward_strides\u001b[0m\u001b[0;34m(\u001b[0m\u001b[0mx\u001b[0m\u001b[0;34m,\u001b[0m \u001b[0mw_\u001b[0m\u001b[0;34m,\u001b[0m \u001b[0mb\u001b[0m\u001b[0;34m,\u001b[0m \u001b[0mconv_param\u001b[0m\u001b[0;34m)\u001b[0m\u001b[0;34m\u001b[0m\u001b[0;34m\u001b[0m\u001b[0m\n\u001b[0m\u001b[1;32m      2\u001b[0m \u001b[0mout\u001b[0m \u001b[0;34m=\u001b[0m  \u001b[0mrelu_forward\u001b[0m\u001b[0;34m(\u001b[0m\u001b[0mout_\u001b[0m\u001b[0;34m)\u001b[0m\u001b[0;34m\u001b[0m\u001b[0;34m\u001b[0m\u001b[0m\n",
      "\u001b[0;31mNameError\u001b[0m: name 'x' is not defined"
     ]
    }
   ],
   "source": [
    "out_,_ = conv_forward_strides(x, w_, b, conv_param)\n",
    "out =  relu_forward(out_)"
   ]
  },
  {
   "cell_type": "code",
   "execution_count": 24,
   "metadata": {},
   "outputs": [
    {
     "ename": "NameError",
     "evalue": "name 'out' is not defined",
     "output_type": "error",
     "traceback": [
      "\u001b[0;31m---------------------------------------------------------------------------\u001b[0m",
      "\u001b[0;31mNameError\u001b[0m                                 Traceback (most recent call last)",
      "\u001b[0;32m<ipython-input-24-b9f1f5548951>\u001b[0m in \u001b[0;36m<module>\u001b[0;34m\u001b[0m\n\u001b[0;32m----> 1\u001b[0;31m \u001b[0moutt\u001b[0m \u001b[0;34m=\u001b[0m \u001b[0mout\u001b[0m\u001b[0;34m[\u001b[0m\u001b[0;36m0\u001b[0m\u001b[0;34m]\u001b[0m\u001b[0;34m\u001b[0m\u001b[0;34m\u001b[0m\u001b[0m\n\u001b[0m\u001b[1;32m      2\u001b[0m \u001b[0moutt\u001b[0m\u001b[0;34m.\u001b[0m\u001b[0mshape\u001b[0m\u001b[0;34m\u001b[0m\u001b[0;34m\u001b[0m\u001b[0m\n",
      "\u001b[0;31mNameError\u001b[0m: name 'out' is not defined"
     ]
    }
   ],
   "source": [
    "outt = out[0]\n",
    "outt.shape"
   ]
  },
  {
   "cell_type": "code",
   "execution_count": 25,
   "metadata": {},
   "outputs": [
    {
     "ename": "NameError",
     "evalue": "name 'outt' is not defined",
     "output_type": "error",
     "traceback": [
      "\u001b[0;31m---------------------------------------------------------------------------\u001b[0m",
      "\u001b[0;31mNameError\u001b[0m                                 Traceback (most recent call last)",
      "\u001b[0;32m<ipython-input-25-39ec3f5c277d>\u001b[0m in \u001b[0;36m<module>\u001b[0;34m\u001b[0m\n\u001b[0;32m----> 1\u001b[0;31m \u001b[0mplt\u001b[0m\u001b[0;34m.\u001b[0m\u001b[0mimshow\u001b[0m\u001b[0;34m(\u001b[0m\u001b[0moutt\u001b[0m\u001b[0;34m[\u001b[0m\u001b[0;36m0\u001b[0m\u001b[0;34m]\u001b[0m\u001b[0;34m.\u001b[0m\u001b[0mreshape\u001b[0m\u001b[0;34m(\u001b[0m\u001b[0;36m32\u001b[0m\u001b[0;34m,\u001b[0m \u001b[0;36m224\u001b[0m\u001b[0;34m,\u001b[0m\u001b[0;36m224\u001b[0m\u001b[0;34m)\u001b[0m\u001b[0;34m[\u001b[0m\u001b[0;36m0\u001b[0m\u001b[0;34m]\u001b[0m\u001b[0;34m)\u001b[0m\u001b[0;34m\u001b[0m\u001b[0;34m\u001b[0m\u001b[0m\n\u001b[0m",
      "\u001b[0;31mNameError\u001b[0m: name 'outt' is not defined"
     ]
    }
   ],
   "source": [
    "plt.imshow(outt[0].reshape(32, 224,224)[0])\n"
   ]
  },
  {
   "cell_type": "code",
   "execution_count": 26,
   "metadata": {},
   "outputs": [
    {
     "data": {
      "text/plain": [
       "(1, 3, 3, 3)"
      ]
     },
     "execution_count": 26,
     "metadata": {},
     "output_type": "execute_result"
    }
   ],
   "source": [
    "c1 = Conv2D(n_filters=1, filter_shape=(3,3), stride=1, input_shape=(3,224,224), padding='same')\n",
    "c1.initialize()\n",
    "c1.w.shape"
   ]
  },
  {
   "cell_type": "code",
   "execution_count": 27,
   "metadata": {},
   "outputs": [],
   "source": [
    "import time"
   ]
  },
  {
   "cell_type": "code",
   "execution_count": 28,
   "metadata": {},
   "outputs": [
    {
     "data": {
      "text/plain": [
       "2.943350315093994"
      ]
     },
     "execution_count": 28,
     "metadata": {},
     "output_type": "execute_result"
    }
   ],
   "source": [
    "s = time.time()\n",
    "vc=c1.forward_pass(X_train,True)\n",
    "e = time.time()\n",
    "\n",
    "e-s\n"
   ]
  },
  {
   "cell_type": "code",
   "execution_count": 29,
   "metadata": {},
   "outputs": [],
   "source": [
    "from metal.layers.conv2D import Conv2D as c2d\n",
    "from metal.initializers.optimizer_init import Adam as ad\n"
   ]
  },
  {
   "cell_type": "code",
   "execution_count": 30,
   "metadata": {},
   "outputs": [],
   "source": [
    "c2 = c2d(1,(3,3),1,stride=1,optimizer=ad(),act_fn='relu')\n",
    "c2.in_ch = 3\n",
    "c2._init_params()\n"
   ]
  },
  {
   "cell_type": "code",
   "execution_count": 33,
   "metadata": {},
   "outputs": [
    {
     "name": "stdout",
     "output_type": "stream",
     "text": [
      "0.19095754623413086\n"
     ]
    },
    {
     "data": {
      "text/plain": [
       "dtype('float32')"
      ]
     },
     "execution_count": 33,
     "metadata": {},
     "output_type": "execute_result"
    }
   ],
   "source": [
    "import time\n",
    "xx =X_train.data.reshape(-1,224,224,3)\n",
    "s = time.time()\n",
    "oc=c2.forward(xx)\n",
    "e = time.time()\n",
    "\n",
    "e-s\n",
    "oc.dtype"
   ]
  },
  {
   "cell_type": "code",
   "execution_count": 38,
   "metadata": {},
   "outputs": [
    {
     "data": {
      "text/plain": [
       "dtype('float32')"
      ]
     },
     "execution_count": 38,
     "metadata": {},
     "output_type": "execute_result"
    }
   ],
   "source": [
    "c2.gradients[\"W\"].dtype"
   ]
  },
  {
   "cell_type": "code",
   "execution_count": null,
   "metadata": {},
   "outputs": [],
   "source": [
    "oc[0].shape,c2.parameters[\"W\"].shape"
   ]
  },
  {
   "cell_type": "code",
   "execution_count": 29,
   "metadata": {},
   "outputs": [
    {
     "data": {
      "text/plain": [
       "<matplotlib.image.AxesImage at 0x7f7bc9fbbb10>"
      ]
     },
     "execution_count": 29,
     "metadata": {},
     "output_type": "execute_result"
    },
    {
     "data": {
      "image/png": "[encoded data removed]",
      "text/plain": [
       "<Figure size 432x288 with 1 Axes>"
      ]
     },
     "metadata": {
      "needs_background": "light"
     },
     "output_type": "display_data"
    }
   ],
   "source": [
    "plt.imshow(oc[0].reshape(224,224))\n"
   ]
  },
  {
   "cell_type": "code",
   "execution_count": 64,
   "metadata": {},
   "outputs": [
    {
     "data": {
      "text/plain": [
       "<matplotlib.image.AxesImage at 0x7f18dbe08590>"
      ]
     },
     "execution_count": 64,
     "metadata": {},
     "output_type": "execute_result"
    },
    {
     "data": {
      "image/png": "[encoded data removed]",
      "text/plain": [
       "<Figure size 432x288 with 1 Axes>"
      ]
     },
     "metadata": {
      "needs_background": "light"
     },
     "output_type": "display_data"
    }
   ],
   "source": [
    "plt.imshow(vc.data[0].reshape(224,224))\n"
   ]
  },
  {
   "cell_type": "code",
   "execution_count": 65,
   "metadata": {},
   "outputs": [
    {
     "data": {
      "text/plain": [
       "(1, 224, 224)"
      ]
     },
     "execution_count": 65,
     "metadata": {},
     "output_type": "execute_result"
    }
   ],
   "source": [
    "vc.data[0].shape"
   ]
  },
  {
   "cell_type": "code",
   "execution_count": 66,
   "metadata": {},
   "outputs": [
    {
     "data": {
      "text/plain": [
       "<matplotlib.image.AxesImage at 0x7f18dbd73350>"
      ]
     },
     "execution_count": 66,
     "metadata": {},
     "output_type": "execute_result"
    },
    {
     "data": {
      "image/png": "[encoded data removed]",
      "text/plain": [
       "<Figure size 432x288 with 1 Axes>"
      ]
     },
     "metadata": {
      "needs_background": "light"
     },
     "output_type": "display_data"
    }
   ],
   "source": [
    "plt.imshow(X[1:2][0])\n"
   ]
  },
  {
   "cell_type": "code",
   "execution_count": 56,
   "metadata": {},
   "outputs": [
    {
     "data": {
      "text/plain": [
       "(224, 224, 3)"
      ]
     },
     "execution_count": 56,
     "metadata": {},
     "output_type": "execute_result"
    }
   ],
   "source": [
    "X[1].shape"
   ]
  },
  {
   "cell_type": "code",
   "execution_count": 30,
   "metadata": {},
   "outputs": [
    {
     "data": {
      "text/plain": [
       "[1, 2]"
      ]
     },
     "execution_count": 30,
     "metadata": {},
     "output_type": "execute_result"
    }
   ],
   "source": [
    "[1,2,3][:2]"
   ]
  },
  {
   "cell_type": "code",
   "execution_count": 32,
   "metadata": {},
   "outputs": [],
   "source": [
    "f = Flatten()"
   ]
  },
  {
   "cell_type": "code",
   "execution_count": 37,
   "metadata": {},
   "outputs": [],
   "source": [
    "out=f.forward(np.random.randn(5,8,8,3))"
   ]
  },
  {
   "cell_type": "code",
   "execution_count": 38,
   "metadata": {},
   "outputs": [
    {
     "data": {
      "text/plain": [
       "(5, 192)"
      ]
     },
     "execution_count": 38,
     "metadata": {},
     "output_type": "execute_result"
    }
   ],
   "source": [
    "out.shape"
   ]
  },
  {
   "cell_type": "code",
   "execution_count": 39,
   "metadata": {},
   "outputs": [
    {
     "data": {
      "text/plain": [
       "(1079, 8, 8, 1)"
      ]
     },
     "execution_count": 39,
     "metadata": {},
     "output_type": "execute_result"
    }
   ],
   "source": [
    "X_train.shape"
   ]
  },
  {
   "cell_type": "code",
   "execution_count": 36,
   "metadata": {},
   "outputs": [
    {
     "data": {
      "text/plain": [
       "64"
      ]
     },
     "execution_count": 36,
     "metadata": {},
     "output_type": "execute_result"
    }
   ],
   "source": [
    "8*8"
   ]
  },
  {
   "cell_type": "code",
   "execution_count": 28,
   "metadata": {},
   "outputs": [],
   "source": [
    "class A(object):\n",
    "    def __init__(self,r):\n",
    "        self.r=r\n",
    "        \n",
    "class b(A):\n",
    "    def __init__(self,x):\n",
    "        super().__init__(x+1)\n",
    "        self.x=x\n",
    "        \n",
    "    def c(self,k=100):\n",
    "        super().__init__(k)\n",
    "        "
   ]
  },
  {
   "cell_type": "code",
   "execution_count": 29,
   "metadata": {},
   "outputs": [
    {
     "data": {
      "text/plain": [
       "4"
      ]
     },
     "execution_count": 29,
     "metadata": {},
     "output_type": "execute_result"
    }
   ],
   "source": [
    "zz = b(3)\n",
    "zz.r"
   ]
  },
  {
   "cell_type": "code",
   "execution_count": 30,
   "metadata": {},
   "outputs": [],
   "source": [
    "zz.c()"
   ]
  },
  {
   "cell_type": "code",
   "execution_count": 31,
   "metadata": {},
   "outputs": [
    {
     "data": {
      "text/plain": [
       "100"
      ]
     },
     "execution_count": 31,
     "metadata": {},
     "output_type": "execute_result"
    }
   ],
   "source": [
    "zz.r"
   ]
  },
  {
   "cell_type": "code",
   "execution_count": null,
   "metadata": {},
   "outputs": [],
   "source": []
  }
 ],
 "metadata": {
  "kernelspec": {
   "display_name": "Python 3",
   "language": "python",
   "name": "python3"
  },
  "language_info": {
   "codemirror_mode": {
    "name": "ipython",
    "version": 3
   },
   "file_extension": ".py",
   "mimetype": "text/x-python",
   "name": "python",
   "nbconvert_exporter": "python",
   "pygments_lexer": "ipython3",
   "version": "3.7.4"
  }
 },
 "nbformat": 4,
 "nbformat_minor": 2
}
