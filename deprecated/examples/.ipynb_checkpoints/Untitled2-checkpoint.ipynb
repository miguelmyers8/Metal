{
 "cells": [
  {
   "cell_type": "code",
   "execution_count": 1,
   "metadata": {
    "scrolled": false
   },
   "outputs": [],
   "source": [
    "from metal.layers.dense import Dense\n",
    "from metal.layers.softmax import Softmax\n",
    "\n",
    "from metal.layers.conv2D import Conv2D\n",
    "from metal.layers.flatten import Flatten\n",
    "from metal.losses.loss import CrossEntropy\n",
    "from metal.losses.loss_functions import CrossEntropy as cp\n",
    "from metal.learners.neuralnetwork import NeuralNetwork\n",
    "from metal.learners.solver import Solver\n",
    "from metal.initializers.optimizer_init import OptimizerInitializer, Adam\n",
    "from metal.initializers.scheduler_init import SchedulerInitializer\n",
    "from metal.layers.pooling import Pool2D\n",
    "import numpy as np\n",
    "from metal.utils.functions import to_categorical\n",
    "from sklearn import datasets\n",
    "import tensorflow as tf\n",
    "from tensorflow import keras\n",
    "fashion_mnist = keras.datasets.fashion_mnist\n",
    "import scipy.ndimage as ndi\n",
    "import matplotlib.pyplot as plt\n"
   ]
  },
  {
   "cell_type": "code",
   "execution_count": 2,
   "metadata": {},
   "outputs": [],
   "source": [
    "from math import sqrt, ceil\n",
    "\n",
    "def normalize(X, axis=-1, order=2):\n",
    "    \"\"\" Normalize the dataset X \"\"\"\n",
    "    l2 = np.atleast_1d(np.linalg.norm(X, order, axis))\n",
    "    l2[l2 == 0] = 1\n",
    "    return X / np.expand_dims(l2, axis)\n",
    "\n",
    "def imgs_trans(imgs_in,size):\n",
    "    factor = size/imgs_in.shape[1]\n",
    "    imgs_out = ndi.zoom(imgs_in, (1, factor, factor, 1), order=2)\n",
    "    print(imgs_out.shape)\n",
    "    return imgs_out\n",
    "\n",
    "def train_test_split(X, y, test_size=0.5, shuffle=True, seed=None):\n",
    "    \"\"\" Split the data into train and test sets \"\"\"\n",
    "    if shuffle:\n",
    "        X, y = shuffle_data(X, y, seed)\n",
    "    # Split the training data from test data in the ratio specified in\n",
    "    # test_size\n",
    "    split_i = len(y) - int(len(y) // (1 / test_size))\n",
    "    X_train, X_test = X[:split_i], X[split_i:]\n",
    "    y_train, y_test = y[:split_i], y[split_i:]\n",
    "\n",
    "    return X_train, X_test, y_train, y_test\n",
    "\n",
    "def shuffle_data(X, y, seed=None):\n",
    "    \"\"\" Random shuffle of the samples in X and y \"\"\"\n",
    "    if seed:\n",
    "        np.random.seed(seed)\n",
    "    idx = np.arange(X.shape[0])\n",
    "    np.random.shuffle(idx)\n",
    "    return X[idx], y[idx]\n",
    "def visualize_grid(Xs, ubound=255.0, padding=1):\n",
    "    \"\"\"\n",
    "    Reshape a 4D tensor of image data to a grid for easy visualization.\n",
    "\n",
    "    Inputs:\n",
    "    - Xs: Data of shape (N, H, W, C)\n",
    "    - ubound: Output grid will have values scaled to the range [0, ubound]\n",
    "    - padding: The number of blank pixels between elements of the grid\n",
    "    \"\"\"\n",
    "    (N, H, W, C) = Xs.shape\n",
    "    grid_size = int(ceil(sqrt(N)))\n",
    "    grid_height = H * grid_size + padding * (grid_size - 1)\n",
    "    grid_width = W * grid_size + padding * (grid_size - 1)\n",
    "    grid = np.zeros((grid_height, grid_width, C))\n",
    "    next_idx = 0\n",
    "    y0, y1 = 0, H\n",
    "    for y in range(grid_size):\n",
    "        x0, x1 = 0, W\n",
    "        for x in range(grid_size):\n",
    "            if next_idx < N:\n",
    "                img = Xs[next_idx]\n",
    "                low, high = np.min(img), np.max(img)\n",
    "                grid[y0:y1, x0:x1] = ubound * (img - low) / (high - low)\n",
    "                # grid[y0:y1, x0:x1] = Xs[next_idx]\n",
    "                next_idx += 1\n",
    "            x0 += W + padding\n",
    "            x1 += W + padding\n",
    "        y0 += H + padding\n",
    "        y1 += H + padding\n",
    "    # grid_max = np.max(grid)\n",
    "    # grid_min = np.min(grid)\n",
    "    # grid = ubound * (grid - grid_min) / (grid_max - grid_min)\n",
    "    return grid\n",
    "\n",
    "def vis_grid(Xs):\n",
    "    \"\"\" visualize a grid of images \"\"\"\n",
    "    (N, H, W, C) = Xs.shape\n",
    "    A = int(ceil(sqrt(N)))\n",
    "    G = np.ones((A*H+A, A*W+A, C), Xs.dtype)\n",
    "    G *= np.min(Xs)\n",
    "    n = 0\n",
    "    for y in range(A):\n",
    "        for x in range(A):\n",
    "            if n < N:\n",
    "                G[y*H+y:(y+1)*H+y, x*W+x:(x+1)*W+x, :] = Xs[n,:,:,:]\n",
    "                n += 1\n",
    "    # normalize to [0,1]\n",
    "    maxg = G.max()\n",
    "    ming = G.min()\n",
    "    G = (G - ming)/(maxg-ming)\n",
    "    return G\n",
    "\n",
    "def vis_nn(rows):\n",
    "    \"\"\" visualize array of arrays of images \"\"\"\n",
    "    N = len(rows)\n",
    "    D = len(rows[0])\n",
    "    H,W,C = rows[0][0].shape\n",
    "    Xs = rows[0][0]\n",
    "    G = np.ones((N*H+N, D*W+D, C), Xs.dtype)\n",
    "    for y in range(N):\n",
    "        for x in range(D):\n",
    "            G[y*H+y:(y+1)*H+y, x*W+x:(x+1)*W+x, :] = rows[y][x]\n",
    "    # normalize to [0,1]\n",
    "    maxg = G.max()\n",
    "    ming = G.min()\n",
    "    G = (G - ming)/(maxg-ming)\n",
    "    return G\n"
   ]
  },
  {
   "cell_type": "code",
   "execution_count": 3,
   "metadata": {},
   "outputs": [],
   "source": [
    "#imgs = np.load('../../../downloads/catdog.npy',allow_pickle=True)\n",
    "#labels = np.load('../../../downloads/catdoglabels.npy',allow_pickle=True)"
   ]
  },
  {
   "cell_type": "code",
   "execution_count": 4,
   "metadata": {},
   "outputs": [],
   "source": [
    "#fashion_mnist = keras.datasets.fashion_mnist\n",
    "#(train_images, train_labels), (test_images, test_labels) = fashion_mnist.load_data()"
   ]
  },
  {
   "cell_type": "code",
   "execution_count": 5,
   "metadata": {},
   "outputs": [],
   "source": [
    "#optimizer = Adam()\n",
    "#data = datasets.load_digits()\n",
    "#X = (data.data.reshape(-1, 8, 8, 1)/255.0).astype('float32')\n",
    "#y = data.target\n",
    "#loss = CrossEntropy\n",
    "# Covnet to  one-hot encoding \n",
    "#y = to_categorical(y.astype(\"int\"))\n",
    "#X = imgs_trans(X,28)\n"
   ]
  },
  {
   "cell_type": "code",
   "execution_count": null,
   "metadata": {},
   "outputs": [],
   "source": []
  },
  {
   "cell_type": "code",
   "execution_count": 6,
   "metadata": {},
   "outputs": [],
   "source": [
    "fashion_mnist = keras.datasets.fashion_mnist\n",
    "#X_trainp=normalize(X_trainp)\n",
    "#xt =normalize(xt)\n",
    "(X_trainp, y_trainp), (xt, yt) = fashion_mnist.load_data()\n",
    "\n",
    "#X_trainp=(X_trainp - np.mean(X_trainp))/np.std(X_trainp)\n",
    "#X_trainp /= X_trainp.sum(axis=1, keepdims=True)\n",
    "\n",
    "#xt_ = (xt.reshape(-1, 28, 28, 1)/255.0).astype('float32')\n",
    "X_trainm = ((X_trainp[:3]/255.0).reshape(-1, 28, 28, 1)).astype('float32')\n",
    "y_trainm = y_trainp[:3]\n",
    "#X_train = imgs_trans(X_train,28)\n",
    "y_trainm = to_categorical(y_trainm.astype(\"int\"))\n",
    "#y_trainm = y_trainm.reshape(-1,1)\n",
    "\n",
    "\n",
    "#xt_ = (xt.reshape(-1, 28, 28, 1)/255).astype('float32')\n",
    "Xt = ((xt[:3]/255.0).reshape(-1, 28, 28, 1)).astype('float32')\n",
    "Yt = yt[:3]\n",
    "#X_train = imgs_trans(X_train,28)\n",
    "Yt = to_categorical(Yt.astype(\"int\"))\n",
    "#y_trainm = y_trainm.reshape(-1,1)"
   ]
  },
  {
   "cell_type": "code",
   "execution_count": 7,
   "metadata": {},
   "outputs": [
    {
     "data": {
      "text/plain": [
       "((3, 10), (3, 28, 28, 1), (3, 10), (3, 28, 28, 1))"
      ]
     },
     "execution_count": 7,
     "metadata": {},
     "output_type": "execute_result"
    }
   ],
   "source": [
    "#X_trainm.shape,y_trainm.shape\n",
    "#X.shape,y.shape\n",
    "#xtm.shape,ytm.shape\n",
    "y_trainm.shape,X_trainm.shape,Yt.shape,Xt.shape"
   ]
  },
  {
   "cell_type": "code",
   "execution_count": 8,
   "metadata": {},
   "outputs": [],
   "source": [
    "#X = imgs\n",
    "#y = labels\n",
    "\n",
    "#X = ((imgs[:100])/255.0).astype('float32')\n",
    "#y = labels[:100]\n",
    "#X_ = np.fliplr(X)\n",
    "#X = np.concatenate([X,X_])\n",
    "#y = np.concatenate([y,y])\n",
    "#X , y = shuffle_data(X,y,15)\n",
    "#loss = CrossEntropy\n",
    "# Covnet to  one-hot encoding\n",
    "#y = to_categorical(y.astype(\"int\"))\n",
    "#X = imgs_trans(X,32)\n",
    "#y = y.reshape(-1,1)\n",
    "#y.shape, X.shape"
   ]
  },
  {
   "cell_type": "code",
   "execution_count": 9,
   "metadata": {},
   "outputs": [
    {
     "ename": "NameError",
     "evalue": "name 'X' is not defined",
     "output_type": "error",
     "traceback": [
      "\u001b[0;31m---------------------------------------------------------------------------\u001b[0m",
      "\u001b[0;31mNameError\u001b[0m                                 Traceback (most recent call last)",
      "\u001b[0;32m<ipython-input-9-ad9cedadc05e>\u001b[0m in \u001b[0;36m<module>\u001b[0;34m\u001b[0m\n\u001b[0;32m----> 1\u001b[0;31m \u001b[0mX\u001b[0m\u001b[0;34m.\u001b[0m\u001b[0mshape\u001b[0m\u001b[0;34m,\u001b[0m\u001b[0my\u001b[0m\u001b[0;34m.\u001b[0m\u001b[0mshape\u001b[0m\u001b[0;34m\u001b[0m\u001b[0;34m\u001b[0m\u001b[0m\n\u001b[0m",
      "\u001b[0;31mNameError\u001b[0m: name 'X' is not defined"
     ]
    }
   ],
   "source": [
    "X.shape,y.shape"
   ]
  },
  {
   "cell_type": "code",
   "execution_count": null,
   "metadata": {},
   "outputs": [],
   "source": [
    "#optimizer = Adam()\n",
    "#data = datasets.load_digits()\n",
    "#X = data.data\n",
    "#y = data.target\n",
    "#loss = CrossEntropy\n",
    "# Covnet to  one-hot encoding \n",
    "#y = to_categorical(y.astype(\"int\"))"
   ]
  },
  {
   "cell_type": "code",
   "execution_count": 10,
   "metadata": {},
   "outputs": [],
   "source": [
    "layer = [Conv2D(16,(3,3),'same',stride=1,optimizer=Adam(),act_fn='relu'),\n",
    "Pool2D((2,2),stride=2,optimizer=Adam()),\n",
    "#Conv2D(16,(3,3),'same',stride=1,optimizer=Adam(),act_fn='relu'),\n",
    "Flatten(),\n",
    "Dense(128,act_fn='relu'),\n",
    "Dense(10),\n",
    "Softmax()         \n",
    "]\n",
    "\n"
   ]
  },
  {
   "cell_type": "code",
   "execution_count": 11,
   "metadata": {},
   "outputs": [],
   "source": [
    "#layer[0].hyperparameters"
   ]
  },
  {
   "cell_type": "code",
   "execution_count": 12,
   "metadata": {},
   "outputs": [],
   "source": [
    "#layer[0].change_optimizer('Adam')"
   ]
  },
  {
   "cell_type": "code",
   "execution_count": 13,
   "metadata": {},
   "outputs": [],
   "source": [
    "#layer[0].hyperparameters"
   ]
  },
  {
   "cell_type": "code",
   "execution_count": 14,
   "metadata": {},
   "outputs": [
    {
     "data": {
      "text/plain": [
       "{'layer': 'Conv2D',\n",
       " 'pad': 'same',\n",
       " 'init': 'glorot_uniform',\n",
       " 'in_ch': None,\n",
       " 'out_ch': 16,\n",
       " 'stride': 1,\n",
       " 'dilation': 0,\n",
       " 'act_fn': 'ReLU',\n",
       " 'kernel_shape': (3, 3),\n",
       " 'optimizer': {'cache': {},\n",
       "  'hyperparameters': {'id': 'Adam',\n",
       "   'lr': 0.001,\n",
       "   'eps': 1e-07,\n",
       "   'decay1': 0.9,\n",
       "   'decay2': 0.999,\n",
       "   'clip_norm': None,\n",
       "   'lr_scheduler': 'ConstantScheduler(lr=0.001)'}}}"
      ]
     },
     "execution_count": 14,
     "metadata": {},
     "output_type": "execute_result"
    }
   ],
   "source": [
    "layer[0].hyperparameters"
   ]
  },
  {
   "cell_type": "code",
   "execution_count": 15,
   "metadata": {},
   "outputs": [],
   "source": [
    "#X_train, X_test, y_train, y_test = train_test_split(X, y, test_size = 0.4, seed = 1)\n",
    "#X_train, X_test, y_train, y_test = train_test_split(X_trainm, y_trainm, test_size = 0.4, seed = 9)\n"
   ]
  },
  {
   "cell_type": "code",
   "execution_count": 16,
   "metadata": {},
   "outputs": [
    {
     "ename": "NameError",
     "evalue": "name 'X_train' is not defined",
     "output_type": "error",
     "traceback": [
      "\u001b[0;31m---------------------------------------------------------------------------\u001b[0m",
      "\u001b[0;31mNameError\u001b[0m                                 Traceback (most recent call last)",
      "\u001b[0;32m<ipython-input-16-6a3e10e692f7>\u001b[0m in \u001b[0;36m<module>\u001b[0;34m\u001b[0m\n\u001b[0;32m----> 1\u001b[0;31m \u001b[0mX_train\u001b[0m\u001b[0;34m.\u001b[0m\u001b[0mshape\u001b[0m\u001b[0;34m,\u001b[0m\u001b[0mX_test\u001b[0m\u001b[0;34m.\u001b[0m\u001b[0mshape\u001b[0m\u001b[0;34m\u001b[0m\u001b[0;34m\u001b[0m\u001b[0m\n\u001b[0m",
      "\u001b[0;31mNameError\u001b[0m: name 'X_train' is not defined"
     ]
    }
   ],
   "source": [
    "X_train.shape,X_test.shape\n"
   ]
  },
  {
   "cell_type": "code",
   "execution_count": 17,
   "metadata": {},
   "outputs": [],
   "source": [
    "#X_train = train_images.reshape((-1,28,28,1)).astype('float32')/255.0\n",
    "#X_test = test_images.reshape((-1,28,28,1)).astype('float32')/255.0\n",
    "#y_train = to_categorical(train_labels.astype(\"int\"))\n",
    "#y_test = to_categorical(test_labels.astype(\"int\"))\n",
    "_small_data = {\n",
    "  'X_train': X_trainm,\n",
    "  'y_train':y_trainm,\n",
    "  'X_val': Xt,\n",
    "  'y_val': Yt,\n",
    "} "
   ]
  },
  {
   "cell_type": "code",
   "execution_count": 18,
   "metadata": {},
   "outputs": [],
   "source": [
    "nn = NeuralNetwork(Adam(),cp(),layers=layer,validation_data=(Xt,Yt))\n"
   ]
  },
  {
   "cell_type": "code",
   "execution_count": 19,
   "metadata": {},
   "outputs": [],
   "source": [
    "nn.with_solver(_small_data,num_epochs=5, batch_size=64,\n",
    "                update_rule='Adam',\n",
    "                optim_config={\n",
    "                  'learning_rate': 1e-3,\n",
    "                },\n",
    "           #checkpoint_name='check_point_1',\n",
    "                verbose=True, print_every=100)"
   ]
  },
  {
   "cell_type": "code",
   "execution_count": 20,
   "metadata": {},
   "outputs": [
    {
     "name": "stdout",
     "output_type": "stream",
     "text": [
      "(Iteration 1 / 5) loss: 0.337243\n",
      "(Epoch 1 / 5) train acc: 0.666667; val_acc: 0.000000\n",
      "(Epoch 2 / 5) train acc: 1.000000; val_acc: 0.333333\n",
      "(Epoch 3 / 5) train acc: 1.000000; val_acc: 0.333333\n",
      "(Epoch 4 / 5) train acc: 1.000000; val_acc: 0.333333\n",
      "(Epoch 5 / 5) train acc: 1.000000; val_acc: 0.333333\n"
     ]
    }
   ],
   "source": [
    "nn.solver.train()"
   ]
  },
  {
   "cell_type": "code",
   "execution_count": 67,
   "metadata": {},
   "outputs": [
    {
     "data": {
      "text/plain": [
       "0.8692"
      ]
     },
     "execution_count": 67,
     "metadata": {},
     "output_type": "execute_result"
    }
   ],
   "source": [
    "nn.solver.best_val_acc"
   ]
  },
  {
   "cell_type": "code",
   "execution_count": 71,
   "metadata": {},
   "outputs": [
    {
     "data": {
      "text/plain": [
       "(1, 10)"
      ]
     },
     "execution_count": 71,
     "metadata": {},
     "output_type": "execute_result"
    }
   ],
   "source": [
    "nn.layers[2].parameters[\"b\"].shape"
   ]
  },
  {
   "cell_type": "code",
   "execution_count": 43,
   "metadata": {
    "scrolled": true
   },
   "outputs": [
    {
     "name": "stdout",
     "output_type": "stream",
     "text": [
      "(Iteration 1 / 9370) loss: 0.068587\n",
      "(Epoch 0 / 10) train acc: 0.860000; val_acc: 0.848900\n",
      "(Iteration 101 / 9370) loss: 0.054967\n",
      "(Iteration 201 / 9370) loss: 0.078708\n",
      "(Iteration 301 / 9370) loss: 0.035703\n"
     ]
    },
    {
     "ename": "KeyboardInterrupt",
     "evalue": "",
     "output_type": "error",
     "traceback": [
      "\u001b[0;31m---------------------------------------------------------------------------\u001b[0m",
      "\u001b[0;31mKeyboardInterrupt\u001b[0m                         Traceback (most recent call last)",
      "\u001b[0;32m<ipython-input-43-d576b236728d>\u001b[0m in \u001b[0;36m<module>\u001b[0;34m\u001b[0m\n\u001b[1;32m     12\u001b[0m            \u001b[0;31m#checkpoint_name='check_point_1',\u001b[0m\u001b[0;34m\u001b[0m\u001b[0;34m\u001b[0m\u001b[0;34m\u001b[0m\u001b[0m\n\u001b[1;32m     13\u001b[0m                 verbose=True, print_every=100)\n\u001b[0;32m---> 14\u001b[0;31m \u001b[0mss\u001b[0m\u001b[0;34m.\u001b[0m\u001b[0mtrain\u001b[0m\u001b[0;34m(\u001b[0m\u001b[0;34m)\u001b[0m\u001b[0;34m\u001b[0m\u001b[0;34m\u001b[0m\u001b[0m\n\u001b[0m",
      "\u001b[0;32m/mnt/c/Users/migue/Documents/dev/Metal/metal/learners/solver.py\u001b[0m in \u001b[0;36mtrain\u001b[0;34m(self)\u001b[0m\n\u001b[1;32m    220\u001b[0m \u001b[0;34m\u001b[0m\u001b[0m\n\u001b[1;32m    221\u001b[0m         \u001b[0;32mfor\u001b[0m \u001b[0mt\u001b[0m \u001b[0;32min\u001b[0m \u001b[0mrange\u001b[0m\u001b[0;34m(\u001b[0m\u001b[0mnum_iterations\u001b[0m\u001b[0;34m)\u001b[0m\u001b[0;34m:\u001b[0m\u001b[0;34m\u001b[0m\u001b[0;34m\u001b[0m\u001b[0m\n\u001b[0;32m--> 222\u001b[0;31m             \u001b[0mself\u001b[0m\u001b[0;34m.\u001b[0m\u001b[0m_step\u001b[0m\u001b[0;34m(\u001b[0m\u001b[0;34m)\u001b[0m\u001b[0;34m\u001b[0m\u001b[0;34m\u001b[0m\u001b[0m\n\u001b[0m\u001b[1;32m    223\u001b[0m \u001b[0;34m\u001b[0m\u001b[0m\n\u001b[1;32m    224\u001b[0m             \u001b[0;31m# Maybe print training loss\u001b[0m\u001b[0;34m\u001b[0m\u001b[0;34m\u001b[0m\u001b[0;34m\u001b[0m\u001b[0m\n",
      "\u001b[0;32m/mnt/c/Users/migue/Documents/dev/Metal/metal/learners/solver.py\u001b[0m in \u001b[0;36m_step\u001b[0;34m(self)\u001b[0m\n\u001b[1;32m    171\u001b[0m \u001b[0;34m\u001b[0m\u001b[0m\n\u001b[1;32m    172\u001b[0m         \u001b[0;31m# Compute loss and gradient\u001b[0m\u001b[0;34m\u001b[0m\u001b[0;34m\u001b[0m\u001b[0;34m\u001b[0m\u001b[0m\n\u001b[0;32m--> 173\u001b[0;31m         \u001b[0mloss\u001b[0m\u001b[0;34m,\u001b[0m \u001b[0m_\u001b[0m \u001b[0;34m=\u001b[0m \u001b[0mself\u001b[0m\u001b[0;34m.\u001b[0m\u001b[0mtrain_on_batch\u001b[0m\u001b[0;34m(\u001b[0m\u001b[0mX_batch\u001b[0m\u001b[0;34m,\u001b[0m \u001b[0my_batch\u001b[0m\u001b[0;34m)\u001b[0m\u001b[0;34m\u001b[0m\u001b[0;34m\u001b[0m\u001b[0m\n\u001b[0m\u001b[1;32m    174\u001b[0m         \u001b[0mself\u001b[0m\u001b[0;34m.\u001b[0m\u001b[0mloss_history\u001b[0m\u001b[0;34m.\u001b[0m\u001b[0mappend\u001b[0m\u001b[0;34m(\u001b[0m\u001b[0mloss\u001b[0m\u001b[0;34m)\u001b[0m\u001b[0;34m\u001b[0m\u001b[0;34m\u001b[0m\u001b[0m\n\u001b[1;32m    175\u001b[0m \u001b[0;34m\u001b[0m\u001b[0m\n",
      "\u001b[0;32m/mnt/c/Users/migue/Documents/dev/Metal/metal/learners/solver.py\u001b[0m in \u001b[0;36mtrain_on_batch\u001b[0;34m(self, X, y)\u001b[0m\n\u001b[1;32m    275\u001b[0m         \u001b[0mgradient\u001b[0m \u001b[0;34m=\u001b[0m \u001b[0mself\u001b[0m\u001b[0;34m.\u001b[0m\u001b[0mloss_function\u001b[0m\u001b[0;34m.\u001b[0m\u001b[0mgrad\u001b[0m\u001b[0;34m(\u001b[0m\u001b[0my\u001b[0m\u001b[0;34m,\u001b[0m \u001b[0my_pred\u001b[0m\u001b[0;34m)\u001b[0m\u001b[0;34m\u001b[0m\u001b[0;34m\u001b[0m\u001b[0m\n\u001b[1;32m    276\u001b[0m         \u001b[0;31m#Calculate the gradient of the loss function wrt y_pred\u001b[0m\u001b[0;34m\u001b[0m\u001b[0;34m\u001b[0m\u001b[0;34m\u001b[0m\u001b[0m\n\u001b[0;32m--> 277\u001b[0;31m         \u001b[0mself\u001b[0m\u001b[0;34m.\u001b[0m\u001b[0m_backward_pass\u001b[0m\u001b[0;34m(\u001b[0m\u001b[0mloss_grad\u001b[0m\u001b[0;34m=\u001b[0m\u001b[0mgradient\u001b[0m\u001b[0;34m)\u001b[0m\u001b[0;34m\u001b[0m\u001b[0;34m\u001b[0m\u001b[0m\n\u001b[0m\u001b[1;32m    278\u001b[0m         \u001b[0;31m#Update weights\u001b[0m\u001b[0;34m\u001b[0m\u001b[0;34m\u001b[0m\u001b[0;34m\u001b[0m\u001b[0m\n\u001b[1;32m    279\u001b[0m         \u001b[0mself\u001b[0m\u001b[0;34m.\u001b[0m\u001b[0m_update_pass\u001b[0m\u001b[0;34m(\u001b[0m\u001b[0mloss\u001b[0m\u001b[0;34m=\u001b[0m\u001b[0mloss\u001b[0m\u001b[0;34m)\u001b[0m\u001b[0;34m\u001b[0m\u001b[0;34m\u001b[0m\u001b[0m\n",
      "\u001b[0;32m/mnt/c/Users/migue/Documents/dev/Metal/metal/learners/solver.py\u001b[0m in \u001b[0;36m_backward_pass\u001b[0;34m(self, loss_grad)\u001b[0m\n\u001b[1;32m    261\u001b[0m         \u001b[0;34m\"\"\" Propagate the gradient 'backwards' and update the weights in each layer \"\"\"\u001b[0m\u001b[0;34m\u001b[0m\u001b[0;34m\u001b[0m\u001b[0m\n\u001b[1;32m    262\u001b[0m         \u001b[0;32mfor\u001b[0m \u001b[0mlayer\u001b[0m \u001b[0;32min\u001b[0m \u001b[0mreversed\u001b[0m\u001b[0;34m(\u001b[0m\u001b[0mself\u001b[0m\u001b[0;34m.\u001b[0m\u001b[0mlayers\u001b[0m\u001b[0;34m)\u001b[0m\u001b[0;34m:\u001b[0m\u001b[0;34m\u001b[0m\u001b[0;34m\u001b[0m\u001b[0m\n\u001b[0;32m--> 263\u001b[0;31m             \u001b[0mloss_grad\u001b[0m \u001b[0;34m=\u001b[0m \u001b[0mlayer\u001b[0m\u001b[0;34m.\u001b[0m\u001b[0mbackward\u001b[0m\u001b[0;34m(\u001b[0m\u001b[0mloss_grad\u001b[0m\u001b[0;34m)\u001b[0m\u001b[0;34m\u001b[0m\u001b[0;34m\u001b[0m\u001b[0m\n\u001b[0m\u001b[1;32m    264\u001b[0m \u001b[0;34m\u001b[0m\u001b[0m\n\u001b[1;32m    265\u001b[0m     \u001b[0;32mdef\u001b[0m \u001b[0m_update_pass\u001b[0m\u001b[0;34m(\u001b[0m\u001b[0mself\u001b[0m\u001b[0;34m,\u001b[0m \u001b[0mloss\u001b[0m\u001b[0;34m)\u001b[0m\u001b[0;34m:\u001b[0m\u001b[0;34m\u001b[0m\u001b[0;34m\u001b[0m\u001b[0m\n",
      "\u001b[0;32m/mnt/c/Users/migue/Documents/dev/Metal/metal/layers/softmax.py\u001b[0m in \u001b[0;36mbackward\u001b[0;34m(self, dLdy)\u001b[0m\n\u001b[1;32m    113\u001b[0m         \u001b[0mX\u001b[0m \u001b[0;34m=\u001b[0m \u001b[0mself\u001b[0m\u001b[0;34m.\u001b[0m\u001b[0mX\u001b[0m\u001b[0;34m\u001b[0m\u001b[0;34m\u001b[0m\u001b[0m\n\u001b[1;32m    114\u001b[0m         \u001b[0;32mfor\u001b[0m \u001b[0mdy\u001b[0m\u001b[0;34m,\u001b[0m \u001b[0mx\u001b[0m \u001b[0;32min\u001b[0m \u001b[0mzip\u001b[0m\u001b[0;34m(\u001b[0m\u001b[0mdLdy\u001b[0m\u001b[0;34m,\u001b[0m \u001b[0mX\u001b[0m\u001b[0;34m)\u001b[0m\u001b[0;34m:\u001b[0m\u001b[0;34m\u001b[0m\u001b[0;34m\u001b[0m\u001b[0m\n\u001b[0;32m--> 115\u001b[0;31m             \u001b[0mdx\u001b[0m \u001b[0;34m=\u001b[0m \u001b[0mself\u001b[0m\u001b[0;34m.\u001b[0m\u001b[0m_bwd\u001b[0m\u001b[0;34m(\u001b[0m\u001b[0mdy\u001b[0m\u001b[0;34m,\u001b[0m \u001b[0mx\u001b[0m\u001b[0;34m)\u001b[0m\u001b[0;34m\u001b[0m\u001b[0;34m\u001b[0m\u001b[0m\n\u001b[0m\u001b[1;32m    116\u001b[0m             \u001b[0mdX\u001b[0m\u001b[0;34m.\u001b[0m\u001b[0mappend\u001b[0m\u001b[0;34m(\u001b[0m\u001b[0mdx\u001b[0m\u001b[0;34m)\u001b[0m\u001b[0;34m\u001b[0m\u001b[0;34m\u001b[0m\u001b[0m\n\u001b[1;32m    117\u001b[0m \u001b[0;34m\u001b[0m\u001b[0m\n",
      "\u001b[0;32m/mnt/c/Users/migue/Documents/dev/Metal/metal/layers/softmax.py\u001b[0m in \u001b[0;36m_bwd\u001b[0;34m(self, dLdy, X)\u001b[0m\n\u001b[1;32m    133\u001b[0m             \u001b[0;32mfor\u001b[0m \u001b[0mdyi\u001b[0m\u001b[0;34m,\u001b[0m \u001b[0mxi\u001b[0m \u001b[0;32min\u001b[0m \u001b[0mzip\u001b[0m\u001b[0;34m(\u001b[0m\u001b[0;34m*\u001b[0m\u001b[0mnp\u001b[0m\u001b[0;34m.\u001b[0m\u001b[0matleast_2d\u001b[0m\u001b[0;34m(\u001b[0m\u001b[0mdy\u001b[0m\u001b[0;34m,\u001b[0m \u001b[0mx\u001b[0m\u001b[0;34m)\u001b[0m\u001b[0;34m)\u001b[0m\u001b[0;34m:\u001b[0m\u001b[0;34m\u001b[0m\u001b[0;34m\u001b[0m\u001b[0m\n\u001b[1;32m    134\u001b[0m                 \u001b[0myi\u001b[0m \u001b[0;34m=\u001b[0m \u001b[0mself\u001b[0m\u001b[0;34m.\u001b[0m\u001b[0m_fwd\u001b[0m\u001b[0;34m(\u001b[0m\u001b[0mxi\u001b[0m\u001b[0;34m.\u001b[0m\u001b[0mreshape\u001b[0m\u001b[0;34m(\u001b[0m\u001b[0;36m1\u001b[0m\u001b[0;34m,\u001b[0m \u001b[0;34m-\u001b[0m\u001b[0;36m1\u001b[0m\u001b[0;34m)\u001b[0m\u001b[0;34m)\u001b[0m\u001b[0;34m.\u001b[0m\u001b[0mreshape\u001b[0m\u001b[0;34m(\u001b[0m\u001b[0;34m-\u001b[0m\u001b[0;36m1\u001b[0m\u001b[0;34m,\u001b[0m \u001b[0;36m1\u001b[0m\u001b[0;34m)\u001b[0m\u001b[0;34m\u001b[0m\u001b[0;34m\u001b[0m\u001b[0m\n\u001b[0;32m--> 135\u001b[0;31m                 \u001b[0mdyidxi\u001b[0m \u001b[0;34m=\u001b[0m \u001b[0mnp\u001b[0m\u001b[0;34m.\u001b[0m\u001b[0mdiagflat\u001b[0m\u001b[0;34m(\u001b[0m\u001b[0myi\u001b[0m\u001b[0;34m)\u001b[0m \u001b[0;34m-\u001b[0m \u001b[0myi\u001b[0m \u001b[0;34m@\u001b[0m \u001b[0myi\u001b[0m\u001b[0;34m.\u001b[0m\u001b[0mT\u001b[0m  \u001b[0;31m# jacobian wrt. input sample xi\u001b[0m\u001b[0;34m\u001b[0m\u001b[0;34m\u001b[0m\u001b[0m\n\u001b[0m\u001b[1;32m    136\u001b[0m                 \u001b[0mdxi\u001b[0m\u001b[0;34m.\u001b[0m\u001b[0mappend\u001b[0m\u001b[0;34m(\u001b[0m\u001b[0mdyi\u001b[0m \u001b[0;34m@\u001b[0m \u001b[0mdyidxi\u001b[0m\u001b[0;34m)\u001b[0m\u001b[0;34m\u001b[0m\u001b[0;34m\u001b[0m\u001b[0m\n\u001b[1;32m    137\u001b[0m             \u001b[0mdX\u001b[0m\u001b[0;34m.\u001b[0m\u001b[0mappend\u001b[0m\u001b[0;34m(\u001b[0m\u001b[0mdxi\u001b[0m\u001b[0;34m)\u001b[0m\u001b[0;34m\u001b[0m\u001b[0;34m\u001b[0m\u001b[0m\n",
      "\u001b[0;32m<__array_function__ internals>\u001b[0m in \u001b[0;36mdiagflat\u001b[0;34m(*args, **kwargs)\u001b[0m\n",
      "\u001b[0;32m~/anaconda3/lib/python3.7/site-packages/numpy/lib/twodim_base.py\u001b[0m in \u001b[0;36mdiagflat\u001b[0;34m(v, k)\u001b[0m\n\u001b[1;32m    333\u001b[0m     \u001b[0ms\u001b[0m \u001b[0;34m=\u001b[0m \u001b[0mlen\u001b[0m\u001b[0;34m(\u001b[0m\u001b[0mv\u001b[0m\u001b[0;34m)\u001b[0m\u001b[0;34m\u001b[0m\u001b[0;34m\u001b[0m\u001b[0m\n\u001b[1;32m    334\u001b[0m     \u001b[0mn\u001b[0m \u001b[0;34m=\u001b[0m \u001b[0ms\u001b[0m \u001b[0;34m+\u001b[0m \u001b[0mabs\u001b[0m\u001b[0;34m(\u001b[0m\u001b[0mk\u001b[0m\u001b[0;34m)\u001b[0m\u001b[0;34m\u001b[0m\u001b[0;34m\u001b[0m\u001b[0m\n\u001b[0;32m--> 335\u001b[0;31m     \u001b[0mres\u001b[0m \u001b[0;34m=\u001b[0m \u001b[0mzeros\u001b[0m\u001b[0;34m(\u001b[0m\u001b[0;34m(\u001b[0m\u001b[0mn\u001b[0m\u001b[0;34m,\u001b[0m \u001b[0mn\u001b[0m\u001b[0;34m)\u001b[0m\u001b[0;34m,\u001b[0m \u001b[0mv\u001b[0m\u001b[0;34m.\u001b[0m\u001b[0mdtype\u001b[0m\u001b[0;34m)\u001b[0m\u001b[0;34m\u001b[0m\u001b[0;34m\u001b[0m\u001b[0m\n\u001b[0m\u001b[1;32m    336\u001b[0m     \u001b[0;32mif\u001b[0m \u001b[0;34m(\u001b[0m\u001b[0mk\u001b[0m \u001b[0;34m>=\u001b[0m \u001b[0;36m0\u001b[0m\u001b[0;34m)\u001b[0m\u001b[0;34m:\u001b[0m\u001b[0;34m\u001b[0m\u001b[0;34m\u001b[0m\u001b[0m\n\u001b[1;32m    337\u001b[0m         \u001b[0mi\u001b[0m \u001b[0;34m=\u001b[0m \u001b[0marange\u001b[0m\u001b[0;34m(\u001b[0m\u001b[0;36m0\u001b[0m\u001b[0;34m,\u001b[0m \u001b[0mn\u001b[0m\u001b[0;34m-\u001b[0m\u001b[0mk\u001b[0m\u001b[0;34m)\u001b[0m\u001b[0;34m\u001b[0m\u001b[0;34m\u001b[0m\u001b[0m\n",
      "\u001b[0;31mKeyboardInterrupt\u001b[0m: "
     ]
    }
   ],
   "source": [
    "small_data = {\n",
    "  'X_train': X_trainm,\n",
    "  'y_train':y_trainm,\n",
    "  'X_val': Xt,\n",
    "  'y_val': Yt,\n",
    "} \n",
    "ss =Solver(nn,small_data,num_epochs=10, batch_size=64,\n",
    "                update_rule='Adam',\n",
    "                optim_config={\n",
    "                  'learning_rate': 1e-3,\n",
    "                },\n",
    "           #checkpoint_name='check_point_1',\n",
    "                verbose=True, print_every=100)\n",
    "ss.train()"
   ]
  },
  {
   "cell_type": "code",
   "execution_count": 21,
   "metadata": {},
   "outputs": [
    {
     "data": {
      "text/plain": [
       "[0.1398,\n",
       " 0.8378,\n",
       " 0.8537,\n",
       " 0.8642,\n",
       " 0.876,\n",
       " 0.8661,\n",
       " 0.8782,\n",
       " 0.8732,\n",
       " 0.88,\n",
       " 0.881,\n",
       " 0.8835]"
      ]
     },
     "execution_count": 21,
     "metadata": {},
     "output_type": "execute_result"
    }
   ],
   "source": [
    "ss.val_acc_history"
   ]
  },
  {
   "cell_type": "code",
   "execution_count": 22,
   "metadata": {},
   "outputs": [
    {
     "data": {
      "image/png": "[encoded data removed]",
      "text/plain": [
       "<Figure size 432x288 with 2 Axes>"
      ]
     },
     "metadata": {
      "needs_background": "light"
     },
     "output_type": "display_data"
    }
   ],
   "source": [
    "plt.subplot(2, 1, 1)\n",
    "plt.plot(ss.loss_history, 'o')\n",
    "plt.xlabel('iteration')\n",
    "plt.ylabel('loss')\n",
    "\n",
    "plt.subplot(2, 1, 2)\n",
    "plt.plot(ss.train_acc_history, '-o')\n",
    "plt.plot(ss.val_acc_history, '-o')\n",
    "plt.legend(['train', 'val'], loc='upper left')\n",
    "plt.xlabel('epoch')\n",
    "plt.ylabel('accuracy')\n",
    "plt.show()"
   ]
  },
  {
   "cell_type": "code",
   "execution_count": 23,
   "metadata": {},
   "outputs": [],
   "source": [
    "class_names = ['T-shirt/top', 'Trouser', 'Pullover', 'Dress', 'Coat',\n",
    "               'Sandal', 'Shirt', 'Sneaker', 'Bag', 'Ankle boot']\n",
    "\n",
    "def plot_image(i, predictions_array, true_label, img):\n",
    "  predictions_array, true_label, img = predictions_array, true_label[i], img[i]\n",
    "  plt.grid(False)\n",
    "  plt.xticks([])\n",
    "  plt.yticks([])\n",
    "\n",
    "  plt.imshow(img, cmap=plt.cm.binary)\n",
    "\n",
    "  predicted_label = np.argmax(predictions_array)\n",
    "  if predicted_label == true_label:\n",
    "    color = 'blue'\n",
    "  else:\n",
    "    color = 'red'\n",
    "\n",
    "  plt.xlabel(\"{} {:2.0f}% ({})\".format(class_names[predicted_label],\n",
    "                                100*np.max(predictions_array),\n",
    "                                class_names[true_label]),\n",
    "                                color=color)\n",
    "\n",
    "def plot_value_array(i, predictions_array, true_label):\n",
    "  predictions_array, true_label = predictions_array, true_label[i]\n",
    "  plt.grid(False)\n",
    "  plt.xticks(range(10))\n",
    "  plt.yticks([])\n",
    "  thisplot = plt.bar(range(10), predictions_array, color=\"#777777\")\n",
    "  plt.ylim([0, 1])\n",
    "  predicted_label = np.argmax(predictions_array)\n",
    "\n",
    "  thisplot[predicted_label].set_color('red')\n",
    "  thisplot[true_label].set_color('blue')"
   ]
  },
  {
   "cell_type": "code",
   "execution_count": 24,
   "metadata": {},
   "outputs": [
    {
     "data": {
      "text/plain": [
       "[3.2256475986720132e-06,\n",
       " 1.033594155638373e-07,\n",
       " 0.000150034452942136,\n",
       " 6.734032920499345e-07,\n",
       " 3.437537426299101e-06,\n",
       " 0.04011187847443352,\n",
       " 3.294297210010773e-05,\n",
       " 0.011964551378063093,\n",
       " 1.268231171512638e-05,\n",
       " 0.9477204704630136,\n",
       " 1.7270519921613746e-05,\n",
       " 4.1929729783558216e-13,\n",
       " 0.9972887216238485,\n",
       " 6.05162556266102e-10,\n",
       " 0.0018418010073652138,\n",
       " 4.15908047465482e-14,\n",
       " 0.0008522058614828239,\n",
       " 8.834928636640764e-14,\n",
       " 3.816562268934741e-10,\n",
       " 1.378628296570388e-14,\n",
       " 1.4066932367056787e-06,\n",
       " 0.9999977547132495,\n",
       " 1.3816820237600757e-08,\n",
       " 5.632625438538306e-07,\n",
       " 2.5392785929147586e-07,\n",
       " 9.143389583960097e-15,\n",
       " 6.340273002572989e-09,\n",
       " 1.5704178705956945e-16,\n",
       " 1.2460015703187441e-09,\n",
       " 6.673243408217111e-15,\n",
       " 2.122472434037071e-07,\n",
       " 0.9998719992532282,\n",
       " 1.2524830023072718e-07,\n",
       " 0.00012447818942964972,\n",
       " 3.1251620553736845e-06,\n",
       " 3.874559007800327e-11,\n",
       " 5.4196051410948984e-08,\n",
       " 3.2487336890665193e-14,\n",
       " 5.657679084605809e-09,\n",
       " 7.234681173691414e-12,\n",
       " 0.15913886111877854,\n",
       " 3.770448058577133e-07,\n",
       " 0.009936154793989065,\n",
       " 0.0013330762602954285,\n",
       " 0.0009366235355775462,\n",
       " 1.8084825857856317e-09,\n",
       " 0.828593064507618,\n",
       " 3.796221487143505e-08,\n",
       " 6.163641170157488e-05,\n",
       " 1.6655653654470154e-07,\n",
       " 0.00015795372002747317,\n",
       " 0.9997924928703302,\n",
       " 4.213999986845914e-06,\n",
       " 5.902781002662834e-06,\n",
       " 2.8963386155654725e-05,\n",
       " 6.435042389386347e-12,\n",
       " 1.0414731543189532e-05,\n",
       " 1.310058382436352e-12,\n",
       " 5.8489932092524454e-08,\n",
       " 1.3276736709326211e-11,\n",
       " 1.071429020316051e-05,\n",
       " 2.917081243717832e-06,\n",
       " 0.0023563456113495466,\n",
       " 2.528351269428495e-05,\n",
       " 0.9909794284871103,\n",
       " 4.3106268489668346e-08,\n",
       " 0.0066221034587599144,\n",
       " 8.842516645292676e-10,\n",
       " 3.126588862900908e-06,\n",
       " 3.697925607150696e-08,\n",
       " 4.433761760779647e-06,\n",
       " 4.09887185371622e-09,\n",
       " 0.00034590046352329235,\n",
       " 2.377204504501159e-05,\n",
       " 0.0035616635025571245,\n",
       " 4.5417694967037866e-09,\n",
       " 0.9960639069445526,\n",
       " 1.0606931404236157e-08,\n",
       " 2.870425987252399e-07,\n",
       " 1.6992389786949137e-08,\n",
       " 8.429567337175804e-06,\n",
       " 7.887654582743098e-07,\n",
       " 9.12485756692322e-06,\n",
       " 7.052335357642867e-06,\n",
       " 9.318522477910114e-07,\n",
       " 0.9995573079524253,\n",
       " 4.132516664322994e-06,\n",
       " 0.00039778841555206053,\n",
       " 1.3556863789251149e-05,\n",
       " 8.868736012112083e-07,\n",
       " 5.735921970234574e-07,\n",
       " 2.1012569821978615e-07,\n",
       " 6.994401223217453e-07,\n",
       " 1.9573169362571054e-08,\n",
       " 3.2080702154144266e-08,\n",
       " 7.679583918620935e-05,\n",
       " 2.807206548071829e-07,\n",
       " 0.9997992764270328,\n",
       " 4.69845699375913e-06,\n",
       " 0.00011741374424314825,\n",
       " 2.419931787684212e-06,\n",
       " 1.366125634390025e-07,\n",
       " 0.017456859330912525,\n",
       " 1.6000802780307933e-07,\n",
       " 0.9692996965978689,\n",
       " 1.2402428075024218e-09,\n",
       " 0.013240431047923686,\n",
       " 1.087922033041717e-09,\n",
       " 2.3593976251313679e-07,\n",
       " 5.820298867729044e-08,\n",
       " 1.146612951490585e-06,\n",
       " 5.500166064459523e-08,\n",
       " 3.313449042010932e-05,\n",
       " 3.1489821926423564e-08,\n",
       " 4.779797960708065e-05,\n",
       " 0.9996215652116712,\n",
       " 4.005209641400727e-05,\n",
       " 0.00020918063897909758,\n",
       " 1.170137542084654e-06,\n",
       " 4.5866340932250914e-05,\n",
       " 4.754462252784863e-06,\n",
       " 1.2362041250818658e-07,\n",
       " 3.670717008057531e-05,\n",
       " 1.9248006100263456e-07,\n",
       " 5.287605188649877e-07,\n",
       " 0.934616970185724,\n",
       " 1.3945174166001044e-06,\n",
       " 0.03627220581468918,\n",
       " 0.029066674777964322,\n",
       " 4.482108800483257e-07,\n",
       " 5.129347715177578e-05,\n",
       " 0.00042580454170791215,\n",
       " 4.627365709469524e-06,\n",
       " 0.9993407643676084,\n",
       " 1.0426398172329138e-05,\n",
       " 3.139867834791297e-06,\n",
       " 1.895952391677348e-05,\n",
       " 2.955062869304544e-07,\n",
       " 0.0001417895003686097,\n",
       " 2.89945124302618e-06,\n",
       " 4.2938486752044434e-05,\n",
       " 1.6592522204133165e-06,\n",
       " 0.218280797816346,\n",
       " 7.758730001356416e-05,\n",
       " 0.7640007213433576,\n",
       " 5.4898652625058044e-12,\n",
       " 0.016963609729684536,\n",
       " 5.410329951139615e-09,\n",
       " 0.0006326749095885714,\n",
       " 5.74621751019518e-09,\n",
       " 4.904728925735205e-06,\n",
       " 0.998877676848747,\n",
       " 9.068953230453513e-07,\n",
       " 0.0008509897053794213,\n",
       " 0.00026411222821606307,\n",
       " 1.801942602488088e-09,\n",
       " 7.10555721913e-07,\n",
       " 1.3654980899994097e-11,\n",
       " 6.939349244720924e-07,\n",
       " 3.287164850910938e-09,\n",
       " 0.0054024771897094575,\n",
       " 2.159296144010757e-06,\n",
       " 0.9805973798405837,\n",
       " 2.0223379842926365e-05,\n",
       " 0.0022919962393805047,\n",
       " 1.6199160847797017e-08,\n",
       " 0.011679643944021108,\n",
       " 2.3913522031128413e-06,\n",
       " 2.9737631364381036e-06,\n",
       " 7.387958179490028e-07,\n",
       " 0.0015573793601321641,\n",
       " 1.1939707221787293e-07,\n",
       " 0.7480230963500348,\n",
       " 3.7090724707767462e-06,\n",
       " 0.19247569984956944,\n",
       " 2.5611731564976792e-11,\n",
       " 0.05789808699599995,\n",
       " 1.1716072286480665e-06,\n",
       " 3.854484354097761e-05,\n",
       " 2.192498339403638e-06,\n",
       " 4.58358085668818e-07,\n",
       " 9.76800387126227e-10,\n",
       " 4.939951475511451e-06,\n",
       " 1.1971786828684968e-07,\n",
       " 8.208882384321828e-08,\n",
       " 1.2479791340697636e-07,\n",
       " 8.317583022672922e-06,\n",
       " 7.178391928045219e-07,\n",
       " 0.9999849661376726,\n",
       " 2.725491449474623e-07,\n",
       " 0.9140006824772836,\n",
       " 9.526110114197361e-07,\n",
       " 0.00041885720015197834,\n",
       " 0.028737582423385,\n",
       " 2.509937183845631e-06,\n",
       " 1.1181567542851134e-13,\n",
       " 0.0568302618756618,\n",
       " 5.256418982061063e-12,\n",
       " 9.1534679551185e-06,\n",
       " 1.9988142447022924e-12,\n",
       " 0.009815815200824191,\n",
       " 1.7786289410817613e-05,\n",
       " 0.9792752940047209,\n",
       " 5.790127069385183e-06,\n",
       " 0.006121486829517517,\n",
       " 6.008579545546443e-12,\n",
       " 0.002267410061212157,\n",
       " 4.930501391321432e-07,\n",
       " 0.002495560738149675,\n",
       " 3.6369294764456946e-07,\n",
       " 2.0558352598105317e-06,\n",
       " 8.790170833666178e-08,\n",
       " 5.902792248235097e-06,\n",
       " 2.215996572490869e-08,\n",
       " 3.217990781471358e-07,\n",
       " 0.992499373753935,\n",
       " 1.3235965769369436e-06,\n",
       " 0.006924938485737323,\n",
       " 6.453627690220276e-06,\n",
       " 0.0005595200478003035,\n",
       " 2.3047561781485656e-09,\n",
       " 1.1471047483097083e-08,\n",
       " 3.9471415901143185e-08,\n",
       " 2.656719916735417e-10,\n",
       " 3.4722661627397325e-09,\n",
       " 0.0009244546032893179,\n",
       " 7.744784258844487e-09,\n",
       " 0.9989580358808369,\n",
       " 1.9743042375300684e-05,\n",
       " 9.770174355659229e-05,\n",
       " 1.6559788077429287e-07,\n",
       " 1.5661067811120167e-10,\n",
       " 1.617899602726386e-06,\n",
       " 6.098124301566055e-11,\n",
       " 8.658183830645486e-09,\n",
       " 0.9951245169658426,\n",
       " 1.3097093534129073e-06,\n",
       " 9.086974285499284e-05,\n",
       " 1.8087384098604025e-06,\n",
       " 0.004779702470280015,\n",
       " 1.7205669107589027e-07,\n",
       " 0.9999849242181884,\n",
       " 5.161235505155731e-08,\n",
       " 1.4749639007033416e-05,\n",
       " 9.333326609540935e-08,\n",
       " 8.969768584581999e-13,\n",
       " 2.0883003088506125e-09,\n",
       " 5.169703495222888e-15,\n",
       " 7.051218676780572e-09,\n",
       " 7.10204956949865e-14,\n",
       " 0.0009108284763095515,\n",
       " 3.108965853436618e-06,\n",
       " 0.507823946637185,\n",
       " 0.00021233741815031274,\n",
       " 0.3517273064924055,\n",
       " 5.726237866987197e-07,\n",
       " 0.13929951939299284,\n",
       " 1.3592167600873315e-06,\n",
       " 2.0660857334911406e-05,\n",
       " 3.599192216840817e-07,\n",
       " 1.2971573151598117e-06,\n",
       " 1.842426105106809e-08,\n",
       " 0.0014191707242707926,\n",
       " 3.295532450360686e-06,\n",
       " 0.021587606389377855,\n",
       " 8.98874604391754e-12,\n",
       " 0.9769884883126811,\n",
       " 4.915828500389981e-12,\n",
       " 1.2333090999252067e-07,\n",
       " 1.148291972852871e-10,\n",
       " 0.7686227257793957,\n",
       " 0.0008146932335093801,\n",
       " 0.0009379013720946243,\n",
       " 0.06515941821328754,\n",
       " 0.0003811125445791745,\n",
       " 1.0264020305626342e-10,\n",
       " 0.16408339838661146,\n",
       " 1.3055601064960034e-10,\n",
       " 7.129243488663616e-07,\n",
       " 3.731297720433213e-08,\n",
       " 2.048339970485404e-08,\n",
       " 4.693826477671662e-09,\n",
       " 9.032762884988135e-07,\n",
       " 1.8897350132391288e-10,\n",
       " 2.8432887205094014e-08,\n",
       " 0.00010629457193654627,\n",
       " 1.6846701024815734e-07,\n",
       " 0.12889011239987191,\n",
       " 5.162848771112886e-07,\n",
       " 0.8710019512009287,\n",
       " 0.004768446975224425,\n",
       " 0.00015101152837455634,\n",
       " 0.04159886261865915,\n",
       " 0.2900295165371656,\n",
       " 0.4368065653686882,\n",
       " 1.844081862662898e-07,\n",
       " 0.22261786046375112,\n",
       " 7.069585942689837e-07,\n",
       " 0.004004733558526414,\n",
       " 2.2111582830057663e-05,\n",
       " 2.8889394031206512e-12,\n",
       " 2.2234671539546156e-12,\n",
       " 1.6111676214614648e-11,\n",
       " 3.637498062999775e-12,\n",
       " 3.3671606980620213e-09,\n",
       " 1.2402472982101798e-12,\n",
       " 5.0574740211209145e-12,\n",
       " 5.68002066499673e-12,\n",
       " 0.9999999965959983,\n",
       " 1.884110032281196e-15,\n",
       " 9.423137029045476e-06,\n",
       " 6.070811276090035e-10,\n",
       " 1.4580286544394035e-06,\n",
       " 1.945180327213931e-06,\n",
       " 4.354150634109322e-06,\n",
       " 3.777336889351237e-08,\n",
       " 2.9141102978058765e-08,\n",
       " 1.3323737328164773e-10,\n",
       " 0.9999827518473737,\n",
       " 1.1910473124680794e-12,\n",
       " 0.0001527349051948025,\n",
       " 0.050468431126910025,\n",
       " 0.0006764133508680132,\n",
       " 0.9453644306375045,\n",
       " 0.00039160773130481757,\n",
       " 0.001921460896008737,\n",
       " 0.0004827306187330849,\n",
       " 2.880280772078504e-06,\n",
       " 0.0005300070906677106,\n",
       " 9.303362036340557e-06,\n",
       " 0.017811980382053373,\n",
       " 9.584257368671223e-05,\n",
       " 0.028870701672517162,\n",
       " 0.874637095300714,\n",
       " 0.06531041100724763,\n",
       " 6.7104370871038646e-06,\n",
       " 0.00781933817930919,\n",
       " 1.2159516372355102e-06,\n",
       " 0.005444601141498868,\n",
       " 2.1033542488336245e-06,\n",
       " 3.2772773412548544e-08,\n",
       " 1.0516210344176193e-10,\n",
       " 8.759806753885496e-08,\n",
       " 1.9290762942561863e-08,\n",
       " 1.2264568487928103e-06,\n",
       " 1.339854003519714e-10,\n",
       " 2.24777064851126e-10,\n",
       " 6.8196002536305634e-12,\n",
       " 0.9999986334108029,\n",
       " 2.578645973689628e-16,\n",
       " 0.9741688707703088,\n",
       " 4.155028928812269e-07,\n",
       " 0.0016660955961432522,\n",
       " 0.0008532314014956001,\n",
       " 1.5898363753778596e-05,\n",
       " 2.159125406724152e-07,\n",
       " 0.023171522704676574,\n",
       " 1.3811379420340512e-08,\n",
       " 0.00012357373022157765,\n",
       " 1.6220658768290435e-07,\n",
       " 3.738491390169839e-07,\n",
       " 8.856041165738809e-07,\n",
       " 8.229688699661249e-07,\n",
       " 1.6693161944137543e-08,\n",
       " 1.715426559231241e-07,\n",
       " 0.0007287936145667565,\n",
       " 4.0182852692318215e-07,\n",
       " 0.9990423453396082,\n",
       " 4.02357669641669e-05,\n",
       " 0.00018595279239056283,\n",
       " 1.1404573018911566e-05,\n",
       " 2.5465427050983218e-06,\n",
       " 1.0452362709991518e-05,\n",
       " 4.518709177919746e-05,\n",
       " 1.5992377950051276e-06,\n",
       " 0.9989771785581795,\n",
       " 4.0095573821560555e-05,\n",
       " 0.0008373512431038018,\n",
       " 2.6413621812693308e-05,\n",
       " 4.777119507418425e-05,\n",
       " 7.567656873250052e-08,\n",
       " 2.5659557167242197e-09,\n",
       " 3.7763338051709234e-07,\n",
       " 9.411007956624125e-11,\n",
       " 2.7993991259254173e-08,\n",
       " 0.006233329263330636,\n",
       " 1.506873688680495e-08,\n",
       " 0.9936957834783712,\n",
       " 1.737873958232344e-07,\n",
       " 7.021443815920853e-05,\n",
       " 8.068763426174461e-10,\n",
       " 1.040982098231587e-11,\n",
       " 2.233968847060681e-08,\n",
       " 6.051873744054782e-13,\n",
       " 1.738325718668789e-10,\n",
       " 2.335614318953679e-05,\n",
       " 7.086534289842604e-09,\n",
       " 0.007612810118458412,\n",
       " 7.3368063044853266e-09,\n",
       " 0.9923637959835991,\n",
       " 0.7005010125846373,\n",
       " 9.665637997410479e-09,\n",
       " 4.17950463690798e-05,\n",
       " 9.75444698288235e-05,\n",
       " 1.1295108910376104e-05,\n",
       " 4.214541737551709e-13,\n",
       " 0.29902027765632727,\n",
       " 1.7177303047254362e-10,\n",
       " 0.00032806512324080954,\n",
       " 1.7285407069955307e-10,\n",
       " 8.367946263976746e-07,\n",
       " 0.9999938612878844,\n",
       " 6.40864940133925e-08,\n",
       " 2.5241731820846006e-06,\n",
       " 2.6939819128567823e-06,\n",
       " 6.816824417067715e-12,\n",
       " 1.4507053150013718e-08,\n",
       " 2.8454002090907296e-14,\n",
       " 5.161114495013185e-09,\n",
       " 8.872707593004828e-13,\n",
       " 0.041271614027713746,\n",
       " 0.0009474691736595283,\n",
       " 0.0223404006918169,\n",
       " 0.05970335462074826,\n",
       " 0.05608595963838207,\n",
       " 4.082871557667046e-10,\n",
       " 0.8194676898652676,\n",
       " 1.8587827615791346e-08,\n",
       " 0.0001834154048170792,\n",
       " 7.758147989140476e-08,\n",
       " 2.7751482426218823e-08,\n",
       " 1.4336694956524346e-10,\n",
       " 7.421996544816939e-08,\n",
       " 4.652313693806064e-12,\n",
       " 5.119917350949092e-09,\n",
       " 2.1821608699128787e-05,\n",
       " 3.789593362122067e-08,\n",
       " 0.9947881727682802,\n",
       " 2.3513827080605428e-08,\n",
       " 0.00518983697387545,\n",
       " 1.240599567597452e-05,\n",
       " 1.3524911162329029e-08,\n",
       " 0.0039062688160451265,\n",
       " 2.8014458533446435e-05,\n",
       " 0.011038507080264747,\n",
       " 9.204353111337597e-14,\n",
       " 0.985013996961268,\n",
       " 4.200572878286403e-13,\n",
       " 7.93138061217913e-07,\n",
       " 2.472810674348977e-11,\n",
       " 6.562482101164064e-05,\n",
       " 3.125651467426804e-05,\n",
       " 0.00045184568772554446,\n",
       " 4.711685420860486e-06,\n",
       " 5.872048833062531e-05,\n",
       " 0.011869021197881878,\n",
       " 0.00024832340517916756,\n",
       " 0.9794738574260131,\n",
       " 0.001390080398238312,\n",
       " 0.0064065583755245235,\n",
       " 0.011805539502729048,\n",
       " 4.8936721977006405e-05,\n",
       " 0.8152993102809353,\n",
       " 0.07235416479159432,\n",
       " 0.029204556123220458,\n",
       " 7.515505774002266e-12,\n",
       " 0.07008854867251905,\n",
       " 1.6170343935897515e-08,\n",
       " 0.001198924506800802,\n",
       " 3.222364651750574e-09,\n",
       " 0.0001773747123984249,\n",
       " 0.9970718738759529,\n",
       " 9.584513794314785e-07,\n",
       " 0.0027320920859514037,\n",
       " 1.420715165308959e-05,\n",
       " 4.4022653545642486e-11,\n",
       " 1.9576446274020348e-06,\n",
       " 1.2117247885798676e-11,\n",
       " 1.5359851488090307e-06,\n",
       " 3.674873607120087e-11,\n",
       " 9.218617066033938e-05,\n",
       " 6.141634217010307e-07,\n",
       " 0.6752022893651608,\n",
       " 0.0011010432922212996,\n",
       " 0.10289478482452073,\n",
       " 1.0294857782697774e-06,\n",
       " 0.2206956087182132,\n",
       " 8.719939020625778e-07,\n",
       " 7.169620953558025e-06,\n",
       " 4.402365168280232e-06,\n",
       " 0.010153451115748929,\n",
       " 3.6054502829264524e-05,\n",
       " 0.17010088577156943,\n",
       " 0.0038215507293649204,\n",
       " 0.0547554083015911,\n",
       " 1.6304180257925582e-09,\n",
       " 0.7606392845148261,\n",
       " 1.1895715204492019e-08,\n",
       " 0.0004932521149292435,\n",
       " 9.94230078521078e-08,\n",
       " 0.00014902063703313784,\n",
       " 2.2482851231770944e-08,\n",
       " 0.011043209235460196,\n",
       " 2.4820042005195816e-08,\n",
       " 0.6281553710763766,\n",
       " 1.527405312769247e-14,\n",
       " 0.36065117817972575,\n",
       " 1.7318969840288294e-10,\n",
       " 1.15198398398379e-06,\n",
       " 2.1411321991115252e-08,\n",
       " 0.00021946833290287257,\n",
       " 1.8252657238435374e-06,\n",
       " 0.3638588713416858,\n",
       " 6.19565493494293e-05,\n",
       " 0.2956475421075573,\n",
       " 1.9419667262624045e-06,\n",
       " 0.3401684870113807,\n",
       " 3.0285026260082657e-06,\n",
       " 3.65709449280042e-05,\n",
       " 3.0797711982396937e-07,\n",
       " 3.56657998855073e-05,\n",
       " 0.0003427186289328036,\n",
       " 7.944082795422128e-05,\n",
       " 0.00015194576945301905,\n",
       " 1.547831853952649e-05,\n",
       " 0.9989570662587081,\n",
       " 1.7785157348571503e-05,\n",
       " 0.0003163505938310515,\n",
       " 6.834302924820746e-05,\n",
       " 1.5205616098892526e-05,\n",
       " 0.0006577864329351575,\n",
       " 1.4239276637403514e-08,\n",
       " 0.00011703489418021872,\n",
       " 9.35951357309138e-05,\n",
       " 3.584852551033408e-05,\n",
       " 3.8135949247785086e-07,\n",
       " 0.012187217326352327,\n",
       " 4.09744094133201e-11,\n",
       " 0.9869081095585446,\n",
       " 1.2487002973315538e-08,\n",
       " 4.3933928038740014e-05,\n",
       " 4.938429748518725e-05,\n",
       " 0.9759468215353809,\n",
       " 0.000318368834902142,\n",
       " 0.0230990683091318,\n",
       " 1.1171091800584886e-09,\n",
       " 0.0004660559720797888,\n",
       " 9.982524215737196e-10,\n",
       " 7.599526352475054e-05,\n",
       " 3.69744094906104e-07,\n",
       " 0.01177193821156316,\n",
       " 6.678244737247227e-08,\n",
       " 0.8546676772386101,\n",
       " 5.799510839487324e-06,\n",
       " 0.0020523636050718335,\n",
       " 9.218399910740823e-11,\n",
       " 0.13149821330338443,\n",
       " 2.6830358375964596e-09,\n",
       " 3.844083205082657e-06,\n",
       " 9.448965866645093e-08,\n",
       " 3.5507508747132918e-06,\n",
       " 1.6020580402142575e-10,\n",
       " 2.811644115958363e-07,\n",
       " 2.458425582191459e-11,\n",
       " 2.000138039201043e-08,\n",
       " 1.5766694883175195e-12,\n",
       " 2.675493093389265e-05,\n",
       " 1.5122312621429819e-09,\n",
       " 0.9999693914276754,\n",
       " 2.6126146565070247e-11,\n",
       " 1.5701082550254768e-06,\n",
       " 1.8973951791441366e-09,\n",
       " 0.06086559216674048,\n",
       " 1.3527131305656615e-06,\n",
       " 0.5218325126330834,\n",
       " 5.592252346958313e-11,\n",
       " 0.41729887948504535,\n",
       " 1.2753324185727887e-10,\n",
       " 8.650253607557564e-08,\n",
       " 4.3103582733497125e-09,\n",
       " 2.6734741957354296e-06,\n",
       " 3.793406890379719e-11,\n",
       " 1.8548045810188312e-07,\n",
       " 1.0292732953051961e-09,\n",
       " 2.3784816109193924e-08,\n",
       " 5.435715094016309e-09,\n",
       " 0.0003018738361453476,\n",
       " 7.572465273735727e-10,\n",
       " 0.9996952360025891,\n",
       " 1.6162663313082433e-10,\n",
       " 0.9972841650938206,\n",
       " 3.3666901094911574e-07,\n",
       " 3.4954579637704585e-05,\n",
       " 3.547691786409517e-05,\n",
       " 6.285445029283289e-07,\n",
       " 9.910758472589608e-10,\n",
       " 0.0026319001716145892,\n",
       " 1.0806386962402918e-10,\n",
       " 1.2535289462732996e-05,\n",
       " 1.634946528553484e-09,\n",
       " 4.353360699614515e-06,\n",
       " 5.551449221754735e-06,\n",
       " 8.681143156916914e-06,\n",
       " 1.6034136256831777e-07,\n",
       " 3.1648497419284147e-06,\n",
       " 0.001949367155239049,\n",
       " 4.221512460723524e-06,\n",
       " 0.9966774571007596,\n",
       " 0.00020203597812720902,\n",
       " 0.0011450071092307715,\n",
       " 7.210395494008967e-09,\n",
       " 2.2884203362798306e-09,\n",
       " 1.4080240250557421e-07,\n",
       " 3.426291455780084e-10,\n",
       " 1.9628830519545696e-08,\n",
       " 0.004864713248497247,\n",
       " 1.4415547014636575e-08,\n",
       " 0.9941394994224355,\n",
       " 1.1394591278463189e-05,\n",
       " 0.0009842080495636187,\n",
       " 1.1737855618612453e-08,\n",
       " 1.4691631540380016e-07,\n",
       " 1.8791813713707247e-06,\n",
       " 5.218633140511081e-08,\n",
       " 6.487128770886236e-06,\n",
       " 1.3622727794896785e-07,\n",
       " 1.5446718393592602e-07,\n",
       " 3.820057363929209e-06,\n",
       " 0.9999873101183134,\n",
       " 1.9792160837664602e-09,\n",
       " 7.38081381636861e-08,\n",
       " 7.87482321863077e-10,\n",
       " 1.0918333366052624e-05,\n",
       " 2.3107323081485354e-09,\n",
       " 1.220907512950454e-06,\n",
       " 0.9999728232167215,\n",
       " 1.2805036920389587e-07,\n",
       " 8.266061571038468e-06,\n",
       " 1.893224703743817e-06,\n",
       " 4.673299402736102e-06,\n",
       " 6.206700335650908e-07,\n",
       " 0.9999986498127134,\n",
       " 3.4489356628907385e-08,\n",
       " 1.1337098454889913e-07,\n",
       " 5.808479777453388e-07,\n",
       " 2.1602912101083055e-16,\n",
       " 6.7518615326654e-10,\n",
       " 2.456313785480835e-18,\n",
       " 1.3374758692245863e-10,\n",
       " 1.521650974397426e-16,\n",
       " 7.3102857878201925e-06,\n",
       " 0.9986986559391132,\n",
       " 2.0809453790637725e-06,\n",
       " 0.0012731904579851825,\n",
       " 1.552526664089172e-05,\n",
       " 3.513864813352943e-09,\n",
       " 3.174423776946739e-06,\n",
       " 7.191146771266078e-11,\n",
       " 5.838207827666447e-08,\n",
       " 7.134622837420572e-10,\n",
       " 0.08647092091206132,\n",
       " 0.00455613031002175,\n",
       " 0.34667323424899466,\n",
       " 0.24178405124084776,\n",
       " 0.11704283227382627,\n",
       " 0.0011738921439546604,\n",
       " 0.18976103363573854,\n",
       " 0.0007948230310238865,\n",
       " 0.009213042483890356,\n",
       " 0.0025300397196407905,\n",
       " 2.6962536373543413e-05,\n",
       " 0.0017401675598908036,\n",
       " 0.001594619192076507,\n",
       " 0.25618333633383117,\n",
       " 0.7376064637811283,\n",
       " 5.137462463615346e-07,\n",
       " 0.0027956912923144373,\n",
       " 5.813444258915863e-07,\n",
       " 5.0524536275394696e-05,\n",
       " 1.1396774377782497e-06,\n",
       " 5.427262358993438e-06,\n",
       " 2.1269244201900644e-05,\n",
       " 7.027318884349357e-05,\n",
       " 3.5782446733599946e-05,\n",
       " 5.0092015821088635e-06,\n",
       " 0.0055089787566425675,\n",
       " 3.3533131146368666e-05,\n",
       " 0.986322259176622,\n",
       " 0.00018098967473165816,\n",
       " 0.007816477917137115,\n",
       " 1.2369535362299919e-11,\n",
       " 1.323479854890804e-13,\n",
       " 4.8674752296532716e-11,\n",
       " 7.585702526730702e-13,\n",
       " 1.4001589996471863e-11,\n",
       " 8.727766826969455e-14,\n",
       " 4.895253538107938e-13,\n",
       " 7.170693707667392e-11,\n",
       " 0.9999999998517761,\n",
       " 3.229720033106229e-15,\n",
       " 0.00017879810525594397,\n",
       " 4.760658475608941e-06,\n",
       " 5.547350680684859e-05,\n",
       " 7.960229730652228e-06,\n",
       " 2.2210277244683475e-05,\n",
       " 0.008282213230703777,\n",
       " 0.00026054649128623734,\n",
       " 0.9824853507213359,\n",
       " 0.0007607437751747235,\n",
       " 0.007941943003985425,\n",
       " 0.9442296588374043,\n",
       " 4.816365596029609e-05,\n",
       " 0.0003749521610486483,\n",
       " 0.0013631620606465496,\n",
       " 2.6921573145250505e-06,\n",
       " 1.0208928302161905e-07,\n",
       " 0.053892988982877504,\n",
       " 6.1178722021911174e-09,\n",
       " 8.768432188816774e-05,\n",
       " 5.896157048682165e-07,\n",
       " 0.038720304919576315,\n",
       " 4.871547710779425e-06,\n",
       " 0.9304852695725079,\n",
       " 3.38598553633375e-05,\n",
       " 0.00028459884719170465,\n",
       " 6.938696828076867e-09,\n",
       " 0.02230243161159599,\n",
       " 8.883172285154088e-09,\n",
       " 0.008165382831757561,\n",
       " 3.2649924271737907e-06,\n",
       " 0.07051522416378293,\n",
       " 5.2667790271204756e-06,\n",
       " 0.0750282623733674,\n",
       " 0.02835914815107625,\n",
       " 0.11121169330901481,\n",
       " 6.560255332156842e-11,\n",
       " 0.6996815393077976,\n",
       " 3.327760800530585e-08,\n",
       " 0.015198823902175121,\n",
       " 8.67054824692103e-09,\n",
       " 8.165676440752046e-06,\n",
       " 4.0880669707879856e-06,\n",
       " 0.8065909518831322,\n",
       " 3.905825057003877e-05,\n",
       " 0.19301256157205263,\n",
       " 2.501102017766516e-12,\n",
       " 0.00033498683521850423,\n",
       " 5.545146199005472e-13,\n",
       " 1.0184653826242944e-05,\n",
       " 3.058733352069659e-09,\n",
       " 0.0027617633030875967,\n",
       " 0.0020608550922171804,\n",
       " 0.0004593514709801489,\n",
       " 0.9903724979395416,\n",
       " 0.0010892590209280188,\n",
       " 5.534977559955712e-06,\n",
       " 0.0032056350560829344,\n",
       " 1.0465446552330257e-06,\n",
       " 4.1994159207139074e-05,\n",
       " 2.062435740137839e-06,\n",
       " 3.023899958495248e-08,\n",
       " 0.9999996707608367,\n",
       " 7.257132781669329e-10,\n",
       " 2.606439232211592e-07,\n",
       " 3.702476331489818e-08,\n",
       " 1.181519657795151e-15,\n",
       " 6.024752599332221e-10,\n",
       " 3.1843022393812294e-18,\n",
       " 3.2850416572017665e-12,\n",
       " 2.1169321138041546e-15,\n",
       " 0.00013028292948591,\n",
       " 3.269030610485085e-10,\n",
       " 0.9972611224263455,\n",
       " 2.3305852878282582e-07,\n",
       " 0.002036255132865602,\n",
       " 1.814993757507189e-14,\n",
       " 0.0005720803973953347,\n",
       " 7.376526778973096e-12,\n",
       " 2.5691952203335927e-08,\n",
       " 2.9128770058819464e-11,\n",
       " 5.69904105598068e-10,\n",
       " 3.7347623750761195e-10,\n",
       " 4.533475631641221e-07,\n",
       " 9.073076535335827e-11,\n",
       " 3.4364512700611037e-11,\n",
       " 1.566072104771883e-07,\n",
       " 1.1284079220463188e-07,\n",
       " 4.5958190584152086e-10,\n",
       " 0.9999992603800326,\n",
       " 1.5296344088058687e-08,\n",
       " 9.951262852462779e-08,\n",
       " 3.494377998695364e-09,\n",
       " 0.00968111928316466,\n",
       " 2.4646137315648553e-08,\n",
       " 0.9687489242329582,\n",
       " 5.374427323581432e-13,\n",
       " 0.021569696640351944,\n",
       " 3.15932277034574e-11,\n",
       " 1.3214413016429672e-07,\n",
       " 1.412063730628769e-11,\n",
       " 0.0015316470362370233,\n",
       " 0.982398666595913,\n",
       " 0.0008020928343383727,\n",
       " 0.005237095129504295,\n",
       " 0.00987447318444158,\n",
       " 1.0312252432465123e-08,\n",
       " 0.00014522702068577275,\n",
       " 4.714603782914589e-09,\n",
       " 1.0767635852732106e-05,\n",
       " 1.553617122510542e-08,\n",
       " 1.559702673776476e-10,\n",
       " 9.195839595473739e-10,\n",
       " 4.2808646293729563e-07,\n",
       " 5.761480980736085e-08,\n",
       " 8.6234419605549e-09,\n",
       " 2.8494090158889685e-11,\n",
       " 9.567216273288429e-09,\n",
       " 4.903829817661345e-09,\n",
       " 0.999999490059015,\n",
       " 4.117587303031023e-11,\n",
       " 5.425579991947355e-10,\n",
       " 3.057221367432964e-12,\n",
       " 1.093567834701975e-10,\n",
       " 2.1473432688490427e-11,\n",
       " 1.2023719223407029e-09,\n",
       " 0.9999998369443207,\n",
       " 7.518270957793085e-10,\n",
       " 7.991268913039526e-08,\n",
       " 4.3031074820802025e-08,\n",
       " 3.748127079095044e-08,\n",
       " 5.533046413135262e-11,\n",
       " 2.1013477968640977e-13,\n",
       " 2.724006527371981e-11,\n",
       " 3.073255258662603e-16,\n",
       " 6.8680276340538206e-12,\n",
       " 3.8162272745464655e-06,\n",
       " 2.527686593242017e-11,\n",
       " 0.0003347828407561293,\n",
       " 2.144430472737947e-11,\n",
       " 0.9996614007955992,\n",
       " 1.2432303521263724e-08,\n",
       " 4.663332777949612e-12,\n",
       " 7.917307477618421e-07,\n",
       " 4.597553057367917e-12,\n",
       " 2.938175532501031e-08,\n",
       " 0.9999990657468321,\n",
       " 2.3758609268937685e-08,\n",
       " 5.3423961548820605e-08,\n",
       " 2.086130917796367e-08,\n",
       " 2.6552204832196197e-09,\n",
       " 0.9957895031484257,\n",
       " 3.220731558233282e-06,\n",
       " 5.8132022337569916e-05,\n",
       " 0.0003372078025662934,\n",
       " 2.3486387059814438e-05,\n",
       " 2.3013081641160304e-13,\n",
       " 0.0037689886731114776,\n",
       " 4.5133945612766324e-11,\n",
       " 1.9461184476129267e-05,\n",
       " 5.100827209499961e-12,\n",
       " 0.002424290638657122,\n",
       " 0.0017081913498443652,\n",
       " 6.160294455749328e-06,\n",
       " 0.9957560745480002,\n",
       " 1.991223917154137e-05,\n",
       " 2.0206893288163764e-10,\n",
       " 5.9823448609495634e-05,\n",
       " 4.1147619441040033e-11,\n",
       " 2.5533551143476476e-05,\n",
       " 1.3686901341681631e-08,\n",
       " 3.908279180455538e-06,\n",
       " 3.750269781221897e-09,\n",
       " 0.9978791085989795,\n",
       " 5.6996075024645006e-05,\n",
       " 0.0012505194596280607,\n",
       " 2.701458835476522e-13,\n",
       " 0.0008094357023523961,\n",
       " 6.410301748111732e-13,\n",
       " 2.8129415027526483e-08,\n",
       " 4.238842442311007e-12,\n",
       " 0.9986023191833663,\n",
       " 6.826098206247361e-08,\n",
       " 5.298523322381022e-05,\n",
       " 0.000483278521369431,\n",
       " 7.894374043514166e-07,\n",
       " 2.735801087062175e-12,\n",
       " 0.0008545888812529945,\n",
       " 1.7783777362424027e-11,\n",
       " 5.970342794602054e-06,\n",
       " 1.1908703667908297e-10,\n",
       " 0.0676460422681368,\n",
       " 4.823158905485107e-06,\n",
       " 0.5050058304229854,\n",
       " 0.0014772025020645713,\n",
       " 0.0015146560011716445,\n",
       " 8.703159491949565e-08,\n",
       " 0.42411850486372904,\n",
       " 5.2322483271577464e-09,\n",
       " 0.00023277871842515528,\n",
       " 6.980073872954599e-08,\n",
       " 8.644914847828642e-09,\n",
       " 1.7214515310353177e-09,\n",
       " 2.9342983902525377e-06,\n",
       " 2.5603557691304934e-08,\n",
       " 1.1768406398516299e-07,\n",
       " 0.9999908555872189,\n",
       " 1.2702766957288614e-07,\n",
       " 5.614906915894359e-06,\n",
       " 1.339971746368555e-07,\n",
       " 1.8052864284753107e-07,\n",
       " 0.0467818611303437,\n",
       " 0.015892315868124486,\n",
       " 0.001992710820842353,\n",
       " 0.9182953590268328,\n",
       " 0.0003683564078640722,\n",
       " 0.0008918141225758609,\n",
       " 0.009963848292737628,\n",
       " 6.307111115838982e-05,\n",
       " 0.00560918332874801,\n",
       " 0.00014147989077265891,\n",
       " 3.498416742569594e-06,\n",
       " 1.0376765707533408e-09,\n",
       " 0.0014558440000402852,\n",
       " 4.046094884972292e-06,\n",
       " 0.002725855006359563,\n",
       " 1.5242713703394153e-13,\n",
       " 0.9958102159770419,\n",
       " 1.6551368428631196e-12,\n",
       " 5.394294109913242e-07,\n",
       " 3.60357982044226e-11,\n",
       " 3.0123956720226244e-08,\n",
       " 2.440954448989967e-08,\n",
       " 1.9278395705631468e-07,\n",
       " 6.654527278371943e-10,\n",
       " 1.4881028392561848e-08,\n",
       " 0.0013368210966574379,\n",
       " 4.0155089113156524e-08,\n",
       " 0.9981914815584985,\n",
       " 4.589697376521872e-06,\n",
       " 0.0004668046284390162,\n",
       " 3.1903835484645547e-07,\n",
       " 0.9999497110447482,\n",
       " 4.0094417934958175e-08,\n",
       " 4.8745943143342066e-05,\n",
       " 1.1489241812212237e-06,\n",
       " 3.4856714866386587e-12,\n",
       " 2.7932451430084624e-09,\n",
       " 3.714805355500718e-14,\n",
       " 3.215790470064628e-08,\n",
       " 4.817914819139711e-13,\n",
       " 6.773670584686971e-05,\n",
       " 2.6799165486603772e-08,\n",
       " 0.001626416417572812,\n",
       " 1.4042584758914335e-07,\n",
       " 2.0872622732947883e-05,\n",
       " 1.371814198891665e-06,\n",
       " 0.007363675229036091,\n",
       " 9.761870774333038e-07,\n",
       " 0.9909186647642793,\n",
       " 1.1903424250558941e-07,\n",
       " 0.7189465100007861,\n",
       " 0.00013345647380779056,\n",
       " 0.02875760822434338,\n",
       " 0.041805216189773044,\n",
       " 0.00025483520016821856,\n",
       " 2.5060808206410327e-06,\n",
       " 0.20881437978821257,\n",
       " 6.286850375665506e-06,\n",
       " 0.0012772248139569964,\n",
       " 1.9763777556547083e-06,\n",
       " 1.655433385352041e-05,\n",
       " 0.999384420030668,\n",
       " 8.139829835010911e-07,\n",
       " 0.0005802775764875298,\n",
       " 1.69206994785806e-05,\n",
       " 3.554823717157629e-10,\n",
       " 9.636609350617087e-07,\n",
       " 1.1426607372797397e-12,\n",
       " 4.9083112042941824e-08,\n",
       " 2.7585673936878067e-10,\n",
       " 0.0002034509838018486,\n",
       " 2.4931740968773798e-06,\n",
       " 0.1919960026971671,\n",
       " 0.0041763131420523465,\n",
       " 0.7302997204285537,\n",
       " 8.20072700287474e-13,\n",
       " 0.0732045497203159,\n",
       " 1.2395553924806703e-09,\n",
       " 0.0001174675248801005,\n",
       " 1.0887564773938369e-09,\n",
       " 4.716057524426917e-05,\n",
       " 9.369631204057707e-09,\n",
       " 0.8513736328572831,\n",
       " 6.715497615887267e-06,\n",
       " 0.0317293281115576,\n",
       " 1.0747047734370506e-13,\n",
       " 0.11684314591789453,\n",
       " 1.7734844864474215e-10,\n",
       " 7.287288940093971e-09,\n",
       " 2.0602848382662324e-10,\n",
       " ...]"
      ]
     },
     "execution_count": 24,
     "metadata": {},
     "output_type": "execute_result"
    }
   ],
   "source": [
    "#print(xt[-100:][55].shape)\n",
    "vv=xt.reshape(-1, 28, 28, 1)/255.0\n",
    "#vvv = imgs_trans(vv,12)\n",
    "#predictions = nn.predict(vvv)\n",
    "ooo = nn._forward_pass(vv, retain_derived=False)\n",
    "list_pred = ooo.flatten().tolist()\n",
    "list_pred.index(max(list_pred))\n",
    "list_pred"
   ]
  },
  {
   "cell_type": "code",
   "execution_count": 25,
   "metadata": {},
   "outputs": [
    {
     "data": {
      "image/png": "[encoded data removed]",
      "text/plain": [
       "<Figure size 432x216 with 2 Axes>"
      ]
     },
     "metadata": {
      "needs_background": "light"
     },
     "output_type": "display_data"
    }
   ],
   "source": [
    "i = 0\n",
    "plt.figure(figsize=(6,3))\n",
    "plt.subplot(1,2,1)\n",
    "plot_image(i, ooo[i], yt, xt/255.0)\n",
    "plt.subplot(1,2,2)\n",
    "plot_value_array(i, ooo[i],  yt)\n",
    "plt.show()"
   ]
  },
  {
   "cell_type": "code",
   "execution_count": 26,
   "metadata": {},
   "outputs": [
    {
     "data": {
      "image/png": "[encoded data removed]",
      "text/plain": [
       "<Figure size 432x216 with 2 Axes>"
      ]
     },
     "metadata": {
      "needs_background": "light"
     },
     "output_type": "display_data"
    }
   ],
   "source": [
    "i = 12\n",
    "plt.figure(figsize=(6,3))\n",
    "plt.subplot(1,2,1)\n",
    "plot_image(i, ooo[i], yt, xt/255.0)\n",
    "plt.subplot(1,2,2)\n",
    "plot_value_array(i, ooo[i],  yt)\n",
    "plt.show()"
   ]
  },
  {
   "cell_type": "code",
   "execution_count": 27,
   "metadata": {},
   "outputs": [
    {
     "ename": "NameError",
     "evalue": "name 'X_train' is not defined",
     "output_type": "error",
     "traceback": [
      "\u001b[0;31m---------------------------------------------------------------------------\u001b[0m",
      "\u001b[0;31mNameError\u001b[0m                                 Traceback (most recent call last)",
      "\u001b[0;32m<ipython-input-27-bad37697f167>\u001b[0m in \u001b[0;36m<module>\u001b[0;34m\u001b[0m\n\u001b[0;32m----> 1\u001b[0;31m \u001b[0mvv\u001b[0m\u001b[0;34m=\u001b[0m\u001b[0mlayer\u001b[0m\u001b[0;34m[\u001b[0m\u001b[0;36m0\u001b[0m\u001b[0;34m]\u001b[0m\u001b[0;34m.\u001b[0m\u001b[0mforward\u001b[0m\u001b[0;34m(\u001b[0m\u001b[0mX_train\u001b[0m\u001b[0;34m,\u001b[0m\u001b[0;32mFalse\u001b[0m\u001b[0;34m)\u001b[0m\u001b[0;34m\u001b[0m\u001b[0;34m\u001b[0m\u001b[0m\n\u001b[0m\u001b[1;32m      2\u001b[0m \u001b[0mff\u001b[0m\u001b[0;34m=\u001b[0m\u001b[0mlayer\u001b[0m\u001b[0;34m[\u001b[0m\u001b[0;36m1\u001b[0m\u001b[0;34m]\u001b[0m\u001b[0;34m.\u001b[0m\u001b[0mforward\u001b[0m\u001b[0;34m(\u001b[0m\u001b[0mvv\u001b[0m\u001b[0;34m,\u001b[0m\u001b[0;32mFalse\u001b[0m\u001b[0;34m)\u001b[0m\u001b[0;34m\u001b[0m\u001b[0;34m\u001b[0m\u001b[0m\n\u001b[1;32m      3\u001b[0m \u001b[0mlayer\u001b[0m\u001b[0;34m[\u001b[0m\u001b[0;36m0\u001b[0m\u001b[0;34m]\u001b[0m\u001b[0;34m.\u001b[0m\u001b[0mparameters\u001b[0m\u001b[0;34m[\u001b[0m\u001b[0;34m'W'\u001b[0m\u001b[0;34m]\u001b[0m\u001b[0;34m.\u001b[0m\u001b[0mshape\u001b[0m\u001b[0;34m\u001b[0m\u001b[0;34m\u001b[0m\u001b[0m\n",
      "\u001b[0;31mNameError\u001b[0m: name 'X_train' is not defined"
     ]
    }
   ],
   "source": [
    "vv=layer[0].forward(X_train,False)\n",
    "ff=layer[1].forward(vv,False)\n",
    "layer[0].parameters['W'].shape"
   ]
  },
  {
   "cell_type": "code",
   "execution_count": 28,
   "metadata": {},
   "outputs": [
    {
     "data": {
      "image/png": "[encoded data removed]",
      "text/plain": [
       "<Figure size 1152x864 with 48 Axes>"
      ]
     },
     "metadata": {
      "needs_background": "light"
     },
     "output_type": "display_data"
    }
   ],
   "source": [
    "# Plot the first X test images, their predicted labels, and the true labels.\n",
    "# Color correct predictions in blue and incorrect predictions in red.\n",
    "num_rows = 6\n",
    "num_cols = 4\n",
    "num_images = num_rows*num_cols\n",
    "plt.figure(figsize=(2*2*num_cols, 2*num_rows))\n",
    "for i in range(num_images):\n",
    "  plt.subplot(num_rows, 2*num_cols, 2*i+1)\n",
    "  plot_image(i, ooo[i], yt, xt/255.0)\n",
    "  plt.subplot(num_rows, 2*num_cols, 2*i+2)\n",
    "  plot_value_array(i, ooo[i],  yt)\n",
    "plt.tight_layout()\n",
    "plt.show()"
   ]
  },
  {
   "cell_type": "code",
   "execution_count": 20,
   "metadata": {},
   "outputs": [
    {
     "data": {
      "image/png": "[encoded data removed]",
      "text/plain": [
       "<Figure size 432x288 with 1 Axes>"
      ]
     },
     "metadata": {
      "needs_background": "light"
     },
     "output_type": "display_data"
    },
    {
     "name": "stdout",
     "output_type": "stream",
     "text": [
      "Accuracy: 0.9456824512534819\n"
     ]
    },
    {
     "data": {
      "text/plain": [
       "0.9456824512534819"
      ]
     },
     "execution_count": 20,
     "metadata": {},
     "output_type": "execute_result"
    }
   ],
   "source": [
    "nn.eval(X_test, y_test)\n"
   ]
  },
  {
   "cell_type": "code",
   "execution_count": 96,
   "metadata": {},
   "outputs": [],
   "source": [
    "from builtins import range\n",
    "from past.builtins import xrange\n",
    "\n",
    "from math import sqrt, ceil\n",
    "import numpy as np\n",
    "\n",
    "def visualize_grid(Xs, ubound=255.0, padding=1):\n",
    "    \"\"\"\n",
    "    Reshape a 4D tensor of image data to a grid for easy visualization.\n",
    "    Inputs:\n",
    "    - Xs: Data of shape (N, H, W, C)\n",
    "    - ubound: Output grid will have values scaled to the range [0, ubound]\n",
    "    - padding: The number of blank pixels between elements of the grid\n",
    "    \"\"\"\n",
    "    (N, H, W, C) = Xs.shape\n",
    "    grid_size = int(ceil(sqrt(N)))\n",
    "    grid_height = H * grid_size + padding * (grid_size - 1)\n",
    "    grid_width = W * grid_size + padding * (grid_size - 1)\n",
    "    grid = np.zeros((grid_height, grid_width, C))\n",
    "    next_idx = 0\n",
    "    y0, y1 = 0, H\n",
    "    for y in range(grid_size):\n",
    "        x0, x1 = 0, W\n",
    "        for x in range(grid_size):\n",
    "            if next_idx < N:\n",
    "                img = Xs[next_idx]\n",
    "                low, high = np.min(img), np.max(img)\n",
    "                grid[y0:y1, x0:x1] = ubound * (img - low) / (high - low)\n",
    "                # grid[y0:y1, x0:x1] = Xs[next_idx]\n",
    "                next_idx += 1\n",
    "            x0 += W + padding\n",
    "            x1 += W + padding\n",
    "        y0 += H + padding\n",
    "        y1 += H + padding\n",
    "    # grid_max = np.max(grid)\n",
    "    # grid_min = np.min(grid)\n",
    "    # grid = ubound * (grid - grid_min) / (grid_max - grid_min)\n",
    "    return grid\n",
    "\n",
    "def vis_grid(Xs):\n",
    "    \"\"\" visualize a grid of images \"\"\"\n",
    "    (N, H, W, C) = Xs.shape\n",
    "    A = int(ceil(sqrt(N)))\n",
    "    G = np.ones((A*H+A, A*W+A, C), Xs.dtype)\n",
    "    G *= np.min(Xs)\n",
    "    n = 0\n",
    "    for y in range(A):\n",
    "        for x in range(A):\n",
    "            if n < N:\n",
    "                G[y*H+y:(y+1)*H+y, x*W+x:(x+1)*W+x, :] = Xs[n,:,:,:]\n",
    "                n += 1\n",
    "    # normalize to [0,1]\n",
    "    maxg = G.max()\n",
    "    ming = G.min()\n",
    "    G = (G - ming)/(maxg-ming)\n",
    "    return G\n",
    "\n",
    "def vis_nn(rows):\n",
    "    \"\"\" visualize array of arrays of images \"\"\"\n",
    "    N = len(rows)\n",
    "    D = len(rows[0])\n",
    "    H,W,C = rows[0][0].shape\n",
    "    Xs = rows[0][0]\n",
    "    G = np.ones((N*H+N, D*W+D, C), Xs.dtype)\n",
    "    for y in range(N):\n",
    "        for x in range(D):\n",
    "            G[y*H+y:(y+1)*H+y, x*W+x:(x+1)*W+x, :] = rows[y][x]\n",
    "    # normalize to [0,1]\n",
    "    maxg = G.max()\n",
    "    ming = G.min()\n",
    "    G = (G - ming)/(maxg-ming)\n",
    "    return G\n"
   ]
  },
  {
   "cell_type": "code",
   "execution_count": 97,
   "metadata": {},
   "outputs": [
    {
     "data": {
      "text/plain": [
       "(32, 7, 7, 1)"
      ]
     },
     "execution_count": 97,
     "metadata": {},
     "output_type": "execute_result"
    }
   ],
   "source": [
    "nn.layers[2].parameters['W'].transpose(2, 0, 1,3).shape"
   ]
  },
  {
   "cell_type": "code",
   "execution_count": 98,
   "metadata": {},
   "outputs": [],
   "source": [
    "kk=nn.layers[0].forward(X_test,False)"
   ]
  },
  {
   "cell_type": "code",
   "execution_count": 99,
   "metadata": {},
   "outputs": [],
   "source": [
    "bb=nn.layers[1].forward(kk,False)"
   ]
  },
  {
   "cell_type": "code",
   "execution_count": 100,
   "metadata": {},
   "outputs": [
    {
     "data": {
      "text/plain": [
       "(40, 28, 28, 32)"
      ]
     },
     "execution_count": 100,
     "metadata": {},
     "output_type": "execute_result"
    }
   ],
   "source": [
    "bb.shape"
   ]
  },
  {
   "cell_type": "code",
   "execution_count": 103,
   "metadata": {},
   "outputs": [
    {
     "ename": "ValueError",
     "evalue": "cannot reshape array of size 70688 into shape (47,47)",
     "output_type": "error",
     "traceback": [
      "\u001b[0;31m---------------------------------------------------------------------------\u001b[0m",
      "\u001b[0;31mValueError\u001b[0m                                Traceback (most recent call last)",
      "\u001b[0;32m<ipython-input-103-edfc96e3ed88>\u001b[0m in \u001b[0;36m<module>\u001b[0;34m\u001b[0m\n\u001b[0;32m----> 1\u001b[0;31m \u001b[0mgrid\u001b[0m \u001b[0;34m=\u001b[0m \u001b[0mvisualize_grid\u001b[0m\u001b[0;34m(\u001b[0m\u001b[0mnn\u001b[0m\u001b[0;34m.\u001b[0m\u001b[0mlayers\u001b[0m\u001b[0;34m[\u001b[0m\u001b[0;36m1\u001b[0m\u001b[0;34m]\u001b[0m\u001b[0;34m.\u001b[0m\u001b[0mparameters\u001b[0m\u001b[0;34m[\u001b[0m\u001b[0;34m'W'\u001b[0m\u001b[0;34m]\u001b[0m\u001b[0;34m.\u001b[0m\u001b[0mtranspose\u001b[0m\u001b[0;34m(\u001b[0m\u001b[0;36m2\u001b[0m\u001b[0;34m,\u001b[0m \u001b[0;36m0\u001b[0m\u001b[0;34m,\u001b[0m \u001b[0;36m1\u001b[0m\u001b[0;34m,\u001b[0m\u001b[0;36m3\u001b[0m\u001b[0;34m)\u001b[0m\u001b[0;34m)\u001b[0m\u001b[0;34m.\u001b[0m\u001b[0mreshape\u001b[0m\u001b[0;34m(\u001b[0m\u001b[0;36m47\u001b[0m\u001b[0;34m,\u001b[0m\u001b[0;36m47\u001b[0m\u001b[0;34m)\u001b[0m\u001b[0;34m\u001b[0m\u001b[0;34m\u001b[0m\u001b[0m\n\u001b[0m\u001b[1;32m      2\u001b[0m \u001b[0mplt\u001b[0m\u001b[0;34m.\u001b[0m\u001b[0mimshow\u001b[0m\u001b[0;34m(\u001b[0m\u001b[0mgrid\u001b[0m\u001b[0;34m.\u001b[0m\u001b[0mastype\u001b[0m\u001b[0;34m(\u001b[0m\u001b[0;34m'uint8'\u001b[0m\u001b[0;34m)\u001b[0m\u001b[0;34m)\u001b[0m\u001b[0;34m\u001b[0m\u001b[0;34m\u001b[0m\u001b[0m\n\u001b[1;32m      3\u001b[0m \u001b[0mplt\u001b[0m\u001b[0;34m.\u001b[0m\u001b[0maxis\u001b[0m\u001b[0;34m(\u001b[0m\u001b[0;34m'off'\u001b[0m\u001b[0;34m)\u001b[0m\u001b[0;34m\u001b[0m\u001b[0;34m\u001b[0m\u001b[0m\n\u001b[1;32m      4\u001b[0m \u001b[0mplt\u001b[0m\u001b[0;34m.\u001b[0m\u001b[0mgcf\u001b[0m\u001b[0;34m(\u001b[0m\u001b[0;34m)\u001b[0m\u001b[0;34m.\u001b[0m\u001b[0mset_size_inches\u001b[0m\u001b[0;34m(\u001b[0m\u001b[0;36m5\u001b[0m\u001b[0;34m,\u001b[0m \u001b[0;36m5\u001b[0m\u001b[0;34m)\u001b[0m\u001b[0;34m\u001b[0m\u001b[0;34m\u001b[0m\u001b[0m\n\u001b[1;32m      5\u001b[0m \u001b[0mplt\u001b[0m\u001b[0;34m.\u001b[0m\u001b[0mshow\u001b[0m\u001b[0;34m(\u001b[0m\u001b[0;34m)\u001b[0m\u001b[0;34m\u001b[0m\u001b[0;34m\u001b[0m\u001b[0m\n",
      "\u001b[0;31mValueError\u001b[0m: cannot reshape array of size 70688 into shape (47,47)"
     ]
    }
   ],
   "source": [
    "grid = visualize_grid(nn.layers[1].parameters['W'].transpose(2, 0, 1,3)).reshape(47,47)\n",
    "plt.imshow(grid.astype('uint8'))\n",
    "plt.axis('off')\n",
    "plt.gcf().set_size_inches(5, 5)\n",
    "plt.show()"
   ]
  },
  {
   "cell_type": "code",
   "execution_count": 61,
   "metadata": {},
   "outputs": [
    {
     "data": {
      "text/plain": [
       "2.6457513110645907"
      ]
     },
     "execution_count": 61,
     "metadata": {},
     "output_type": "execute_result"
    }
   ],
   "source": [
    "np.sqrt(7)"
   ]
  },
  {
   "cell_type": "code",
   "execution_count": 20,
   "metadata": {},
   "outputs": [
    {
     "ename": "NameError",
     "evalue": "name 'plt' is not defined",
     "output_type": "error",
     "traceback": [
      "\u001b[0;31m---------------------------------------------------------------------------\u001b[0m",
      "\u001b[0;31mNameError\u001b[0m                                 Traceback (most recent call last)",
      "\u001b[0;32m<ipython-input-20-489d5a080811>\u001b[0m in \u001b[0;36m<module>\u001b[0;34m\u001b[0m\n\u001b[0;32m----> 1\u001b[0;31m \u001b[0mplt\u001b[0m\u001b[0;34m.\u001b[0m\u001b[0mimshow\u001b[0m\u001b[0;34m(\u001b[0m\u001b[0;34m(\u001b[0m\u001b[0mX_test\u001b[0m\u001b[0;34m[\u001b[0m\u001b[0;36m50\u001b[0m\u001b[0;34m:\u001b[0m\u001b[0;36m51\u001b[0m\u001b[0;34m]\u001b[0m\u001b[0;34m.\u001b[0m\u001b[0mreshape\u001b[0m\u001b[0;34m(\u001b[0m\u001b[0;36m8\u001b[0m\u001b[0;34m,\u001b[0m\u001b[0;36m8\u001b[0m\u001b[0;34m)\u001b[0m\u001b[0;34m)\u001b[0m\u001b[0;34m)\u001b[0m\u001b[0;34m\u001b[0m\u001b[0;34m\u001b[0m\u001b[0m\n\u001b[0m",
      "\u001b[0;31mNameError\u001b[0m: name 'plt' is not defined"
     ]
    }
   ],
   "source": [
    "plt.imshow((X_test[50:51].reshape(8,8)))\n"
   ]
  },
  {
   "cell_type": "code",
   "execution_count": 57,
   "metadata": {},
   "outputs": [
    {
     "name": "stdout",
     "output_type": "stream",
     "text": [
      "(28, 28)\n"
     ]
    },
    {
     "data": {
      "text/plain": [
       "6"
      ]
     },
     "execution_count": 57,
     "metadata": {},
     "output_type": "execute_result"
    }
   ],
   "source": [
    "print(xt[-100:][55].shape)\n",
    "vv=xt[-100:][55].reshape(1, 28, 28, 1)\n",
    "#vvv = imgs_trans(vv,12)\n",
    "#predictions = nn.predict(vvv)\n",
    "ooo = nn._forward_pass(vv, retain_derived=False)\n",
    "list_pred = ooo.flatten().tolist()\n",
    "list_pred.index(max(list_pred))"
   ]
  },
  {
   "cell_type": "code",
   "execution_count": 58,
   "metadata": {},
   "outputs": [],
   "source": [
    "import matplotlib.pyplot as plt\n"
   ]
  },
  {
   "cell_type": "code",
   "execution_count": 31,
   "metadata": {},
   "outputs": [
    {
     "data": {
      "text/plain": [
       "<matplotlib.image.AxesImage at 0x7fbabc1922d0>"
      ]
     },
     "execution_count": 31,
     "metadata": {},
     "output_type": "execute_result"
    },
    {
     "data": {
      "image/png": "[encoded data removed]",
      "text/plain": [
       "<Figure size 432x288 with 1 Axes>"
      ]
     },
     "metadata": {
      "needs_background": "light"
     },
     "output_type": "display_data"
    }
   ],
   "source": [
    "plt.imshow(xt[-100:][55].reshape(28, 28))\n"
   ]
  },
  {
   "cell_type": "code",
   "execution_count": 27,
   "metadata": {},
   "outputs": [
    {
     "data": {
      "text/plain": [
       "array([9, 0, 0, ..., 3, 0, 5], dtype=uint8)"
      ]
     },
     "execution_count": 27,
     "metadata": {},
     "output_type": "execute_result"
    }
   ],
   "source": [
    "y_trainp"
   ]
  },
  {
   "cell_type": "code",
   "execution_count": 48,
   "metadata": {},
   "outputs": [],
   "source": [
    "def plot_image(i, predictions_array, true_label, img):\n",
    "  predictions_array, true_label, img = predictions_array, true_label[i], img[i]\n",
    "  plt.grid(False)\n",
    "  plt.xticks([])\n",
    "  plt.yticks([])\n",
    "\n",
    "  plt.imshow(img, cmap=plt.cm.binary)\n",
    "\n",
    "  predicted_label = np.argmax(predictions_array)\n",
    "  if predicted_label == true_label:\n",
    "    color = 'blue'\n",
    "  else:\n",
    "    color = 'red'\n",
    "\n",
    "  plt.xlabel(\"{} {:2.0f}% ({})\".format(class_names[predicted_label],\n",
    "                                100*np.max(predictions_array),\n",
    "                                class_names[true_label]),\n",
    "                                color=color)\n",
    "\n",
    "def plot_value_array(i, predictions_array, true_label):\n",
    "  predictions_array, true_label = predictions_array, true_label[i]\n",
    "  plt.grid(False)\n",
    "  plt.xticks(range(10))\n",
    "  plt.yticks([])\n",
    "  thisplot = plt.bar(range(10), predictions_array, color=\"#777777\")\n",
    "  plt.ylim([0, 1])\n",
    "  predicted_label = np.argmax(predictions_array)\n",
    "\n",
    "  thisplot[predicted_label].set_color('red')\n",
    "  thisplot[true_label].set_color('blue')"
   ]
  },
  {
   "cell_type": "code",
   "execution_count": null,
   "metadata": {},
   "outputs": [],
   "source": [
    "i = 0\n",
    "plt.figure(figsize=(6,3))\n",
    "plt.subplot(1,2,1)\n",
    "plot_image(i, ooo[i], test_labels, test_images)\n",
    "plt.subplot(1,2,2)\n",
    "plot_value_array(i, predictions[i],  test_labels)\n",
    "plt.show()"
   ]
  },
  {
   "cell_type": "code",
   "execution_count": null,
   "metadata": {},
   "outputs": [],
   "source": []
  },
  {
   "cell_type": "code",
   "execution_count": null,
   "metadata": {},
   "outputs": [],
   "source": []
  },
  {
   "cell_type": "code",
   "execution_count": null,
   "metadata": {},
   "outputs": [],
   "source": []
  },
  {
   "cell_type": "code",
   "execution_count": null,
   "metadata": {},
   "outputs": [],
   "source": []
  },
  {
   "cell_type": "code",
   "execution_count": null,
   "metadata": {},
   "outputs": [],
   "source": []
  },
  {
   "cell_type": "code",
   "execution_count": null,
   "metadata": {},
   "outputs": [],
   "source": []
  },
  {
   "cell_type": "code",
   "execution_count": null,
   "metadata": {},
   "outputs": [],
   "source": []
  },
  {
   "cell_type": "code",
   "execution_count": null,
   "metadata": {},
   "outputs": [],
   "source": []
  },
  {
   "cell_type": "code",
   "execution_count": null,
   "metadata": {},
   "outputs": [],
   "source": []
  },
  {
   "cell_type": "code",
   "execution_count": null,
   "metadata": {},
   "outputs": [],
   "source": []
  },
  {
   "cell_type": "code",
   "execution_count": null,
   "metadata": {},
   "outputs": [],
   "source": []
  },
  {
   "cell_type": "code",
   "execution_count": 44,
   "metadata": {},
   "outputs": [],
   "source": [
    "from deprecated.metal.nn import NeuralNetwork\n",
    "from deprecated.metal.utils import train_test_split, to_categorical, normalize,standardize\n",
    "from deprecated.metal.utils import get_random_subsets, shuffle_data, Plot\n",
    "from deprecated.metal.utils.data_operation import accuracy_score\n",
    "from deprecated.metal.optimizers import StochasticGradientDescent,Adam\n",
    "from deprecated.metal.loss_functions import CrossEntropy\n",
    "from deprecated.metal.utils.misc import bar_widgets\n",
    "from deprecated.metal.layers.dropout import Dropout\n",
    "\n",
    "from deprecated.metal.layers.batchnormalization_ import BatchNormalization\n",
    "from deprecated.metal.layers.dense import Dense\n",
    "from deprecated.metal.layers.conv2D import Conv2D\n",
    "from deprecated.metal.layers.flatten import Flatten\n",
    "from deprecated.metal.layers.layer import Activation\n",
    "from autograd.tensor import Tensor\n",
    "from autograd.parameter import Parameter\n",
    "from deprecated.metal.models.convnet import ConvNet\n",
    "import h5py"
   ]
  },
  {
   "cell_type": "code",
   "execution_count": 45,
   "metadata": {},
   "outputs": [],
   "source": [
    "from __future__ import print_function\n",
    "from sklearn import datasets\n",
    "import matplotlib.pyplot as plt\n",
    "import math \n",
    "import numpy as np\n",
    "import PIL\n",
    "from PIL import Image\n",
    "import urllib\n",
    "from skimage.transform import resize"
   ]
  },
  {
   "cell_type": "code",
   "execution_count": 68,
   "metadata": {},
   "outputs": [],
   "source": [
    "\n",
    "import numpy as np\n",
    "import scipy.ndimage as ndi\n",
    "\n",
    "def img_tran(imgs_in,size):\n",
    "    factor = size/imgs_in.shape[1]\n",
    "    imgs_out = ndi.zoom(imgs_in, (1, factor, factor, 1), order=2)\n",
    "    print(imgs_out.shape)\n",
    "    return imgs_out"
   ]
  },
  {
   "cell_type": "code",
   "execution_count": 69,
   "metadata": {},
   "outputs": [],
   "source": [
    "# TensorFlow and tf.keras\n",
    "import tensorflow as tf\n",
    "from tensorflow import keras"
   ]
  },
  {
   "cell_type": "code",
   "execution_count": 115,
   "metadata": {},
   "outputs": [],
   "source": [
    "fashion_mnist = keras.datasets.fashion_mnist\n",
    "\n",
    "(X_train, y_train), (_xt, _yt) = fashion_mnist.load_data()\n",
    "\n",
    "X_train = X_train[:10000].reshape(10000, 28, 28, 1)\n",
    "y_train = y_train[:10000]\n",
    "#X_train = img_tran(X_train,12)"
   ]
  },
  {
   "cell_type": "code",
   "execution_count": 116,
   "metadata": {},
   "outputs": [],
   "source": [
    "y_train = to_categorical(y_train.astype(\"int\"))\n"
   ]
  },
  {
   "cell_type": "code",
   "execution_count": 117,
   "metadata": {},
   "outputs": [],
   "source": [
    "X_train, X_test, y_train, y_test = train_test_split(X_train, y_train, test_size = 0.4, seed = 9)\n"
   ]
  },
  {
   "cell_type": "code",
   "execution_count": 118,
   "metadata": {},
   "outputs": [
    {
     "data": {
      "text/plain": [
       "((6000, 28, 28, 1), (4000, 28, 28, 1))"
      ]
     },
     "execution_count": 118,
     "metadata": {},
     "output_type": "execute_result"
    }
   ],
   "source": [
    "X_train.shape,X_test.shape\n"
   ]
  },
  {
   "cell_type": "code",
   "execution_count": 119,
   "metadata": {},
   "outputs": [],
   "source": [
    "\n",
    "optimizer = Adam()\n",
    "loss = CrossEntropy"
   ]
  },
  {
   "cell_type": "code",
   "execution_count": 120,
   "metadata": {},
   "outputs": [],
   "source": [
    "X_train = X_train.reshape((-1,1,28,28))/255.0\n",
    "X_test = X_test.reshape((-1,1,28,28))/255.0\n"
   ]
  },
  {
   "cell_type": "code",
   "execution_count": 121,
   "metadata": {},
   "outputs": [],
   "source": [
    "X_train = Parameter(X_train, requires_grad=True)\n",
    "X_test = Parameter(X_test, requires_grad=True)\n",
    "y_train = Parameter(y_train, requires_grad=True)\n",
    "y_test = Parameter(y_test, requires_grad=True)"
   ]
  },
  {
   "cell_type": "code",
   "execution_count": 122,
   "metadata": {},
   "outputs": [],
   "source": [
    "covnet = ConvNet(optimizer=optimizer, loss=loss,  validation_data=(X_test,y_test))\n"
   ]
  },
  {
   "cell_type": "code",
   "execution_count": 123,
   "metadata": {},
   "outputs": [],
   "source": [
    "#covnet.add(Conv2D(n_filters=16, filter_shape=(3,3), stride=1, input_shape=(1,28,28), padding='same', seed=1)),\n",
    "#covnet.add(Activation('relu'))\n",
    "#covnet.add(Dropout(.25))\n",
    "#covnet.add(BatchNormalization())\n",
    "\n",
    "#covnet.add(Conv2D(n_filters=16, filter_shape=(3,3), stride=1, padding='same', seed=2))\n",
    "covnet.add(Flatten(input_shape=(1,28,28))),\n",
    "#covnet.add(BatchNormalization())\n",
    "covnet.add(Dense(256, seed=4))\n",
    "covnet.add(Activation('relu'))\n",
    "#covnet.add(Dropout(.25))\n",
    "covnet.add(Dense(10,seed=3))\n",
    "covnet.add(Activation('softmax'))"
   ]
  },
  {
   "cell_type": "code",
   "execution_count": 124,
   "metadata": {},
   "outputs": [
    {
     "name": "stderr",
     "output_type": "stream",
     "text": [
      "Training: 100% [------------------------------------------------] Time: 0:00:08\n"
     ]
    }
   ],
   "source": [
    "train_err, val_err = covnet.fit(X_train, y_train, n_epochs=10, batch_size=82)\n"
   ]
  },
  {
   "cell_type": "code",
   "execution_count": 125,
   "metadata": {},
   "outputs": [
    {
     "data": {
      "text/plain": [
       "[0.0,\n",
       " 0.0,\n",
       " 0.0,\n",
       " 0.0,\n",
       " 0.0,\n",
       " 0.0,\n",
       " 0.0,\n",
       " 0.0,\n",
       " 1.0,\n",
       " 0.0,\n",
       " 0.0,\n",
       " 0.0,\n",
       " 0.0,\n",
       " 0.0,\n",
       " 0.0,\n",
       " 0.0,\n",
       " 0.0,\n",
       " 0.0,\n",
       " 1.0,\n",
       " 0.0,\n",
       " 0.0,\n",
       " 0.0,\n",
       " 0.0,\n",
       " 0.0,\n",
       " 0.0,\n",
       " 0.0,\n",
       " 0.0,\n",
       " 0.0,\n",
       " 1.0,\n",
       " 0.0,\n",
       " 0.0,\n",
       " 0.0,\n",
       " 0.0,\n",
       " 0.0,\n",
       " 0.0,\n",
       " 0.0,\n",
       " 0.0,\n",
       " 0.0,\n",
       " 1.0,\n",
       " 0.0,\n",
       " 0.0,\n",
       " 0.0,\n",
       " 0.0,\n",
       " 0.0,\n",
       " 0.0,\n",
       " 0.0,\n",
       " 0.0,\n",
       " 0.0,\n",
       " 1.0,\n",
       " 0.0,\n",
       " 0.0,\n",
       " 0.0,\n",
       " 0.0,\n",
       " 0.0,\n",
       " 0.0,\n",
       " 0.0,\n",
       " 0.0,\n",
       " 0.0,\n",
       " 1.0,\n",
       " 0.0,\n",
       " 0.0,\n",
       " 0.0,\n",
       " 0.0,\n",
       " 0.0,\n",
       " 0.0,\n",
       " 0.0,\n",
       " 0.0,\n",
       " 0.0,\n",
       " 1.0,\n",
       " 0.0,\n",
       " 0.0,\n",
       " 0.0,\n",
       " 0.0,\n",
       " 0.0,\n",
       " 0.0,\n",
       " 0.0,\n",
       " 0.0,\n",
       " 0.0,\n",
       " 1.0,\n",
       " 0.0,\n",
       " 0.0,\n",
       " 0.0,\n",
       " 0.0,\n",
       " 0.0,\n",
       " 3.5925473089692657e-16,\n",
       " 1.0417533043483555e-40,\n",
       " 0.0,\n",
       " 0.0,\n",
       " 1.0,\n",
       " 0.0,\n",
       " 0.0,\n",
       " 0.0,\n",
       " 0.0,\n",
       " 0.0,\n",
       " 3.650256623683927e-27,\n",
       " 0.0,\n",
       " 0.0,\n",
       " 0.0,\n",
       " 1.0,\n",
       " 0.0,\n",
       " 0.0,\n",
       " 0.0,\n",
       " 0.0,\n",
       " 0.0,\n",
       " 0.0,\n",
       " 0.0,\n",
       " 0.0,\n",
       " 0.0,\n",
       " 1.0,\n",
       " 0.0,\n",
       " 0.0,\n",
       " 0.0,\n",
       " 0.0,\n",
       " 0.0,\n",
       " 6.096549811768538e-32,\n",
       " 0.0,\n",
       " 0.0,\n",
       " 0.0,\n",
       " 1.0,\n",
       " 0.0,\n",
       " 0.0,\n",
       " 0.0,\n",
       " 0.0,\n",
       " 0.0,\n",
       " 4.161262288495833e-39,\n",
       " 0.0,\n",
       " 0.0,\n",
       " 0.0,\n",
       " 1.0,\n",
       " 0.0,\n",
       " 0.0,\n",
       " 0.0,\n",
       " 0.0,\n",
       " 0.0,\n",
       " 0.0,\n",
       " 0.0,\n",
       " 0.0,\n",
       " 0.0,\n",
       " 1.0,\n",
       " 0.0,\n",
       " 0.0,\n",
       " 0.0,\n",
       " 0.0,\n",
       " 0.0,\n",
       " 0.0,\n",
       " 0.0,\n",
       " 0.0,\n",
       " 0.0,\n",
       " 1.0,\n",
       " 0.0,\n",
       " 0.0,\n",
       " 0.0,\n",
       " 0.0,\n",
       " 0.0,\n",
       " 0.0,\n",
       " 0.0,\n",
       " 0.0,\n",
       " 0.0,\n",
       " 1.0,\n",
       " 0.0,\n",
       " 0.0,\n",
       " 0.0,\n",
       " 0.0,\n",
       " 0.0,\n",
       " 0.0,\n",
       " 0.0,\n",
       " 0.0,\n",
       " 0.0,\n",
       " 1.0,\n",
       " 0.0,\n",
       " 0.0,\n",
       " 0.0,\n",
       " 0.0,\n",
       " 0.0,\n",
       " 0.0,\n",
       " 0.0,\n",
       " 0.0,\n",
       " 0.0,\n",
       " 1.0,\n",
       " 0.0,\n",
       " 0.0,\n",
       " 0.0,\n",
       " 0.0,\n",
       " 0.0,\n",
       " 0.0,\n",
       " 0.0,\n",
       " 0.0,\n",
       " 0.0,\n",
       " 1.0,\n",
       " 0.0,\n",
       " 0.0,\n",
       " 0.0,\n",
       " 0.0,\n",
       " 0.0,\n",
       " 0.0,\n",
       " 0.0,\n",
       " 0.0,\n",
       " 0.0,\n",
       " 1.0,\n",
       " 0.0,\n",
       " 0.0,\n",
       " 0.0,\n",
       " 0.0,\n",
       " 0.0,\n",
       " 0.0,\n",
       " 0.0,\n",
       " 0.0,\n",
       " 0.0,\n",
       " 1.0,\n",
       " 0.0,\n",
       " 0.0,\n",
       " 0.0,\n",
       " 0.0,\n",
       " 0.0,\n",
       " 1.6134970907775241e-40,\n",
       " 0.0,\n",
       " 0.0,\n",
       " 0.0,\n",
       " 1.0,\n",
       " 0.0,\n",
       " 0.0,\n",
       " 0.0,\n",
       " 0.0,\n",
       " 0.0,\n",
       " 3.783505853677006e-44,\n",
       " 0.0,\n",
       " 0.0,\n",
       " 0.0,\n",
       " 1.0,\n",
       " 0.0,\n",
       " 0.0,\n",
       " 0.0,\n",
       " 0.0,\n",
       " 0.0,\n",
       " 0.0,\n",
       " 0.0,\n",
       " 0.0,\n",
       " 0.0,\n",
       " 1.0,\n",
       " 0.0,\n",
       " 0.0,\n",
       " 0.0,\n",
       " 0.0,\n",
       " 0.0,\n",
       " 0.0,\n",
       " 0.0,\n",
       " 0.0,\n",
       " 0.0,\n",
       " 1.0,\n",
       " 0.0,\n",
       " 0.0,\n",
       " 0.0,\n",
       " 0.0,\n",
       " 0.0,\n",
       " 0.0,\n",
       " 0.0,\n",
       " 0.0,\n",
       " 0.0,\n",
       " 1.0,\n",
       " 0.0,\n",
       " 0.0,\n",
       " 0.0,\n",
       " 0.0,\n",
       " 0.0,\n",
       " 0.0,\n",
       " 0.0,\n",
       " 0.0,\n",
       " 0.0,\n",
       " 1.0,\n",
       " 0.0,\n",
       " 0.0,\n",
       " 0.0,\n",
       " 0.0,\n",
       " 0.0,\n",
       " 0.0,\n",
       " 0.0,\n",
       " 0.0,\n",
       " 0.0,\n",
       " 1.0,\n",
       " 0.0,\n",
       " 0.0,\n",
       " 0.0,\n",
       " 0.0,\n",
       " 0.0,\n",
       " 0.0,\n",
       " 0.0,\n",
       " 0.0,\n",
       " 0.0,\n",
       " 1.0,\n",
       " 0.0,\n",
       " 0.0,\n",
       " 0.0,\n",
       " 0.0,\n",
       " 0.0,\n",
       " 0.0,\n",
       " 0.0,\n",
       " 0.0,\n",
       " 0.0,\n",
       " 1.0,\n",
       " 0.0,\n",
       " 0.0,\n",
       " 0.0,\n",
       " 0.0,\n",
       " 0.0,\n",
       " 0.0,\n",
       " 0.0,\n",
       " 0.0,\n",
       " 0.0,\n",
       " 1.0,\n",
       " 0.0,\n",
       " 0.0,\n",
       " 0.0,\n",
       " 0.0,\n",
       " 0.0,\n",
       " 0.0,\n",
       " 0.0,\n",
       " 0.0,\n",
       " 0.0,\n",
       " 1.0,\n",
       " 0.0,\n",
       " 0.0,\n",
       " 0.0,\n",
       " 0.0,\n",
       " 0.0,\n",
       " 0.0,\n",
       " 0.0,\n",
       " 0.0,\n",
       " 0.0,\n",
       " 1.0,\n",
       " 0.0,\n",
       " 0.0,\n",
       " 0.0,\n",
       " 0.0,\n",
       " 0.0,\n",
       " 0.0,\n",
       " 0.0,\n",
       " 0.0,\n",
       " 0.0,\n",
       " 1.0,\n",
       " 0.0,\n",
       " 0.0,\n",
       " 0.0,\n",
       " 0.0,\n",
       " 0.0,\n",
       " 0.0,\n",
       " 0.0,\n",
       " 0.0,\n",
       " 0.0,\n",
       " 1.0,\n",
       " 0.0,\n",
       " 0.0,\n",
       " 0.0,\n",
       " 0.0,\n",
       " 0.0,\n",
       " 0.0,\n",
       " 0.0,\n",
       " 0.0,\n",
       " 0.0,\n",
       " 1.0,\n",
       " 0.0,\n",
       " 0.0,\n",
       " 0.0,\n",
       " 0.0,\n",
       " 0.0,\n",
       " 3.771801764556917e-30,\n",
       " 0.0,\n",
       " 0.0,\n",
       " 0.0,\n",
       " 1.0,\n",
       " 0.0,\n",
       " 0.0,\n",
       " 0.0,\n",
       " 0.0,\n",
       " 0.0,\n",
       " 1.0467402056235642e-08,\n",
       " 8.782912488364084e-33,\n",
       " 0.0,\n",
       " 0.0,\n",
       " 1.0,\n",
       " 0.0,\n",
       " 0.0,\n",
       " 0.0,\n",
       " 0.0,\n",
       " 0.0,\n",
       " 2.823262612952882e-34,\n",
       " 0.0,\n",
       " 0.0,\n",
       " 0.0,\n",
       " 1.0,\n",
       " 0.0,\n",
       " 0.0,\n",
       " 0.0,\n",
       " 0.0,\n",
       " 0.0,\n",
       " 0.0,\n",
       " 0.0,\n",
       " 0.0,\n",
       " 0.0,\n",
       " 1.0,\n",
       " 0.0,\n",
       " 0.0,\n",
       " 0.0,\n",
       " 0.0,\n",
       " 0.0,\n",
       " 0.0,\n",
       " 0.0,\n",
       " 0.0,\n",
       " 0.0,\n",
       " 1.0,\n",
       " 0.0,\n",
       " 0.0,\n",
       " 0.0,\n",
       " 0.0,\n",
       " 0.0,\n",
       " 0.0,\n",
       " 0.0,\n",
       " 0.0,\n",
       " 0.0,\n",
       " 1.0,\n",
       " 0.0,\n",
       " 0.0,\n",
       " 0.0,\n",
       " 0.0,\n",
       " 0.0,\n",
       " 0.0,\n",
       " 0.0,\n",
       " 0.0,\n",
       " 0.0,\n",
       " 1.0,\n",
       " 0.0,\n",
       " 0.0,\n",
       " 0.0,\n",
       " 0.0,\n",
       " 0.0,\n",
       " 0.0,\n",
       " 0.0,\n",
       " 0.0,\n",
       " 0.0,\n",
       " 1.0,\n",
       " 0.0,\n",
       " 0.0,\n",
       " 0.0,\n",
       " 0.0,\n",
       " 0.0,\n",
       " 0.0,\n",
       " 0.0,\n",
       " 0.0,\n",
       " 0.0,\n",
       " 1.0,\n",
       " 0.0,\n",
       " 0.0,\n",
       " 0.0,\n",
       " 0.0,\n",
       " 0.0,\n",
       " 0.0,\n",
       " 0.0,\n",
       " 0.0,\n",
       " 0.0,\n",
       " 1.0,\n",
       " 0.0,\n",
       " 0.0,\n",
       " 0.0,\n",
       " 0.0,\n",
       " 0.0,\n",
       " 0.0,\n",
       " 0.0,\n",
       " 0.0,\n",
       " 0.0,\n",
       " 1.0,\n",
       " 0.0,\n",
       " 0.0,\n",
       " 0.0,\n",
       " 0.0,\n",
       " 0.0,\n",
       " 0.0,\n",
       " 0.0,\n",
       " 0.0,\n",
       " 0.0,\n",
       " 1.0,\n",
       " 0.0,\n",
       " 0.0,\n",
       " 0.0,\n",
       " 0.0,\n",
       " 0.0,\n",
       " 0.0,\n",
       " 0.0,\n",
       " 0.0,\n",
       " 0.0,\n",
       " 1.0,\n",
       " 0.0,\n",
       " 0.0,\n",
       " 0.0,\n",
       " 0.0,\n",
       " 0.0,\n",
       " 0.0,\n",
       " 0.0,\n",
       " 0.0,\n",
       " 0.0,\n",
       " 1.0,\n",
       " 0.0,\n",
       " 0.0,\n",
       " 0.0,\n",
       " 0.0,\n",
       " 0.0,\n",
       " 0.0,\n",
       " 0.0,\n",
       " 0.0,\n",
       " 0.0,\n",
       " 1.0,\n",
       " 0.0,\n",
       " 0.0,\n",
       " 0.0,\n",
       " 0.0,\n",
       " 0.0,\n",
       " 0.0,\n",
       " 0.0,\n",
       " 0.0,\n",
       " 0.0,\n",
       " 1.0,\n",
       " 0.0,\n",
       " 0.0,\n",
       " 0.0,\n",
       " 0.0,\n",
       " 0.0,\n",
       " 1.8795288676126676e-12,\n",
       " 9.257121786836173e-34,\n",
       " 0.0,\n",
       " 0.0,\n",
       " 1.0,\n",
       " 0.0,\n",
       " 0.0,\n",
       " 0.0,\n",
       " 0.0,\n",
       " 0.0,\n",
       " 0.0,\n",
       " 0.0,\n",
       " 0.0,\n",
       " 0.0,\n",
       " 1.0,\n",
       " 0.0,\n",
       " 0.0,\n",
       " 0.0,\n",
       " 0.0,\n",
       " 0.0,\n",
       " 0.0,\n",
       " 0.0,\n",
       " 0.0,\n",
       " 0.0,\n",
       " 1.0,\n",
       " 0.0,\n",
       " 0.0,\n",
       " 0.0,\n",
       " 0.0,\n",
       " 0.0,\n",
       " 0.0,\n",
       " 0.0,\n",
       " 0.0,\n",
       " 0.0,\n",
       " 1.0,\n",
       " 0.0,\n",
       " 0.0,\n",
       " 0.0,\n",
       " 0.0,\n",
       " 0.0,\n",
       " 0.0,\n",
       " 0.0,\n",
       " 0.0,\n",
       " 0.0,\n",
       " 1.0,\n",
       " 0.0,\n",
       " 0.0,\n",
       " 0.0,\n",
       " 0.0,\n",
       " 0.0,\n",
       " 0.0,\n",
       " 0.0,\n",
       " 0.0,\n",
       " 0.0,\n",
       " 1.0,\n",
       " 0.0,\n",
       " 0.0,\n",
       " 0.0,\n",
       " 0.0,\n",
       " 0.0,\n",
       " 0.0,\n",
       " 0.0,\n",
       " 0.0,\n",
       " 0.0,\n",
       " 1.0,\n",
       " 0.0,\n",
       " 0.0,\n",
       " 0.0,\n",
       " 0.0,\n",
       " 0.0,\n",
       " 0.0,\n",
       " 0.0,\n",
       " 0.0,\n",
       " 0.0,\n",
       " 1.0,\n",
       " 0.0,\n",
       " 0.0,\n",
       " 0.0,\n",
       " 0.0,\n",
       " 0.0,\n",
       " 4.030726386134531e-17,\n",
       " 0.0,\n",
       " 0.0,\n",
       " 0.0,\n",
       " 1.0,\n",
       " 0.0,\n",
       " 0.0,\n",
       " 0.0,\n",
       " 0.0,\n",
       " 0.0,\n",
       " 1.3032075718220799e-43,\n",
       " 0.0,\n",
       " 0.0,\n",
       " 0.0,\n",
       " 1.0,\n",
       " 0.0,\n",
       " 0.0,\n",
       " 0.0,\n",
       " 0.0,\n",
       " 0.0,\n",
       " 0.0,\n",
       " 0.0,\n",
       " 0.0,\n",
       " 0.0,\n",
       " 1.0,\n",
       " 0.0,\n",
       " 0.0,\n",
       " 0.0,\n",
       " 0.0,\n",
       " 0.0,\n",
       " 4.3036224642798156e-23,\n",
       " 0.0,\n",
       " 0.0,\n",
       " 0.0,\n",
       " 1.0,\n",
       " 0.0,\n",
       " 0.0,\n",
       " 0.0,\n",
       " 0.0,\n",
       " 0.0,\n",
       " 0.0,\n",
       " 0.0,\n",
       " 0.0,\n",
       " 0.0,\n",
       " 1.0,\n",
       " 0.0,\n",
       " 0.0,\n",
       " 0.0,\n",
       " 0.0,\n",
       " 0.0,\n",
       " 0.0,\n",
       " 0.0,\n",
       " 0.0,\n",
       " 0.0,\n",
       " 1.0,\n",
       " 0.0,\n",
       " 0.0,\n",
       " 0.0,\n",
       " 0.0,\n",
       " 0.0,\n",
       " 0.0,\n",
       " 0.0,\n",
       " 0.0,\n",
       " 0.0,\n",
       " 1.0,\n",
       " 0.0,\n",
       " 0.0,\n",
       " 0.0,\n",
       " 0.0,\n",
       " 0.0,\n",
       " 0.0,\n",
       " 0.0,\n",
       " 0.0,\n",
       " 0.0,\n",
       " 1.0,\n",
       " 0.0,\n",
       " 0.0,\n",
       " 0.0,\n",
       " 0.0,\n",
       " 0.0,\n",
       " 7.376015287185925e-38,\n",
       " 0.0,\n",
       " 0.0,\n",
       " 0.0,\n",
       " 1.0,\n",
       " 0.0,\n",
       " 0.0,\n",
       " 0.0,\n",
       " 0.0,\n",
       " 0.0,\n",
       " 0.0,\n",
       " 0.0,\n",
       " 0.0,\n",
       " 0.0,\n",
       " 1.0,\n",
       " 0.0,\n",
       " 0.0,\n",
       " 0.0,\n",
       " 0.0,\n",
       " 0.0,\n",
       " 2.9578336485818217e-23,\n",
       " 0.0,\n",
       " 0.0,\n",
       " 0.0,\n",
       " 1.0,\n",
       " 0.0,\n",
       " 0.0,\n",
       " 0.0,\n",
       " 0.0,\n",
       " 0.0,\n",
       " 0.0,\n",
       " 0.0,\n",
       " 0.0,\n",
       " 0.0,\n",
       " 1.0,\n",
       " 0.0,\n",
       " 0.0,\n",
       " 0.0,\n",
       " 0.0,\n",
       " 0.0,\n",
       " 0.0,\n",
       " 0.0,\n",
       " 0.0,\n",
       " 0.0,\n",
       " 1.0,\n",
       " 0.0,\n",
       " 0.0,\n",
       " 0.0,\n",
       " 0.0,\n",
       " 0.0,\n",
       " 0.0,\n",
       " 0.0,\n",
       " 0.0,\n",
       " 0.0,\n",
       " 1.0,\n",
       " 0.0,\n",
       " 0.0,\n",
       " 0.0,\n",
       " 0.0,\n",
       " 0.0,\n",
       " 0.0,\n",
       " 0.0,\n",
       " 0.0,\n",
       " 0.0,\n",
       " 1.0,\n",
       " 0.0,\n",
       " 0.0,\n",
       " 0.0,\n",
       " 0.0,\n",
       " 0.0,\n",
       " 0.0,\n",
       " 0.0,\n",
       " 0.0,\n",
       " 0.0,\n",
       " 1.0,\n",
       " 0.0,\n",
       " 0.0,\n",
       " 0.0,\n",
       " 0.0,\n",
       " 0.0,\n",
       " 0.0,\n",
       " 0.0,\n",
       " 0.0,\n",
       " 0.0,\n",
       " 1.0,\n",
       " 0.0,\n",
       " 0.0,\n",
       " 0.0,\n",
       " 0.0,\n",
       " 0.0,\n",
       " 0.0,\n",
       " 0.0,\n",
       " 0.0,\n",
       " 0.0,\n",
       " 1.0,\n",
       " 0.0,\n",
       " 0.0,\n",
       " 0.0,\n",
       " 0.0,\n",
       " 0.0,\n",
       " 0.0,\n",
       " 0.0,\n",
       " 0.0,\n",
       " 0.0,\n",
       " 1.0,\n",
       " 0.0,\n",
       " 0.0,\n",
       " 0.0,\n",
       " 0.0,\n",
       " 0.0,\n",
       " 0.0,\n",
       " 0.0,\n",
       " 0.0,\n",
       " 0.0,\n",
       " 1.0,\n",
       " 0.0,\n",
       " 0.0,\n",
       " 0.0,\n",
       " 0.0,\n",
       " 0.0,\n",
       " 0.0,\n",
       " 0.0,\n",
       " 0.0,\n",
       " 0.0,\n",
       " 1.0,\n",
       " 0.0,\n",
       " 0.0,\n",
       " 0.0,\n",
       " 0.0,\n",
       " 0.0,\n",
       " 0.0,\n",
       " 0.0,\n",
       " 0.0,\n",
       " 0.0,\n",
       " 1.0,\n",
       " 0.0,\n",
       " 0.0,\n",
       " 0.0,\n",
       " 0.0,\n",
       " 0.0,\n",
       " 0.0,\n",
       " 0.0,\n",
       " 0.0,\n",
       " 0.0,\n",
       " 1.0,\n",
       " 0.0,\n",
       " 0.0,\n",
       " 0.0,\n",
       " 0.0,\n",
       " 0.0,\n",
       " 0.0,\n",
       " 0.0,\n",
       " 0.0,\n",
       " 0.0,\n",
       " 1.0,\n",
       " 0.0,\n",
       " 0.0,\n",
       " 0.0,\n",
       " 0.0,\n",
       " 0.0,\n",
       " 7.187781923264561e-28,\n",
       " 0.0,\n",
       " 0.0,\n",
       " 0.0,\n",
       " 1.0,\n",
       " 0.0,\n",
       " 0.0,\n",
       " 0.0,\n",
       " 0.0,\n",
       " 0.0,\n",
       " 0.0,\n",
       " 0.0,\n",
       " 0.0,\n",
       " 0.0,\n",
       " 1.0,\n",
       " 0.0,\n",
       " 0.0,\n",
       " 0.0,\n",
       " 0.0,\n",
       " 0.0,\n",
       " 0.0,\n",
       " 0.0,\n",
       " 0.0,\n",
       " 0.0,\n",
       " 1.0,\n",
       " 0.0,\n",
       " 0.0,\n",
       " 0.0,\n",
       " 0.0,\n",
       " 0.0,\n",
       " 0.0,\n",
       " 0.0,\n",
       " 0.0,\n",
       " 0.0,\n",
       " 1.0,\n",
       " 0.0,\n",
       " 0.0,\n",
       " 0.0,\n",
       " 0.0,\n",
       " 0.0,\n",
       " 0.0,\n",
       " 0.0,\n",
       " 0.0,\n",
       " 0.0,\n",
       " 1.0,\n",
       " 0.0,\n",
       " 0.0,\n",
       " 0.0,\n",
       " 0.0,\n",
       " 0.0,\n",
       " 0.0,\n",
       " 0.0,\n",
       " 0.0,\n",
       " 0.0,\n",
       " 1.0,\n",
       " 0.0,\n",
       " 0.0,\n",
       " 0.0,\n",
       " 0.0,\n",
       " 0.0,\n",
       " 7.187781923264561e-28,\n",
       " 0.0,\n",
       " 0.0,\n",
       " 0.0,\n",
       " 1.0,\n",
       " 0.0,\n",
       " 0.0,\n",
       " 0.0,\n",
       " 0.0,\n",
       " 0.0,\n",
       " 0.0,\n",
       " 0.0,\n",
       " 0.0,\n",
       " 0.0,\n",
       " 1.0,\n",
       " 0.0,\n",
       " 0.0,\n",
       " 0.0,\n",
       " 0.0,\n",
       " 0.0,\n",
       " 0.0,\n",
       " 0.0,\n",
       " 0.0,\n",
       " 0.0,\n",
       " 1.0,\n",
       " 0.0,\n",
       " 0.0,\n",
       " 0.0,\n",
       " 0.0,\n",
       " 0.0,\n",
       " 0.0,\n",
       " 0.0,\n",
       " 0.0,\n",
       " 0.0,\n",
       " 1.0,\n",
       " 0.0,\n",
       " 0.0,\n",
       " 0.0,\n",
       " 0.0,\n",
       " 0.0,\n",
       " 0.0,\n",
       " 0.0,\n",
       " 0.0,\n",
       " 0.0,\n",
       " 1.0,\n",
       " 0.0,\n",
       " 0.0,\n",
       " 0.0,\n",
       " 0.0,\n",
       " 0.0,\n",
       " 0.0,\n",
       " 0.0,\n",
       " 0.0,\n",
       " 0.0,\n",
       " 1.0,\n",
       " 0.0,\n",
       " 0.0,\n",
       " 0.0,\n",
       " 0.0,\n",
       " 0.0,\n",
       " 0.0,\n",
       " 0.0,\n",
       " 0.0,\n",
       " 0.0,\n",
       " 1.0,\n",
       " 0.0,\n",
       " 0.0,\n",
       " 0.0,\n",
       " 0.0,\n",
       " 0.0,\n",
       " 0.0,\n",
       " 0.0,\n",
       " 0.0,\n",
       " 0.0,\n",
       " 1.0,\n",
       " 0.0,\n",
       " 0.0,\n",
       " 0.0,\n",
       " 0.0,\n",
       " 0.0,\n",
       " 0.0,\n",
       " 0.0,\n",
       " 0.0,\n",
       " 0.0,\n",
       " 1.0,\n",
       " 0.0,\n",
       " 0.0,\n",
       " 0.0,\n",
       " 0.0,\n",
       " 0.0,\n",
       " 0.0,\n",
       " 0.0,\n",
       " 0.0,\n",
       " 0.0,\n",
       " 1.0,\n",
       " 0.0,\n",
       " ...]"
      ]
     },
     "execution_count": 125,
     "metadata": {},
     "output_type": "execute_result"
    }
   ],
   "source": [
    "#print(xt[-100:][55].shape)\n",
    "vv_=Parameter(_xt.reshape(-1,1, 28, 28),False)\n",
    "#vvv = imgs_trans(vv,12)\n",
    "#predictions = nn.predict(vvv)\n",
    "ooo_ = covnet._forward_pass(vv_,False)\n",
    "list_pred_ = ooo_.data.flatten().tolist()\n",
    "list_pred_.index(max(list_pred_))\n",
    "list_pred_"
   ]
  },
  {
   "cell_type": "code",
   "execution_count": 16,
   "metadata": {},
   "outputs": [],
   "source": [
    "imgs = np.load('../../../downloads/catdog.npy',allow_pickle=True)\n",
    "labels = np.load('../../../downloads/catdoglabels.npy',allow_pickle=True)"
   ]
  },
  {
   "cell_type": "code",
   "execution_count": 17,
   "metadata": {},
   "outputs": [],
   "source": [
    "X = imgs\n",
    "y = labels"
   ]
  },
  {
   "cell_type": "code",
   "execution_count": 18,
   "metadata": {},
   "outputs": [
    {
     "data": {
      "text/plain": [
       "(1, 224, 224, 3)"
      ]
     },
     "execution_count": 18,
     "metadata": {},
     "output_type": "execute_result"
    }
   ],
   "source": [
    "X[:1].shape"
   ]
  },
  {
   "cell_type": "code",
   "execution_count": 19,
   "metadata": {},
   "outputs": [],
   "source": [
    "X_train = Parameter(X[:400].reshape(400,3, 224, 224), requires_grad=True)\n"
   ]
  },
  {
   "cell_type": "code",
   "execution_count": 20,
   "metadata": {},
   "outputs": [],
   "source": [
    "def conv_forward_strides(x, w, b, conv_param):\n",
    "    N, C, H, W = x.shape\n",
    "    F, _, HH, WW = w.shape\n",
    "    stride, pad = conv_param['stride'], conv_param['pad']\n",
    "\n",
    "    # Check dimensions\n",
    "    #assert (W + 2 * pad - WW) % stride == 0, 'width does not work'\n",
    "    #assert (H + 2 * pad - HH) % stride == 0, 'height does not work'\n",
    "\n",
    "    # Pad the input\n",
    "    p = pad\n",
    "    x_padded = np.pad(x, ((0, 0), (0, 0), (p, p), (p, p)), mode='constant')\n",
    "\n",
    "    # Figure out output dimensions\n",
    "    H += 2 * pad\n",
    "    W += 2 * pad\n",
    "    out_h = (H - HH) // stride + 1\n",
    "    out_w = (W - WW) // stride + 1\n",
    "\n",
    "    # Perform an im2col operation by picking clever strides\n",
    "    shape = (C, HH, WW, N, out_h, out_w)\n",
    "    strides = (H * W, W, 1, C * H * W, stride * W, stride)\n",
    "    strides = x.itemsize * np.array(strides)\n",
    "    x_stride = np.lib.stride_tricks.as_strided(x_padded,\n",
    "                  shape=shape, strides=strides)\n",
    "    x_cols = np.ascontiguousarray(x_stride)\n",
    "    x_cols.shape = (C * HH * WW, N * out_h * out_w)\n",
    "\n",
    "    # Now all our convolutions are a big matrix multiply\n",
    "    res = w.reshape(F, -1).dot(x_cols) + b.reshape(-1, 1)\n",
    "\n",
    "    # Reshape the output\n",
    "    res.shape = (F, N, out_h, out_w)\n",
    "    out = res.transpose(1, 0, 2, 3)\n",
    "\n",
    "    # Be nice and return a contiguous array\n",
    "    # The old version of conv_forward_fast doesn't do this, so for a fair\n",
    "    # comparison we won't either\n",
    "    out = np.ascontiguousarray(out)\n",
    "\n",
    "    cache = (x, w, b, conv_param, x_cols)\n",
    "    return out, cache\n",
    "\n",
    "def relu_forward(x):\n",
    "    \"\"\"\n",
    "    Computes the forward pass for a layer of rectified linear units (ReLUs).\n",
    "\n",
    "    Input:\n",
    "    - x: Inputs, of any shape\n",
    "\n",
    "    Returns a tuple of:\n",
    "    - out: Output, of the same shape as x\n",
    "    - cache: x\n",
    "    \"\"\"\n",
    "    outt = None\n",
    "    ###########################################################################\n",
    "    # TODO: Implement the ReLU forward pass.                                  #\n",
    "    ###########################################################################\n",
    "    # *****START OF YOUR CODE (DO NOT DELETE/MODIFY THIS LINE)*****\n",
    "    out = x\n",
    "    out[out<0] = 0\n",
    "    pass\n",
    "\n",
    "    # *****END OF YOUR CODE (DO NOT DELETE/MODIFY THIS LINE)*****\n",
    "    ###########################################################################\n",
    "    #                             END OF YOUR CODE                            #\n",
    "    ###########################################################################\n",
    "    cache = x\n",
    "    return out, cache\n"
   ]
  },
  {
   "cell_type": "code",
   "execution_count": 21,
   "metadata": {},
   "outputs": [],
   "source": [
    "input_dim=(3, 224, 224)\n",
    "num_filters=32\n",
    "filter_size=7\n",
    "hidden_dim=100 \n",
    "num_classes=10\n",
    "weight_scale=1e-3\n",
    "C, H, W = input_dim\n",
    "\n",
    "w_ =  weight_scale *np.random.randn(num_filters, C, filter_size, filter_size)\n",
    "b =np.zeros(num_filters)\n",
    "conv_param = {'stride': 1, 'pad': (filter_size - 1) // 2}\n"
   ]
  },
  {
   "cell_type": "code",
   "execution_count": 22,
   "metadata": {},
   "outputs": [
    {
     "ename": "ValueError",
     "evalue": "cannot reshape array of size 60211200 into shape (1,3,224,224)",
     "output_type": "error",
     "traceback": [
      "\u001b[0;31m---------------------------------------------------------------------------\u001b[0m",
      "\u001b[0;31mValueError\u001b[0m                                Traceback (most recent call last)",
      "\u001b[0;32m<ipython-input-22-42c6a09efd95>\u001b[0m in \u001b[0;36m<module>\u001b[0;34m\u001b[0m\n\u001b[0;32m----> 1\u001b[0;31m \u001b[0mx\u001b[0m \u001b[0;34m=\u001b[0m \u001b[0mX_train\u001b[0m\u001b[0;34m.\u001b[0m\u001b[0mdata\u001b[0m\u001b[0;34m.\u001b[0m\u001b[0mreshape\u001b[0m\u001b[0;34m(\u001b[0m\u001b[0;36m1\u001b[0m\u001b[0;34m,\u001b[0m\u001b[0;36m3\u001b[0m\u001b[0;34m,\u001b[0m\u001b[0;36m224\u001b[0m\u001b[0;34m,\u001b[0m\u001b[0;36m224\u001b[0m\u001b[0;34m)\u001b[0m\u001b[0;34m\u001b[0m\u001b[0;34m\u001b[0m\u001b[0m\n\u001b[0m",
      "\u001b[0;31mValueError\u001b[0m: cannot reshape array of size 60211200 into shape (1,3,224,224)"
     ]
    }
   ],
   "source": [
    "x = X_train.data.reshape(1,3,224,224)"
   ]
  },
  {
   "cell_type": "code",
   "execution_count": 23,
   "metadata": {},
   "outputs": [
    {
     "ename": "NameError",
     "evalue": "name 'x' is not defined",
     "output_type": "error",
     "traceback": [
      "\u001b[0;31m---------------------------------------------------------------------------\u001b[0m",
      "\u001b[0;31mNameError\u001b[0m                                 Traceback (most recent call last)",
      "\u001b[0;32m<ipython-input-23-16ef6c9f21f2>\u001b[0m in \u001b[0;36m<module>\u001b[0;34m\u001b[0m\n\u001b[0;32m----> 1\u001b[0;31m \u001b[0mout_\u001b[0m\u001b[0;34m,\u001b[0m\u001b[0m_\u001b[0m \u001b[0;34m=\u001b[0m \u001b[0mconv_forward_strides\u001b[0m\u001b[0;34m(\u001b[0m\u001b[0mx\u001b[0m\u001b[0;34m,\u001b[0m \u001b[0mw_\u001b[0m\u001b[0;34m,\u001b[0m \u001b[0mb\u001b[0m\u001b[0;34m,\u001b[0m \u001b[0mconv_param\u001b[0m\u001b[0;34m)\u001b[0m\u001b[0;34m\u001b[0m\u001b[0;34m\u001b[0m\u001b[0m\n\u001b[0m\u001b[1;32m      2\u001b[0m \u001b[0mout\u001b[0m \u001b[0;34m=\u001b[0m  \u001b[0mrelu_forward\u001b[0m\u001b[0;34m(\u001b[0m\u001b[0mout_\u001b[0m\u001b[0;34m)\u001b[0m\u001b[0;34m\u001b[0m\u001b[0;34m\u001b[0m\u001b[0m\n",
      "\u001b[0;31mNameError\u001b[0m: name 'x' is not defined"
     ]
    }
   ],
   "source": [
    "out_,_ = conv_forward_strides(x, w_, b, conv_param)\n",
    "out =  relu_forward(out_)"
   ]
  },
  {
   "cell_type": "code",
   "execution_count": 24,
   "metadata": {},
   "outputs": [
    {
     "ename": "NameError",
     "evalue": "name 'out' is not defined",
     "output_type": "error",
     "traceback": [
      "\u001b[0;31m---------------------------------------------------------------------------\u001b[0m",
      "\u001b[0;31mNameError\u001b[0m                                 Traceback (most recent call last)",
      "\u001b[0;32m<ipython-input-24-b9f1f5548951>\u001b[0m in \u001b[0;36m<module>\u001b[0;34m\u001b[0m\n\u001b[0;32m----> 1\u001b[0;31m \u001b[0moutt\u001b[0m \u001b[0;34m=\u001b[0m \u001b[0mout\u001b[0m\u001b[0;34m[\u001b[0m\u001b[0;36m0\u001b[0m\u001b[0;34m]\u001b[0m\u001b[0;34m\u001b[0m\u001b[0;34m\u001b[0m\u001b[0m\n\u001b[0m\u001b[1;32m      2\u001b[0m \u001b[0moutt\u001b[0m\u001b[0;34m.\u001b[0m\u001b[0mshape\u001b[0m\u001b[0;34m\u001b[0m\u001b[0;34m\u001b[0m\u001b[0m\n",
      "\u001b[0;31mNameError\u001b[0m: name 'out' is not defined"
     ]
    }
   ],
   "source": [
    "outt = out[0]\n",
    "outt.shape"
   ]
  },
  {
   "cell_type": "code",
   "execution_count": 25,
   "metadata": {},
   "outputs": [
    {
     "ename": "NameError",
     "evalue": "name 'outt' is not defined",
     "output_type": "error",
     "traceback": [
      "\u001b[0;31m---------------------------------------------------------------------------\u001b[0m",
      "\u001b[0;31mNameError\u001b[0m                                 Traceback (most recent call last)",
      "\u001b[0;32m<ipython-input-25-39ec3f5c277d>\u001b[0m in \u001b[0;36m<module>\u001b[0;34m\u001b[0m\n\u001b[0;32m----> 1\u001b[0;31m \u001b[0mplt\u001b[0m\u001b[0;34m.\u001b[0m\u001b[0mimshow\u001b[0m\u001b[0;34m(\u001b[0m\u001b[0moutt\u001b[0m\u001b[0;34m[\u001b[0m\u001b[0;36m0\u001b[0m\u001b[0;34m]\u001b[0m\u001b[0;34m.\u001b[0m\u001b[0mreshape\u001b[0m\u001b[0;34m(\u001b[0m\u001b[0;36m32\u001b[0m\u001b[0;34m,\u001b[0m \u001b[0;36m224\u001b[0m\u001b[0;34m,\u001b[0m\u001b[0;36m224\u001b[0m\u001b[0;34m)\u001b[0m\u001b[0;34m[\u001b[0m\u001b[0;36m0\u001b[0m\u001b[0;34m]\u001b[0m\u001b[0;34m)\u001b[0m\u001b[0;34m\u001b[0m\u001b[0;34m\u001b[0m\u001b[0m\n\u001b[0m",
      "\u001b[0;31mNameError\u001b[0m: name 'outt' is not defined"
     ]
    }
   ],
   "source": [
    "plt.imshow(outt[0].reshape(32, 224,224)[0])\n"
   ]
  },
  {
   "cell_type": "code",
   "execution_count": 26,
   "metadata": {},
   "outputs": [
    {
     "data": {
      "text/plain": [
       "(1, 3, 3, 3)"
      ]
     },
     "execution_count": 26,
     "metadata": {},
     "output_type": "execute_result"
    }
   ],
   "source": [
    "c1 = Conv2D(n_filters=1, filter_shape=(3,3), stride=1, input_shape=(3,224,224), padding='same')\n",
    "c1.initialize()\n",
    "c1.w.shape"
   ]
  },
  {
   "cell_type": "code",
   "execution_count": 27,
   "metadata": {},
   "outputs": [],
   "source": [
    "import time"
   ]
  },
  {
   "cell_type": "code",
   "execution_count": 28,
   "metadata": {},
   "outputs": [
    {
     "data": {
      "text/plain": [
       "2.943350315093994"
      ]
     },
     "execution_count": 28,
     "metadata": {},
     "output_type": "execute_result"
    }
   ],
   "source": [
    "s = time.time()\n",
    "vc=c1.forward_pass(X_train,True)\n",
    "e = time.time()\n",
    "\n",
    "e-s\n"
   ]
  },
  {
   "cell_type": "code",
   "execution_count": 29,
   "metadata": {},
   "outputs": [],
   "source": [
    "from metal.layers.conv2D import Conv2D as c2d\n",
    "from metal.initializers.optimizer_init import Adam as ad\n"
   ]
  },
  {
   "cell_type": "code",
   "execution_count": 30,
   "metadata": {},
   "outputs": [],
   "source": [
    "c2 = c2d(1,(3,3),1,stride=1,optimizer=ad(),act_fn='relu')\n",
    "c2.in_ch = 3\n",
    "c2._init_params()\n"
   ]
  },
  {
   "cell_type": "code",
   "execution_count": 33,
   "metadata": {},
   "outputs": [
    {
     "name": "stdout",
     "output_type": "stream",
     "text": [
      "0.19095754623413086\n"
     ]
    },
    {
     "data": {
      "text/plain": [
       "dtype('float32')"
      ]
     },
     "execution_count": 33,
     "metadata": {},
     "output_type": "execute_result"
    }
   ],
   "source": [
    "import time\n",
    "xx =X_train.data.reshape(-1,224,224,3)\n",
    "s = time.time()\n",
    "oc=c2.forward(xx)\n",
    "e = time.time()\n",
    "\n",
    "e-s\n",
    "oc.dtype"
   ]
  },
  {
   "cell_type": "code",
   "execution_count": 38,
   "metadata": {},
   "outputs": [
    {
     "data": {
      "text/plain": [
       "dtype('float32')"
      ]
     },
     "execution_count": 38,
     "metadata": {},
     "output_type": "execute_result"
    }
   ],
   "source": [
    "c2.gradients[\"W\"].dtype"
   ]
  },
  {
   "cell_type": "code",
   "execution_count": null,
   "metadata": {},
   "outputs": [],
   "source": [
    "oc[0].shape,c2.parameters[\"W\"].shape"
   ]
  },
  {
   "cell_type": "code",
   "execution_count": 29,
   "metadata": {},
   "outputs": [
    {
     "data": {
      "text/plain": [
       "<matplotlib.image.AxesImage at 0x7f7bc9fbbb10>"
      ]
     },
     "execution_count": 29,
     "metadata": {},
     "output_type": "execute_result"
    },
    {
     "data": {
      "image/png": "[encoded data removed]",
      "text/plain": [
       "<Figure size 432x288 with 1 Axes>"
      ]
     },
     "metadata": {
      "needs_background": "light"
     },
     "output_type": "display_data"
    }
   ],
   "source": [
    "plt.imshow(oc[0].reshape(224,224))\n"
   ]
  },
  {
   "cell_type": "code",
   "execution_count": 64,
   "metadata": {},
   "outputs": [
    {
     "data": {
      "text/plain": [
       "<matplotlib.image.AxesImage at 0x7f18dbe08590>"
      ]
     },
     "execution_count": 64,
     "metadata": {},
     "output_type": "execute_result"
    },
    {
     "data": {
      "image/png": "[encoded data removed]",
      "text/plain": [
       "<Figure size 432x288 with 1 Axes>"
      ]
     },
     "metadata": {
      "needs_background": "light"
     },
     "output_type": "display_data"
    }
   ],
   "source": [
    "plt.imshow(vc.data[0].reshape(224,224))\n"
   ]
  },
  {
   "cell_type": "code",
   "execution_count": 65,
   "metadata": {},
   "outputs": [
    {
     "data": {
      "text/plain": [
       "(1, 224, 224)"
      ]
     },
     "execution_count": 65,
     "metadata": {},
     "output_type": "execute_result"
    }
   ],
   "source": [
    "vc.data[0].shape"
   ]
  },
  {
   "cell_type": "code",
   "execution_count": 66,
   "metadata": {},
   "outputs": [
    {
     "data": {
      "text/plain": [
       "<matplotlib.image.AxesImage at 0x7f18dbd73350>"
      ]
     },
     "execution_count": 66,
     "metadata": {},
     "output_type": "execute_result"
    },
    {
     "data": {
      "image/png": "[encoded data removed]",
      "text/plain": [
       "<Figure size 432x288 with 1 Axes>"
      ]
     },
     "metadata": {
      "needs_background": "light"
     },
     "output_type": "display_data"
    }
   ],
   "source": [
    "plt.imshow(X[1:2][0])\n"
   ]
  },
  {
   "cell_type": "code",
   "execution_count": 56,
   "metadata": {},
   "outputs": [
    {
     "data": {
      "text/plain": [
       "(224, 224, 3)"
      ]
     },
     "execution_count": 56,
     "metadata": {},
     "output_type": "execute_result"
    }
   ],
   "source": [
    "X[1].shape"
   ]
  },
  {
   "cell_type": "code",
   "execution_count": 30,
   "metadata": {},
   "outputs": [
    {
     "data": {
      "text/plain": [
       "[1, 2]"
      ]
     },
     "execution_count": 30,
     "metadata": {},
     "output_type": "execute_result"
    }
   ],
   "source": [
    "[1,2,3][:2]"
   ]
  },
  {
   "cell_type": "code",
   "execution_count": 32,
   "metadata": {},
   "outputs": [],
   "source": [
    "f = Flatten()"
   ]
  },
  {
   "cell_type": "code",
   "execution_count": 37,
   "metadata": {},
   "outputs": [],
   "source": [
    "out=f.forward(np.random.randn(5,8,8,3))"
   ]
  },
  {
   "cell_type": "code",
   "execution_count": 38,
   "metadata": {},
   "outputs": [
    {
     "data": {
      "text/plain": [
       "(5, 192)"
      ]
     },
     "execution_count": 38,
     "metadata": {},
     "output_type": "execute_result"
    }
   ],
   "source": [
    "out.shape"
   ]
  },
  {
   "cell_type": "code",
   "execution_count": 39,
   "metadata": {},
   "outputs": [
    {
     "data": {
      "text/plain": [
       "(1079, 8, 8, 1)"
      ]
     },
     "execution_count": 39,
     "metadata": {},
     "output_type": "execute_result"
    }
   ],
   "source": [
    "X_train.shape"
   ]
  },
  {
   "cell_type": "code",
   "execution_count": 36,
   "metadata": {},
   "outputs": [
    {
     "data": {
      "text/plain": [
       "64"
      ]
     },
     "execution_count": 36,
     "metadata": {},
     "output_type": "execute_result"
    }
   ],
   "source": [
    "8*8"
   ]
  },
  {
   "cell_type": "code",
   "execution_count": 28,
   "metadata": {},
   "outputs": [],
   "source": [
    "class A(object):\n",
    "    def __init__(self,r):\n",
    "        self.r=r\n",
    "        \n",
    "class b(A):\n",
    "    def __init__(self,x):\n",
    "        super().__init__(x+1)\n",
    "        self.x=x\n",
    "        \n",
    "    def c(self,k=100):\n",
    "        super().__init__(k)\n",
    "        "
   ]
  },
  {
   "cell_type": "code",
   "execution_count": 29,
   "metadata": {},
   "outputs": [
    {
     "data": {
      "text/plain": [
       "4"
      ]
     },
     "execution_count": 29,
     "metadata": {},
     "output_type": "execute_result"
    }
   ],
   "source": [
    "zz = b(3)\n",
    "zz.r"
   ]
  },
  {
   "cell_type": "code",
   "execution_count": 30,
   "metadata": {},
   "outputs": [],
   "source": [
    "zz.c()"
   ]
  },
  {
   "cell_type": "code",
   "execution_count": 31,
   "metadata": {},
   "outputs": [
    {
     "data": {
      "text/plain": [
       "100"
      ]
     },
     "execution_count": 31,
     "metadata": {},
     "output_type": "execute_result"
    }
   ],
   "source": [
    "zz.r"
   ]
  },
  {
   "cell_type": "code",
   "execution_count": 42,
   "metadata": {},
   "outputs": [],
   "source": [
    "smax = Softmax()"
   ]
  },
  {
   "cell_type": "code",
   "execution_count": 43,
   "metadata": {},
   "outputs": [
    {
     "data": {
      "text/plain": [
       "array([[0.43420746, 0.56579254],\n",
       "       [0.44811672, 0.55188328]])"
      ]
     },
     "execution_count": 43,
     "metadata": {},
     "output_type": "execute_result"
    }
   ],
   "source": [
    "smax.forward(np.random.randn(2,2))"
   ]
  },
  {
   "cell_type": "code",
   "execution_count": 85,
   "metadata": {},
   "outputs": [
    {
     "name": "stdout",
     "output_type": "stream",
     "text": [
      "0 w\n",
      "1 s\n"
     ]
    }
   ],
   "source": [
    "d = {\"d\":7,\"Y\":9}\n",
    "\n",
    "for c,i in enumerate([\"w\",\"s\"]):\n",
    "    print(c,i)"
   ]
  },
  {
   "cell_type": "code",
   "execution_count": 90,
   "metadata": {},
   "outputs": [
    {
     "name": "stdout",
     "output_type": "stream",
     "text": [
      "7\n",
      "9\n"
     ]
    }
   ],
   "source": [
    "for k, v in d.items():\n",
    "    print(d[k])"
   ]
  },
  {
   "cell_type": "code",
   "execution_count": 1,
   "metadata": {},
   "outputs": [
    {
     "data": {
      "text/plain": [
       "(3, 3)"
      ]
     },
     "execution_count": 1,
     "metadata": {},
     "output_type": "execute_result"
    }
   ],
   "source": [
    "import numpy as np\n",
    "#import skimage.measure\n",
    "from metal.utils.utils import pad2D\n",
    "\n",
    "np.random.seed(1)\n",
    "X = np.array([[0, 1, 2], [3, 4, 5], [6, 7, 8]])\n",
    "X.shape\n",
    "#xp,ss=pad2D(a,0,(2,2),2)\n",
    "\n",
    "#skimage.measure.block_reduce(xp, (2,2,2,2), np.max)"
   ]
  },
  {
   "cell_type": "code",
   "execution_count": 2,
   "metadata": {},
   "outputs": [
    {
     "ename": "NameError",
     "evalue": "name 'Pool2D' is not defined",
     "output_type": "error",
     "traceback": [
      "\u001b[0;31m---------------------------------------------------------------------------\u001b[0m",
      "\u001b[0;31mNameError\u001b[0m                                 Traceback (most recent call last)",
      "\u001b[0;32m<ipython-input-2-f5849bf48794>\u001b[0m in \u001b[0;36m<module>\u001b[0;34m\u001b[0m\n\u001b[0;32m----> 1\u001b[0;31m \u001b[0mpo\u001b[0m\u001b[0;34m=\u001b[0m\u001b[0mPool2D\u001b[0m\u001b[0;34m(\u001b[0m\u001b[0;34m(\u001b[0m\u001b[0;36m2\u001b[0m\u001b[0;34m,\u001b[0m\u001b[0;36m2\u001b[0m\u001b[0;34m)\u001b[0m\u001b[0;34m,\u001b[0m\u001b[0mstride\u001b[0m\u001b[0;34m=\u001b[0m\u001b[0;36m1\u001b[0m\u001b[0;34m,\u001b[0m\u001b[0moptimizer\u001b[0m\u001b[0;34m=\u001b[0m\u001b[0mAdam\u001b[0m\u001b[0;34m(\u001b[0m\u001b[0;34m)\u001b[0m\u001b[0;34m)\u001b[0m\u001b[0;34m\u001b[0m\u001b[0;34m\u001b[0m\u001b[0m\n\u001b[0m\u001b[1;32m      2\u001b[0m \u001b[0mpou\u001b[0m \u001b[0;34m=\u001b[0m \u001b[0mpo\u001b[0m\u001b[0;34m.\u001b[0m\u001b[0mforward\u001b[0m\u001b[0;34m(\u001b[0m\u001b[0mX\u001b[0m\u001b[0;34m.\u001b[0m\u001b[0mreshape\u001b[0m\u001b[0;34m(\u001b[0m\u001b[0;36m1\u001b[0m\u001b[0;34m,\u001b[0m\u001b[0;36m3\u001b[0m\u001b[0;34m,\u001b[0m\u001b[0;36m3\u001b[0m\u001b[0;34m,\u001b[0m\u001b[0;36m1\u001b[0m\u001b[0;34m)\u001b[0m\u001b[0;34m)\u001b[0m\u001b[0;34m\u001b[0m\u001b[0;34m\u001b[0m\u001b[0m\n",
      "\u001b[0;31mNameError\u001b[0m: name 'Pool2D' is not defined"
     ]
    }
   ],
   "source": [
    "po=Pool2D((2,2),stride=1,optimizer=Adam())\n",
    "pou = po.forward(X.reshape(1,3,3,1))"
   ]
  },
  {
   "cell_type": "code",
   "execution_count": 3,
   "metadata": {},
   "outputs": [
    {
     "ename": "NameError",
     "evalue": "name 'pou' is not defined",
     "output_type": "error",
     "traceback": [
      "\u001b[0;31m---------------------------------------------------------------------------\u001b[0m",
      "\u001b[0;31mNameError\u001b[0m                                 Traceback (most recent call last)",
      "\u001b[0;32m<ipython-input-3-686f83c76912>\u001b[0m in \u001b[0;36m<module>\u001b[0;34m\u001b[0m\n\u001b[0;32m----> 1\u001b[0;31m \u001b[0mpou\u001b[0m\u001b[0;34m.\u001b[0m\u001b[0mreshape\u001b[0m\u001b[0;34m(\u001b[0m\u001b[0;36m2\u001b[0m\u001b[0;34m,\u001b[0m\u001b[0;36m2\u001b[0m\u001b[0;34m)\u001b[0m\u001b[0;34m\u001b[0m\u001b[0;34m\u001b[0m\u001b[0m\n\u001b[0m",
      "\u001b[0;31mNameError\u001b[0m: name 'pou' is not defined"
     ]
    }
   ],
   "source": [
    "pou.reshape(2,2)"
   ]
  },
  {
   "cell_type": "code",
   "execution_count": 4,
   "metadata": {},
   "outputs": [],
   "source": [
    "from deprecated.metal.layers.maxpooling import MaxPooling2D\n",
    "from autograd.parameter import Parameter\n"
   ]
  },
  {
   "cell_type": "code",
   "execution_count": 5,
   "metadata": {},
   "outputs": [
    {
     "ename": "NameError",
     "evalue": "name 'a' is not defined",
     "output_type": "error",
     "traceback": [
      "\u001b[0;31m---------------------------------------------------------------------------\u001b[0m",
      "\u001b[0;31mNameError\u001b[0m                                 Traceback (most recent call last)",
      "\u001b[0;32m<ipython-input-5-d24738252f88>\u001b[0m in \u001b[0;36m<module>\u001b[0;34m\u001b[0m\n\u001b[1;32m      1\u001b[0m \u001b[0mdmp\u001b[0m\u001b[0;34m=\u001b[0m\u001b[0mMaxPooling2D\u001b[0m\u001b[0;34m(\u001b[0m\u001b[0;34m(\u001b[0m\u001b[0;36m2\u001b[0m\u001b[0;34m,\u001b[0m\u001b[0;36m2\u001b[0m\u001b[0;34m)\u001b[0m\u001b[0;34m,\u001b[0m\u001b[0mstride\u001b[0m\u001b[0;34m=\u001b[0m\u001b[0;36m2\u001b[0m\u001b[0;34m)\u001b[0m\u001b[0;34m\u001b[0m\u001b[0;34m\u001b[0m\u001b[0m\n\u001b[0;32m----> 2\u001b[0;31m \u001b[0map\u001b[0m \u001b[0;34m=\u001b[0m \u001b[0mParameter\u001b[0m\u001b[0;34m(\u001b[0m\u001b[0ma\u001b[0m\u001b[0;34m.\u001b[0m\u001b[0mreshape\u001b[0m\u001b[0;34m(\u001b[0m\u001b[0;36m5\u001b[0m\u001b[0;34m,\u001b[0m\u001b[0;36m1\u001b[0m\u001b[0;34m,\u001b[0m\u001b[0;36m13\u001b[0m\u001b[0;34m,\u001b[0m\u001b[0;36m13\u001b[0m\u001b[0;34m)\u001b[0m\u001b[0;34m,\u001b[0m\u001b[0;32mFalse\u001b[0m\u001b[0;34m)\u001b[0m\u001b[0;34m\u001b[0m\u001b[0;34m\u001b[0m\u001b[0m\n\u001b[0m\u001b[1;32m      3\u001b[0m \u001b[0mdmp\u001b[0m\u001b[0;34m.\u001b[0m\u001b[0mset_input_shape\u001b[0m\u001b[0;34m(\u001b[0m\u001b[0mshape\u001b[0m\u001b[0;34m=\u001b[0m\u001b[0;34m(\u001b[0m\u001b[0;36m1\u001b[0m\u001b[0;34m,\u001b[0m\u001b[0;36m13\u001b[0m\u001b[0;34m,\u001b[0m\u001b[0;36m13\u001b[0m\u001b[0;34m)\u001b[0m\u001b[0;34m)\u001b[0m\u001b[0;34m\u001b[0m\u001b[0;34m\u001b[0m\u001b[0m\n\u001b[1;32m      4\u001b[0m \u001b[0map\u001b[0m\u001b[0;34m.\u001b[0m\u001b[0mshape\u001b[0m\u001b[0;34m\u001b[0m\u001b[0;34m\u001b[0m\u001b[0m\n",
      "\u001b[0;31mNameError\u001b[0m: name 'a' is not defined"
     ]
    }
   ],
   "source": [
    "dmp=MaxPooling2D((2,2),stride=2)\n",
    "ap = Parameter(a.reshape(5,1,13,13),False)\n",
    "dmp.set_input_shape(shape=(1,13,13))\n",
    "ap.shape"
   ]
  },
  {
   "cell_type": "code",
   "execution_count": 6,
   "metadata": {},
   "outputs": [
    {
     "ename": "NameError",
     "evalue": "name 'ap' is not defined",
     "output_type": "error",
     "traceback": [
      "\u001b[0;31m---------------------------------------------------------------------------\u001b[0m",
      "\u001b[0;31mNameError\u001b[0m                                 Traceback (most recent call last)",
      "\u001b[0;32m<ipython-input-6-7122de50c7e6>\u001b[0m in \u001b[0;36m<module>\u001b[0;34m\u001b[0m\n\u001b[0;32m----> 1\u001b[0;31m \u001b[0mdmp\u001b[0m\u001b[0;34m.\u001b[0m\u001b[0mforward_pass\u001b[0m\u001b[0;34m(\u001b[0m\u001b[0map\u001b[0m\u001b[0;34m)\u001b[0m\u001b[0;34m\u001b[0m\u001b[0;34m\u001b[0m\u001b[0m\n\u001b[0m",
      "\u001b[0;31mNameError\u001b[0m: name 'ap' is not defined"
     ]
    }
   ],
   "source": [
    "dmp.forward_pass(ap)"
   ]
  },
  {
   "cell_type": "code",
   "execution_count": 37,
   "metadata": {},
   "outputs": [],
   "source": [
    "from numba import jit\n",
    "import time\n",
    "from numpy.ma import make_mask"
   ]
  },
  {
   "cell_type": "code",
   "execution_count": 70,
   "metadata": {},
   "outputs": [],
   "source": [
    "@jit(nopython=True)\n",
    "def f(n_ex,out_rows,out_cols, out_ch,X_pad,s,fr,fc,Y,mode):\n",
    "\n",
    "    for m in range(n_ex):\n",
    "        for i in range(out_rows):\n",
    "            for j in range(out_cols):\n",
    "                for c in range(out_ch):\n",
    "                    # calculate window boundaries, incorporating stride\n",
    "                    i0, i1 = i * s, (i * s) + fr\n",
    "                    j0, j1 = j * s, (j * s) + fc\n",
    "\n",
    "                    xi = X_pad[m, i0:i1, j0:j1, c]\n",
    "                    if mode == \"max\":\n",
    "                        Y[m, i, j, c] = np.max(xi)\n",
    "                    elif mode == \"average\":\n",
    "                        Y[m, i, j, c] = np.mean(xi)\n",
    "    return Y\n",
    "\n",
    "#@jit(nopython=True)\n",
    "def g(n_ex,out_row,out_col,out_ch,fr,fc,s,mode,dX,X,dy):\n",
    "    for m in range(n_ex):\n",
    "        for i in range(out_row):\n",
    "            for j in range(out_col):\n",
    "                for c in range(out_ch):\n",
    "                    # calculate window boundaries, incorporating stride\n",
    "                    i0, i1 = i * s, (i * s) + fr\n",
    "                    j0, j1 = j * s, (j * s) + fc\n",
    "\n",
    "                    if mode == \"max\":\n",
    "                        xi = X[m, i0:i1, j0:j1, c]\n",
    "\n",
    "                        # enforce that the mask can only consist of a\n",
    "                        # single `True` entry, even if multiple entries in\n",
    "                        # xi are equal to max(xi)\n",
    "                        mask = np.zeros_like(xi)>1\n",
    "                        print(np.max(xi))\n",
    "                        x, y = np.argwhere(xi == np.max(xi))[0]\n",
    "                        mask[x, y] = True\n",
    "\n",
    "                        dX[m, i0:i1, j0:j1, c] += mask * dy[m, i, j, c]\n",
    "                    elif mode == \"average\":\n",
    "                        frame = np.ones((fr, fc)) * dy[m, i, j, c]\n",
    "                        dX[m, i0:i1, j0:j1, c] += frame / np.prod((fr, fc))\n",
    "    return dX"
   ]
  },
  {
   "cell_type": "code",
   "execution_count": 71,
   "metadata": {},
   "outputs": [],
   "source": [
    "import numpy as np\n",
    "from metal.layers.layer import LayerBase\n",
    "from metal.utils.utils import pad2D\n",
    "\n",
    "class Pool2D(LayerBase):\n",
    "    def __init__(self, kernel_shape, stride=1, pad=0, mode=\"max\", optimizer=None):\n",
    "        \"\"\"\n",
    "        A single two-dimensional pooling layer.\n",
    "        Parameters\n",
    "        ----------\n",
    "        kernel_shape : 2-tuple\n",
    "            The dimension of a single 2D filter/kernel in the current layer\n",
    "        stride : int\n",
    "            The stride/hop of the convolution kernels as they move over the\n",
    "            input volume. Default is 1.\n",
    "        pad : int, tuple, or 'same'\n",
    "            The number of rows/columns of 0's to pad the input. Default is 0.\n",
    "        mode : {\"max\", \"average\"}\n",
    "            The pooling function to apply.\n",
    "        optimizer : str, :doc:`Optimizer <numpy_ml.neural_nets.optimizers>` object, or None\n",
    "            The optimization strategy to use when performing gradient updates\n",
    "            within the :meth:`update` method.  If None, use the :class:`SGD\n",
    "            <numpy_ml.neural_nets.optimizers.SGD>` optimizer with\n",
    "            default parameters. Default is None.\n",
    "        \"\"\"\n",
    "        super().__init__(optimizer)\n",
    "\n",
    "        self.pad = pad\n",
    "        self.mode = mode\n",
    "        self.in_ch = None\n",
    "        self.out_ch = None\n",
    "        self.stride = stride\n",
    "        self.kernel_shape = kernel_shape\n",
    "        self.is_initialized = False\n",
    "\n",
    "    def _init_params(self):\n",
    "        self.derived_variables = {\"out_rows\": [], \"out_cols\": []}\n",
    "        self.is_initialized = True\n",
    "\n",
    "    @property\n",
    "    def hyperparameters(self):\n",
    "        \"\"\"Return a dictionary containing the layer hyperparameters.\"\"\"\n",
    "        return {\n",
    "            \"layer\": \"Pool2D\",\n",
    "            \"act_fn\": None,\n",
    "            \"pad\": self.pad,\n",
    "            \"mode\": self.mode,\n",
    "            \"in_ch\": self.in_ch,\n",
    "            \"out_ch\": self.out_ch,\n",
    "            \"stride\": self.stride,\n",
    "            \"kernel_shape\": self.kernel_shape,\n",
    "            \"optimizer\": {\n",
    "                \"cache\": self.optimizer.cache,\n",
    "                \"hyperparameters\": self.optimizer.hyperparameters,\n",
    "            },\n",
    "        }\n",
    "\n",
    "    def forward(self, X, retain_derived=True):\n",
    "        \"\"\"\n",
    "        Compute the layer output given input volume `X`.\n",
    "        Parameters\n",
    "        ----------\n",
    "        X : :py:class:`ndarray <numpy.ndarray>` of shape `(n_ex, in_rows, in_cols, in_ch)`\n",
    "            The input volume consisting of `n_ex` examples, each with dimension\n",
    "            (`in_rows`,`in_cols`, `in_ch`)\n",
    "        retain_derived : bool\n",
    "            Whether to retain the variables calculated during the forward pass\n",
    "            for use later during backprop. If False, this suggests the layer\n",
    "            will not be expected to backprop through wrt. this input. Default\n",
    "            is True.\n",
    "        Returns\n",
    "        -------\n",
    "        Y : :py:class:`ndarray <numpy.ndarray>` of shape `(n_ex, out_rows, out_cols, out_ch)`\n",
    "            The layer output.\n",
    "        \"\"\"\n",
    "        if not self.is_initialized:\n",
    "            self.in_ch = self.out_ch = X.shape[3]\n",
    "            self._init_params()\n",
    "\n",
    "        n_ex, in_rows, in_cols, nc_in = X.shape\n",
    "        (fr, fc), s, p = self.kernel_shape, self.stride, self.pad\n",
    "        X_pad, (pr1, pr2, pc1, pc2) = pad2D(X, p, self.kernel_shape, s)\n",
    "\n",
    "        out_rows = np.floor(1 + (in_rows + pr1 + pr2 - fr) / s).astype(int)\n",
    "        out_cols = np.floor(1 + (in_cols + pc1 + pc2 - fc) / s).astype(int)\n",
    "\n",
    "\n",
    "\n",
    "        Y_ = np.zeros((n_ex, out_rows, out_cols, self.out_ch))\n",
    "        Y = f(n_ex,out_rows,out_cols, self.out_ch,X_pad,s,fr, fc,Y_,self.mode)\n",
    "\n",
    "        if retain_derived:\n",
    "            self.X.append(X)\n",
    "            self.derived_variables[\"out_rows\"].append(out_rows)\n",
    "            self.derived_variables[\"out_cols\"].append(out_cols)\n",
    "\n",
    "        return Y\n",
    "\n",
    "\n",
    "\n",
    "    def backward(self, dLdY, retain_grads=True):\n",
    "        \"\"\"\n",
    "        Backprop from layer outputs to inputs\n",
    "        Parameters\n",
    "        ----------\n",
    "        dLdY : :py:class:`ndarray <numpy.ndarray>` of shape `(n_ex, in_rows, in_cols, in_ch)`\n",
    "            The gradient of the loss wrt. the layer output `Y`.\n",
    "        retain_grads : bool\n",
    "            Whether to include the intermediate parameter gradients computed\n",
    "            during the backward pass in the final parameter update. Default is\n",
    "            True.\n",
    "        Returns\n",
    "        -------\n",
    "        dX : :py:class:`ndarray <numpy.ndarray>` of shape `(n_ex, in_rows, in_cols, in_ch)`\n",
    "            The gradient of the loss wrt. the layer input `X`.\n",
    "        \"\"\"\n",
    "        assert self.trainable, \"Layer is frozen\"\n",
    "        if not isinstance(dLdY, list):\n",
    "            dLdY = [dLdY]\n",
    "\n",
    "        Xs = self.X\n",
    "        out_rows = self.derived_variables[\"out_rows\"]\n",
    "        out_cols = self.derived_variables[\"out_cols\"]\n",
    "\n",
    "        (fr, fc), s, p = self.kernel_shape, self.stride, self.pad\n",
    "\n",
    "        dXs = []\n",
    "        for X, dy, out_row, out_col in zip(Xs, dLdY, out_rows, out_cols):\n",
    "            n_ex, in_rows, in_cols, nc_in = X.shape\n",
    "            X_pad, (pr1, pr2, pc1, pc2) = pad2D(X, p, self.kernel_shape, s)\n",
    "\n",
    "            dX_ = np.zeros_like(X_pad)\n",
    "            dX = g(n_ex,out_row,out_col,self.out_ch,fr,fc,s,self.mode,dX_,X,dy)\n",
    "\n",
    "            pr2 = None if pr2 == 0 else -pr2\n",
    "            pc2 = None if pc2 == 0 else -pc2\n",
    "            dXs.append(dX[:, pr1:pr2, pc1:pc2, :])\n",
    "        return dXs[0] if len(Xs) == 1 else dXs\n"
   ]
  },
  {
   "cell_type": "code",
   "execution_count": 72,
   "metadata": {},
   "outputs": [
    {
     "data": {
      "text/plain": [
       "0.9108092784881592"
      ]
     },
     "execution_count": 72,
     "metadata": {},
     "output_type": "execute_result"
    }
   ],
   "source": [
    "np.random.seed(1)\n",
    "k=np.random.randn(1000,50,50,3)\n",
    "po=Pool2D((2,2),stride=1)\n",
    "s = time.time()\n",
    "pou = po.forward(k)\n",
    "e = time.time()\n",
    "e-s"
   ]
  },
  {
   "cell_type": "code",
   "execution_count": 73,
   "metadata": {},
   "outputs": [
    {
     "ename": "TypingError",
     "evalue": "Failed in nopython mode pipeline (step: nopython frontend)\n\u001b[1m\u001b[1mUse of unsupported NumPy function 'numpy.argwhere' or unsupported use of the function.\n\u001b[1m\nFile \"<ipython-input-70-23d230c02798>\", line 37:\u001b[0m\n\u001b[1mdef g(n_ex,out_row,out_col,out_ch,fr,fc,s,mode,dX,X,dy):\n    <source elided>\n                        print((xi == np.max(xi))*1)\n\u001b[1m                        x, y = np.argwhere(np.array((xi == np.max(xi))*1))[0]\n\u001b[0m                        \u001b[1m^\u001b[0m\u001b[0m\n\u001b[0m\n\u001b[0m\u001b[1m[1] During: typing of get attribute at <ipython-input-70-23d230c02798> (37)\u001b[0m\n\u001b[1m\nFile \"<ipython-input-70-23d230c02798>\", line 37:\u001b[0m\n\u001b[1mdef g(n_ex,out_row,out_col,out_ch,fr,fc,s,mode,dX,X,dy):\n    <source elided>\n                        print((xi == np.max(xi))*1)\n\u001b[1m                        x, y = np.argwhere(np.array((xi == np.max(xi))*1))[0]\n\u001b[0m                        \u001b[1m^\u001b[0m\u001b[0m\n\nThis is not usually a problem with Numba itself but instead often caused by\nthe use of unsupported features or an issue in resolving types.\n\nTo see Python/NumPy features supported by the latest release of Numba visit:\nhttp://numba.pydata.org/numba-doc/latest/reference/pysupported.html\nand\nhttp://numba.pydata.org/numba-doc/latest/reference/numpysupported.html\n\nFor more information about typing errors and how to debug them visit:\nhttp://numba.pydata.org/numba-doc/latest/user/troubleshoot.html#my-code-doesn-t-compile\n\nIf you think your code should work with Numba, please report the error message\nand traceback, along with a minimal reproducer at:\nhttps://github.com/numba/numba/issues/new\n",
     "output_type": "error",
     "traceback": [
      "\u001b[0;31m---------------------------------------------------------------------------\u001b[0m",
      "\u001b[0;31mTypingError\u001b[0m                               Traceback (most recent call last)",
      "\u001b[0;32m<ipython-input-73-329fdb8be8b8>\u001b[0m in \u001b[0;36m<module>\u001b[0;34m\u001b[0m\n\u001b[0;32m----> 1\u001b[0;31m \u001b[0mpo\u001b[0m\u001b[0;34m.\u001b[0m\u001b[0mbackward\u001b[0m\u001b[0;34m(\u001b[0m\u001b[0mnp\u001b[0m\u001b[0;34m.\u001b[0m\u001b[0mzeros_like\u001b[0m\u001b[0;34m(\u001b[0m\u001b[0mpou\u001b[0m\u001b[0;34m)\u001b[0m\u001b[0;34m)\u001b[0m\u001b[0;34m\u001b[0m\u001b[0;34m\u001b[0m\u001b[0m\n\u001b[0m",
      "\u001b[0;32m<ipython-input-71-37a92934bd33>\u001b[0m in \u001b[0;36mbackward\u001b[0;34m(self, dLdY, retain_grads)\u001b[0m\n\u001b[1;32m    131\u001b[0m \u001b[0;34m\u001b[0m\u001b[0m\n\u001b[1;32m    132\u001b[0m             \u001b[0mdX_\u001b[0m \u001b[0;34m=\u001b[0m \u001b[0mnp\u001b[0m\u001b[0;34m.\u001b[0m\u001b[0mzeros_like\u001b[0m\u001b[0;34m(\u001b[0m\u001b[0mX_pad\u001b[0m\u001b[0;34m)\u001b[0m\u001b[0;34m\u001b[0m\u001b[0;34m\u001b[0m\u001b[0m\n\u001b[0;32m--> 133\u001b[0;31m             \u001b[0mdX\u001b[0m \u001b[0;34m=\u001b[0m \u001b[0mg\u001b[0m\u001b[0;34m(\u001b[0m\u001b[0mn_ex\u001b[0m\u001b[0;34m,\u001b[0m\u001b[0mout_row\u001b[0m\u001b[0;34m,\u001b[0m\u001b[0mout_col\u001b[0m\u001b[0;34m,\u001b[0m\u001b[0mself\u001b[0m\u001b[0;34m.\u001b[0m\u001b[0mout_ch\u001b[0m\u001b[0;34m,\u001b[0m\u001b[0mfr\u001b[0m\u001b[0;34m,\u001b[0m\u001b[0mfc\u001b[0m\u001b[0;34m,\u001b[0m\u001b[0ms\u001b[0m\u001b[0;34m,\u001b[0m\u001b[0mself\u001b[0m\u001b[0;34m.\u001b[0m\u001b[0mmode\u001b[0m\u001b[0;34m,\u001b[0m\u001b[0mdX_\u001b[0m\u001b[0;34m,\u001b[0m\u001b[0mX\u001b[0m\u001b[0;34m,\u001b[0m\u001b[0mdy\u001b[0m\u001b[0;34m)\u001b[0m\u001b[0;34m\u001b[0m\u001b[0;34m\u001b[0m\u001b[0m\n\u001b[0m\u001b[1;32m    134\u001b[0m \u001b[0;34m\u001b[0m\u001b[0m\n\u001b[1;32m    135\u001b[0m             \u001b[0mpr2\u001b[0m \u001b[0;34m=\u001b[0m \u001b[0;32mNone\u001b[0m \u001b[0;32mif\u001b[0m \u001b[0mpr2\u001b[0m \u001b[0;34m==\u001b[0m \u001b[0;36m0\u001b[0m \u001b[0;32melse\u001b[0m \u001b[0;34m-\u001b[0m\u001b[0mpr2\u001b[0m\u001b[0;34m\u001b[0m\u001b[0;34m\u001b[0m\u001b[0m\n",
      "\u001b[0;32m~/anaconda3/lib/python3.7/site-packages/numba/dispatcher.py\u001b[0m in \u001b[0;36m_compile_for_args\u001b[0;34m(self, *args, **kws)\u001b[0m\n\u001b[1;32m    374\u001b[0m                 \u001b[0me\u001b[0m\u001b[0;34m.\u001b[0m\u001b[0mpatch_message\u001b[0m\u001b[0;34m(\u001b[0m\u001b[0mmsg\u001b[0m\u001b[0;34m)\u001b[0m\u001b[0;34m\u001b[0m\u001b[0;34m\u001b[0m\u001b[0m\n\u001b[1;32m    375\u001b[0m \u001b[0;34m\u001b[0m\u001b[0m\n\u001b[0;32m--> 376\u001b[0;31m             \u001b[0merror_rewrite\u001b[0m\u001b[0;34m(\u001b[0m\u001b[0me\u001b[0m\u001b[0;34m,\u001b[0m \u001b[0;34m'typing'\u001b[0m\u001b[0;34m)\u001b[0m\u001b[0;34m\u001b[0m\u001b[0;34m\u001b[0m\u001b[0m\n\u001b[0m\u001b[1;32m    377\u001b[0m         \u001b[0;32mexcept\u001b[0m \u001b[0merrors\u001b[0m\u001b[0;34m.\u001b[0m\u001b[0mUnsupportedError\u001b[0m \u001b[0;32mas\u001b[0m \u001b[0me\u001b[0m\u001b[0;34m:\u001b[0m\u001b[0;34m\u001b[0m\u001b[0;34m\u001b[0m\u001b[0m\n\u001b[1;32m    378\u001b[0m             \u001b[0;31m# Something unsupported is present in the user code, add help info\u001b[0m\u001b[0;34m\u001b[0m\u001b[0;34m\u001b[0m\u001b[0;34m\u001b[0m\u001b[0m\n",
      "\u001b[0;32m~/anaconda3/lib/python3.7/site-packages/numba/dispatcher.py\u001b[0m in \u001b[0;36merror_rewrite\u001b[0;34m(e, issue_type)\u001b[0m\n\u001b[1;32m    341\u001b[0m                 \u001b[0;32mraise\u001b[0m \u001b[0me\u001b[0m\u001b[0;34m\u001b[0m\u001b[0;34m\u001b[0m\u001b[0m\n\u001b[1;32m    342\u001b[0m             \u001b[0;32melse\u001b[0m\u001b[0;34m:\u001b[0m\u001b[0;34m\u001b[0m\u001b[0;34m\u001b[0m\u001b[0m\n\u001b[0;32m--> 343\u001b[0;31m                 \u001b[0mreraise\u001b[0m\u001b[0;34m(\u001b[0m\u001b[0mtype\u001b[0m\u001b[0;34m(\u001b[0m\u001b[0me\u001b[0m\u001b[0;34m)\u001b[0m\u001b[0;34m,\u001b[0m \u001b[0me\u001b[0m\u001b[0;34m,\u001b[0m \u001b[0;32mNone\u001b[0m\u001b[0;34m)\u001b[0m\u001b[0;34m\u001b[0m\u001b[0;34m\u001b[0m\u001b[0m\n\u001b[0m\u001b[1;32m    344\u001b[0m \u001b[0;34m\u001b[0m\u001b[0m\n\u001b[1;32m    345\u001b[0m         \u001b[0margtypes\u001b[0m \u001b[0;34m=\u001b[0m \u001b[0;34m[\u001b[0m\u001b[0;34m]\u001b[0m\u001b[0;34m\u001b[0m\u001b[0;34m\u001b[0m\u001b[0m\n",
      "\u001b[0;32m~/anaconda3/lib/python3.7/site-packages/numba/six.py\u001b[0m in \u001b[0;36mreraise\u001b[0;34m(tp, value, tb)\u001b[0m\n\u001b[1;32m    656\u001b[0m             \u001b[0mvalue\u001b[0m \u001b[0;34m=\u001b[0m \u001b[0mtp\u001b[0m\u001b[0;34m(\u001b[0m\u001b[0;34m)\u001b[0m\u001b[0;34m\u001b[0m\u001b[0;34m\u001b[0m\u001b[0m\n\u001b[1;32m    657\u001b[0m         \u001b[0;32mif\u001b[0m \u001b[0mvalue\u001b[0m\u001b[0;34m.\u001b[0m\u001b[0m__traceback__\u001b[0m \u001b[0;32mis\u001b[0m \u001b[0;32mnot\u001b[0m \u001b[0mtb\u001b[0m\u001b[0;34m:\u001b[0m\u001b[0;34m\u001b[0m\u001b[0;34m\u001b[0m\u001b[0m\n\u001b[0;32m--> 658\u001b[0;31m             \u001b[0;32mraise\u001b[0m \u001b[0mvalue\u001b[0m\u001b[0;34m.\u001b[0m\u001b[0mwith_traceback\u001b[0m\u001b[0;34m(\u001b[0m\u001b[0mtb\u001b[0m\u001b[0;34m)\u001b[0m\u001b[0;34m\u001b[0m\u001b[0;34m\u001b[0m\u001b[0m\n\u001b[0m\u001b[1;32m    659\u001b[0m         \u001b[0;32mraise\u001b[0m \u001b[0mvalue\u001b[0m\u001b[0;34m\u001b[0m\u001b[0;34m\u001b[0m\u001b[0m\n\u001b[1;32m    660\u001b[0m \u001b[0;34m\u001b[0m\u001b[0m\n",
      "\u001b[0;31mTypingError\u001b[0m: Failed in nopython mode pipeline (step: nopython frontend)\n\u001b[1m\u001b[1mUse of unsupported NumPy function 'numpy.argwhere' or unsupported use of the function.\n\u001b[1m\nFile \"<ipython-input-70-23d230c02798>\", line 37:\u001b[0m\n\u001b[1mdef g(n_ex,out_row,out_col,out_ch,fr,fc,s,mode,dX,X,dy):\n    <source elided>\n                        print((xi == np.max(xi))*1)\n\u001b[1m                        x, y = np.argwhere(np.array((xi == np.max(xi))*1))[0]\n\u001b[0m                        \u001b[1m^\u001b[0m\u001b[0m\n\u001b[0m\n\u001b[0m\u001b[1m[1] During: typing of get attribute at <ipython-input-70-23d230c02798> (37)\u001b[0m\n\u001b[1m\nFile \"<ipython-input-70-23d230c02798>\", line 37:\u001b[0m\n\u001b[1mdef g(n_ex,out_row,out_col,out_ch,fr,fc,s,mode,dX,X,dy):\n    <source elided>\n                        print((xi == np.max(xi))*1)\n\u001b[1m                        x, y = np.argwhere(np.array((xi == np.max(xi))*1))[0]\n\u001b[0m                        \u001b[1m^\u001b[0m\u001b[0m\n\nThis is not usually a problem with Numba itself but instead often caused by\nthe use of unsupported features or an issue in resolving types.\n\nTo see Python/NumPy features supported by the latest release of Numba visit:\nhttp://numba.pydata.org/numba-doc/latest/reference/pysupported.html\nand\nhttp://numba.pydata.org/numba-doc/latest/reference/numpysupported.html\n\nFor more information about typing errors and how to debug them visit:\nhttp://numba.pydata.org/numba-doc/latest/user/troubleshoot.html#my-code-doesn-t-compile\n\nIf you think your code should work with Numba, please report the error message\nand traceback, along with a minimal reproducer at:\nhttps://github.com/numba/numba/issues/new\n"
     ]
    }
   ],
   "source": [
    "po.backward(np.zeros_like(pou))"
   ]
  },
  {
   "cell_type": "code",
   "execution_count": 1,
   "metadata": {},
   "outputs": [],
   "source": [
    "from metal.layers.pooling import Pool2D as pol\n",
    "import time\n",
    "import numpy as np\n",
    "np.random.seed(1)\n",
    "k=np.random.randn(1000,50,50,3).astype('float32')"
   ]
  },
  {
   "cell_type": "code",
   "execution_count": 6,
   "metadata": {},
   "outputs": [
    {
     "data": {
      "text/plain": [
       "0.6356840133666992"
      ]
     },
     "execution_count": 6,
     "metadata": {},
     "output_type": "execute_result"
    }
   ],
   "source": [
    "pli=pol((2,2),stride=1)\n",
    "s = time.time()\n",
    "poul = pli.forward(k)\n",
    "e = time.time()\n",
    "e-s"
   ]
  },
  {
   "cell_type": "code",
   "execution_count": 5,
   "metadata": {},
   "outputs": [
    {
     "data": {
      "text/plain": [
       "dtype('float32')"
      ]
     },
     "execution_count": 5,
     "metadata": {},
     "output_type": "execute_result"
    }
   ],
   "source": [
    "poul.dtype"
   ]
  },
  {
   "cell_type": "code",
   "execution_count": null,
   "metadata": {},
   "outputs": [],
   "source": []
  }
 ],
 "metadata": {
  "kernelspec": {
   "display_name": "Python 3",
   "language": "python",
   "name": "python3"
  },
  "language_info": {
   "codemirror_mode": {
    "name": "ipython",
    "version": 3
   },
   "file_extension": ".py",
   "mimetype": "text/x-python",
   "name": "python",
   "nbconvert_exporter": "python",
   "pygments_lexer": "ipython3",
   "version": "3.7.4"
  }
 },
 "nbformat": 4,
 "nbformat_minor": 2
}
