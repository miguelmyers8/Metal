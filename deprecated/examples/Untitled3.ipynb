{
 "cells": [
  {
   "cell_type": "code",
   "execution_count": 1,
   "metadata": {},
   "outputs": [],
   "source": [
    "import numpy as np"
   ]
  },
  {
   "cell_type": "code",
   "execution_count": 25,
   "metadata": {},
   "outputs": [],
   "source": [
    "def conv2d_single_channel(input, w):\n",
    "    \"\"\"Two-dimensional convolution of a single channel.\n",
    "\n",
    "    Uses SAME padding with 0s, a stride of 1 and no dilation.\n",
    "\n",
    "    input: input array with shape (height, width)\n",
    "    w: filter array with shape (fd, fd) with odd fd.\n",
    "\n",
    "    Returns a result with the same shape as input.\n",
    "    \"\"\"\n",
    "    assert w.shape[0] == w.shape[1] and w.shape[0] % 2 == 1\n",
    "\n",
    "    # SAME padding with zeros: creating a new padded array to simplify index\n",
    "    # calculations and to avoid checking boundary conditions in the inner loop.\n",
    "    # padded_input is like input, but padded on all sides with\n",
    "    # half-the-filter-width of zeros.\n",
    "    padded_input = np.pad(input,\n",
    "                          pad_width=w.shape[0] // 2,\n",
    "                          mode='constant',\n",
    "                          constant_values=0)\n",
    "\n",
    "    output = np.zeros_like(input)\n",
    "    for i in range(output.shape[0]):\n",
    "        print(i)\n",
    "        for j in range(output.shape[1]):\n",
    "            print(j)\n",
    "            # This inner double loop computes every output element, by\n",
    "            # multiplying the corresponding window into the input with the\n",
    "            # filter.\n",
    "            for fi in range(w.shape[0]):\n",
    "                for fj in range(w.shape[1]):\n",
    "                    output[i, j] += padded_input[i + fi, j + fj] * w[fi, fj]\n",
    "    return output"
   ]
  },
  {
   "cell_type": "code",
   "execution_count": 26,
   "metadata": {},
   "outputs": [],
   "source": [
    "x1 = np.random.randn(3,3)\n",
    "x2 = np.random.randn(3,3)"
   ]
  },
  {
   "cell_type": "code",
   "execution_count": 27,
   "metadata": {},
   "outputs": [
    {
     "name": "stdout",
     "output_type": "stream",
     "text": [
      "0\n",
      "0\n",
      "1\n",
      "2\n",
      "1\n",
      "0\n",
      "1\n",
      "2\n",
      "2\n",
      "0\n",
      "1\n",
      "2\n"
     ]
    },
    {
     "data": {
      "text/plain": [
       "array([[-0.39664643, -1.86306554, -1.40530107],\n",
       "       [-1.68101665,  1.23406923, -4.10783473],\n",
       "       [-0.48930398, -5.96617151,  1.706554  ]])"
      ]
     },
     "execution_count": 27,
     "metadata": {},
     "output_type": "execute_result"
    }
   ],
   "source": [
    "conv2d_single_channel(x1,x2)"
   ]
  },
  {
   "cell_type": "code",
   "execution_count": null,
   "metadata": {},
   "outputs": [],
   "source": []
  }
 ],
 "metadata": {
  "kernelspec": {
   "display_name": "Python 3",
   "language": "python",
   "name": "python3"
  },
  "language_info": {
   "codemirror_mode": {
    "name": "ipython",
    "version": 3
   },
   "file_extension": ".py",
   "mimetype": "text/x-python",
   "name": "python",
   "nbconvert_exporter": "python",
   "pygments_lexer": "ipython3",
   "version": "3.6.8"
  }
 },
 "nbformat": 4,
 "nbformat_minor": 2
}
