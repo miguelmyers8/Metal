{
 "cells": [
  {
   "cell_type": "code",
   "execution_count": 1,
   "metadata": {},
   "outputs": [
    {
     "name": "stdout",
     "output_type": "stream",
     "text": [
      "0.28.2\n"
     ]
    }
   ],
   "source": [
    "from __future__ import print_function\n",
    "%load_ext cython\n",
    "import Cython\n",
    "print(Cython.__version__)\n"
   ]
  },
  {
   "cell_type": "code",
   "execution_count": 96,
   "metadata": {},
   "outputs": [],
   "source": [
    "import numpy as np\n",
    "np.random.seed(1)\n",
    "array_1 = np.random.randn(3000,2000).astype(np.float32)\n",
    "array_2 = np.random.randn(3000,2000).astype(np.float32)\n",
    "a = 4\n",
    "b = 3\n",
    "c = 9\n"
   ]
  },
  {
   "cell_type": "code",
   "execution_count": 97,
   "metadata": {},
   "outputs": [],
   "source": [
    "def compute_np(array_1, array_2, a, b, c):\n",
    "    return np.clip(array_1, 2, 10) * a + array_2 * b + c"
   ]
  },
  {
   "cell_type": "code",
   "execution_count": 98,
   "metadata": {},
   "outputs": [
    {
     "name": "stdout",
     "output_type": "stream",
     "text": [
      "30.1 ms ± 1.21 ms per loop (mean ± std. dev. of 7 runs, 10 loops each)\n"
     ]
    }
   ],
   "source": [
    "timeit_result = %timeit -o compute_np(array_1, array_2, a, b, c)\n",
    "np_time = timeit_result.average"
   ]
  },
  {
   "cell_type": "code",
   "execution_count": 109,
   "metadata": {},
   "outputs": [],
   "source": [
    "np_result = compute_np(array_1, array_2, a, b, c)\n"
   ]
  },
  {
   "cell_type": "code",
   "execution_count": 94,
   "metadata": {},
   "outputs": [],
   "source": [
    "def clip(a, min_value, max_value):\n",
    "    return min(max(a, min_value), max_value)\n",
    "\n",
    "\n",
    "def compute(array_1, array_2, a, b, c):\n",
    "    \"\"\"\n",
    "    This function must implement the formula\n",
    "    np.clip(array_1, 2, 10) * a + array_2 * b + c\n",
    "\n",
    "    array_1 and array_2 are 2D.\n",
    "    \"\"\"\n",
    "    x_max = array_1.shape[0]\n",
    "    y_max = array_1.shape[1]\n",
    "    \n",
    "    assert array_1.shape == array_2.shape\n",
    "\n",
    "    result = np.zeros((x_max, y_max), dtype=array_1.dtype)\n",
    "\n",
    "    for x in range(x_max):\n",
    "        for y in range(y_max):\n",
    "\n",
    "            tmp = clip(array_1[x, y], 2, 10)\n",
    "            tmp = tmp * a + array_2[x, y] * b\n",
    "            result[x, y] = tmp + c\n",
    "    \n",
    "    return result"
   ]
  },
  {
   "cell_type": "code",
   "execution_count": 103,
   "metadata": {},
   "outputs": [
    {
     "name": "stdout",
     "output_type": "stream",
     "text": [
      "[[15.388825 19.288296 20.030931 ... 19.419691 16.900574 17.979883]\n",
      " [14.932588 16.05082   9.772688 ... 15.729271 13.493058 24.789352]\n",
      " [15.75753  17.503992 14.187718 ... 19.215025 20.00595  14.38182 ]\n",
      " ...\n",
      " [17.871357 17.365791 15.70263  ... 20.463781 10.073907 19.816854]\n",
      " [13.734241 17.022808 15.42708  ... 16.898031 16.28005  18.229649]\n",
      " [15.491308 16.834757 18.519903 ... 16.555904 14.768914 17.483625]]\n",
      "[[15.388825 19.288296 20.030931 ... 19.419691 16.900574 17.979883]\n",
      " [14.932588 16.05082   9.772688 ... 15.729271 13.493058 24.789352]\n",
      " [15.75753  17.503992 14.187718 ... 19.215025 20.00595  14.38182 ]\n",
      " ...\n",
      " [17.871357 17.365791 15.70263  ... 20.463781 10.073907 19.816854]\n",
      " [13.734241 17.022808 15.42708  ... 16.898031 16.28005  18.229649]\n",
      " [15.491308 16.834757 18.519903 ... 16.555904 14.768914 17.483625]]\n"
     ]
    },
    {
     "ename": "AssertionError",
     "evalue": "",
     "output_type": "error",
     "traceback": [
      "\u001b[0;31m---------------------------------------------------------------------------\u001b[0m",
      "\u001b[0;31mAssertionError\u001b[0m                            Traceback (most recent call last)",
      "\u001b[0;32m<ipython-input-103-d4ae0d8efbf0>\u001b[0m in \u001b[0;36m<module>\u001b[0;34m()\u001b[0m\n\u001b[1;32m      1\u001b[0m \u001b[0mr\u001b[0m \u001b[0;34m=\u001b[0m \u001b[0mcompute\u001b[0m\u001b[0;34m(\u001b[0m\u001b[0marray_1\u001b[0m\u001b[0;34m,\u001b[0m \u001b[0marray_2\u001b[0m\u001b[0;34m,\u001b[0m \u001b[0ma\u001b[0m\u001b[0;34m,\u001b[0m \u001b[0mb\u001b[0m\u001b[0;34m,\u001b[0m \u001b[0mc\u001b[0m\u001b[0;34m)\u001b[0m\u001b[0;34m\u001b[0m\u001b[0;34m\u001b[0m\u001b[0m\n\u001b[1;32m      2\u001b[0m \u001b[0;34m\u001b[0m\u001b[0m\n\u001b[0;32m----> 3\u001b[0;31m \u001b[0;32massert\u001b[0m \u001b[0mnp\u001b[0m\u001b[0;34m.\u001b[0m\u001b[0mall\u001b[0m\u001b[0;34m(\u001b[0m\u001b[0mcompute\u001b[0m\u001b[0;34m(\u001b[0m\u001b[0marray_1\u001b[0m\u001b[0;34m,\u001b[0m \u001b[0marray_2\u001b[0m\u001b[0;34m,\u001b[0m \u001b[0ma\u001b[0m\u001b[0;34m,\u001b[0m \u001b[0mb\u001b[0m\u001b[0;34m,\u001b[0m \u001b[0mc\u001b[0m\u001b[0;34m)\u001b[0m \u001b[0;34m==\u001b[0m \u001b[0mnp_result\u001b[0m\u001b[0;34m)\u001b[0m\u001b[0;34m\u001b[0m\u001b[0;34m\u001b[0m\u001b[0m\n\u001b[0m",
      "\u001b[0;31mAssertionError\u001b[0m: "
     ]
    }
   ],
   "source": [
    "\n",
    "assert np.all(compute(array_1, array_2, a, b, c) == np_result)\n"
   ]
  },
  {
   "cell_type": "code",
   "execution_count": 114,
   "metadata": {},
   "outputs": [
    {
     "data": {
      "text/plain": [
       "3000"
      ]
     },
     "execution_count": 114,
     "metadata": {},
     "output_type": "execute_result"
    }
   ],
   "source": [
    "array_1.shape[0]"
   ]
  },
  {
   "cell_type": "code",
   "execution_count": 108,
   "metadata": {},
   "outputs": [
    {
     "data": {
      "text/plain": [
       "array([[15.388825, 19.288296, 20.030931, ..., 19.419691, 16.900574,\n",
       "        17.979883],\n",
       "       [14.932588, 16.05082 ,  9.772688, ..., 15.729271, 13.493058,\n",
       "        24.789352],\n",
       "       [15.75753 , 17.503992, 14.187718, ..., 19.215025, 20.00595 ,\n",
       "        14.38182 ],\n",
       "       ...,\n",
       "       [17.871357, 17.365791, 15.70263 , ..., 20.463781, 10.073907,\n",
       "        19.816854],\n",
       "       [13.734241, 17.022808, 15.42708 , ..., 16.898031, 16.28005 ,\n",
       "        18.229649],\n",
       "       [15.491308, 16.834757, 18.519903, ..., 16.555904, 14.768914,\n",
       "        17.483625]], dtype=float32)"
      ]
     },
     "execution_count": 108,
     "metadata": {},
     "output_type": "execute_result"
    }
   ],
   "source": [
    "r"
   ]
  },
  {
   "cell_type": "code",
   "execution_count": 124,
   "metadata": {},
   "outputs": [
    {
     "name": "stdout",
     "output_type": "stream",
     "text": [
      "[[-0.17496636  0.30620472  1.20399598  1.82854834]\n",
      " [-0.07181102 -0.31139834  0.11186169  0.31329316]]\n"
     ]
    },
    {
     "data": {
      "text/plain": [
       "-0.31139833763069086"
      ]
     },
     "execution_count": 124,
     "metadata": {},
     "output_type": "execute_result"
    }
   ],
   "source": [
    "test = np.random.randn(2,4)\n",
    "print(test)\n",
    "min(test[1,1],2)"
   ]
  },
  {
   "cell_type": "code",
   "execution_count": null,
   "metadata": {},
   "outputs": [],
   "source": []
  }
 ],
 "metadata": {
  "kernelspec": {
   "display_name": "Python 3",
   "language": "python",
   "name": "python3"
  },
  "language_info": {
   "codemirror_mode": {
    "name": "ipython",
    "version": 3
   },
   "file_extension": ".py",
   "mimetype": "text/x-python",
   "name": "python",
   "nbconvert_exporter": "python",
   "pygments_lexer": "ipython3",
   "version": "3.6.8"
  }
 },
 "nbformat": 4,
 "nbformat_minor": 2
}
