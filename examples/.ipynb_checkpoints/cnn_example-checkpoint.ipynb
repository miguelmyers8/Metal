{
 "cells": [
  {
   "cell_type": "code",
   "execution_count": 1,
   "metadata": {},
   "outputs": [],
   "source": [
    "from metal.nn import NeuralNetwork\n",
    "from metal.utils import train_test_split, to_categorical, normalize\n",
    "from metal.utils import get_random_subsets, shuffle_data, Plot\n",
    "from metal.utils.data_operation import accuracy_score\n",
    "from metal.optimizers import StochasticGradientDescent,Adam\n",
    "from metal.loss_functions import CrossEntropy\n",
    "from metal.utils.misc import bar_widgets\n",
    "from metal.layers.dense import Dense\n",
    "from metal.layers.conv2D import Conv2D\n",
    "from metal.layers.flatten import Flatten\n",
    "from metal.layers.layer import Activation\n",
    "from autograd.tensor import Tensor\n",
    "from autograd.parameter import Parameter\n",
    "from metal.models.convnet import ConvNet\n",
    "\n"
   ]
  },
  {
   "cell_type": "code",
   "execution_count": 2,
   "metadata": {},
   "outputs": [],
   "source": [
    "from __future__ import print_function\n",
    "from sklearn import datasets\n",
    "import matplotlib.pyplot as plt\n",
    "import math \n",
    "import numpy as np"
   ]
  },
  {
   "cell_type": "code",
   "execution_count": 3,
   "metadata": {},
   "outputs": [],
   "source": [
    "optimizer = Adam()\n",
    "data = datasets.load_digits()\n",
    "X = data.data\n",
    "y = data.target\n",
    "loss = CrossEntropy\n",
    "\n",
    "# Covnet to  one-hot encoding \n",
    "y = to_categorical(y.astype(\"int\"))\n",
    "\n",
    "X_train, X_test, y_train, y_test = train_test_split(X, y, test_size = 0.4, seed = 1)\n",
    "\n",
    "X_train = X_train.reshape((-1,1,8,8))\n",
    "X_test = X_test.reshape((-1,1,8,8))\n",
    "\n",
    "X_train = Parameter(X_train, requires_grad=True)\n",
    "X_test = Parameter(X_test, requires_grad=True)\n",
    "y_train = Parameter(y_train, requires_grad=True)\n",
    "y_test = Parameter(y_test, requires_grad=True)"
   ]
  },
  {
   "cell_type": "code",
   "execution_count": 4,
   "metadata": {},
   "outputs": [],
   "source": [
    "covnet = ConvNet(optimizer=optimizer, loss=loss,  validation_data=(X_test,y_test))"
   ]
  },
  {
   "cell_type": "code",
   "execution_count": 5,
   "metadata": {},
   "outputs": [],
   "source": [
    "covnet.add(Conv2D(n_filters=16, filter_shape=(3,3), stride=1, input_shape=(1,8,8), padding='same', seed=1))\n",
    "covnet.add(Activation('relu'))\n",
    "covnet.add(Conv2D(n_filters=16, filter_shape=(3,3), stride=1, input_shape=(1,8,8), padding='same', seed=1))\n",
    "covnet.add(Flatten())\n",
    "covnet.add(Dense(10,seed=3))"
   ]
  },
  {
   "cell_type": "code",
   "execution_count": 6,
   "metadata": {},
   "outputs": [
    {
     "name": "stderr",
     "output_type": "stream",
     "text": [
      "Training: 100% [------------------------------------------------] Time: 0:00:55\n"
     ]
    }
   ],
   "source": [
    "train_err, val_err = covnet.fit(X_train, y_train, n_epochs=50, batch_size=256)\n"
   ]
  },
  {
   "cell_type": "code",
   "execution_count": 7,
   "metadata": {},
   "outputs": [
    {
     "data": {
      "image/png": "[encoded data removed]",
      "text/plain": [
       "<Figure size 432x288 with 1 Axes>"
      ]
     },
     "metadata": {
      "needs_background": "light"
     },
     "output_type": "display_data"
    },
    {
     "name": "stdout",
     "output_type": "stream",
     "text": [
      "Accuracy: 0.9554317548746518\n"
     ]
    }
   ],
   "source": [
    "covnet.eval(X_test, y_test)"
   ]
  },
  {
   "cell_type": "code",
   "execution_count": null,
   "metadata": {},
   "outputs": [],
   "source": []
  }
 ],
 "metadata": {
  "kernelspec": {
   "display_name": "Python 3",
   "language": "python",
   "name": "python3"
  },
  "language_info": {
   "codemirror_mode": {
    "name": "ipython",
    "version": 3
   },
   "file_extension": ".py",
   "mimetype": "text/x-python",
   "name": "python",
   "nbconvert_exporter": "python",
   "pygments_lexer": "ipython3",
   "version": "3.6.8"
  }
 },
 "nbformat": 4,
 "nbformat_minor": 2
}
