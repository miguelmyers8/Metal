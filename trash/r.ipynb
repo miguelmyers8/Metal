{
 "cells": [
  {
   "cell_type": "code",
   "execution_count": 40,
   "metadata": {},
   "outputs": [],
   "source": [
    "import numpy as np\n",
    "N = 1e6\n",
    "n = 40\n",
    "A = np.random.randn(n,n)\n",
    "C = np.dot(A.T, A)"
   ]
  },
  {
   "cell_type": "code",
   "execution_count": 41,
   "metadata": {},
   "outputs": [
    {
     "data": {
      "text/plain": [
       "  C_CONTIGUOUS : True\n",
       "  F_CONTIGUOUS : False\n",
       "  OWNDATA : True\n",
       "  WRITEABLE : True\n",
       "  ALIGNED : True\n",
       "  WRITEBACKIFCOPY : False\n",
       "  UPDATEIFCOPY : False"
      ]
     },
     "execution_count": 41,
     "metadata": {},
     "output_type": "execute_result"
    }
   ],
   "source": [
    "A.flags"
   ]
  },
  {
   "cell_type": "code",
   "execution_count": 42,
   "metadata": {},
   "outputs": [
    {
     "data": {
      "text/plain": [
       "  C_CONTIGUOUS : False\n",
       "  F_CONTIGUOUS : True\n",
       "  OWNDATA : False\n",
       "  WRITEABLE : True\n",
       "  ALIGNED : True\n",
       "  WRITEBACKIFCOPY : False\n",
       "  UPDATEIFCOPY : False"
      ]
     },
     "execution_count": 42,
     "metadata": {},
     "output_type": "execute_result"
    }
   ],
   "source": [
    "A.T.flags"
   ]
  },
  {
   "cell_type": "code",
   "execution_count": 43,
   "metadata": {},
   "outputs": [],
   "source": [
    "from time import time\n",
    "AT_F = np.array(np.random.randn(n,n),order='F')\n",
    "AT_C = np.array(np.random.randn(n,n),order='C')\n"
   ]
  },
  {
   "cell_type": "code",
   "execution_count": 57,
   "metadata": {},
   "outputs": [
    {
     "name": "stdout",
     "output_type": "stream",
     "text": [
      "CPU times: user 811 µs, sys: 1.36 ms, total: 2.17 ms\n",
      "Wall time: 2.36 ms\n",
      "CPU times: user 660 µs, sys: 162 µs, total: 822 µs\n",
      "Wall time: 781 µs\n",
      "CPU times: user 536 µs, sys: 216 µs, total: 752 µs\n",
      "Wall time: 1.51 ms\n",
      "CPU times: user 368 µs, sys: 130 µs, total: 498 µs\n",
      "Wall time: 427 µs\n"
     ]
    },
    {
     "data": {
      "text/plain": [
       "array([[ -8.22869157,  11.27262859,   0.24206755, ..., -11.54807832,\n",
       "          6.96934389,   5.54260427],\n",
       "       [ -9.92042437,  -5.72179379, -10.10298054, ...,   1.19648235,\n",
       "         -1.36735648,   6.99188994],\n",
       "       [ -0.91886647,   0.04831132,  -3.31956027, ...,  -4.04593206,\n",
       "         -9.88754123,  -4.46946425],\n",
       "       ...,\n",
       "       [ -2.43604624,  11.39725987,  -8.56433756, ...,  -1.21626863,\n",
       "          2.85001116,   1.97001812],\n",
       "       [ -1.96816695,   0.59112661,  -0.51620287, ...,   4.67942778,\n",
       "          1.87095233,  -6.45733394],\n",
       "       [ 12.62866993, -10.76655666,   2.43578916, ...,  -5.1814674 ,\n",
       "          9.15036178,   8.46101459]])"
      ]
     },
     "execution_count": 57,
     "metadata": {},
     "output_type": "execute_result"
    }
   ],
   "source": [
    "%time np.dot(A.T, A)\n",
    "%time A@ A.T\n",
    "\n",
    "%time np.dot(AT_F, A)\n",
    "%time np.dot(AT_C, A.T)"
   ]
  },
  {
   "cell_type": "code",
   "execution_count": 56,
   "metadata": {},
   "outputs": [
    {
     "data": {
      "text/plain": [
       "array([[ 0.04531198,  1.03726904, -2.30080393, ...,  1.39022379,\n",
       "         1.22285488, -0.77571747],\n",
       "       [-0.54435015,  1.89928138,  1.56046511, ..., -1.2819292 ,\n",
       "         0.77413631, -0.64017807],\n",
       "       [ 1.13579921, -0.45885191,  1.97893708, ..., -0.12545222,\n",
       "         1.6471072 , -0.31288894],\n",
       "       ...,\n",
       "       [-0.84661461, -1.14877718,  1.15345137, ...,  1.01223024,\n",
       "        -1.24750976, -0.06232631],\n",
       "       [ 0.69571234,  0.85863985, -0.27963026, ...,  0.15437208,\n",
       "         1.67514493,  0.56194878],\n",
       "       [ 1.01206478,  0.29086414, -0.72284045, ...,  0.09351096,\n",
       "        -0.09028194,  0.93185274]])"
      ]
     },
     "execution_count": 56,
     "metadata": {},
     "output_type": "execute_result"
    }
   ],
   "source": [
    "A.T"
   ]
  },
  {
   "cell_type": "code",
   "execution_count": 55,
   "metadata": {},
   "outputs": [
    {
     "data": {
      "text/plain": [
       "array([[-1.17636114,  0.81000011, -1.23709351, ..., -2.57843465,\n",
       "         0.22890735,  1.36284318],\n",
       "       [-0.97362352, -0.91802253, -1.06652961, ..., -0.99397714,\n",
       "         0.45355914,  0.30296141],\n",
       "       [-0.03071952,  0.45461889, -0.83881325, ...,  0.33470805,\n",
       "        -1.23843954, -1.3749755 ],\n",
       "       ...,\n",
       "       [-0.83105157,  2.11490963, -0.62997523, ...,  0.56143211,\n",
       "        -1.30564124,  0.38036011],\n",
       "       [ 0.74046596,  0.20824569, -0.09325411, ..., -1.46077885,\n",
       "        -0.72572756,  1.60208435],\n",
       "       [ 1.10755791, -0.27959009, -1.7386363 , ...,  0.46082754,\n",
       "         0.83497201,  0.5965526 ]])"
      ]
     },
     "execution_count": 55,
     "metadata": {},
     "output_type": "execute_result"
    }
   ],
   "source": [
    "AT_C"
   ]
  },
  {
   "cell_type": "code",
   "execution_count": null,
   "metadata": {},
   "outputs": [],
   "source": []
  }
 ],
 "metadata": {
  "kernelspec": {
   "display_name": "Python 3",
   "language": "python",
   "name": "python3"
  },
  "language_info": {
   "codemirror_mode": {
    "name": "ipython",
    "version": 3
   },
   "file_extension": ".py",
   "mimetype": "text/x-python",
   "name": "python",
   "nbconvert_exporter": "python",
   "pygments_lexer": "ipython3",
   "version": "3.6.9"
  }
 },
 "nbformat": 4,
 "nbformat_minor": 2
}
