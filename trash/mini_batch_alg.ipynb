{
 "cells": [
  {
   "cell_type": "code",
   "execution_count": 43,
   "metadata": {},
   "outputs": [],
   "source": [
    "from autograd.tensor import Tensor as tn\n",
    "from autograd.dropout import *\n",
    "from autograd.parameter import Parameter as pr\n",
    "from autograd.flatten import Flatten as fl\n",
    "from autograd.module import Module\n",
    "from autograd.nn import Sequential\n",
    "from autograd.linear import Linear\n",
    "from autograd.act import Relu, Sigmoid \n",
    "from autograd.loss import CEL\n",
    "from autograd.optim import Adam\n",
    "from autograd.mini_batch import random_mini_batches as rmb\n",
    "from autograd.grad_check import Grad_Check as gc\n",
    "from functools import reduce\n",
    "\n",
    "import sys \n",
    "import matplotlib.pyplot as plt\n",
    "import numpy as np"
   ]
  },
  {
   "cell_type": "code",
   "execution_count": 44,
   "metadata": {},
   "outputs": [],
   "source": [
    "from Dataset1 import catnoncat"
   ]
  },
  {
   "cell_type": "code",
   "execution_count": 45,
   "metadata": {},
   "outputs": [],
   "source": [
    "train_x = catnoncat.train_x() \n",
    "test_x = catnoncat.test_img() "
   ]
  },
  {
   "cell_type": "code",
   "execution_count": 46,
   "metadata": {},
   "outputs": [
    {
     "name": "stdout",
     "output_type": "stream",
     "text": [
      "data shape: (12288, 209)\n",
      "data shape: (12288, 50)\n"
     ]
    }
   ],
   "source": [
    "train_x = fl().forward(train_x)\n",
    "test_x = fl().forward(test_x)"
   ]
  },
  {
   "cell_type": "code",
   "execution_count": 47,
   "metadata": {},
   "outputs": [],
   "source": [
    "train_y = tn(catnoncat.train_y())\n",
    "test_y = tn(catnoncat.test_y())"
   ]
  },
  {
   "cell_type": "code",
   "execution_count": 48,
   "metadata": {},
   "outputs": [
    {
     "name": "stdout",
     "output_type": "stream",
     "text": [
      "(12288, 209)   (12288, 50)\n"
     ]
    }
   ],
   "source": [
    "print(train_x.shape,' ',test_x.shape)"
   ]
  },
  {
   "cell_type": "code",
   "execution_count": 96,
   "metadata": {},
   "outputs": [],
   "source": [
    "mod2 = Sequential([\n",
    "         Linear(50,12288),\n",
    "            Relu(),\n",
    "        #Dropout(.9),\n",
    "         Linear(20,50),\n",
    "            Relu(),\n",
    "        #Dropout(.9),\n",
    "         Linear(10,20),\n",
    "            Relu(),\n",
    "        #Dropout(.9),\n",
    "         Linear(1,10),\n",
    "            Sigmoid()])"
   ]
  },
  {
   "cell_type": "code",
   "execution_count": 97,
   "metadata": {},
   "outputs": [
    {
     "name": "stdout",
     "output_type": "stream",
     "text": [
      "Cost after epoch 0: 0.838214\n",
      "Cost after epoch 32: 0.548493\n",
      "Cost after epoch 64: 0.568051\n",
      "Cost after epoch 96: 0.438714\n",
      "Cost after epoch 128: 0.407151\n",
      "Cost after epoch 160: 0.428967\n",
      "Cost after epoch 192: 0.383868\n",
      "Cost after epoch 224: 0.364927\n",
      "Cost after epoch 256: 0.286709\n",
      "Cost after epoch 288: 0.316376\n",
      "Cost after epoch 320: 0.289317\n",
      "Cost after epoch 352: 0.130119\n",
      "Cost after epoch 384: 0.284269\n",
      "Cost after epoch 416: 0.203265\n",
      "Cost after epoch 448: 0.081195\n",
      "Cost after epoch 480: 0.157277\n",
      "Cost after epoch 512: 0.093868\n",
      "Cost after epoch 544: 0.084272\n",
      "Cost after epoch 576: 0.092164\n",
      "Cost after epoch 608: 0.095099\n",
      "Cost after epoch 640: 0.102701\n",
      "Cost after epoch 672: 0.088785\n",
      "Cost after epoch 704: 0.055068\n",
      "Cost after epoch 736: 0.044834\n",
      "Cost after epoch 768: 0.049983\n",
      "Cost after epoch 800: 0.052076\n",
      "Cost after epoch 832: 0.034167\n",
      "Cost after epoch 864: 0.024840\n",
      "Cost after epoch 896: 0.008929\n",
      "Cost after epoch 928: 0.022196\n",
      "Cost after epoch 960: 0.018635\n",
      "Cost after epoch 992: 0.011593\n",
      "Cost after epoch 1024: 0.016203\n",
      "Cost after epoch 1056: 0.011410\n",
      "Cost after epoch 1088: 0.012834\n",
      "Cost after epoch 1120: 0.008933\n",
      "Cost after epoch 1152: 0.006395\n",
      "Cost after epoch 1184: 0.006921\n",
      "Cost after epoch 1216: 0.005871\n",
      "Cost after epoch 1248: 0.001662\n",
      "Cost after epoch 1280: 0.003679\n",
      "Cost after epoch 1312: 0.003415\n",
      "Cost after epoch 1344: 0.003312\n",
      "Cost after epoch 1376: 0.001926\n",
      "Cost after epoch 1408: 0.003355\n",
      "Cost after epoch 1440: 0.001277\n",
      "Cost after epoch 1472: 0.001537\n",
      "Cost after epoch 1504: 0.001420\n",
      "Cost after epoch 1536: 0.000958\n",
      "Cost after epoch 1568: 0.000986\n",
      "Cost after epoch 1600: 0.000656\n"
     ]
    },
    {
     "data": {
      "image/png": "[encoded data removed]",
      "text/plain": [
       "<Figure size 432x288 with 1 Axes>"
      ]
     },
     "metadata": {
      "needs_background": "light"
     },
     "output_type": "display_data"
    }
   ],
   "source": [
    "optimizer = Adam(lr=.0000075, beta1 = 0.99, beta2 = .990,  epsilon = 1e-8)\n",
    "costs = []\n",
    "iteration = 1625\n",
    "seed = 10\n",
    "for i in range(iteration):\n",
    "    seed = seed + i\n",
    "    minibatches = rmb(train_x.data, train_y.data, 64, seed)\n",
    "\n",
    "    for minibatch in minibatches:\n",
    "\n",
    "        (minibatch_X, minibatch_Y) = minibatch\n",
    "        minibatch_X, minibatch_Y=tn(minibatch_X),tn(minibatch_Y)\n",
    "        out = mod2.forward(minibatch_X)\n",
    "        cout = CEL(out,minibatch_Y)\n",
    "        loss = cout.sum()\n",
    "        epoch_loss = loss.data\n",
    "\n",
    "        loss.backward()\n",
    "        \n",
    "        #optimizer.save_params(mod2)\n",
    "        t = t+1\n",
    "        optimizer.step(mod2,t)\n",
    "\n",
    "\n",
    "    # Print the cost every 1000 epoch\n",
    "    if  i % 32 == 0:\n",
    "        print(\"Cost after epoch %i: %f\" % (i, epoch_loss))\n",
    "    if i % 100 == 0:\n",
    "        costs.append(epoch_loss)\n",
    "\n",
    "\n",
    "# plot the cost\n",
    "plt.plot(costs)\n",
    "plt.ylabel('cost')\n",
    "plt.xlabel('epochs (per 32)')\n",
    "plt.title(\"Learning rate = \" + str(.075))\n",
    "plt.show()"
   ]
  },
  {
   "cell_type": "markdown",
   "metadata": {},
   "source": [
    "mod2.predict(test_x,test_y)"
   ]
  },
  {
   "cell_type": "code",
   "execution_count": 98,
   "metadata": {},
   "outputs": [
    {
     "name": "stdout",
     "output_type": "stream",
     "text": [
      "Accuracy: 0.78\n"
     ]
    }
   ],
   "source": [
    "mod2.predict(test_x,test_y)"
   ]
  },
  {
   "cell_type": "code",
   "execution_count": 19,
   "metadata": {},
   "outputs": [],
   "source": [
    "lrs=[]"
   ]
  },
  {
   "cell_type": "code",
   "execution_count": 21,
   "metadata": {},
   "outputs": [],
   "source": [
    "lrs.append((it,optimizer.lr))"
   ]
  }
 ],
 "metadata": {
  "kernelspec": {
   "display_name": "Python 3",
   "language": "python",
   "name": "python3"
  },
  "language_info": {
   "codemirror_mode": {
    "name": "ipython",
    "version": 3
   },
   "file_extension": ".py",
   "mimetype": "text/x-python",
   "name": "python",
   "nbconvert_exporter": "python",
   "pygments_lexer": "ipython3",
   "version": "3.6.8"
  }
 },
 "nbformat": 4,
 "nbformat_minor": 2
}
